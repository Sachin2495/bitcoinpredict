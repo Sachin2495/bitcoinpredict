{
  "nbformat": 4,
  "nbformat_minor": 0,
  "metadata": {
    "colab": {
      "provenance": []
    },
    "kernelspec": {
      "name": "python3",
      "display_name": "Python 3"
    },
    "language_info": {
      "name": "python"
    }
  },
  "cells": [
    {
      "cell_type": "code",
      "execution_count": 1,
      "metadata": {
        "colab": {
          "base_uri": "https://localhost:8080/"
        },
        "id": "x6dG5WdgvWLd",
        "outputId": "881b6aaa-6068-4baf-c47c-140cae62e894"
      },
      "outputs": [
        {
          "output_type": "stream",
          "name": "stdout",
          "text": [
            "Requirement already satisfied: yfinance in /usr/local/lib/python3.10/dist-packages (0.2.36)\n",
            "Requirement already satisfied: pandas>=1.3.0 in /usr/local/lib/python3.10/dist-packages (from yfinance) (1.5.3)\n",
            "Requirement already satisfied: numpy>=1.16.5 in /usr/local/lib/python3.10/dist-packages (from yfinance) (1.25.2)\n",
            "Requirement already satisfied: requests>=2.31 in /usr/local/lib/python3.10/dist-packages (from yfinance) (2.31.0)\n",
            "Requirement already satisfied: multitasking>=0.0.7 in /usr/local/lib/python3.10/dist-packages (from yfinance) (0.0.11)\n",
            "Requirement already satisfied: lxml>=4.9.1 in /usr/local/lib/python3.10/dist-packages (from yfinance) (4.9.4)\n",
            "Requirement already satisfied: appdirs>=1.4.4 in /usr/local/lib/python3.10/dist-packages (from yfinance) (1.4.4)\n",
            "Requirement already satisfied: pytz>=2022.5 in /usr/local/lib/python3.10/dist-packages (from yfinance) (2023.4)\n",
            "Requirement already satisfied: frozendict>=2.3.4 in /usr/local/lib/python3.10/dist-packages (from yfinance) (2.4.0)\n",
            "Requirement already satisfied: peewee>=3.16.2 in /usr/local/lib/python3.10/dist-packages (from yfinance) (3.17.1)\n",
            "Requirement already satisfied: beautifulsoup4>=4.11.1 in /usr/local/lib/python3.10/dist-packages (from yfinance) (4.12.3)\n",
            "Requirement already satisfied: html5lib>=1.1 in /usr/local/lib/python3.10/dist-packages (from yfinance) (1.1)\n",
            "Requirement already satisfied: soupsieve>1.2 in /usr/local/lib/python3.10/dist-packages (from beautifulsoup4>=4.11.1->yfinance) (2.5)\n",
            "Requirement already satisfied: six>=1.9 in /usr/local/lib/python3.10/dist-packages (from html5lib>=1.1->yfinance) (1.16.0)\n",
            "Requirement already satisfied: webencodings in /usr/local/lib/python3.10/dist-packages (from html5lib>=1.1->yfinance) (0.5.1)\n",
            "Requirement already satisfied: python-dateutil>=2.8.1 in /usr/local/lib/python3.10/dist-packages (from pandas>=1.3.0->yfinance) (2.8.2)\n",
            "Requirement already satisfied: charset-normalizer<4,>=2 in /usr/local/lib/python3.10/dist-packages (from requests>=2.31->yfinance) (3.3.2)\n",
            "Requirement already satisfied: idna<4,>=2.5 in /usr/local/lib/python3.10/dist-packages (from requests>=2.31->yfinance) (3.6)\n",
            "Requirement already satisfied: urllib3<3,>=1.21.1 in /usr/local/lib/python3.10/dist-packages (from requests>=2.31->yfinance) (2.0.7)\n",
            "Requirement already satisfied: certifi>=2017.4.17 in /usr/local/lib/python3.10/dist-packages (from requests>=2.31->yfinance) (2024.2.2)\n"
          ]
        }
      ],
      "source": [
        "!pip install yfinance"
      ]
    },
    {
      "cell_type": "code",
      "source": [
        "import yfinance as yf\n",
        "import pandas as pd\n",
        "import numpy as np\n",
        "import datetime\n",
        "from datetime import date, timedelta\n",
        "today = date.today()\n",
        "\n",
        "d1 = today.strftime(\"%Y-%m-%d\")\n",
        "end_date = d1\n",
        "d2 = date.today() - timedelta(days=768)\n",
        "d2 = d2.strftime(\"%Y-%m-%d\")\n",
        "start_date = d2\n",
        "\n",
        "data = yf.download('BTC-USD',\n",
        "                      start=start_date,\n",
        "                      end=end_date,\n",
        "                      progress=False)\n",
        "data[\"Date\"] = data.index\n",
        "data = data[[\"Date\", \"Open\", \"High\", \"Low\", \"Close\", \"Adj Close\", \"Volume\"]]\n",
        "data.reset_index(drop=True, inplace=True)"
      ],
      "metadata": {
        "id": "bs3GIx6GB5g5"
      },
      "execution_count": 3,
      "outputs": []
    },
    {
      "cell_type": "code",
      "source": [
        "data.head()"
      ],
      "metadata": {
        "colab": {
          "base_uri": "https://localhost:8080/",
          "height": 206
        },
        "id": "Etiuhi2bC6ZA",
        "outputId": "7757646b-619b-4c4a-80d6-9d7734212d80"
      },
      "execution_count": 4,
      "outputs": [
        {
          "output_type": "execute_result",
          "data": {
            "text/plain": [
              "        Date          Open          High           Low         Close  \\\n",
              "0 2022-01-20  41744.027344  43413.023438  40672.824219  40680.417969   \n",
              "1 2022-01-21  40699.605469  41060.527344  35791.425781  36457.316406   \n",
              "2 2022-01-22  36471.589844  36688.812500  34349.250000  35030.250000   \n",
              "3 2022-01-23  35047.359375  36433.312500  34784.968750  36276.804688   \n",
              "4 2022-01-24  36275.734375  37247.519531  33184.058594  36654.328125   \n",
              "\n",
              "      Adj Close       Volume  \n",
              "0  40680.417969  20382033940  \n",
              "1  36457.316406  43011992031  \n",
              "2  35030.250000  39714385405  \n",
              "3  36276.804688  26017975951  \n",
              "4  36654.328125  41856658597  "
            ],
            "text/html": [
              "\n",
              "  <div id=\"df-20af272e-7dc4-491e-955f-438300968162\" class=\"colab-df-container\">\n",
              "    <div>\n",
              "<style scoped>\n",
              "    .dataframe tbody tr th:only-of-type {\n",
              "        vertical-align: middle;\n",
              "    }\n",
              "\n",
              "    .dataframe tbody tr th {\n",
              "        vertical-align: top;\n",
              "    }\n",
              "\n",
              "    .dataframe thead th {\n",
              "        text-align: right;\n",
              "    }\n",
              "</style>\n",
              "<table border=\"1\" class=\"dataframe\">\n",
              "  <thead>\n",
              "    <tr style=\"text-align: right;\">\n",
              "      <th></th>\n",
              "      <th>Date</th>\n",
              "      <th>Open</th>\n",
              "      <th>High</th>\n",
              "      <th>Low</th>\n",
              "      <th>Close</th>\n",
              "      <th>Adj Close</th>\n",
              "      <th>Volume</th>\n",
              "    </tr>\n",
              "  </thead>\n",
              "  <tbody>\n",
              "    <tr>\n",
              "      <th>0</th>\n",
              "      <td>2022-01-20</td>\n",
              "      <td>41744.027344</td>\n",
              "      <td>43413.023438</td>\n",
              "      <td>40672.824219</td>\n",
              "      <td>40680.417969</td>\n",
              "      <td>40680.417969</td>\n",
              "      <td>20382033940</td>\n",
              "    </tr>\n",
              "    <tr>\n",
              "      <th>1</th>\n",
              "      <td>2022-01-21</td>\n",
              "      <td>40699.605469</td>\n",
              "      <td>41060.527344</td>\n",
              "      <td>35791.425781</td>\n",
              "      <td>36457.316406</td>\n",
              "      <td>36457.316406</td>\n",
              "      <td>43011992031</td>\n",
              "    </tr>\n",
              "    <tr>\n",
              "      <th>2</th>\n",
              "      <td>2022-01-22</td>\n",
              "      <td>36471.589844</td>\n",
              "      <td>36688.812500</td>\n",
              "      <td>34349.250000</td>\n",
              "      <td>35030.250000</td>\n",
              "      <td>35030.250000</td>\n",
              "      <td>39714385405</td>\n",
              "    </tr>\n",
              "    <tr>\n",
              "      <th>3</th>\n",
              "      <td>2022-01-23</td>\n",
              "      <td>35047.359375</td>\n",
              "      <td>36433.312500</td>\n",
              "      <td>34784.968750</td>\n",
              "      <td>36276.804688</td>\n",
              "      <td>36276.804688</td>\n",
              "      <td>26017975951</td>\n",
              "    </tr>\n",
              "    <tr>\n",
              "      <th>4</th>\n",
              "      <td>2022-01-24</td>\n",
              "      <td>36275.734375</td>\n",
              "      <td>37247.519531</td>\n",
              "      <td>33184.058594</td>\n",
              "      <td>36654.328125</td>\n",
              "      <td>36654.328125</td>\n",
              "      <td>41856658597</td>\n",
              "    </tr>\n",
              "  </tbody>\n",
              "</table>\n",
              "</div>\n",
              "    <div class=\"colab-df-buttons\">\n",
              "\n",
              "  <div class=\"colab-df-container\">\n",
              "    <button class=\"colab-df-convert\" onclick=\"convertToInteractive('df-20af272e-7dc4-491e-955f-438300968162')\"\n",
              "            title=\"Convert this dataframe to an interactive table.\"\n",
              "            style=\"display:none;\">\n",
              "\n",
              "  <svg xmlns=\"http://www.w3.org/2000/svg\" height=\"24px\" viewBox=\"0 -960 960 960\">\n",
              "    <path d=\"M120-120v-720h720v720H120Zm60-500h600v-160H180v160Zm220 220h160v-160H400v160Zm0 220h160v-160H400v160ZM180-400h160v-160H180v160Zm440 0h160v-160H620v160ZM180-180h160v-160H180v160Zm440 0h160v-160H620v160Z\"/>\n",
              "  </svg>\n",
              "    </button>\n",
              "\n",
              "  <style>\n",
              "    .colab-df-container {\n",
              "      display:flex;\n",
              "      gap: 12px;\n",
              "    }\n",
              "\n",
              "    .colab-df-convert {\n",
              "      background-color: #E8F0FE;\n",
              "      border: none;\n",
              "      border-radius: 50%;\n",
              "      cursor: pointer;\n",
              "      display: none;\n",
              "      fill: #1967D2;\n",
              "      height: 32px;\n",
              "      padding: 0 0 0 0;\n",
              "      width: 32px;\n",
              "    }\n",
              "\n",
              "    .colab-df-convert:hover {\n",
              "      background-color: #E2EBFA;\n",
              "      box-shadow: 0px 1px 2px rgba(60, 64, 67, 0.3), 0px 1px 3px 1px rgba(60, 64, 67, 0.15);\n",
              "      fill: #174EA6;\n",
              "    }\n",
              "\n",
              "    .colab-df-buttons div {\n",
              "      margin-bottom: 4px;\n",
              "    }\n",
              "\n",
              "    [theme=dark] .colab-df-convert {\n",
              "      background-color: #3B4455;\n",
              "      fill: #D2E3FC;\n",
              "    }\n",
              "\n",
              "    [theme=dark] .colab-df-convert:hover {\n",
              "      background-color: #434B5C;\n",
              "      box-shadow: 0px 1px 3px 1px rgba(0, 0, 0, 0.15);\n",
              "      filter: drop-shadow(0px 1px 2px rgba(0, 0, 0, 0.3));\n",
              "      fill: #FFFFFF;\n",
              "    }\n",
              "  </style>\n",
              "\n",
              "    <script>\n",
              "      const buttonEl =\n",
              "        document.querySelector('#df-20af272e-7dc4-491e-955f-438300968162 button.colab-df-convert');\n",
              "      buttonEl.style.display =\n",
              "        google.colab.kernel.accessAllowed ? 'block' : 'none';\n",
              "\n",
              "      async function convertToInteractive(key) {\n",
              "        const element = document.querySelector('#df-20af272e-7dc4-491e-955f-438300968162');\n",
              "        const dataTable =\n",
              "          await google.colab.kernel.invokeFunction('convertToInteractive',\n",
              "                                                    [key], {});\n",
              "        if (!dataTable) return;\n",
              "\n",
              "        const docLinkHtml = 'Like what you see? Visit the ' +\n",
              "          '<a target=\"_blank\" href=https://colab.research.google.com/notebooks/data_table.ipynb>data table notebook</a>'\n",
              "          + ' to learn more about interactive tables.';\n",
              "        element.innerHTML = '';\n",
              "        dataTable['output_type'] = 'display_data';\n",
              "        await google.colab.output.renderOutput(dataTable, element);\n",
              "        const docLink = document.createElement('div');\n",
              "        docLink.innerHTML = docLinkHtml;\n",
              "        element.appendChild(docLink);\n",
              "      }\n",
              "    </script>\n",
              "  </div>\n",
              "\n",
              "\n",
              "<div id=\"df-cf29ddd9-ff99-4ec4-9d4e-a07d981878ab\">\n",
              "  <button class=\"colab-df-quickchart\" onclick=\"quickchart('df-cf29ddd9-ff99-4ec4-9d4e-a07d981878ab')\"\n",
              "            title=\"Suggest charts\"\n",
              "            style=\"display:none;\">\n",
              "\n",
              "<svg xmlns=\"http://www.w3.org/2000/svg\" height=\"24px\"viewBox=\"0 0 24 24\"\n",
              "     width=\"24px\">\n",
              "    <g>\n",
              "        <path d=\"M19 3H5c-1.1 0-2 .9-2 2v14c0 1.1.9 2 2 2h14c1.1 0 2-.9 2-2V5c0-1.1-.9-2-2-2zM9 17H7v-7h2v7zm4 0h-2V7h2v10zm4 0h-2v-4h2v4z\"/>\n",
              "    </g>\n",
              "</svg>\n",
              "  </button>\n",
              "\n",
              "<style>\n",
              "  .colab-df-quickchart {\n",
              "      --bg-color: #E8F0FE;\n",
              "      --fill-color: #1967D2;\n",
              "      --hover-bg-color: #E2EBFA;\n",
              "      --hover-fill-color: #174EA6;\n",
              "      --disabled-fill-color: #AAA;\n",
              "      --disabled-bg-color: #DDD;\n",
              "  }\n",
              "\n",
              "  [theme=dark] .colab-df-quickchart {\n",
              "      --bg-color: #3B4455;\n",
              "      --fill-color: #D2E3FC;\n",
              "      --hover-bg-color: #434B5C;\n",
              "      --hover-fill-color: #FFFFFF;\n",
              "      --disabled-bg-color: #3B4455;\n",
              "      --disabled-fill-color: #666;\n",
              "  }\n",
              "\n",
              "  .colab-df-quickchart {\n",
              "    background-color: var(--bg-color);\n",
              "    border: none;\n",
              "    border-radius: 50%;\n",
              "    cursor: pointer;\n",
              "    display: none;\n",
              "    fill: var(--fill-color);\n",
              "    height: 32px;\n",
              "    padding: 0;\n",
              "    width: 32px;\n",
              "  }\n",
              "\n",
              "  .colab-df-quickchart:hover {\n",
              "    background-color: var(--hover-bg-color);\n",
              "    box-shadow: 0 1px 2px rgba(60, 64, 67, 0.3), 0 1px 3px 1px rgba(60, 64, 67, 0.15);\n",
              "    fill: var(--button-hover-fill-color);\n",
              "  }\n",
              "\n",
              "  .colab-df-quickchart-complete:disabled,\n",
              "  .colab-df-quickchart-complete:disabled:hover {\n",
              "    background-color: var(--disabled-bg-color);\n",
              "    fill: var(--disabled-fill-color);\n",
              "    box-shadow: none;\n",
              "  }\n",
              "\n",
              "  .colab-df-spinner {\n",
              "    border: 2px solid var(--fill-color);\n",
              "    border-color: transparent;\n",
              "    border-bottom-color: var(--fill-color);\n",
              "    animation:\n",
              "      spin 1s steps(1) infinite;\n",
              "  }\n",
              "\n",
              "  @keyframes spin {\n",
              "    0% {\n",
              "      border-color: transparent;\n",
              "      border-bottom-color: var(--fill-color);\n",
              "      border-left-color: var(--fill-color);\n",
              "    }\n",
              "    20% {\n",
              "      border-color: transparent;\n",
              "      border-left-color: var(--fill-color);\n",
              "      border-top-color: var(--fill-color);\n",
              "    }\n",
              "    30% {\n",
              "      border-color: transparent;\n",
              "      border-left-color: var(--fill-color);\n",
              "      border-top-color: var(--fill-color);\n",
              "      border-right-color: var(--fill-color);\n",
              "    }\n",
              "    40% {\n",
              "      border-color: transparent;\n",
              "      border-right-color: var(--fill-color);\n",
              "      border-top-color: var(--fill-color);\n",
              "    }\n",
              "    60% {\n",
              "      border-color: transparent;\n",
              "      border-right-color: var(--fill-color);\n",
              "    }\n",
              "    80% {\n",
              "      border-color: transparent;\n",
              "      border-right-color: var(--fill-color);\n",
              "      border-bottom-color: var(--fill-color);\n",
              "    }\n",
              "    90% {\n",
              "      border-color: transparent;\n",
              "      border-bottom-color: var(--fill-color);\n",
              "    }\n",
              "  }\n",
              "</style>\n",
              "\n",
              "  <script>\n",
              "    async function quickchart(key) {\n",
              "      const quickchartButtonEl =\n",
              "        document.querySelector('#' + key + ' button');\n",
              "      quickchartButtonEl.disabled = true;  // To prevent multiple clicks.\n",
              "      quickchartButtonEl.classList.add('colab-df-spinner');\n",
              "      try {\n",
              "        const charts = await google.colab.kernel.invokeFunction(\n",
              "            'suggestCharts', [key], {});\n",
              "      } catch (error) {\n",
              "        console.error('Error during call to suggestCharts:', error);\n",
              "      }\n",
              "      quickchartButtonEl.classList.remove('colab-df-spinner');\n",
              "      quickchartButtonEl.classList.add('colab-df-quickchart-complete');\n",
              "    }\n",
              "    (() => {\n",
              "      let quickchartButtonEl =\n",
              "        document.querySelector('#df-cf29ddd9-ff99-4ec4-9d4e-a07d981878ab button');\n",
              "      quickchartButtonEl.style.display =\n",
              "        google.colab.kernel.accessAllowed ? 'block' : 'none';\n",
              "    })();\n",
              "  </script>\n",
              "</div>\n",
              "\n",
              "    </div>\n",
              "  </div>\n"
            ],
            "application/vnd.google.colaboratory.intrinsic+json": {
              "type": "dataframe",
              "variable_name": "data",
              "summary": "{\n  \"name\": \"data\",\n  \"rows\": 768,\n  \"fields\": [\n    {\n      \"column\": \"Date\",\n      \"properties\": {\n        \"dtype\": \"date\",\n        \"min\": \"2022-01-20 00:00:00\",\n        \"max\": \"2024-02-26 00:00:00\",\n        \"num_unique_values\": 768,\n        \"samples\": [\n          \"2023-11-19 00:00:00\",\n          \"2022-12-10 00:00:00\",\n          \"2023-10-06 00:00:00\"\n        ],\n        \"semantic_type\": \"\",\n        \"description\": \"\"\n      }\n    },\n    {\n      \"column\": \"Open\",\n      \"properties\": {\n        \"dtype\": \"number\",\n        \"std\": 9038.980538337762,\n        \"min\": 15782.30078125,\n        \"max\": 52273.53515625,\n        \"num_unique_values\": 768,\n        \"samples\": [\n          36585.765625,\n          17134.220703125,\n          27412.123046875\n        ],\n        \"semantic_type\": \"\",\n        \"description\": \"\"\n      }\n    },\n    {\n      \"column\": \"High\",\n      \"properties\": {\n        \"dtype\": \"number\",\n        \"std\": 9233.410990751916,\n        \"min\": 16253.0478515625,\n        \"max\": 54938.17578125,\n        \"num_unique_values\": 768,\n        \"samples\": [\n          37509.35546875,\n          17216.826171875,\n          28252.537109375\n        ],\n        \"semantic_type\": \"\",\n        \"description\": \"\"\n      }\n    },\n    {\n      \"column\": \"Low\",\n      \"properties\": {\n        \"dtype\": \"number\",\n        \"std\": 8864.061662593384,\n        \"min\": 15599.046875,\n        \"max\": 51711.8203125,\n        \"num_unique_values\": 767,\n        \"samples\": [\n          36414.59765625,\n          17120.68359375,\n          27215.552734375\n        ],\n        \"semantic_type\": \"\",\n        \"description\": \"\"\n      }\n    },\n    {\n      \"column\": \"Close\",\n      \"properties\": {\n        \"dtype\": \"number\",\n        \"std\": 9073.832422373742,\n        \"min\": 15787.2841796875,\n        \"max\": 54522.40234375,\n        \"num_unique_values\": 768,\n        \"samples\": [\n          37386.546875,\n          17128.724609375,\n          27946.59765625\n        ],\n        \"semantic_type\": \"\",\n        \"description\": \"\"\n      }\n    },\n    {\n      \"column\": \"Adj Close\",\n      \"properties\": {\n        \"dtype\": \"number\",\n        \"std\": 9073.832422373742,\n        \"min\": 15787.2841796875,\n        \"max\": 54522.40234375,\n        \"num_unique_values\": 768,\n        \"samples\": [\n          37386.546875,\n          17128.724609375,\n          27946.59765625\n        ],\n        \"semantic_type\": \"\",\n        \"description\": \"\"\n      }\n    },\n    {\n      \"column\": \"Volume\",\n      \"properties\": {\n        \"dtype\": \"number\",\n        \"std\": 11986517808,\n        \"min\": 5331172801,\n        \"max\": 118992465607,\n        \"num_unique_values\": 768,\n        \"samples\": [\n          12915986553,\n          12706781969,\n          13492391599\n        ],\n        \"semantic_type\": \"\",\n        \"description\": \"\"\n      }\n    }\n  ]\n}"
            }
          },
          "metadata": {},
          "execution_count": 4
        }
      ]
    },
    {
      "cell_type": "code",
      "source": [
        "data.sum()"
      ],
      "metadata": {
        "colab": {
          "base_uri": "https://localhost:8080/"
        },
        "id": "6vc8sf5eC-H0",
        "outputId": "096be0a3-a5c4-4d25-c515-9cd54e84f979"
      },
      "execution_count": 5,
      "outputs": [
        {
          "output_type": "stream",
          "name": "stderr",
          "text": [
            "<ipython-input-5-1a71ea4920a7>:1: FutureWarning: The default value of numeric_only in DataFrame.sum is deprecated. In a future version, it will default to False. In addition, specifying 'numeric_only=None' is deprecated. Select only valid columns or specify the value of numeric_only to silence this warning.\n",
            "  data.sum()\n"
          ]
        },
        {
          "output_type": "execute_result",
          "data": {
            "text/plain": [
              "Open         2.258273e+07\n",
              "High         2.299352e+07\n",
              "Low          2.217221e+07\n",
              "Close        2.259580e+07\n",
              "Adj Close    2.259580e+07\n",
              "Volume       1.847919e+13\n",
              "dtype: float64"
            ]
          },
          "metadata": {},
          "execution_count": 5
        }
      ]
    },
    {
      "cell_type": "code",
      "source": [
        "data.tail()"
      ],
      "metadata": {
        "colab": {
          "base_uri": "https://localhost:8080/",
          "height": 206
        },
        "id": "opRgfbyoDBD0",
        "outputId": "fc4bd645-32f1-4ee0-be65-6e755c768ae7"
      },
      "execution_count": 6,
      "outputs": [
        {
          "output_type": "execute_result",
          "data": {
            "text/plain": [
              "          Date          Open          High           Low         Close  \\\n",
              "763 2024-02-22  51854.644531  52009.613281  50926.292969  51304.972656   \n",
              "764 2024-02-23  51283.906250  51497.933594  50561.777344  50731.949219   \n",
              "765 2024-02-24  50736.371094  51684.195312  50585.445312  51571.101562   \n",
              "766 2024-02-25  51565.214844  51950.027344  51306.171875  51733.238281   \n",
              "767 2024-02-26  51730.539062  54938.175781  50931.031250  54522.402344   \n",
              "\n",
              "        Adj Close       Volume  \n",
              "763  51304.972656  25413900611  \n",
              "764  50731.949219  21427078270  \n",
              "765  51571.101562  15174077879  \n",
              "766  51733.238281  15413239245  \n",
              "767  54522.402344  34074411896  "
            ],
            "text/html": [
              "\n",
              "  <div id=\"df-f1775f7b-e293-490e-9b5d-920dbdd1c132\" class=\"colab-df-container\">\n",
              "    <div>\n",
              "<style scoped>\n",
              "    .dataframe tbody tr th:only-of-type {\n",
              "        vertical-align: middle;\n",
              "    }\n",
              "\n",
              "    .dataframe tbody tr th {\n",
              "        vertical-align: top;\n",
              "    }\n",
              "\n",
              "    .dataframe thead th {\n",
              "        text-align: right;\n",
              "    }\n",
              "</style>\n",
              "<table border=\"1\" class=\"dataframe\">\n",
              "  <thead>\n",
              "    <tr style=\"text-align: right;\">\n",
              "      <th></th>\n",
              "      <th>Date</th>\n",
              "      <th>Open</th>\n",
              "      <th>High</th>\n",
              "      <th>Low</th>\n",
              "      <th>Close</th>\n",
              "      <th>Adj Close</th>\n",
              "      <th>Volume</th>\n",
              "    </tr>\n",
              "  </thead>\n",
              "  <tbody>\n",
              "    <tr>\n",
              "      <th>763</th>\n",
              "      <td>2024-02-22</td>\n",
              "      <td>51854.644531</td>\n",
              "      <td>52009.613281</td>\n",
              "      <td>50926.292969</td>\n",
              "      <td>51304.972656</td>\n",
              "      <td>51304.972656</td>\n",
              "      <td>25413900611</td>\n",
              "    </tr>\n",
              "    <tr>\n",
              "      <th>764</th>\n",
              "      <td>2024-02-23</td>\n",
              "      <td>51283.906250</td>\n",
              "      <td>51497.933594</td>\n",
              "      <td>50561.777344</td>\n",
              "      <td>50731.949219</td>\n",
              "      <td>50731.949219</td>\n",
              "      <td>21427078270</td>\n",
              "    </tr>\n",
              "    <tr>\n",
              "      <th>765</th>\n",
              "      <td>2024-02-24</td>\n",
              "      <td>50736.371094</td>\n",
              "      <td>51684.195312</td>\n",
              "      <td>50585.445312</td>\n",
              "      <td>51571.101562</td>\n",
              "      <td>51571.101562</td>\n",
              "      <td>15174077879</td>\n",
              "    </tr>\n",
              "    <tr>\n",
              "      <th>766</th>\n",
              "      <td>2024-02-25</td>\n",
              "      <td>51565.214844</td>\n",
              "      <td>51950.027344</td>\n",
              "      <td>51306.171875</td>\n",
              "      <td>51733.238281</td>\n",
              "      <td>51733.238281</td>\n",
              "      <td>15413239245</td>\n",
              "    </tr>\n",
              "    <tr>\n",
              "      <th>767</th>\n",
              "      <td>2024-02-26</td>\n",
              "      <td>51730.539062</td>\n",
              "      <td>54938.175781</td>\n",
              "      <td>50931.031250</td>\n",
              "      <td>54522.402344</td>\n",
              "      <td>54522.402344</td>\n",
              "      <td>34074411896</td>\n",
              "    </tr>\n",
              "  </tbody>\n",
              "</table>\n",
              "</div>\n",
              "    <div class=\"colab-df-buttons\">\n",
              "\n",
              "  <div class=\"colab-df-container\">\n",
              "    <button class=\"colab-df-convert\" onclick=\"convertToInteractive('df-f1775f7b-e293-490e-9b5d-920dbdd1c132')\"\n",
              "            title=\"Convert this dataframe to an interactive table.\"\n",
              "            style=\"display:none;\">\n",
              "\n",
              "  <svg xmlns=\"http://www.w3.org/2000/svg\" height=\"24px\" viewBox=\"0 -960 960 960\">\n",
              "    <path d=\"M120-120v-720h720v720H120Zm60-500h600v-160H180v160Zm220 220h160v-160H400v160Zm0 220h160v-160H400v160ZM180-400h160v-160H180v160Zm440 0h160v-160H620v160ZM180-180h160v-160H180v160Zm440 0h160v-160H620v160Z\"/>\n",
              "  </svg>\n",
              "    </button>\n",
              "\n",
              "  <style>\n",
              "    .colab-df-container {\n",
              "      display:flex;\n",
              "      gap: 12px;\n",
              "    }\n",
              "\n",
              "    .colab-df-convert {\n",
              "      background-color: #E8F0FE;\n",
              "      border: none;\n",
              "      border-radius: 50%;\n",
              "      cursor: pointer;\n",
              "      display: none;\n",
              "      fill: #1967D2;\n",
              "      height: 32px;\n",
              "      padding: 0 0 0 0;\n",
              "      width: 32px;\n",
              "    }\n",
              "\n",
              "    .colab-df-convert:hover {\n",
              "      background-color: #E2EBFA;\n",
              "      box-shadow: 0px 1px 2px rgba(60, 64, 67, 0.3), 0px 1px 3px 1px rgba(60, 64, 67, 0.15);\n",
              "      fill: #174EA6;\n",
              "    }\n",
              "\n",
              "    .colab-df-buttons div {\n",
              "      margin-bottom: 4px;\n",
              "    }\n",
              "\n",
              "    [theme=dark] .colab-df-convert {\n",
              "      background-color: #3B4455;\n",
              "      fill: #D2E3FC;\n",
              "    }\n",
              "\n",
              "    [theme=dark] .colab-df-convert:hover {\n",
              "      background-color: #434B5C;\n",
              "      box-shadow: 0px 1px 3px 1px rgba(0, 0, 0, 0.15);\n",
              "      filter: drop-shadow(0px 1px 2px rgba(0, 0, 0, 0.3));\n",
              "      fill: #FFFFFF;\n",
              "    }\n",
              "  </style>\n",
              "\n",
              "    <script>\n",
              "      const buttonEl =\n",
              "        document.querySelector('#df-f1775f7b-e293-490e-9b5d-920dbdd1c132 button.colab-df-convert');\n",
              "      buttonEl.style.display =\n",
              "        google.colab.kernel.accessAllowed ? 'block' : 'none';\n",
              "\n",
              "      async function convertToInteractive(key) {\n",
              "        const element = document.querySelector('#df-f1775f7b-e293-490e-9b5d-920dbdd1c132');\n",
              "        const dataTable =\n",
              "          await google.colab.kernel.invokeFunction('convertToInteractive',\n",
              "                                                    [key], {});\n",
              "        if (!dataTable) return;\n",
              "\n",
              "        const docLinkHtml = 'Like what you see? Visit the ' +\n",
              "          '<a target=\"_blank\" href=https://colab.research.google.com/notebooks/data_table.ipynb>data table notebook</a>'\n",
              "          + ' to learn more about interactive tables.';\n",
              "        element.innerHTML = '';\n",
              "        dataTable['output_type'] = 'display_data';\n",
              "        await google.colab.output.renderOutput(dataTable, element);\n",
              "        const docLink = document.createElement('div');\n",
              "        docLink.innerHTML = docLinkHtml;\n",
              "        element.appendChild(docLink);\n",
              "      }\n",
              "    </script>\n",
              "  </div>\n",
              "\n",
              "\n",
              "<div id=\"df-3284bd7e-f698-4ba6-a593-413077b43b4a\">\n",
              "  <button class=\"colab-df-quickchart\" onclick=\"quickchart('df-3284bd7e-f698-4ba6-a593-413077b43b4a')\"\n",
              "            title=\"Suggest charts\"\n",
              "            style=\"display:none;\">\n",
              "\n",
              "<svg xmlns=\"http://www.w3.org/2000/svg\" height=\"24px\"viewBox=\"0 0 24 24\"\n",
              "     width=\"24px\">\n",
              "    <g>\n",
              "        <path d=\"M19 3H5c-1.1 0-2 .9-2 2v14c0 1.1.9 2 2 2h14c1.1 0 2-.9 2-2V5c0-1.1-.9-2-2-2zM9 17H7v-7h2v7zm4 0h-2V7h2v10zm4 0h-2v-4h2v4z\"/>\n",
              "    </g>\n",
              "</svg>\n",
              "  </button>\n",
              "\n",
              "<style>\n",
              "  .colab-df-quickchart {\n",
              "      --bg-color: #E8F0FE;\n",
              "      --fill-color: #1967D2;\n",
              "      --hover-bg-color: #E2EBFA;\n",
              "      --hover-fill-color: #174EA6;\n",
              "      --disabled-fill-color: #AAA;\n",
              "      --disabled-bg-color: #DDD;\n",
              "  }\n",
              "\n",
              "  [theme=dark] .colab-df-quickchart {\n",
              "      --bg-color: #3B4455;\n",
              "      --fill-color: #D2E3FC;\n",
              "      --hover-bg-color: #434B5C;\n",
              "      --hover-fill-color: #FFFFFF;\n",
              "      --disabled-bg-color: #3B4455;\n",
              "      --disabled-fill-color: #666;\n",
              "  }\n",
              "\n",
              "  .colab-df-quickchart {\n",
              "    background-color: var(--bg-color);\n",
              "    border: none;\n",
              "    border-radius: 50%;\n",
              "    cursor: pointer;\n",
              "    display: none;\n",
              "    fill: var(--fill-color);\n",
              "    height: 32px;\n",
              "    padding: 0;\n",
              "    width: 32px;\n",
              "  }\n",
              "\n",
              "  .colab-df-quickchart:hover {\n",
              "    background-color: var(--hover-bg-color);\n",
              "    box-shadow: 0 1px 2px rgba(60, 64, 67, 0.3), 0 1px 3px 1px rgba(60, 64, 67, 0.15);\n",
              "    fill: var(--button-hover-fill-color);\n",
              "  }\n",
              "\n",
              "  .colab-df-quickchart-complete:disabled,\n",
              "  .colab-df-quickchart-complete:disabled:hover {\n",
              "    background-color: var(--disabled-bg-color);\n",
              "    fill: var(--disabled-fill-color);\n",
              "    box-shadow: none;\n",
              "  }\n",
              "\n",
              "  .colab-df-spinner {\n",
              "    border: 2px solid var(--fill-color);\n",
              "    border-color: transparent;\n",
              "    border-bottom-color: var(--fill-color);\n",
              "    animation:\n",
              "      spin 1s steps(1) infinite;\n",
              "  }\n",
              "\n",
              "  @keyframes spin {\n",
              "    0% {\n",
              "      border-color: transparent;\n",
              "      border-bottom-color: var(--fill-color);\n",
              "      border-left-color: var(--fill-color);\n",
              "    }\n",
              "    20% {\n",
              "      border-color: transparent;\n",
              "      border-left-color: var(--fill-color);\n",
              "      border-top-color: var(--fill-color);\n",
              "    }\n",
              "    30% {\n",
              "      border-color: transparent;\n",
              "      border-left-color: var(--fill-color);\n",
              "      border-top-color: var(--fill-color);\n",
              "      border-right-color: var(--fill-color);\n",
              "    }\n",
              "    40% {\n",
              "      border-color: transparent;\n",
              "      border-right-color: var(--fill-color);\n",
              "      border-top-color: var(--fill-color);\n",
              "    }\n",
              "    60% {\n",
              "      border-color: transparent;\n",
              "      border-right-color: var(--fill-color);\n",
              "    }\n",
              "    80% {\n",
              "      border-color: transparent;\n",
              "      border-right-color: var(--fill-color);\n",
              "      border-bottom-color: var(--fill-color);\n",
              "    }\n",
              "    90% {\n",
              "      border-color: transparent;\n",
              "      border-bottom-color: var(--fill-color);\n",
              "    }\n",
              "  }\n",
              "</style>\n",
              "\n",
              "  <script>\n",
              "    async function quickchart(key) {\n",
              "      const quickchartButtonEl =\n",
              "        document.querySelector('#' + key + ' button');\n",
              "      quickchartButtonEl.disabled = true;  // To prevent multiple clicks.\n",
              "      quickchartButtonEl.classList.add('colab-df-spinner');\n",
              "      try {\n",
              "        const charts = await google.colab.kernel.invokeFunction(\n",
              "            'suggestCharts', [key], {});\n",
              "      } catch (error) {\n",
              "        console.error('Error during call to suggestCharts:', error);\n",
              "      }\n",
              "      quickchartButtonEl.classList.remove('colab-df-spinner');\n",
              "      quickchartButtonEl.classList.add('colab-df-quickchart-complete');\n",
              "    }\n",
              "    (() => {\n",
              "      let quickchartButtonEl =\n",
              "        document.querySelector('#df-3284bd7e-f698-4ba6-a593-413077b43b4a button');\n",
              "      quickchartButtonEl.style.display =\n",
              "        google.colab.kernel.accessAllowed ? 'block' : 'none';\n",
              "    })();\n",
              "  </script>\n",
              "</div>\n",
              "\n",
              "    </div>\n",
              "  </div>\n"
            ],
            "application/vnd.google.colaboratory.intrinsic+json": {
              "type": "dataframe",
              "summary": "{\n  \"name\": \"data\",\n  \"rows\": 5,\n  \"fields\": [\n    {\n      \"column\": \"Date\",\n      \"properties\": {\n        \"dtype\": \"date\",\n        \"min\": \"2024-02-22 00:00:00\",\n        \"max\": \"2024-02-26 00:00:00\",\n        \"num_unique_values\": 5,\n        \"samples\": [\n          \"2024-02-23 00:00:00\",\n          \"2024-02-26 00:00:00\",\n          \"2024-02-24 00:00:00\"\n        ],\n        \"semantic_type\": \"\",\n        \"description\": \"\"\n      }\n    },\n    {\n      \"column\": \"Open\",\n      \"properties\": {\n        \"dtype\": \"number\",\n        \"std\": 444.7776707996429,\n        \"min\": 50736.37109375,\n        \"max\": 51854.64453125,\n        \"num_unique_values\": 5,\n        \"samples\": [\n          51283.90625,\n          51730.5390625,\n          50736.37109375\n        ],\n        \"semantic_type\": \"\",\n        \"description\": \"\"\n      }\n    },\n    {\n      \"column\": \"High\",\n      \"properties\": {\n        \"dtype\": \"number\",\n        \"std\": 1424.9592432247614,\n        \"min\": 51497.93359375,\n        \"max\": 54938.17578125,\n        \"num_unique_values\": 5,\n        \"samples\": [\n          51497.93359375,\n          54938.17578125,\n          51684.1953125\n        ],\n        \"semantic_type\": \"\",\n        \"description\": \"\"\n      }\n    },\n    {\n      \"column\": \"Low\",\n      \"properties\": {\n        \"dtype\": \"number\",\n        \"std\": 305.28821997908074,\n        \"min\": 50561.77734375,\n        \"max\": 51306.171875,\n        \"num_unique_values\": 5,\n        \"samples\": [\n          50561.77734375,\n          50931.03125,\n          50585.4453125\n        ],\n        \"semantic_type\": \"\",\n        \"description\": \"\"\n      }\n    },\n    {\n      \"column\": \"Close\",\n      \"properties\": {\n        \"dtype\": \"number\",\n        \"std\": 1475.2057113207977,\n        \"min\": 50731.94921875,\n        \"max\": 54522.40234375,\n        \"num_unique_values\": 5,\n        \"samples\": [\n          50731.94921875,\n          54522.40234375,\n          51571.1015625\n        ],\n        \"semantic_type\": \"\",\n        \"description\": \"\"\n      }\n    },\n    {\n      \"column\": \"Adj Close\",\n      \"properties\": {\n        \"dtype\": \"number\",\n        \"std\": 1475.2057113207977,\n        \"min\": 50731.94921875,\n        \"max\": 54522.40234375,\n        \"num_unique_values\": 5,\n        \"samples\": [\n          50731.94921875,\n          54522.40234375,\n          51571.1015625\n        ],\n        \"semantic_type\": \"\",\n        \"description\": \"\"\n      }\n    },\n    {\n      \"column\": \"Volume\",\n      \"properties\": {\n        \"dtype\": \"number\",\n        \"std\": 7862909499,\n        \"min\": 15174077879,\n        \"max\": 34074411896,\n        \"num_unique_values\": 5,\n        \"samples\": [\n          21427078270,\n          34074411896,\n          15174077879\n        ],\n        \"semantic_type\": \"\",\n        \"description\": \"\"\n      }\n    }\n  ]\n}"
            }
          },
          "metadata": {},
          "execution_count": 6
        }
      ]
    },
    {
      "cell_type": "code",
      "source": [
        "import plotly.express as px\n",
        "import plotly.graph_objects as go\n",
        "\n",
        "figure = go.Figure(data=[go.Candlestick(x= data[\"Date\"], open = data[\"Open\"] , high = data[\"High\"] , low = data[\"Low\"],close = data[\"Close\"])])\n",
        "figure.show()"
      ],
      "metadata": {
        "colab": {
          "base_uri": "https://localhost:8080/",
          "height": 542
        },
        "id": "jFofuwfoDHoo",
        "outputId": "f11affc6-caf5-4295-9586-230fa0ffc533"
      },
      "execution_count": 8,
      "outputs": [
        {
          "output_type": "display_data",
          "data": {
            "text/html": [
              "<html>\n",
              "<head><meta charset=\"utf-8\" /></head>\n",
              "<body>\n",
              "    <div>            <script src=\"https://cdnjs.cloudflare.com/ajax/libs/mathjax/2.7.5/MathJax.js?config=TeX-AMS-MML_SVG\"></script><script type=\"text/javascript\">if (window.MathJax && window.MathJax.Hub && window.MathJax.Hub.Config) {window.MathJax.Hub.Config({SVG: {font: \"STIX-Web\"}});}</script>                <script type=\"text/javascript\">window.PlotlyConfig = {MathJaxConfig: 'local'};</script>\n",
              "        <script charset=\"utf-8\" src=\"https://cdn.plot.ly/plotly-2.24.1.min.js\"></script>                <div id=\"304aace3-dee5-480b-92ba-a522193f2616\" class=\"plotly-graph-div\" style=\"height:525px; width:100%;\"></div>            <script type=\"text/javascript\">                                    window.PLOTLYENV=window.PLOTLYENV || {};                                    if (document.getElementById(\"304aace3-dee5-480b-92ba-a522193f2616\")) {                    Plotly.newPlot(                        \"304aace3-dee5-480b-92ba-a522193f2616\",                        [{\"close\":[40680.41796875,36457.31640625,35030.25,36276.8046875,36654.328125,36954.00390625,36852.12109375,37138.234375,37784.33203125,38138.1796875,37917.6015625,38483.125,38743.2734375,36952.984375,37154.6015625,41500.875,41441.1640625,42412.43359375,43840.28515625,44118.4453125,44338.796875,43565.11328125,42407.9375,42244.46875,42197.515625,42586.91796875,44575.203125,43961.859375,40538.01171875,40030.9765625,40122.15625,38431.37890625,37075.28125,38286.02734375,37296.5703125,38332.609375,39214.21875,39105.1484375,37709.78515625,43193.234375,44354.63671875,43924.1171875,42451.7890625,39137.60546875,39400.5859375,38419.984375,38062.0390625,38737.26953125,41982.92578125,39437.4609375,38794.97265625,38904.01171875,37849.6640625,39666.75390625,39338.78515625,41143.9296875,40951.37890625,41801.15625,42190.65234375,41247.82421875,41077.99609375,42358.80859375,42892.95703125,43960.93359375,44348.73046875,44500.828125,46820.4921875,47128.00390625,47465.73046875,47062.6640625,45538.67578125,46281.64453125,45868.94921875,46453.56640625,46622.67578125,45555.9921875,43206.73828125,43503.84765625,42287.6640625,42782.13671875,42207.671875,39521.90234375,40127.18359375,41166.73046875,39935.515625,40553.46484375,40424.484375,39716.953125,40826.21484375,41502.75,41374.37890625,40527.36328125,39740.3203125,39486.73046875,39469.29296875,40458.30859375,38117.4609375,39241.12109375,39773.828125,38609.82421875,37714.875,38469.09375,38529.328125,37750.453125,39698.37109375,36575.140625,36040.921875,35501.953125,34059.265625,30296.953125,31022.90625,28936.35546875,29047.751953125,29283.103515625,30101.265625,31305.11328125,29862.91796875,30425.857421875,28720.271484375,30314.333984375,29200.740234375,29432.2265625,30323.72265625,29098.91015625,29655.5859375,29562.361328125,29267.224609375,28627.57421875,28814.900390625,29445.95703125,31726.390625,31792.310546875,29799.080078125,30467.48828125,29704.390625,29832.9140625,29906.662109375,31370.671875,31155.478515625,30214.35546875,30111.998046875,29083.8046875,28360.810546875,26762.6484375,22487.388671875,22206.79296875,22572.83984375,20381.650390625,20471.482421875,19017.642578125,20553.271484375,20599.537109375,20710.59765625,19987.029296875,21085.876953125,21231.65625,21502.337890625,21027.294921875,20735.478515625,20280.634765625,20104.0234375,19784.7265625,19269.3671875,19242.255859375,19297.076171875,20231.26171875,20190.115234375,20548.24609375,21637.587890625,21731.1171875,21592.20703125,20860.44921875,19970.556640625,19323.9140625,20212.07421875,20569.919921875,20836.328125,21190.31640625,20779.34375,22485.689453125,23389.43359375,23231.732421875,23164.62890625,22714.978515625,22465.478515625,22609.1640625,21361.701171875,21239.75390625,22930.548828125,23843.88671875,23804.6328125,23656.20703125,23336.896484375,23314.19921875,22978.1171875,22846.5078125,22630.95703125,23289.314453125,22961.279296875,23175.890625,23809.486328125,23164.318359375,23947.642578125,23957.529296875,24402.818359375,24424.068359375,24319.333984375,24136.97265625,23883.291015625,23335.998046875,23212.73828125,20877.552734375,21166.060546875,21534.12109375,21398.908203125,21528.087890625,21395.01953125,21600.904296875,20260.01953125,20041.73828125,19616.814453125,20297.994140625,19796.80859375,20049.763671875,20127.140625,19969.771484375,19832.087890625,19986.712890625,19812.37109375,18837.66796875,19290.32421875,19329.833984375,21381.15234375,21680.5390625,21769.255859375,22370.44921875,20296.70703125,20241.08984375,19701.2109375,19772.583984375,20127.576171875,19419.505859375,19544.12890625,18890.7890625,18547.400390625,19413.55078125,19297.638671875,18937.01171875,18802.09765625,19222.671875,19110.546875,19426.720703125,19573.05078125,19431.7890625,19312.095703125,19044.107421875,19623.580078125,20336.84375,20160.716796875,19955.443359375,19546.849609375,19416.568359375,19446.42578125,19141.484375,19051.41796875,19157.4453125,19382.904296875,19185.65625,19067.634765625,19268.09375,19550.7578125,19334.416015625,19139.53515625,19053.740234375,19172.46875,19208.189453125,19567.0078125,19345.572265625,20095.857421875,20770.44140625,20285.8359375,20595.3515625,20818.4765625,20635.603515625,20495.7734375,20485.2734375,20159.50390625,20209.98828125,21147.23046875,21282.69140625,20926.486328125,20602.81640625,18541.271484375,15880.7802734375,17586.771484375,17034.29296875,16799.185546875,16353.365234375,16618.19921875,16884.61328125,16669.439453125,16687.517578125,16697.77734375,16711.546875,16291.83203125,15787.2841796875,16189.76953125,16610.70703125,16604.46484375,16521.841796875,16464.28125,16444.626953125,16217.322265625,16444.982421875,17168.56640625,16967.1328125,17088.66015625,16908.236328125,17130.486328125,16974.826171875,17089.50390625,16848.126953125,17233.474609375,17133.15234375,17128.724609375,17104.193359375,17206.4375,17781.318359375,17815.650390625,17364.865234375,16647.484375,16795.091796875,16757.9765625,16439.6796875,16906.3046875,16817.53515625,16830.341796875,16796.953125,16847.755859375,16841.986328125,16919.8046875,16717.173828125,16552.572265625,16642.341796875,16602.5859375,16547.49609375,16625.080078125,16688.470703125,16679.857421875,16863.23828125,16836.736328125,16951.96875,16955.078125,17091.14453125,17196.5546875,17446.29296875,17934.896484375,18869.587890625,19909.57421875,20976.298828125,20880.798828125,21169.6328125,21161.51953125,20688.78125,21086.79296875,22676.552734375,22777.625,22720.416015625,22934.431640625,22636.46875,23117.859375,23032.77734375,23078.728515625,23031.08984375,23774.56640625,22840.138671875,23139.283203125,23723.76953125,23471.87109375,23449.322265625,23331.84765625,22955.666015625,22760.109375,23264.291015625,22939.3984375,21819.0390625,21651.18359375,21870.875,21788.203125,21808.1015625,22220.8046875,24307.841796875,23623.474609375,24565.6015625,24641.27734375,24327.642578125,24829.1484375,24436.353515625,24188.84375,23947.4921875,23198.126953125,23175.375,23561.212890625,23522.87109375,23147.353515625,23646.55078125,23475.466796875,22362.6796875,22353.349609375,22435.513671875,22429.7578125,22219.76953125,21718.080078125,20363.021484375,20187.244140625,20632.41015625,22163.94921875,24197.533203125,24746.07421875,24375.9609375,25052.7890625,27423.9296875,26965.87890625,28038.67578125,27767.236328125,28175.81640625,27307.4375,28333.97265625,27493.28515625,27494.70703125,27994.330078125,27139.888671875,27268.130859375,28348.44140625,28033.5625,28478.484375,28411.03515625,28199.30859375,27790.220703125,28168.08984375,28177.984375,28044.140625,27925.859375,27947.794921875,28333.05078125,29652.98046875,30235.05859375,30139.052734375,30399.06640625,30485.69921875,30318.49609375,30315.35546875,29445.044921875,30397.552734375,28822.6796875,28245.98828125,27276.91015625,27817.5,27591.384765625,27525.33984375,28307.59765625,28422.701171875,29473.787109375,29340.26171875,29248.48828125,29268.806640625,28091.568359375,28680.537109375,29006.30859375,28847.7109375,29534.384765625,28904.623046875,28454.978515625,27694.2734375,27658.775390625,27621.755859375,27000.7890625,26804.990234375,26784.078125,26930.638671875,27192.693359375,27036.650390625,27398.802734375,26832.208984375,26890.12890625,27129.5859375,26753.826171875,26851.27734375,27225.7265625,26334.818359375,26476.20703125,26719.291015625,26868.353515625,28085.646484375,27745.884765625,27702.349609375,27219.658203125,26819.97265625,27249.58984375,27075.12890625,27119.06640625,25760.09765625,27238.783203125,26345.998046875,26508.216796875,26480.375,25851.240234375,25940.16796875,25902.5,25918.728515625,25124.67578125,25576.39453125,26327.462890625,26510.67578125,26336.212890625,26851.029296875,28327.48828125,30027.296875,29912.28125,30695.46875,30548.6953125,30480.26171875,30271.130859375,30688.1640625,30086.24609375,30445.3515625,30477.251953125,30590.078125,30620.76953125,31156.439453125,30777.58203125,30514.166015625,29909.337890625,30342.265625,30292.541015625,30171.234375,30414.470703125,30620.951171875,30391.646484375,31476.048828125,30334.068359375,30295.806640625,30249.1328125,30145.888671875,29856.5625,29913.923828125,29792.015625,29908.744140625,29771.802734375,30084.5390625,29176.916015625,29227.390625,29354.97265625,29210.689453125,29319.24609375,29356.91796875,29275.30859375,29230.111328125,29675.732421875,29151.958984375,29178.6796875,29074.091796875,29042.126953125,29041.85546875,29180.578125,29765.4921875,29561.494140625,29429.591796875,29397.71484375,29415.96484375,29282.9140625,29408.443359375,29170.34765625,28701.779296875,26664.55078125,26049.556640625,26096.205078125,26189.583984375,26124.140625,26031.65625,26431.640625,26162.373046875,26047.66796875,26008.462890625,26089.693359375,26106.150390625,27727.392578125,27297.265625,25931.47265625,25800.724609375,25868.798828125,25969.56640625,25812.416015625,25779.982421875,25753.236328125,26240.1953125,25905.654296875,25895.677734375,25832.2265625,25162.654296875,25833.34375,26228.32421875,26539.673828125,26608.693359375,26568.28125,26534.1875,26754.28125,27211.1171875,27132.0078125,26567.6328125,26579.568359375,26579.390625,26256.826171875,26298.48046875,26217.25,26352.716796875,27021.546875,26911.720703125,26967.916015625,27983.75,27530.78515625,27429.978515625,27799.39453125,27415.912109375,27946.59765625,27968.83984375,27935.08984375,27583.677734375,27391.01953125,26873.3203125,26756.798828125,26862.375,26861.70703125,27159.65234375,28519.466796875,28415.748046875,28328.341796875,28719.806640625,29682.94921875,29918.412109375,29993.896484375,33086.234375,33901.52734375,34502.8203125,34156.6484375,33909.80078125,34089.57421875,34538.48046875,34502.36328125,34667.78125,35437.25390625,34938.2421875,34732.32421875,35082.1953125,35049.35546875,35037.37109375,35443.5625,35655.27734375,36693.125,37313.96875,37138.05078125,37054.51953125,36502.35546875,35537.640625,37880.58203125,36154.76953125,36596.68359375,36585.703125,37386.546875,37476.95703125,35813.8125,37432.33984375,37289.62109375,37720.28125,37796.79296875,37479.12109375,37254.16796875,37831.0859375,37858.4921875,37712.74609375,38688.75,39476.33203125,39978.390625,41980.09765625,44080.6484375,43746.4453125,43292.6640625,44166.6015625,43725.984375,43779.69921875,41243.83203125,41450.22265625,42890.7421875,43023.97265625,41929.7578125,42240.1171875,41364.6640625,42623.5390625,42270.52734375,43652.25,43869.15234375,43997.90234375,43739.54296875,43016.1171875,43613.140625,42520.40234375,43442.85546875,42627.85546875,42099.40234375,42156.90234375,42265.1875,44167.33203125,44957.96875,42848.17578125,44179.921875,44162.69140625,43989.1953125,43943.09765625,46970.50390625,46139.73046875,46627.77734375,46368.5859375,42853.16796875,42842.3828125,41796.26953125,42511.96875,43154.9453125,42742.65234375,41262.05859375,41618.40625,41665.5859375,41545.78515625,39507.3671875,39845.55078125,40077.07421875,39933.80859375,41816.87109375,42120.0546875,42035.59375,43288.24609375,42952.609375,42582.60546875,43075.7734375,43185.859375,42992.25,42583.58203125,42658.66796875,43084.671875,44318.22265625,45301.56640625,47147.19921875,47771.27734375,48293.91796875,49958.22265625,49742.44140625,51826.6953125,51938.5546875,52160.203125,51662.99609375,52122.546875,51779.14453125,52284.875,51839.1796875,51304.97265625,50731.94921875,51571.1015625,51733.23828125,54522.40234375],\"high\":[43413.0234375,41060.52734375,36688.8125,36433.3125,37247.51953125,37444.5703125,38825.41015625,37148.32421875,37952.87890625,38576.26171875,38266.33984375,38647.26171875,39115.1328125,38834.6171875,37154.6015625,41527.78515625,41847.1640625,42500.78515625,44401.86328125,45293.8671875,44727.80078125,45661.171875,43810.83203125,42992.55078125,42693.0546875,42775.77734375,44667.21875,44578.27734375,44132.97265625,40929.15234375,40418.87890625,40119.890625,39394.4375,38359.85546875,39122.39453125,38968.83984375,39630.32421875,40005.34765625,39778.94140625,43760.45703125,44793.6015625,45077.578125,44021.578125,42479.61328125,39566.3359375,39640.17578125,39430.2265625,39304.44140625,42465.671875,42004.7265625,40081.6796875,39308.59765625,39209.3515625,39742.5,39794.62890625,41465.453125,41287.53515625,42195.74609375,42316.5546875,42241.1640625,41454.41015625,43124.70703125,42893.5078125,44131.85546875,44999.4921875,44735.99609375,46827.546875,48086.8359375,48022.2890625,47655.1484375,47512.02734375,46616.2421875,47028.28125,47313.4765625,46791.08984375,47106.140625,45544.35546875,43860.69921875,43903.01953125,42786.81640625,43376.37890625,42424.58984375,40617.5859375,41430.0546875,41451.48046875,40617.72265625,40633.6796875,40570.7265625,40986.3203125,41672.9609375,42126.30078125,42893.58203125,40777.7578125,39935.859375,39845.92578125,40491.75390625,40713.890625,39397.91796875,40269.46484375,39887.26953125,38771.2109375,38627.859375,39074.97265625,38629.99609375,39902.94921875,39789.28125,36624.359375,36129.92578125,35502.94140625,34222.07421875,32596.30859375,32013.40234375,30032.439453125,30924.802734375,30192.802734375,31308.19140625,31305.341796875,30694.490234375,30618.716796875,30430.751953125,30664.9765625,29588.869140625,30425.861328125,30590.5859375,29774.35546875,30157.78515625,29834.16015625,29346.943359375,28814.900390625,29498.009765625,31949.630859375,32249.86328125,31957.28515625,30604.734375,30633.03515625,29930.564453125,30117.744140625,31693.291015625,31489.68359375,31253.69140625,30609.310546875,30245.80859375,29401.916015625,28502.685546875,26795.58984375,23018.951171875,22642.671875,22868.921875,21243.3125,20736.041015625,20683.822265625,20913.322265625,21620.62890625,20835.75,21135.76171875,21472.91796875,21520.9140625,21783.724609375,21478.08984375,21164.423828125,20364.15625,20141.16015625,20632.671875,19371.748046875,19558.26953125,20258.748046875,20635.466796875,20595.529296875,21771.81640625,22314.94140625,21877.138671875,21591.080078125,20856.353515625,20043.4453125,20223.052734375,20789.89453125,21138.244140625,21514.404296875,21600.640625,22633.033203125,23666.962890625,24196.818359375,23388.322265625,23671.927734375,22977.2109375,22974.001953125,22649.12109375,21361.12109375,22986.529296875,24110.470703125,24294.787109375,24572.580078125,24121.642578125,23464.787109375,23415.041015625,23578.650390625,23198.009765625,23422.828125,23326.5625,23359.009765625,24203.689453125,23898.615234375,24127.4140625,24822.62890625,24412.56640625,24860.05078125,24974.9140625,25135.58984375,24228.416015625,24407.05859375,23563.83203125,23213.3125,21350.806640625,21668.845703125,21531.462890625,21646.203125,21783.076171875,21789.63671875,21804.908203125,20340.775390625,20139.0546875,20357.462890625,20542.64453125,20420.990234375,20198.390625,20401.568359375,20037.009765625,19999.689453125,20031.16015625,20155.26953125,19427.171875,19417.3515625,21439.41015625,21760.275390625,21770.552734375,22439.181640625,22673.8203125,20467.201171875,20318.166015625,19870.62890625,20162.53125,20127.234375,19639.48046875,19602.45703125,19674.630859375,19456.91015625,19464.671875,19310.197265625,19134.732421875,19274.873046875,20338.455078125,19688.34375,19589.265625,20109.849609375,19471.154296875,19370.30859375,19653.54296875,20380.34375,20343.748046875,20408.392578125,20041.0859375,19601.6953125,19542.5390625,19515.466796875,19241.9609375,19203.19921875,19453.328125,19889.146484375,19212.541015625,19389.603515625,19635.802734375,19666.994140625,19348.416015625,19315.19921875,19237.384765625,19248.068359375,19646.65234375,19589.125,20348.412109375,20938.134765625,20854.044921875,20724.98046875,20988.39453125,20917.005859375,20795.3203125,20647.2890625,20742.810546875,20382.095703125,21209.560546875,21446.88671875,21345.376953125,21053.24609375,20664.607421875,18590.458984375,18054.3125,17650.943359375,17066.67578125,16920.765625,17109.32421875,17051.962890625,16960.294921875,16726.439453125,16947.05859375,16797.876953125,16746.779296875,16291.2236328125,16253.0478515625,16638.193359375,16771.474609375,16603.31640625,16666.86328125,16594.40625,16482.93359375,16522.2578125,17190.9375,17197.498046875,17088.66015625,17116.041015625,17157.767578125,17378.15234375,17091.86328125,17109.376953125,17267.916015625,17280.546875,17216.826171875,17245.634765625,17212.564453125,17930.0859375,18318.53125,17846.744140625,17505.525390625,16800.58984375,16815.38671875,16807.52734375,17012.984375,16916.80078125,16866.673828125,16905.21875,16864.703125,16860.5546875,16920.123046875,16959.845703125,16768.169921875,16651.755859375,16643.427734375,16628.986328125,16630.439453125,16759.34375,16760.447265625,16964.5859375,16884.021484375,16991.994140625,16975.017578125,17091.14453125,17389.95703125,17484.720703125,17934.896484375,19030.087890625,19964.322265625,21075.142578125,20993.748046875,21360.875,21438.66015625,21564.501953125,21163.01171875,22692.357421875,23282.34765625,23056.73046875,23126.486328125,23134.01171875,23722.099609375,23237.078125,23417.720703125,23165.896484375,23919.890625,23789.34765625,23225.021484375,23764.5390625,24167.2109375,23678.103515625,23556.94921875,23423.435546875,23119.279296875,23310.974609375,23367.958984375,22996.4375,21941.185546875,21891.41015625,22060.994140625,21898.4140625,22293.140625,24307.841796875,25134.1171875,24924.041015625,24798.8359375,25093.0546875,25020.458984375,25126.8515625,24472.33984375,24572.08984375,24103.705078125,23210.2109375,23654.3671875,23857.890625,23585.384765625,23880.6328125,23739.138671875,23479.34765625,22405.177734375,22613.685546875,22584.29296875,22527.41796875,22268.896484375,21802.716796875,20370.595703125,20792.525390625,22185.03125,24550.837890625,26514.716796875,25240.615234375,25190.326171875,27787.8125,27725.953125,28440.560546875,28527.724609375,28439.5625,28803.3359375,28729.84375,28388.4375,27791.826171875,28178.14453125,28037.92578125,27460.71875,28619.54296875,29159.90234375,28639.896484375,28802.45703125,28518.958984375,28475.623046875,28433.7421875,28739.23828125,28178.384765625,28111.59375,28159.86328125,28532.830078125,29771.46484375,30509.083984375,30462.48046875,30539.845703125,31005.607421875,30601.740234375,30555.537109375,30319.197265625,30470.302734375,30411.0546875,29076.400390625,28349.96875,27872.142578125,27820.244140625,27979.982421875,28371.078125,29995.837890625,29871.546875,29572.791015625,29452.455078125,29952.029296875,29329.935546875,28881.298828125,29259.533203125,29353.185546875,29668.908203125,29820.126953125,29157.517578125,28663.271484375,27821.400390625,28322.6875,27621.94140625,27055.646484375,27030.482421875,27150.9765625,27646.34765625,27299.3046875,27465.927734375,27466.52734375,27128.619140625,27155.158203125,27265.91796875,27045.734375,27434.68359375,27224.603515625,26591.51953125,26916.669921875,26888.8828125,28193.44921875,28432.0390625,28044.759765625,27831.677734375,27346.10546875,27303.861328125,27317.052734375,27407.01953125,27129.982421875,27313.8203125,27332.181640625,26797.513671875,26770.2890625,26531.044921875,26203.439453125,26087.919921875,26376.3515625,26041.80078125,25735.30859375,26463.173828125,26769.39453125,26675.92578125,26984.611328125,28388.96875,30737.330078125,30495.998046875,31389.5390625,30804.1484375,31041.271484375,30636.029296875,31006.787109375,30703.279296875,30796.25,31256.86328125,30641.2890625,30766.140625,31375.61328125,31325.197265625,30877.330078125,31460.052734375,30434.64453125,30374.4375,30427.58984375,31026.083984375,30788.314453125,30959.96484375,31814.515625,31582.25390625,30407.78125,30437.560546875,30336.400390625,30233.65625,30184.181640625,30195.53125,30045.998046875,29991.615234375,30330.640625,30093.39453125,29353.16015625,29675.552734375,29560.966796875,29521.513671875,29396.84375,29443.169921875,29489.873046875,29675.732421875,29987.998046875,29375.70703125,29302.078125,29102.46484375,29160.822265625,29244.28125,30176.796875,30093.435546875,29688.564453125,29517.7734375,29465.11328125,29441.43359375,29660.25390625,29439.12109375,29221.9765625,28745.947265625,26808.1953125,26249.44921875,26260.681640625,26220.201171875,26135.5078125,26786.8984375,26554.91015625,26248.103515625,26107.384765625,26165.373046875,26198.578125,28089.337890625,27760.16015625,27456.078125,26125.869140625,25970.28515625,26087.1484375,26081.525390625,25858.375,25953.015625,26409.302734375,26414.005859375,25921.9765625,25978.130859375,25883.947265625,26451.939453125,26376.11328125,26774.623046875,26840.498046875,26754.76953125,26617.998046875,27414.734375,27488.763671875,27379.505859375,27152.939453125,26726.078125,26634.185546875,26716.05859375,26421.5078125,26389.884765625,26817.841796875,27259.5,27225.9375,27091.794921875,28047.23828125,28494.458984375,27667.19140625,27826.658203125,28091.861328125,28252.537109375,28028.091796875,28102.169921875,27989.470703125,27715.84765625,27474.115234375,26921.439453125,27092.697265625,26969.0,27289.169921875,29448.138671875,28618.751953125,28889.009765625,28892.474609375,30104.0859375,30287.482421875,30199.43359375,34370.4375,35150.43359375,35133.7578125,34832.91015625,34238.2109375,34399.390625,34743.26171875,34843.93359375,34719.25390625,35527.9296875,35919.84375,34942.47265625,35256.03125,35340.33984375,35286.02734375,35892.41796875,35994.41796875,37926.2578125,37493.80078125,37407.09375,37227.69140625,37405.1171875,36753.3515625,37964.89453125,37934.625,36704.484375,36839.28125,37509.35546875,37756.8203125,37631.140625,37856.98046875,37643.91796875,38415.33984375,37892.4296875,37820.30078125,37559.35546875,38368.48046875,38366.11328125,38141.75390625,38954.109375,39678.9375,40135.60546875,42371.75,44408.6640625,44265.76953125,44042.58984375,44705.515625,44361.2578125,44034.625,43808.375,42048.3046875,43429.78125,43390.859375,43087.82421875,42664.9453125,42359.49609375,42720.296875,43354.296875,44275.5859375,44240.66796875,44367.95703125,44015.69921875,43945.5234375,43765.09375,43603.17578125,43683.16015625,43804.78125,43124.32421875,42584.125,42860.9375,44175.4375,45899.70703125,45503.2421875,44770.0234375,44353.28515625,44227.6328125,44495.5703125,47218.0,47893.69921875,47647.22265625,48969.37109375,46498.13671875,43234.66015625,43065.59765625,43319.72265625,43566.2734375,43189.890625,42876.34765625,42134.16015625,41877.89453125,41855.3671875,41651.20703125,40127.3515625,40483.78515625,40254.48046875,42209.38671875,42195.6328125,42797.17578125,43305.8671875,43838.9453125,43717.40625,43243.16796875,43422.48828125,43359.94140625,43097.64453125,43494.25,43344.1484375,44341.94921875,45575.83984375,48152.49609375,48146.171875,48535.9375,50280.4765625,50358.390625,52021.37109375,52820.06640625,52537.96875,52191.9140625,52356.96484375,52483.32421875,52945.05078125,52368.81640625,52009.61328125,51497.93359375,51684.1953125,51950.02734375,54938.17578125],\"low\":[40672.82421875,35791.42578125,34349.25,34784.96875,33184.05859375,35779.4296875,36374.90625,35629.28125,36211.109375,37406.47265625,37437.7109375,36733.57421875,38113.6640625,36832.73046875,36375.5390625,37093.62890625,41038.09765625,41244.90625,41748.15625,42807.8359375,43232.96875,43402.80859375,42114.5390625,41852.57421875,41950.94140625,41681.95703125,42491.03515625,43456.69140625,40249.37109375,39637.6171875,39713.05859375,38112.8125,36950.4765625,36488.93359375,37201.81640625,34459.21875,38111.34375,38702.53515625,37268.9765625,37518.21484375,42952.5859375,43432.8515625,41914.75,38805.84765625,38777.03515625,38211.6484375,37260.203125,37957.38671875,38706.09375,38832.94140625,38347.43359375,38772.53515625,37728.14453125,37680.734375,38310.2109375,39022.34765625,40662.87109375,40302.3984375,41602.66796875,41004.7578125,40668.04296875,40948.28125,41877.5078125,42726.1640625,43706.28515625,44166.2734375,44437.29296875,46690.203125,47100.4375,46746.2109375,45390.5390625,44403.140625,45782.51171875,45634.10546875,45235.81640625,45544.80859375,43193.953125,42899.90625,42183.2890625,42183.25390625,42021.20703125,39373.05859375,39388.328125,39712.74609375,39695.74609375,39866.83203125,40078.42578125,39620.89453125,38696.19140625,40618.6328125,40961.09765625,40063.828125,39315.41796875,39352.203125,39233.5390625,38338.37890625,37884.984375,37997.3125,38941.421875,38235.53515625,37697.94140625,37585.7890625,38156.5625,37585.62109375,37732.05859375,35856.515625,35482.1328125,34940.82421875,33878.96484375,30296.953125,29944.802734375,28170.4140625,26350.490234375,28782.330078125,28702.91015625,29527.740234375,29251.884765625,29570.302734375,28720.271484375,28708.955078125,28793.60546875,29027.39453125,29275.18359375,28975.560546875,28786.58984375,29384.94921875,28261.90625,28326.61328125,28554.56640625,28841.107421875,29303.572265625,31286.154296875,29501.587890625,29652.705078125,29375.689453125,29500.005859375,29574.44921875,29894.1875,29311.68359375,29944.404296875,30020.265625,28978.146484375,28236.212890625,26762.6484375,22141.2578125,20950.818359375,20178.376953125,20265.2265625,20326.51953125,17708.623046875,18067.15234375,19689.169921875,20415.0625,19848.078125,19950.1171875,20777.51171875,20964.5859375,21016.26953125,20620.19921875,20228.8125,19937.791015625,18729.65625,19073.708984375,19027.08203125,18966.951171875,19063.06640625,19341.232421875,19823.51171875,20296.103515625,21257.453125,21445.95703125,20727.123046875,19924.5390625,19308.53125,18999.953125,19689.2578125,20397.0,20518.8984375,20778.1796875,20781.912109375,21683.40625,23009.94921875,22431.1484375,22603.416015625,22002.91015625,22306.83984375,21361.642578125,20776.81640625,21070.806640625,22722.265625,23481.173828125,23580.5078125,23275.703125,22890.796875,22710.083984375,22747.8359375,22485.701171875,22612.177734375,22961.279296875,22894.556640625,23176.546875,22982.0,22771.51953125,23900.99609375,23657.265625,24346.115234375,24206.259765625,23839.775390625,23733.5,23243.353515625,23177.6015625,20868.84765625,20856.73046875,21103.197265625,20939.18359375,20955.138671875,21195.005859375,21362.44140625,20199.482421875,19890.5234375,19616.814453125,19600.78515625,19617.640625,19799.58203125,19653.96875,19814.765625,19698.35546875,19636.81640625,19673.046875,18800.171875,18644.466796875,19076.71484375,19310.962890625,21168.72265625,21406.9453125,21603.896484375,20062.669921875,19793.396484375,19636.734375,19400.076171875,19777.033203125,19387.4921875,18390.318359375,18813.455078125,18290.314453125,18415.591796875,18617.552734375,18861.974609375,18696.46875,18721.28515625,18915.66796875,18553.296875,18924.353515625,19265.662109375,19231.08203125,18970.62109375,19025.2265625,19523.83984375,19801.80078125,19900.087890625,19395.79296875,19299.4140625,19349.259765625,19102.978515625,18925.603515625,19029.7578125,18319.822265625,19115.408203125,19019.25,19068.9140625,19173.333984375,19144.76953125,19127.6875,18971.458984375,18770.970703125,19132.244140625,19124.197265625,19206.32421875,19261.447265625,20076.1171875,20255.373046875,20086.068359375,20566.484375,20547.462890625,20287.458984375,20359.845703125,20087.134765625,20086.240234375,20188.01953125,21097.634765625,20920.19140625,20489.97265625,17603.544921875,15682.6923828125,15834.0185546875,16543.482421875,16651.775390625,16320.634765625,15872.94140625,16542.55078125,16430.111328125,16460.68359375,16564.611328125,16570.41015625,16248.6923828125,15599.046875,15656.6064453125,16170.5029296875,16501.767578125,16388.404296875,16416.228515625,16437.025390625,16054.5302734375,16139.396484375,16445.4765625,16888.388671875,16877.880859375,16888.140625,16903.439453125,16922.431640625,16939.921875,16750.55859375,16788.783203125,17100.8359375,17120.68359375,17091.8203125,16899.39453125,17111.763671875,17739.513671875,17322.58984375,16584.701171875,16614.029296875,16697.8203125,16398.13671875,16427.8671875,16755.912109375,16592.408203125,16794.458984375,16793.52734375,16755.25390625,16812.369140625,16642.072265625,16497.556640625,16508.68359375,16408.474609375,16517.51953125,16521.234375,16572.228515625,16622.37109375,16667.763671875,16790.283203125,16716.421875,16914.19140625,16924.05078125,17093.9921875,17162.990234375,17337.994140625,17995.203125,18753.1640625,19907.828125,20606.986328125,20715.74609375,20978.533203125,20541.544921875,20685.380859375,20919.126953125,22511.833984375,22387.900390625,22654.3046875,22549.744140625,22406.076171875,22911.373046875,22654.59375,22908.845703125,22985.0703125,22657.58203125,22765.568359375,22877.75,23468.595703125,23279.955078125,23291.794921875,22841.759765625,22692.025390625,22756.2578125,22731.09765625,21773.974609375,21539.392578125,21618.44921875,21682.828125,21460.087890625,21632.39453125,22082.76953125,23602.5234375,23460.755859375,24468.373046875,24327.642578125,23927.91015625,24200.36328125,23644.318359375,23693.919921875,23007.072265625,22861.55859375,23084.220703125,23205.87890625,23077.650390625,23088.626953125,23245.021484375,22213.23828125,22198.98046875,22307.142578125,22331.314453125,22011.26171875,21708.05078125,20210.306640625,19628.25390625,20068.66015625,20448.806640625,21918.19921875,24081.18359375,23964.91015625,24225.111328125,24955.169921875,26636.26171875,26907.716796875,27242.880859375,27439.646484375,26759.99609375,27183.36328125,27039.265625,27196.234375,27445.046875,26606.689453125,26677.818359375,27259.662109375,27720.16015625,27583.71484375,28297.171875,27884.087890625,27276.720703125,27681.3046875,27843.763671875,27738.759765625,27794.03125,27883.38671875,27828.48046875,28189.271484375,29609.30078125,29725.57421875,29878.623046875,30044.498046875,30245.8828125,30157.83203125,29275.37109375,29154.849609375,28669.8984375,28037.2578125,27177.365234375,27169.5703125,27400.314453125,27070.849609375,27207.931640625,27324.548828125,28402.88671875,28929.609375,29088.04296875,29114.021484375,27680.79296875,27924.123046875,28178.388671875,28694.0390625,28845.509765625,28468.966796875,28441.3671875,27310.134765625,27375.6015625,26883.669921875,26781.826171875,25878.4296875,26710.873046875,26661.35546875,26766.09765625,26878.947265625,26600.14453125,26415.1015625,26700.2109375,26843.27734375,26706.921875,26549.734375,26816.1796875,26106.576171875,25890.59375,26343.94921875,26621.140625,26802.751953125,27563.876953125,27588.501953125,26866.453125,26671.720703125,26574.64453125,26958.00390625,26968.224609375,25445.16796875,25434.8671875,26146.98828125,26246.6640625,26339.314453125,25501.8359375,25668.986328125,25675.197265625,25728.365234375,24902.15234375,24797.16796875,25245.357421875,26174.4921875,26325.890625,26312.83203125,26668.791015625,28283.41015625,29679.158203125,29845.21484375,30290.146484375,30327.943359375,29955.744140625,30236.650390625,29921.822265625,30057.203125,29600.275390625,30328.865234375,30264.01953125,30586.513671875,30659.35546875,30225.61328125,29892.2265625,29777.28515625,30080.16015625,30085.591796875,29985.39453125,30358.09765625,30228.8359375,30268.3515625,29966.38671875,30263.462890625,30089.669921875,29685.783203125,29556.427734375,29794.26953125,29638.095703125,29733.8515625,29664.12109375,29741.52734375,28934.294921875,29062.43359375,29113.912109375,29099.3515625,29125.845703125,29264.166015625,29059.501953125,29131.578125,28657.0234375,28946.509765625,28959.48828125,28885.3359375,28957.796875,28963.833984375,28724.140625,29113.814453125,29376.80078125,29354.447265625,29253.517578125,29357.587890625,29265.806640625,29124.10546875,29088.853515625,28701.779296875,25409.111328125,25668.921875,25802.408203125,26004.314453125,25846.087890625,25520.728515625,25804.998046875,25914.92578125,25786.8125,25983.87890625,25965.09765625,25880.599609375,25912.62890625,27069.20703125,25752.9296875,25362.609375,25753.09375,25817.03125,25657.025390625,25589.98828125,25404.359375,25608.201171875,25677.48046875,25810.494140625,25640.26171875,24930.296875,25133.078125,25781.123046875,26171.451171875,26240.701171875,26473.890625,26445.07421875,26415.515625,26681.60546875,26864.08203125,26389.30078125,26495.533203125,26520.51953125,26221.05078125,26011.46875,26090.712890625,26111.46484375,26327.322265625,26721.763671875,26888.96875,26965.09375,27347.787109375,27216.001953125,27248.10546875,27375.6015625,27215.552734375,27870.423828125,27740.662109375,27302.5625,27301.654296875,26561.099609375,26558.3203125,26686.322265625,26814.5859375,26817.89453125,27130.47265625,28110.185546875,28174.251953125,28177.98828125,28601.669921875,29481.751953125,29720.3125,30097.828125,32880.76171875,33709.109375,33762.32421875,33416.88671875,33874.8046875,33947.56640625,34110.97265625,34083.30859375,34170.69140625,34401.57421875,34133.44140625,34616.69140625,34594.2421875,34765.36328125,34545.81640625,35147.80078125,35592.1015625,36362.75390625,36773.66796875,36779.1171875,36399.60546875,34948.5,35383.78125,35545.47265625,35901.234375,36233.3125,36414.59765625,36882.53125,35813.8125,35670.97265625,36923.86328125,37261.60546875,37617.41796875,37162.75,36750.12890625,36891.08984375,37612.6328125,37531.140625,37629.359375,38652.59375,39298.1640625,39978.62890625,41421.1484375,43478.08203125,42880.6484375,43125.296875,43627.59765625,43593.28515625,40234.578125,40667.5625,40676.8671875,41767.08984375,41692.96875,41723.11328125,41274.54296875,40530.2578125,41826.3359375,42223.81640625,43330.05078125,43441.96875,43351.35546875,42786.91796875,42765.76953125,41676.48828125,42167.58203125,42318.55078125,41424.0625,41556.2265625,41998.25390625,42214.9765625,44176.94921875,40813.53515625,42675.17578125,42784.71875,43475.15625,43662.23046875,43244.08203125,45244.71484375,44483.15234375,45678.64453125,41903.76953125,42464.14453125,41724.61328125,41705.41796875,42085.99609375,42189.30859375,40631.171875,40297.45703125,41446.82421875,41497.0078125,39450.1171875,38521.89453125,39508.796875,39545.6640625,39825.69140625,41431.28125,41696.91015625,41818.33203125,42711.37109375,42298.9453125,41879.19140625,42584.3359375,42890.80859375,42374.83203125,42264.81640625,42529.01953125,42775.95703125,44332.125,45260.82421875,46905.3203125,47617.40625,47745.76171875,48406.49609375,49296.83203125,51371.62890625,51641.3671875,50669.66796875,51233.70703125,51711.8203125,50792.3125,50671.7578125,50926.29296875,50561.77734375,50585.4453125,51306.171875,50931.03125],\"open\":[41744.02734375,40699.60546875,36471.58984375,35047.359375,36275.734375,36654.8046875,36950.515625,36841.87890625,37128.4453125,37780.71484375,38151.91796875,37920.28125,38481.765625,38743.71484375,36944.8046875,37149.265625,41501.48046875,41441.12109375,42406.78125,43854.65234375,44096.703125,44347.80078125,43571.12890625,42412.30078125,42236.56640625,42157.3984375,42586.46484375,44578.27734375,43937.0703125,40552.1328125,40026.0234375,40118.1015625,38423.2109375,37068.76953125,38285.28125,37278.56640625,38333.74609375,39213.08203125,39098.69921875,37706.0,43194.50390625,44357.6171875,43925.1953125,42458.140625,39148.44921875,39404.19921875,38429.3046875,38059.90234375,38742.81640625,41974.0703125,39439.96875,38794.46484375,38884.7265625,37846.31640625,39664.25,39335.5703125,41140.84375,40944.83984375,41794.6484375,42191.40625,41246.1328125,41074.10546875,42364.37890625,42886.65234375,43964.546875,44349.859375,44505.35546875,46821.8515625,47100.4375,47456.8984375,47062.1484375,45554.1640625,46285.5,45859.12890625,46445.2734375,46624.5078125,45544.35546875,43207.5,43505.13671875,42282.078125,42781.08984375,42201.0390625,39533.71484375,40123.5703125,41160.21875,39939.40234375,40552.31640625,40417.77734375,39721.203125,40828.17578125,41501.74609375,41371.515625,40525.86328125,39738.72265625,39478.375,39472.60546875,40448.421875,38120.30078125,39241.4296875,39768.6171875,38605.859375,37713.265625,38472.1875,38528.109375,37748.01171875,39695.74609375,36573.18359375,36042.50390625,35502.94140625,34060.015625,30273.654296875,31016.18359375,28936.734375,29030.91015625,29285.642578125,30098.5859375,31304.375,29862.408203125,30424.478515625,28720.359375,30311.119140625,29199.859375,29432.47265625,30309.396484375,29101.125,29653.134765625,29564.77734375,29251.140625,28622.625,29019.8671875,29443.365234375,31723.865234375,31792.5546875,29794.890625,30467.806640625,29706.138671875,29835.1171875,29910.283203125,31371.7421875,31151.48046875,30215.279296875,30110.330078125,29084.666015625,28373.513671875,26737.578125,22487.986328125,22196.73046875,22576.3046875,20385.71875,20473.42578125,19010.90234375,20553.37109375,20594.294921875,20719.4140625,19986.607421875,21084.6484375,21233.609375,21496.494140625,21028.23828125,20731.544921875,20281.169921875,20108.3125,19820.470703125,19274.8359375,19242.095703125,19297.314453125,20225.353515625,20194.619140625,20547.814453125,21637.154296875,21716.828125,21591.080078125,20856.353515625,19970.474609375,19325.97265625,20211.466796875,20573.15625,20834.103515625,21195.041015625,20781.912109375,22467.849609375,23393.19140625,23233.201171875,23163.751953125,22706.984375,22465.509765625,22607.15625,21361.12109375,21244.169921875,22933.640625,23845.212890625,23796.818359375,23652.0703125,23336.71875,23308.43359375,22981.302734375,22848.21484375,22626.833984375,23291.423828125,22963.505859375,23179.52734375,23811.484375,23162.8984375,23948.345703125,23957.203125,24402.1875,24429.056640625,24318.31640625,24126.13671875,23881.31640625,23341.0390625,23213.3125,20872.841796875,21160.392578125,21531.462890625,21401.044921875,21526.455078125,21395.458984375,21596.0859375,20262.48046875,20041.03515625,19615.154296875,20298.611328125,19799.58203125,20050.498046875,20126.072265625,19969.71875,19832.470703125,19988.7890625,19817.724609375,18837.68359375,19289.94140625,19328.140625,21376.912109375,21678.54296875,21770.1484375,22371.48046875,20184.5546875,20242.2890625,19704.005859375,19777.033203125,20127.234375,19418.572265625,19545.591796875,18891.283203125,18534.650390625,19412.400390625,19296.990234375,18936.310546875,18803.900390625,19221.83984375,19104.62109375,19427.779296875,19573.431640625,19431.10546875,19311.849609375,19044.068359375,19623.583984375,20335.900390625,20161.0390625,19957.55859375,19546.328125,19417.478515625,19446.416015625,19139.0,19052.646484375,19156.966796875,19382.533203125,19185.4375,19068.9140625,19268.5625,19550.466796875,19335.02734375,19138.0859375,19053.203125,19172.380859375,19207.734375,19567.76953125,19344.96484375,20092.236328125,20772.802734375,20287.95703125,20595.103515625,20817.982421875,20633.6953125,20494.8984375,20482.958984375,20162.689453125,20208.76953125,21144.83203125,21285.056640625,20924.62109375,20600.671875,18543.76171875,15883.158203125,17583.251953125,17036.875,16799.72265625,16352.0283203125,16617.484375,16884.341796875,16670.42578125,16687.912109375,16696.220703125,16712.919921875,16291.2236328125,15782.30078125,16195.5888671875,16611.63671875,16602.26953125,16521.576171875,16463.8828125,16440.22265625,16217.6396484375,16445.4765625,17168.001953125,16968.68359375,17090.09765625,16908.169921875,17128.89453125,16975.23828125,17089.505859375,16847.349609375,17232.1484375,17134.220703125,17129.7109375,17102.5,17206.44140625,17782.06640625,17813.64453125,17364.546875,16646.982421875,16795.609375,16759.041015625,16441.787109375,16904.52734375,16818.380859375,16829.64453125,16796.9765625,16847.505859375,16842.25,16919.291015625,16716.400390625,16552.322265625,16641.330078125,16603.673828125,16547.9140625,16625.509765625,16688.84765625,16680.205078125,16863.47265625,16836.47265625,16952.1171875,16954.146484375,17093.9921875,17192.94921875,17446.359375,18117.59375,18868.90625,19910.537109375,20977.484375,20882.224609375,21175.833984375,21161.05078125,20686.74609375,21085.373046875,22677.427734375,22777.986328125,22721.087890625,22929.626953125,22639.267578125,23108.955078125,23030.716796875,23079.96484375,23031.44921875,23774.6484375,22840.796875,23137.8359375,23720.82421875,23469.412109375,23446.3203125,23332.248046875,22954.021484375,22757.267578125,23263.416015625,22946.56640625,21819.005859375,21651.841796875,21870.90234375,21787.0,21801.822265625,22220.5859375,24307.349609375,23621.283203125,24565.296875,24640.02734375,24336.623046875,24833.048828125,24437.41796875,24190.71875,23946.0078125,23200.125,23174.150390625,23561.451171875,23521.837890625,23150.9296875,23647.01953125,23476.6328125,22362.923828125,22354.14453125,22436.81640625,22428.322265625,22216.44140625,21720.080078125,20367.001953125,20187.876953125,20628.029296875,22156.40625,24201.765625,24770.92578125,24373.45703125,25055.123046875,27448.1171875,26969.50390625,28041.6015625,27768.392578125,28158.720703125,27301.95703125,28324.111328125,27487.337890625,27495.5234375,27994.068359375,27132.888671875,27267.03125,28350.140625,28032.26171875,28473.33203125,28462.845703125,28183.080078125,27795.2734375,28169.7265625,28175.2265625,28038.966796875,27920.513671875,27952.3671875,28336.02734375,29653.6796875,30231.58203125,29892.740234375,30409.5625,30490.75,30315.9765625,30317.146484375,29449.091796875,30394.1875,28823.68359375,28249.23046875,27265.89453125,27816.14453125,27591.73046875,27514.873046875,28300.05859375,28428.46484375,29481.013671875,29336.56640625,29245.515625,29227.103515625,28087.17578125,28680.494140625,29031.3046875,28851.48046875,29538.859375,28901.623046875,28450.45703125,27695.068359375,27654.63671875,27621.0859375,26987.662109375,26807.76953125,26788.974609375,26931.384765625,27171.513671875,27035.470703125,27401.650390625,26826.75390625,26888.841796875,27118.423828125,26749.892578125,26855.9609375,27224.603515625,26329.4609375,26474.181640625,26720.181640625,26871.158203125,28075.591796875,27745.123046875,27700.529296875,27218.412109375,26824.556640625,27252.32421875,27075.123046875,27123.109375,25732.109375,27235.650390625,26347.654296875,26505.923828125,26481.76171875,25854.03125,25934.28515625,25902.94140625,25920.2578125,25121.673828125,25575.283203125,26328.6796875,26510.45703125,26335.44140625,26841.6640625,28311.310546875,29995.935546875,29896.3828125,30708.73828125,30545.150390625,30480.5234375,30274.3203125,30696.560546875,30086.1875,30441.353515625,30471.84765625,30587.26953125,30624.515625,31156.865234375,30778.724609375,30507.150390625,29907.998046875,30346.921875,30291.611328125,30172.423828125,30417.6328125,30622.24609375,30387.48828125,31474.720703125,30331.783203125,30297.47265625,30249.626953125,30147.0703125,29862.046875,29915.25,29805.111328125,29908.697265625,29790.111328125,30081.662109375,29178.970703125,29225.759765625,29353.798828125,29212.1640625,29319.4453125,29357.09375,29278.314453125,29230.873046875,29704.146484375,29161.8125,29174.3828125,29075.388671875,29043.701171875,29038.513671875,29180.01953125,29766.6953125,29563.97265625,29424.90234375,29399.787109375,29416.59375,29283.263671875,29408.048828125,29169.07421875,28699.802734375,26636.078125,26047.83203125,26096.861328125,26188.69140625,26130.748046875,26040.474609375,26431.51953125,26163.6796875,26047.234375,26008.2421875,26089.615234375,26102.486328125,27726.083984375,27301.9296875,25934.021484375,25800.91015625,25869.47265625,25968.169921875,25814.95703125,25783.931640625,25748.3125,26245.208984375,25905.42578125,25895.2109375,25831.71484375,25160.658203125,25837.5546875,26228.27734375,26533.818359375,26606.19921875,26567.927734375,26532.994140625,26760.8515625,27210.228515625,27129.83984375,26564.056640625,26578.556640625,26579.373046875,26253.775390625,26294.7578125,26209.498046875,26355.8125,27024.841796875,26911.689453125,26967.396484375,27976.798828125,27508.251953125,27429.07421875,27798.646484375,27412.123046875,27946.78125,27971.677734375,27934.47265625,27589.201171875,27392.076171875,26873.29296875,26752.87890625,26866.203125,26858.01171875,27162.62890625,28522.09765625,28413.53125,28332.416015625,28732.8125,29683.380859375,29918.654296875,30140.685546875,33077.3046875,33916.04296875,34504.2890625,34156.5,33907.72265625,34089.37109375,34531.7421875,34500.078125,34657.2734375,35441.578125,34942.47265625,34736.32421875,35090.01171875,35044.7890625,35047.79296875,35419.4765625,35633.6328125,36702.25,37310.0703125,37133.9921875,37070.3046875,36491.7890625,35548.11328125,37879.98046875,36164.82421875,36625.37109375,36585.765625,37374.07421875,37469.16015625,35756.5546875,37420.43359375,37296.31640625,37721.4140625,37796.828125,37454.19140625,37247.9921875,37826.10546875,37861.1171875,37718.0078125,38689.27734375,39472.20703125,39978.62890625,41986.265625,44080.0234375,43769.1328125,43293.13671875,44180.01953125,43728.3828125,43792.01953125,41238.734375,41468.46484375,42884.26171875,43028.25,41937.7421875,42236.109375,41348.203125,42641.51171875,42261.30078125,43648.125,43868.98828125,44012.19921875,43728.3671875,43010.57421875,43599.84765625,42518.46875,43468.19921875,42614.64453125,42091.75390625,42152.09765625,42280.234375,44187.140625,44961.6015625,42855.81640625,44192.98046875,44178.953125,43998.46484375,43948.70703125,46987.640625,46121.5390625,46656.07421875,46354.79296875,42799.4453125,42842.26171875,41715.06640625,42499.3359375,43132.1015625,42742.3125,41278.4609375,41624.58984375,41671.48828125,41553.65234375,39518.71484375,39877.59375,40075.55078125,39936.81640625,41815.625,42126.125,42030.9140625,43300.2265625,42946.25,42569.76171875,43077.640625,43184.96484375,42994.94140625,42577.62109375,42657.390625,43090.01953125,44332.125,45297.3828125,47153.52734375,47768.96875,48296.38671875,49941.359375,49733.4453125,51836.78515625,51937.7265625,52161.67578125,51661.96875,52134.8125,51777.7265625,52273.53515625,51854.64453125,51283.90625,50736.37109375,51565.21484375,51730.5390625],\"x\":[\"2022-01-20T00:00:00\",\"2022-01-21T00:00:00\",\"2022-01-22T00:00:00\",\"2022-01-23T00:00:00\",\"2022-01-24T00:00:00\",\"2022-01-25T00:00:00\",\"2022-01-26T00:00:00\",\"2022-01-27T00:00:00\",\"2022-01-28T00:00:00\",\"2022-01-29T00:00:00\",\"2022-01-30T00:00:00\",\"2022-01-31T00:00:00\",\"2022-02-01T00:00:00\",\"2022-02-02T00:00:00\",\"2022-02-03T00:00:00\",\"2022-02-04T00:00:00\",\"2022-02-05T00:00:00\",\"2022-02-06T00:00:00\",\"2022-02-07T00:00:00\",\"2022-02-08T00:00:00\",\"2022-02-09T00:00:00\",\"2022-02-10T00:00:00\",\"2022-02-11T00:00:00\",\"2022-02-12T00:00:00\",\"2022-02-13T00:00:00\",\"2022-02-14T00:00:00\",\"2022-02-15T00:00:00\",\"2022-02-16T00:00:00\",\"2022-02-17T00:00:00\",\"2022-02-18T00:00:00\",\"2022-02-19T00:00:00\",\"2022-02-20T00:00:00\",\"2022-02-21T00:00:00\",\"2022-02-22T00:00:00\",\"2022-02-23T00:00:00\",\"2022-02-24T00:00:00\",\"2022-02-25T00:00:00\",\"2022-02-26T00:00:00\",\"2022-02-27T00:00:00\",\"2022-02-28T00:00:00\",\"2022-03-01T00:00:00\",\"2022-03-02T00:00:00\",\"2022-03-03T00:00:00\",\"2022-03-04T00:00:00\",\"2022-03-05T00:00:00\",\"2022-03-06T00:00:00\",\"2022-03-07T00:00:00\",\"2022-03-08T00:00:00\",\"2022-03-09T00:00:00\",\"2022-03-10T00:00:00\",\"2022-03-11T00:00:00\",\"2022-03-12T00:00:00\",\"2022-03-13T00:00:00\",\"2022-03-14T00:00:00\",\"2022-03-15T00:00:00\",\"2022-03-16T00:00:00\",\"2022-03-17T00:00:00\",\"2022-03-18T00:00:00\",\"2022-03-19T00:00:00\",\"2022-03-20T00:00:00\",\"2022-03-21T00:00:00\",\"2022-03-22T00:00:00\",\"2022-03-23T00:00:00\",\"2022-03-24T00:00:00\",\"2022-03-25T00:00:00\",\"2022-03-26T00:00:00\",\"2022-03-27T00:00:00\",\"2022-03-28T00:00:00\",\"2022-03-29T00:00:00\",\"2022-03-30T00:00:00\",\"2022-03-31T00:00:00\",\"2022-04-01T00:00:00\",\"2022-04-02T00:00:00\",\"2022-04-03T00:00:00\",\"2022-04-04T00:00:00\",\"2022-04-05T00:00:00\",\"2022-04-06T00:00:00\",\"2022-04-07T00:00:00\",\"2022-04-08T00:00:00\",\"2022-04-09T00:00:00\",\"2022-04-10T00:00:00\",\"2022-04-11T00:00:00\",\"2022-04-12T00:00:00\",\"2022-04-13T00:00:00\",\"2022-04-14T00:00:00\",\"2022-04-15T00:00:00\",\"2022-04-16T00:00:00\",\"2022-04-17T00:00:00\",\"2022-04-18T00:00:00\",\"2022-04-19T00:00:00\",\"2022-04-20T00:00:00\",\"2022-04-21T00:00:00\",\"2022-04-22T00:00:00\",\"2022-04-23T00:00:00\",\"2022-04-24T00:00:00\",\"2022-04-25T00:00:00\",\"2022-04-26T00:00:00\",\"2022-04-27T00:00:00\",\"2022-04-28T00:00:00\",\"2022-04-29T00:00:00\",\"2022-04-30T00:00:00\",\"2022-05-01T00:00:00\",\"2022-05-02T00:00:00\",\"2022-05-03T00:00:00\",\"2022-05-04T00:00:00\",\"2022-05-05T00:00:00\",\"2022-05-06T00:00:00\",\"2022-05-07T00:00:00\",\"2022-05-08T00:00:00\",\"2022-05-09T00:00:00\",\"2022-05-10T00:00:00\",\"2022-05-11T00:00:00\",\"2022-05-12T00:00:00\",\"2022-05-13T00:00:00\",\"2022-05-14T00:00:00\",\"2022-05-15T00:00:00\",\"2022-05-16T00:00:00\",\"2022-05-17T00:00:00\",\"2022-05-18T00:00:00\",\"2022-05-19T00:00:00\",\"2022-05-20T00:00:00\",\"2022-05-21T00:00:00\",\"2022-05-22T00:00:00\",\"2022-05-23T00:00:00\",\"2022-05-24T00:00:00\",\"2022-05-25T00:00:00\",\"2022-05-26T00:00:00\",\"2022-05-27T00:00:00\",\"2022-05-28T00:00:00\",\"2022-05-29T00:00:00\",\"2022-05-30T00:00:00\",\"2022-05-31T00:00:00\",\"2022-06-01T00:00:00\",\"2022-06-02T00:00:00\",\"2022-06-03T00:00:00\",\"2022-06-04T00:00:00\",\"2022-06-05T00:00:00\",\"2022-06-06T00:00:00\",\"2022-06-07T00:00:00\",\"2022-06-08T00:00:00\",\"2022-06-09T00:00:00\",\"2022-06-10T00:00:00\",\"2022-06-11T00:00:00\",\"2022-06-12T00:00:00\",\"2022-06-13T00:00:00\",\"2022-06-14T00:00:00\",\"2022-06-15T00:00:00\",\"2022-06-16T00:00:00\",\"2022-06-17T00:00:00\",\"2022-06-18T00:00:00\",\"2022-06-19T00:00:00\",\"2022-06-20T00:00:00\",\"2022-06-21T00:00:00\",\"2022-06-22T00:00:00\",\"2022-06-23T00:00:00\",\"2022-06-24T00:00:00\",\"2022-06-25T00:00:00\",\"2022-06-26T00:00:00\",\"2022-06-27T00:00:00\",\"2022-06-28T00:00:00\",\"2022-06-29T00:00:00\",\"2022-06-30T00:00:00\",\"2022-07-01T00:00:00\",\"2022-07-02T00:00:00\",\"2022-07-03T00:00:00\",\"2022-07-04T00:00:00\",\"2022-07-05T00:00:00\",\"2022-07-06T00:00:00\",\"2022-07-07T00:00:00\",\"2022-07-08T00:00:00\",\"2022-07-09T00:00:00\",\"2022-07-10T00:00:00\",\"2022-07-11T00:00:00\",\"2022-07-12T00:00:00\",\"2022-07-13T00:00:00\",\"2022-07-14T00:00:00\",\"2022-07-15T00:00:00\",\"2022-07-16T00:00:00\",\"2022-07-17T00:00:00\",\"2022-07-18T00:00:00\",\"2022-07-19T00:00:00\",\"2022-07-20T00:00:00\",\"2022-07-21T00:00:00\",\"2022-07-22T00:00:00\",\"2022-07-23T00:00:00\",\"2022-07-24T00:00:00\",\"2022-07-25T00:00:00\",\"2022-07-26T00:00:00\",\"2022-07-27T00:00:00\",\"2022-07-28T00:00:00\",\"2022-07-29T00:00:00\",\"2022-07-30T00:00:00\",\"2022-07-31T00:00:00\",\"2022-08-01T00:00:00\",\"2022-08-02T00:00:00\",\"2022-08-03T00:00:00\",\"2022-08-04T00:00:00\",\"2022-08-05T00:00:00\",\"2022-08-06T00:00:00\",\"2022-08-07T00:00:00\",\"2022-08-08T00:00:00\",\"2022-08-09T00:00:00\",\"2022-08-10T00:00:00\",\"2022-08-11T00:00:00\",\"2022-08-12T00:00:00\",\"2022-08-13T00:00:00\",\"2022-08-14T00:00:00\",\"2022-08-15T00:00:00\",\"2022-08-16T00:00:00\",\"2022-08-17T00:00:00\",\"2022-08-18T00:00:00\",\"2022-08-19T00:00:00\",\"2022-08-20T00:00:00\",\"2022-08-21T00:00:00\",\"2022-08-22T00:00:00\",\"2022-08-23T00:00:00\",\"2022-08-24T00:00:00\",\"2022-08-25T00:00:00\",\"2022-08-26T00:00:00\",\"2022-08-27T00:00:00\",\"2022-08-28T00:00:00\",\"2022-08-29T00:00:00\",\"2022-08-30T00:00:00\",\"2022-08-31T00:00:00\",\"2022-09-01T00:00:00\",\"2022-09-02T00:00:00\",\"2022-09-03T00:00:00\",\"2022-09-04T00:00:00\",\"2022-09-05T00:00:00\",\"2022-09-06T00:00:00\",\"2022-09-07T00:00:00\",\"2022-09-08T00:00:00\",\"2022-09-09T00:00:00\",\"2022-09-10T00:00:00\",\"2022-09-11T00:00:00\",\"2022-09-12T00:00:00\",\"2022-09-13T00:00:00\",\"2022-09-14T00:00:00\",\"2022-09-15T00:00:00\",\"2022-09-16T00:00:00\",\"2022-09-17T00:00:00\",\"2022-09-18T00:00:00\",\"2022-09-19T00:00:00\",\"2022-09-20T00:00:00\",\"2022-09-21T00:00:00\",\"2022-09-22T00:00:00\",\"2022-09-23T00:00:00\",\"2022-09-24T00:00:00\",\"2022-09-25T00:00:00\",\"2022-09-26T00:00:00\",\"2022-09-27T00:00:00\",\"2022-09-28T00:00:00\",\"2022-09-29T00:00:00\",\"2022-09-30T00:00:00\",\"2022-10-01T00:00:00\",\"2022-10-02T00:00:00\",\"2022-10-03T00:00:00\",\"2022-10-04T00:00:00\",\"2022-10-05T00:00:00\",\"2022-10-06T00:00:00\",\"2022-10-07T00:00:00\",\"2022-10-08T00:00:00\",\"2022-10-09T00:00:00\",\"2022-10-10T00:00:00\",\"2022-10-11T00:00:00\",\"2022-10-12T00:00:00\",\"2022-10-13T00:00:00\",\"2022-10-14T00:00:00\",\"2022-10-15T00:00:00\",\"2022-10-16T00:00:00\",\"2022-10-17T00:00:00\",\"2022-10-18T00:00:00\",\"2022-10-19T00:00:00\",\"2022-10-20T00:00:00\",\"2022-10-21T00:00:00\",\"2022-10-22T00:00:00\",\"2022-10-23T00:00:00\",\"2022-10-24T00:00:00\",\"2022-10-25T00:00:00\",\"2022-10-26T00:00:00\",\"2022-10-27T00:00:00\",\"2022-10-28T00:00:00\",\"2022-10-29T00:00:00\",\"2022-10-30T00:00:00\",\"2022-10-31T00:00:00\",\"2022-11-01T00:00:00\",\"2022-11-02T00:00:00\",\"2022-11-03T00:00:00\",\"2022-11-04T00:00:00\",\"2022-11-05T00:00:00\",\"2022-11-06T00:00:00\",\"2022-11-07T00:00:00\",\"2022-11-08T00:00:00\",\"2022-11-09T00:00:00\",\"2022-11-10T00:00:00\",\"2022-11-11T00:00:00\",\"2022-11-12T00:00:00\",\"2022-11-13T00:00:00\",\"2022-11-14T00:00:00\",\"2022-11-15T00:00:00\",\"2022-11-16T00:00:00\",\"2022-11-17T00:00:00\",\"2022-11-18T00:00:00\",\"2022-11-19T00:00:00\",\"2022-11-20T00:00:00\",\"2022-11-21T00:00:00\",\"2022-11-22T00:00:00\",\"2022-11-23T00:00:00\",\"2022-11-24T00:00:00\",\"2022-11-25T00:00:00\",\"2022-11-26T00:00:00\",\"2022-11-27T00:00:00\",\"2022-11-28T00:00:00\",\"2022-11-29T00:00:00\",\"2022-11-30T00:00:00\",\"2022-12-01T00:00:00\",\"2022-12-02T00:00:00\",\"2022-12-03T00:00:00\",\"2022-12-04T00:00:00\",\"2022-12-05T00:00:00\",\"2022-12-06T00:00:00\",\"2022-12-07T00:00:00\",\"2022-12-08T00:00:00\",\"2022-12-09T00:00:00\",\"2022-12-10T00:00:00\",\"2022-12-11T00:00:00\",\"2022-12-12T00:00:00\",\"2022-12-13T00:00:00\",\"2022-12-14T00:00:00\",\"2022-12-15T00:00:00\",\"2022-12-16T00:00:00\",\"2022-12-17T00:00:00\",\"2022-12-18T00:00:00\",\"2022-12-19T00:00:00\",\"2022-12-20T00:00:00\",\"2022-12-21T00:00:00\",\"2022-12-22T00:00:00\",\"2022-12-23T00:00:00\",\"2022-12-24T00:00:00\",\"2022-12-25T00:00:00\",\"2022-12-26T00:00:00\",\"2022-12-27T00:00:00\",\"2022-12-28T00:00:00\",\"2022-12-29T00:00:00\",\"2022-12-30T00:00:00\",\"2022-12-31T00:00:00\",\"2023-01-01T00:00:00\",\"2023-01-02T00:00:00\",\"2023-01-03T00:00:00\",\"2023-01-04T00:00:00\",\"2023-01-05T00:00:00\",\"2023-01-06T00:00:00\",\"2023-01-07T00:00:00\",\"2023-01-08T00:00:00\",\"2023-01-09T00:00:00\",\"2023-01-10T00:00:00\",\"2023-01-11T00:00:00\",\"2023-01-12T00:00:00\",\"2023-01-13T00:00:00\",\"2023-01-14T00:00:00\",\"2023-01-15T00:00:00\",\"2023-01-16T00:00:00\",\"2023-01-17T00:00:00\",\"2023-01-18T00:00:00\",\"2023-01-19T00:00:00\",\"2023-01-20T00:00:00\",\"2023-01-21T00:00:00\",\"2023-01-22T00:00:00\",\"2023-01-23T00:00:00\",\"2023-01-24T00:00:00\",\"2023-01-25T00:00:00\",\"2023-01-26T00:00:00\",\"2023-01-27T00:00:00\",\"2023-01-28T00:00:00\",\"2023-01-29T00:00:00\",\"2023-01-30T00:00:00\",\"2023-01-31T00:00:00\",\"2023-02-01T00:00:00\",\"2023-02-02T00:00:00\",\"2023-02-03T00:00:00\",\"2023-02-04T00:00:00\",\"2023-02-05T00:00:00\",\"2023-02-06T00:00:00\",\"2023-02-07T00:00:00\",\"2023-02-08T00:00:00\",\"2023-02-09T00:00:00\",\"2023-02-10T00:00:00\",\"2023-02-11T00:00:00\",\"2023-02-12T00:00:00\",\"2023-02-13T00:00:00\",\"2023-02-14T00:00:00\",\"2023-02-15T00:00:00\",\"2023-02-16T00:00:00\",\"2023-02-17T00:00:00\",\"2023-02-18T00:00:00\",\"2023-02-19T00:00:00\",\"2023-02-20T00:00:00\",\"2023-02-21T00:00:00\",\"2023-02-22T00:00:00\",\"2023-02-23T00:00:00\",\"2023-02-24T00:00:00\",\"2023-02-25T00:00:00\",\"2023-02-26T00:00:00\",\"2023-02-27T00:00:00\",\"2023-02-28T00:00:00\",\"2023-03-01T00:00:00\",\"2023-03-02T00:00:00\",\"2023-03-03T00:00:00\",\"2023-03-04T00:00:00\",\"2023-03-05T00:00:00\",\"2023-03-06T00:00:00\",\"2023-03-07T00:00:00\",\"2023-03-08T00:00:00\",\"2023-03-09T00:00:00\",\"2023-03-10T00:00:00\",\"2023-03-11T00:00:00\",\"2023-03-12T00:00:00\",\"2023-03-13T00:00:00\",\"2023-03-14T00:00:00\",\"2023-03-15T00:00:00\",\"2023-03-16T00:00:00\",\"2023-03-17T00:00:00\",\"2023-03-18T00:00:00\",\"2023-03-19T00:00:00\",\"2023-03-20T00:00:00\",\"2023-03-21T00:00:00\",\"2023-03-22T00:00:00\",\"2023-03-23T00:00:00\",\"2023-03-24T00:00:00\",\"2023-03-25T00:00:00\",\"2023-03-26T00:00:00\",\"2023-03-27T00:00:00\",\"2023-03-28T00:00:00\",\"2023-03-29T00:00:00\",\"2023-03-30T00:00:00\",\"2023-03-31T00:00:00\",\"2023-04-01T00:00:00\",\"2023-04-02T00:00:00\",\"2023-04-03T00:00:00\",\"2023-04-04T00:00:00\",\"2023-04-05T00:00:00\",\"2023-04-06T00:00:00\",\"2023-04-07T00:00:00\",\"2023-04-08T00:00:00\",\"2023-04-09T00:00:00\",\"2023-04-10T00:00:00\",\"2023-04-11T00:00:00\",\"2023-04-12T00:00:00\",\"2023-04-13T00:00:00\",\"2023-04-14T00:00:00\",\"2023-04-15T00:00:00\",\"2023-04-16T00:00:00\",\"2023-04-17T00:00:00\",\"2023-04-18T00:00:00\",\"2023-04-19T00:00:00\",\"2023-04-20T00:00:00\",\"2023-04-21T00:00:00\",\"2023-04-22T00:00:00\",\"2023-04-23T00:00:00\",\"2023-04-24T00:00:00\",\"2023-04-25T00:00:00\",\"2023-04-26T00:00:00\",\"2023-04-27T00:00:00\",\"2023-04-28T00:00:00\",\"2023-04-29T00:00:00\",\"2023-04-30T00:00:00\",\"2023-05-01T00:00:00\",\"2023-05-02T00:00:00\",\"2023-05-03T00:00:00\",\"2023-05-04T00:00:00\",\"2023-05-05T00:00:00\",\"2023-05-06T00:00:00\",\"2023-05-07T00:00:00\",\"2023-05-08T00:00:00\",\"2023-05-09T00:00:00\",\"2023-05-10T00:00:00\",\"2023-05-11T00:00:00\",\"2023-05-12T00:00:00\",\"2023-05-13T00:00:00\",\"2023-05-14T00:00:00\",\"2023-05-15T00:00:00\",\"2023-05-16T00:00:00\",\"2023-05-17T00:00:00\",\"2023-05-18T00:00:00\",\"2023-05-19T00:00:00\",\"2023-05-20T00:00:00\",\"2023-05-21T00:00:00\",\"2023-05-22T00:00:00\",\"2023-05-23T00:00:00\",\"2023-05-24T00:00:00\",\"2023-05-25T00:00:00\",\"2023-05-26T00:00:00\",\"2023-05-27T00:00:00\",\"2023-05-28T00:00:00\",\"2023-05-29T00:00:00\",\"2023-05-30T00:00:00\",\"2023-05-31T00:00:00\",\"2023-06-01T00:00:00\",\"2023-06-02T00:00:00\",\"2023-06-03T00:00:00\",\"2023-06-04T00:00:00\",\"2023-06-05T00:00:00\",\"2023-06-06T00:00:00\",\"2023-06-07T00:00:00\",\"2023-06-08T00:00:00\",\"2023-06-09T00:00:00\",\"2023-06-10T00:00:00\",\"2023-06-11T00:00:00\",\"2023-06-12T00:00:00\",\"2023-06-13T00:00:00\",\"2023-06-14T00:00:00\",\"2023-06-15T00:00:00\",\"2023-06-16T00:00:00\",\"2023-06-17T00:00:00\",\"2023-06-18T00:00:00\",\"2023-06-19T00:00:00\",\"2023-06-20T00:00:00\",\"2023-06-21T00:00:00\",\"2023-06-22T00:00:00\",\"2023-06-23T00:00:00\",\"2023-06-24T00:00:00\",\"2023-06-25T00:00:00\",\"2023-06-26T00:00:00\",\"2023-06-27T00:00:00\",\"2023-06-28T00:00:00\",\"2023-06-29T00:00:00\",\"2023-06-30T00:00:00\",\"2023-07-01T00:00:00\",\"2023-07-02T00:00:00\",\"2023-07-03T00:00:00\",\"2023-07-04T00:00:00\",\"2023-07-05T00:00:00\",\"2023-07-06T00:00:00\",\"2023-07-07T00:00:00\",\"2023-07-08T00:00:00\",\"2023-07-09T00:00:00\",\"2023-07-10T00:00:00\",\"2023-07-11T00:00:00\",\"2023-07-12T00:00:00\",\"2023-07-13T00:00:00\",\"2023-07-14T00:00:00\",\"2023-07-15T00:00:00\",\"2023-07-16T00:00:00\",\"2023-07-17T00:00:00\",\"2023-07-18T00:00:00\",\"2023-07-19T00:00:00\",\"2023-07-20T00:00:00\",\"2023-07-21T00:00:00\",\"2023-07-22T00:00:00\",\"2023-07-23T00:00:00\",\"2023-07-24T00:00:00\",\"2023-07-25T00:00:00\",\"2023-07-26T00:00:00\",\"2023-07-27T00:00:00\",\"2023-07-28T00:00:00\",\"2023-07-29T00:00:00\",\"2023-07-30T00:00:00\",\"2023-07-31T00:00:00\",\"2023-08-01T00:00:00\",\"2023-08-02T00:00:00\",\"2023-08-03T00:00:00\",\"2023-08-04T00:00:00\",\"2023-08-05T00:00:00\",\"2023-08-06T00:00:00\",\"2023-08-07T00:00:00\",\"2023-08-08T00:00:00\",\"2023-08-09T00:00:00\",\"2023-08-10T00:00:00\",\"2023-08-11T00:00:00\",\"2023-08-12T00:00:00\",\"2023-08-13T00:00:00\",\"2023-08-14T00:00:00\",\"2023-08-15T00:00:00\",\"2023-08-16T00:00:00\",\"2023-08-17T00:00:00\",\"2023-08-18T00:00:00\",\"2023-08-19T00:00:00\",\"2023-08-20T00:00:00\",\"2023-08-21T00:00:00\",\"2023-08-22T00:00:00\",\"2023-08-23T00:00:00\",\"2023-08-24T00:00:00\",\"2023-08-25T00:00:00\",\"2023-08-26T00:00:00\",\"2023-08-27T00:00:00\",\"2023-08-28T00:00:00\",\"2023-08-29T00:00:00\",\"2023-08-30T00:00:00\",\"2023-08-31T00:00:00\",\"2023-09-01T00:00:00\",\"2023-09-02T00:00:00\",\"2023-09-03T00:00:00\",\"2023-09-04T00:00:00\",\"2023-09-05T00:00:00\",\"2023-09-06T00:00:00\",\"2023-09-07T00:00:00\",\"2023-09-08T00:00:00\",\"2023-09-09T00:00:00\",\"2023-09-10T00:00:00\",\"2023-09-11T00:00:00\",\"2023-09-12T00:00:00\",\"2023-09-13T00:00:00\",\"2023-09-14T00:00:00\",\"2023-09-15T00:00:00\",\"2023-09-16T00:00:00\",\"2023-09-17T00:00:00\",\"2023-09-18T00:00:00\",\"2023-09-19T00:00:00\",\"2023-09-20T00:00:00\",\"2023-09-21T00:00:00\",\"2023-09-22T00:00:00\",\"2023-09-23T00:00:00\",\"2023-09-24T00:00:00\",\"2023-09-25T00:00:00\",\"2023-09-26T00:00:00\",\"2023-09-27T00:00:00\",\"2023-09-28T00:00:00\",\"2023-09-29T00:00:00\",\"2023-09-30T00:00:00\",\"2023-10-01T00:00:00\",\"2023-10-02T00:00:00\",\"2023-10-03T00:00:00\",\"2023-10-04T00:00:00\",\"2023-10-05T00:00:00\",\"2023-10-06T00:00:00\",\"2023-10-07T00:00:00\",\"2023-10-08T00:00:00\",\"2023-10-09T00:00:00\",\"2023-10-10T00:00:00\",\"2023-10-11T00:00:00\",\"2023-10-12T00:00:00\",\"2023-10-13T00:00:00\",\"2023-10-14T00:00:00\",\"2023-10-15T00:00:00\",\"2023-10-16T00:00:00\",\"2023-10-17T00:00:00\",\"2023-10-18T00:00:00\",\"2023-10-19T00:00:00\",\"2023-10-20T00:00:00\",\"2023-10-21T00:00:00\",\"2023-10-22T00:00:00\",\"2023-10-23T00:00:00\",\"2023-10-24T00:00:00\",\"2023-10-25T00:00:00\",\"2023-10-26T00:00:00\",\"2023-10-27T00:00:00\",\"2023-10-28T00:00:00\",\"2023-10-29T00:00:00\",\"2023-10-30T00:00:00\",\"2023-10-31T00:00:00\",\"2023-11-01T00:00:00\",\"2023-11-02T00:00:00\",\"2023-11-03T00:00:00\",\"2023-11-04T00:00:00\",\"2023-11-05T00:00:00\",\"2023-11-06T00:00:00\",\"2023-11-07T00:00:00\",\"2023-11-08T00:00:00\",\"2023-11-09T00:00:00\",\"2023-11-10T00:00:00\",\"2023-11-11T00:00:00\",\"2023-11-12T00:00:00\",\"2023-11-13T00:00:00\",\"2023-11-14T00:00:00\",\"2023-11-15T00:00:00\",\"2023-11-16T00:00:00\",\"2023-11-17T00:00:00\",\"2023-11-18T00:00:00\",\"2023-11-19T00:00:00\",\"2023-11-20T00:00:00\",\"2023-11-21T00:00:00\",\"2023-11-22T00:00:00\",\"2023-11-23T00:00:00\",\"2023-11-24T00:00:00\",\"2023-11-25T00:00:00\",\"2023-11-26T00:00:00\",\"2023-11-27T00:00:00\",\"2023-11-28T00:00:00\",\"2023-11-29T00:00:00\",\"2023-11-30T00:00:00\",\"2023-12-01T00:00:00\",\"2023-12-02T00:00:00\",\"2023-12-03T00:00:00\",\"2023-12-04T00:00:00\",\"2023-12-05T00:00:00\",\"2023-12-06T00:00:00\",\"2023-12-07T00:00:00\",\"2023-12-08T00:00:00\",\"2023-12-09T00:00:00\",\"2023-12-10T00:00:00\",\"2023-12-11T00:00:00\",\"2023-12-12T00:00:00\",\"2023-12-13T00:00:00\",\"2023-12-14T00:00:00\",\"2023-12-15T00:00:00\",\"2023-12-16T00:00:00\",\"2023-12-17T00:00:00\",\"2023-12-18T00:00:00\",\"2023-12-19T00:00:00\",\"2023-12-20T00:00:00\",\"2023-12-21T00:00:00\",\"2023-12-22T00:00:00\",\"2023-12-23T00:00:00\",\"2023-12-24T00:00:00\",\"2023-12-25T00:00:00\",\"2023-12-26T00:00:00\",\"2023-12-27T00:00:00\",\"2023-12-28T00:00:00\",\"2023-12-29T00:00:00\",\"2023-12-30T00:00:00\",\"2023-12-31T00:00:00\",\"2024-01-01T00:00:00\",\"2024-01-02T00:00:00\",\"2024-01-03T00:00:00\",\"2024-01-04T00:00:00\",\"2024-01-05T00:00:00\",\"2024-01-06T00:00:00\",\"2024-01-07T00:00:00\",\"2024-01-08T00:00:00\",\"2024-01-09T00:00:00\",\"2024-01-10T00:00:00\",\"2024-01-11T00:00:00\",\"2024-01-12T00:00:00\",\"2024-01-13T00:00:00\",\"2024-01-14T00:00:00\",\"2024-01-15T00:00:00\",\"2024-01-16T00:00:00\",\"2024-01-17T00:00:00\",\"2024-01-18T00:00:00\",\"2024-01-19T00:00:00\",\"2024-01-20T00:00:00\",\"2024-01-21T00:00:00\",\"2024-01-22T00:00:00\",\"2024-01-23T00:00:00\",\"2024-01-24T00:00:00\",\"2024-01-25T00:00:00\",\"2024-01-26T00:00:00\",\"2024-01-27T00:00:00\",\"2024-01-28T00:00:00\",\"2024-01-29T00:00:00\",\"2024-01-30T00:00:00\",\"2024-01-31T00:00:00\",\"2024-02-01T00:00:00\",\"2024-02-02T00:00:00\",\"2024-02-03T00:00:00\",\"2024-02-04T00:00:00\",\"2024-02-05T00:00:00\",\"2024-02-06T00:00:00\",\"2024-02-07T00:00:00\",\"2024-02-08T00:00:00\",\"2024-02-09T00:00:00\",\"2024-02-10T00:00:00\",\"2024-02-11T00:00:00\",\"2024-02-12T00:00:00\",\"2024-02-13T00:00:00\",\"2024-02-14T00:00:00\",\"2024-02-15T00:00:00\",\"2024-02-16T00:00:00\",\"2024-02-17T00:00:00\",\"2024-02-18T00:00:00\",\"2024-02-19T00:00:00\",\"2024-02-20T00:00:00\",\"2024-02-21T00:00:00\",\"2024-02-22T00:00:00\",\"2024-02-23T00:00:00\",\"2024-02-24T00:00:00\",\"2024-02-25T00:00:00\",\"2024-02-26T00:00:00\"],\"type\":\"candlestick\"}],                        {\"template\":{\"data\":{\"histogram2dcontour\":[{\"type\":\"histogram2dcontour\",\"colorbar\":{\"outlinewidth\":0,\"ticks\":\"\"},\"colorscale\":[[0.0,\"#0d0887\"],[0.1111111111111111,\"#46039f\"],[0.2222222222222222,\"#7201a8\"],[0.3333333333333333,\"#9c179e\"],[0.4444444444444444,\"#bd3786\"],[0.5555555555555556,\"#d8576b\"],[0.6666666666666666,\"#ed7953\"],[0.7777777777777778,\"#fb9f3a\"],[0.8888888888888888,\"#fdca26\"],[1.0,\"#f0f921\"]]}],\"choropleth\":[{\"type\":\"choropleth\",\"colorbar\":{\"outlinewidth\":0,\"ticks\":\"\"}}],\"histogram2d\":[{\"type\":\"histogram2d\",\"colorbar\":{\"outlinewidth\":0,\"ticks\":\"\"},\"colorscale\":[[0.0,\"#0d0887\"],[0.1111111111111111,\"#46039f\"],[0.2222222222222222,\"#7201a8\"],[0.3333333333333333,\"#9c179e\"],[0.4444444444444444,\"#bd3786\"],[0.5555555555555556,\"#d8576b\"],[0.6666666666666666,\"#ed7953\"],[0.7777777777777778,\"#fb9f3a\"],[0.8888888888888888,\"#fdca26\"],[1.0,\"#f0f921\"]]}],\"heatmap\":[{\"type\":\"heatmap\",\"colorbar\":{\"outlinewidth\":0,\"ticks\":\"\"},\"colorscale\":[[0.0,\"#0d0887\"],[0.1111111111111111,\"#46039f\"],[0.2222222222222222,\"#7201a8\"],[0.3333333333333333,\"#9c179e\"],[0.4444444444444444,\"#bd3786\"],[0.5555555555555556,\"#d8576b\"],[0.6666666666666666,\"#ed7953\"],[0.7777777777777778,\"#fb9f3a\"],[0.8888888888888888,\"#fdca26\"],[1.0,\"#f0f921\"]]}],\"heatmapgl\":[{\"type\":\"heatmapgl\",\"colorbar\":{\"outlinewidth\":0,\"ticks\":\"\"},\"colorscale\":[[0.0,\"#0d0887\"],[0.1111111111111111,\"#46039f\"],[0.2222222222222222,\"#7201a8\"],[0.3333333333333333,\"#9c179e\"],[0.4444444444444444,\"#bd3786\"],[0.5555555555555556,\"#d8576b\"],[0.6666666666666666,\"#ed7953\"],[0.7777777777777778,\"#fb9f3a\"],[0.8888888888888888,\"#fdca26\"],[1.0,\"#f0f921\"]]}],\"contourcarpet\":[{\"type\":\"contourcarpet\",\"colorbar\":{\"outlinewidth\":0,\"ticks\":\"\"}}],\"contour\":[{\"type\":\"contour\",\"colorbar\":{\"outlinewidth\":0,\"ticks\":\"\"},\"colorscale\":[[0.0,\"#0d0887\"],[0.1111111111111111,\"#46039f\"],[0.2222222222222222,\"#7201a8\"],[0.3333333333333333,\"#9c179e\"],[0.4444444444444444,\"#bd3786\"],[0.5555555555555556,\"#d8576b\"],[0.6666666666666666,\"#ed7953\"],[0.7777777777777778,\"#fb9f3a\"],[0.8888888888888888,\"#fdca26\"],[1.0,\"#f0f921\"]]}],\"surface\":[{\"type\":\"surface\",\"colorbar\":{\"outlinewidth\":0,\"ticks\":\"\"},\"colorscale\":[[0.0,\"#0d0887\"],[0.1111111111111111,\"#46039f\"],[0.2222222222222222,\"#7201a8\"],[0.3333333333333333,\"#9c179e\"],[0.4444444444444444,\"#bd3786\"],[0.5555555555555556,\"#d8576b\"],[0.6666666666666666,\"#ed7953\"],[0.7777777777777778,\"#fb9f3a\"],[0.8888888888888888,\"#fdca26\"],[1.0,\"#f0f921\"]]}],\"mesh3d\":[{\"type\":\"mesh3d\",\"colorbar\":{\"outlinewidth\":0,\"ticks\":\"\"}}],\"scatter\":[{\"fillpattern\":{\"fillmode\":\"overlay\",\"size\":10,\"solidity\":0.2},\"type\":\"scatter\"}],\"parcoords\":[{\"type\":\"parcoords\",\"line\":{\"colorbar\":{\"outlinewidth\":0,\"ticks\":\"\"}}}],\"scatterpolargl\":[{\"type\":\"scatterpolargl\",\"marker\":{\"colorbar\":{\"outlinewidth\":0,\"ticks\":\"\"}}}],\"bar\":[{\"error_x\":{\"color\":\"#2a3f5f\"},\"error_y\":{\"color\":\"#2a3f5f\"},\"marker\":{\"line\":{\"color\":\"#E5ECF6\",\"width\":0.5},\"pattern\":{\"fillmode\":\"overlay\",\"size\":10,\"solidity\":0.2}},\"type\":\"bar\"}],\"scattergeo\":[{\"type\":\"scattergeo\",\"marker\":{\"colorbar\":{\"outlinewidth\":0,\"ticks\":\"\"}}}],\"scatterpolar\":[{\"type\":\"scatterpolar\",\"marker\":{\"colorbar\":{\"outlinewidth\":0,\"ticks\":\"\"}}}],\"histogram\":[{\"marker\":{\"pattern\":{\"fillmode\":\"overlay\",\"size\":10,\"solidity\":0.2}},\"type\":\"histogram\"}],\"scattergl\":[{\"type\":\"scattergl\",\"marker\":{\"colorbar\":{\"outlinewidth\":0,\"ticks\":\"\"}}}],\"scatter3d\":[{\"type\":\"scatter3d\",\"line\":{\"colorbar\":{\"outlinewidth\":0,\"ticks\":\"\"}},\"marker\":{\"colorbar\":{\"outlinewidth\":0,\"ticks\":\"\"}}}],\"scattermapbox\":[{\"type\":\"scattermapbox\",\"marker\":{\"colorbar\":{\"outlinewidth\":0,\"ticks\":\"\"}}}],\"scatterternary\":[{\"type\":\"scatterternary\",\"marker\":{\"colorbar\":{\"outlinewidth\":0,\"ticks\":\"\"}}}],\"scattercarpet\":[{\"type\":\"scattercarpet\",\"marker\":{\"colorbar\":{\"outlinewidth\":0,\"ticks\":\"\"}}}],\"carpet\":[{\"aaxis\":{\"endlinecolor\":\"#2a3f5f\",\"gridcolor\":\"white\",\"linecolor\":\"white\",\"minorgridcolor\":\"white\",\"startlinecolor\":\"#2a3f5f\"},\"baxis\":{\"endlinecolor\":\"#2a3f5f\",\"gridcolor\":\"white\",\"linecolor\":\"white\",\"minorgridcolor\":\"white\",\"startlinecolor\":\"#2a3f5f\"},\"type\":\"carpet\"}],\"table\":[{\"cells\":{\"fill\":{\"color\":\"#EBF0F8\"},\"line\":{\"color\":\"white\"}},\"header\":{\"fill\":{\"color\":\"#C8D4E3\"},\"line\":{\"color\":\"white\"}},\"type\":\"table\"}],\"barpolar\":[{\"marker\":{\"line\":{\"color\":\"#E5ECF6\",\"width\":0.5},\"pattern\":{\"fillmode\":\"overlay\",\"size\":10,\"solidity\":0.2}},\"type\":\"barpolar\"}],\"pie\":[{\"automargin\":true,\"type\":\"pie\"}]},\"layout\":{\"autotypenumbers\":\"strict\",\"colorway\":[\"#636efa\",\"#EF553B\",\"#00cc96\",\"#ab63fa\",\"#FFA15A\",\"#19d3f3\",\"#FF6692\",\"#B6E880\",\"#FF97FF\",\"#FECB52\"],\"font\":{\"color\":\"#2a3f5f\"},\"hovermode\":\"closest\",\"hoverlabel\":{\"align\":\"left\"},\"paper_bgcolor\":\"white\",\"plot_bgcolor\":\"#E5ECF6\",\"polar\":{\"bgcolor\":\"#E5ECF6\",\"angularaxis\":{\"gridcolor\":\"white\",\"linecolor\":\"white\",\"ticks\":\"\"},\"radialaxis\":{\"gridcolor\":\"white\",\"linecolor\":\"white\",\"ticks\":\"\"}},\"ternary\":{\"bgcolor\":\"#E5ECF6\",\"aaxis\":{\"gridcolor\":\"white\",\"linecolor\":\"white\",\"ticks\":\"\"},\"baxis\":{\"gridcolor\":\"white\",\"linecolor\":\"white\",\"ticks\":\"\"},\"caxis\":{\"gridcolor\":\"white\",\"linecolor\":\"white\",\"ticks\":\"\"}},\"coloraxis\":{\"colorbar\":{\"outlinewidth\":0,\"ticks\":\"\"}},\"colorscale\":{\"sequential\":[[0.0,\"#0d0887\"],[0.1111111111111111,\"#46039f\"],[0.2222222222222222,\"#7201a8\"],[0.3333333333333333,\"#9c179e\"],[0.4444444444444444,\"#bd3786\"],[0.5555555555555556,\"#d8576b\"],[0.6666666666666666,\"#ed7953\"],[0.7777777777777778,\"#fb9f3a\"],[0.8888888888888888,\"#fdca26\"],[1.0,\"#f0f921\"]],\"sequentialminus\":[[0.0,\"#0d0887\"],[0.1111111111111111,\"#46039f\"],[0.2222222222222222,\"#7201a8\"],[0.3333333333333333,\"#9c179e\"],[0.4444444444444444,\"#bd3786\"],[0.5555555555555556,\"#d8576b\"],[0.6666666666666666,\"#ed7953\"],[0.7777777777777778,\"#fb9f3a\"],[0.8888888888888888,\"#fdca26\"],[1.0,\"#f0f921\"]],\"diverging\":[[0,\"#8e0152\"],[0.1,\"#c51b7d\"],[0.2,\"#de77ae\"],[0.3,\"#f1b6da\"],[0.4,\"#fde0ef\"],[0.5,\"#f7f7f7\"],[0.6,\"#e6f5d0\"],[0.7,\"#b8e186\"],[0.8,\"#7fbc41\"],[0.9,\"#4d9221\"],[1,\"#276419\"]]},\"xaxis\":{\"gridcolor\":\"white\",\"linecolor\":\"white\",\"ticks\":\"\",\"title\":{\"standoff\":15},\"zerolinecolor\":\"white\",\"automargin\":true,\"zerolinewidth\":2},\"yaxis\":{\"gridcolor\":\"white\",\"linecolor\":\"white\",\"ticks\":\"\",\"title\":{\"standoff\":15},\"zerolinecolor\":\"white\",\"automargin\":true,\"zerolinewidth\":2},\"scene\":{\"xaxis\":{\"backgroundcolor\":\"#E5ECF6\",\"gridcolor\":\"white\",\"linecolor\":\"white\",\"showbackground\":true,\"ticks\":\"\",\"zerolinecolor\":\"white\",\"gridwidth\":2},\"yaxis\":{\"backgroundcolor\":\"#E5ECF6\",\"gridcolor\":\"white\",\"linecolor\":\"white\",\"showbackground\":true,\"ticks\":\"\",\"zerolinecolor\":\"white\",\"gridwidth\":2},\"zaxis\":{\"backgroundcolor\":\"#E5ECF6\",\"gridcolor\":\"white\",\"linecolor\":\"white\",\"showbackground\":true,\"ticks\":\"\",\"zerolinecolor\":\"white\",\"gridwidth\":2}},\"shapedefaults\":{\"line\":{\"color\":\"#2a3f5f\"}},\"annotationdefaults\":{\"arrowcolor\":\"#2a3f5f\",\"arrowhead\":0,\"arrowwidth\":1},\"geo\":{\"bgcolor\":\"white\",\"landcolor\":\"#E5ECF6\",\"subunitcolor\":\"white\",\"showland\":true,\"showlakes\":true,\"lakecolor\":\"white\"},\"title\":{\"x\":0.05},\"mapbox\":{\"style\":\"light\"}}}},                        {\"responsive\": true}                    ).then(function(){\n",
              "                            \n",
              "var gd = document.getElementById('304aace3-dee5-480b-92ba-a522193f2616');\n",
              "var x = new MutationObserver(function (mutations, observer) {{\n",
              "        var display = window.getComputedStyle(gd).display;\n",
              "        if (!display || display === 'none') {{\n",
              "            console.log([gd, 'removed!']);\n",
              "            Plotly.purge(gd);\n",
              "            observer.disconnect();\n",
              "        }}\n",
              "}});\n",
              "\n",
              "// Listen for the removal of the full notebook cells\n",
              "var notebookContainer = gd.closest('#notebook-container');\n",
              "if (notebookContainer) {{\n",
              "    x.observe(notebookContainer, {childList: true});\n",
              "}}\n",
              "\n",
              "// Listen for the clearing of the current output cell\n",
              "var outputEl = gd.closest('.output');\n",
              "if (outputEl) {{\n",
              "    x.observe(outputEl, {childList: true});\n",
              "}}\n",
              "\n",
              "                        })                };                            </script>        </div>\n",
              "</body>\n",
              "</html>"
            ]
          },
          "metadata": {}
        }
      ]
    },
    {
      "cell_type": "code",
      "source": [
        "correlation = data.corr()\n",
        "print(correlation[\"Close\"].sort_values(ascending=False))"
      ],
      "metadata": {
        "colab": {
          "base_uri": "https://localhost:8080/"
        },
        "id": "RjXG6XXeESLd",
        "outputId": "b2164047-3b84-49f0-9899-1c173a5e4933"
      },
      "execution_count": 9,
      "outputs": [
        {
          "output_type": "stream",
          "name": "stdout",
          "text": [
            "Close        1.000000\n",
            "Adj Close    1.000000\n",
            "High         0.997945\n",
            "Low          0.997814\n",
            "Open         0.995348\n",
            "Volume      -0.059810\n",
            "Name: Close, dtype: float64\n"
          ]
        },
        {
          "output_type": "stream",
          "name": "stderr",
          "text": [
            "<ipython-input-9-81091e368782>:1: FutureWarning:\n",
            "\n",
            "The default value of numeric_only in DataFrame.corr is deprecated. In a future version, it will default to False. Select only valid columns or specify the value of numeric_only to silence this warning.\n",
            "\n"
          ]
        }
      ]
    },
    {
      "cell_type": "code",
      "source": [
        "!pip install autots"
      ],
      "metadata": {
        "colab": {
          "base_uri": "https://localhost:8080/"
        },
        "id": "39ZtiN7kEZqZ",
        "outputId": "fc204b2c-22f3-4f79-ebef-d687352b5585"
      },
      "execution_count": 11,
      "outputs": [
        {
          "output_type": "stream",
          "name": "stdout",
          "text": [
            "Collecting autots\n",
            "  Downloading autots-0.6.10-py3-none-any.whl (826 kB)\n",
            "\u001b[?25l     \u001b[90m━━━━━━━━━━━━━━━━━━━━━━━━━━━━━━━━━━━━━━━━\u001b[0m \u001b[32m0.0/826.3 kB\u001b[0m \u001b[31m?\u001b[0m eta \u001b[36m-:--:--\u001b[0m\r\u001b[2K     \u001b[91m━━━━━━━━━━\u001b[0m\u001b[91m╸\u001b[0m\u001b[90m━━━━━━━━━━━━━━━━━━━━━━━━━━━━━\u001b[0m \u001b[32m225.3/826.3 kB\u001b[0m \u001b[31m6.6 MB/s\u001b[0m eta \u001b[36m0:00:01\u001b[0m\r\u001b[2K     \u001b[91m━━━━━━━━━━━━━━━━━━━━━━━━━━━━━━━━━━━━━━\u001b[0m\u001b[90m╺\u001b[0m\u001b[90m━\u001b[0m \u001b[32m788.5/826.3 kB\u001b[0m \u001b[31m11.3 MB/s\u001b[0m eta \u001b[36m0:00:01\u001b[0m\r\u001b[2K     \u001b[90m━━━━━━━━━━━━━━━━━━━━━━━━━━━━━━━━━━━━━━━━\u001b[0m \u001b[32m826.3/826.3 kB\u001b[0m \u001b[31m9.9 MB/s\u001b[0m eta \u001b[36m0:00:00\u001b[0m\n",
            "\u001b[?25hRequirement already satisfied: numpy>=1.14.6 in /usr/local/lib/python3.10/dist-packages (from autots) (1.25.2)\n",
            "Requirement already satisfied: pandas>=0.25.0 in /usr/local/lib/python3.10/dist-packages (from autots) (1.5.3)\n",
            "Requirement already satisfied: statsmodels>=0.10.0 in /usr/local/lib/python3.10/dist-packages (from autots) (0.14.1)\n",
            "Requirement already satisfied: scikit-learn>=0.20.0 in /usr/local/lib/python3.10/dist-packages (from autots) (1.2.2)\n",
            "Requirement already satisfied: python-dateutil>=2.8.1 in /usr/local/lib/python3.10/dist-packages (from pandas>=0.25.0->autots) (2.8.2)\n",
            "Requirement already satisfied: pytz>=2020.1 in /usr/local/lib/python3.10/dist-packages (from pandas>=0.25.0->autots) (2023.4)\n",
            "Requirement already satisfied: scipy>=1.3.2 in /usr/local/lib/python3.10/dist-packages (from scikit-learn>=0.20.0->autots) (1.11.4)\n",
            "Requirement already satisfied: joblib>=1.1.1 in /usr/local/lib/python3.10/dist-packages (from scikit-learn>=0.20.0->autots) (1.3.2)\n",
            "Requirement already satisfied: threadpoolctl>=2.0.0 in /usr/local/lib/python3.10/dist-packages (from scikit-learn>=0.20.0->autots) (3.3.0)\n",
            "Requirement already satisfied: patsy>=0.5.4 in /usr/local/lib/python3.10/dist-packages (from statsmodels>=0.10.0->autots) (0.5.6)\n",
            "Requirement already satisfied: packaging>=21.3 in /usr/local/lib/python3.10/dist-packages (from statsmodels>=0.10.0->autots) (23.2)\n",
            "Requirement already satisfied: six in /usr/local/lib/python3.10/dist-packages (from patsy>=0.5.4->statsmodels>=0.10.0->autots) (1.16.0)\n",
            "Installing collected packages: autots\n",
            "Successfully installed autots-0.6.10\n"
          ]
        }
      ]
    },
    {
      "cell_type": "code",
      "source": [
        "from autots import AutoTS\n",
        "model = AutoTS(forecast_length=30, frequency='infer', ensemble='simple')\n",
        "model = model.fit(data, date_col='Date', value_col='Close', id_col=None)\n",
        "prediction = model.predict()\n",
        "forecast = prediction.forecast\n",
        "print(forecast)"
      ],
      "metadata": {
        "colab": {
          "base_uri": "https://localhost:8080/"
        },
        "id": "wui-0rKnEVsd",
        "outputId": "34a7279c-6ece-4409-9d69-8fe76c84abc9"
      },
      "execution_count": 12,
      "outputs": [
        {
          "output_type": "stream",
          "name": "stdout",
          "text": [
            "Using 1 cpus for n_jobs.\n",
            "Data frequency is: D, used frequency is: D\n",
            "Model Number: 1 with model ARIMA in generation 0 of 20\n",
            "Model Number: 2 with model AverageValueNaive in generation 0 of 20\n",
            "Model Number: 3 with model AverageValueNaive in generation 0 of 20\n",
            "Model Number: 4 with model AverageValueNaive in generation 0 of 20\n",
            "Model Number: 5 with model DatepartRegression in generation 0 of 20\n",
            "Model Number: 6 with model DatepartRegression in generation 0 of 20\n"
          ]
        },
        {
          "output_type": "stream",
          "name": "stderr",
          "text": [
            "/usr/local/lib/python3.10/dist-packages/sklearn/svm/_base.py:1244: ConvergenceWarning:\n",
            "\n",
            "Liblinear failed to converge, increase the number of iterations.\n",
            "\n"
          ]
        },
        {
          "output_type": "stream",
          "name": "stdout",
          "text": [
            "Model Number: 7 with model DatepartRegression in generation 0 of 20\n"
          ]
        },
        {
          "output_type": "stream",
          "name": "stderr",
          "text": [
            "/usr/local/lib/python3.10/dist-packages/sklearn/neural_network/_multilayer_perceptron.py:541: ConvergenceWarning:\n",
            "\n",
            "lbfgs failed to converge (status=1):\n",
            "STOP: TOTAL NO. of ITERATIONS REACHED LIMIT.\n",
            "\n",
            "Increase the number of iterations (max_iter) or scale the data as shown in:\n",
            "    https://scikit-learn.org/stable/modules/preprocessing.html\n",
            "\n"
          ]
        },
        {
          "output_type": "stream",
          "name": "stdout",
          "text": [
            "Model Number: 8 with model DatepartRegression in generation 0 of 20\n",
            "Epoch 1/50\n",
            "24/24 [==============================] - 14s 11ms/step - loss: 0.4131\n",
            "Epoch 2/50\n",
            "24/24 [==============================] - 0s 11ms/step - loss: 0.4036\n",
            "Epoch 3/50\n",
            "24/24 [==============================] - 0s 13ms/step - loss: 0.3930\n",
            "Epoch 4/50\n",
            "24/24 [==============================] - 0s 14ms/step - loss: 0.3869\n",
            "Epoch 5/50\n",
            "24/24 [==============================] - 0s 15ms/step - loss: 0.3779\n",
            "Epoch 6/50\n",
            "24/24 [==============================] - 0s 12ms/step - loss: 0.3789\n",
            "Epoch 7/50\n",
            "24/24 [==============================] - 0s 15ms/step - loss: 0.3757\n",
            "Epoch 8/50\n",
            "24/24 [==============================] - 0s 13ms/step - loss: 0.3716\n",
            "Epoch 9/50\n",
            "24/24 [==============================] - 0s 18ms/step - loss: 0.3741\n",
            "Epoch 10/50\n",
            "24/24 [==============================] - 0s 14ms/step - loss: 0.3729\n",
            "Epoch 11/50\n",
            "24/24 [==============================] - 0s 17ms/step - loss: 0.3714\n",
            "Epoch 12/50\n",
            "24/24 [==============================] - 0s 12ms/step - loss: 0.3719\n",
            "Epoch 13/50\n",
            "24/24 [==============================] - 0s 13ms/step - loss: 0.3727\n",
            "Epoch 14/50\n",
            "24/24 [==============================] - 0s 10ms/step - loss: 0.3707\n",
            "Epoch 15/50\n",
            "24/24 [==============================] - 0s 10ms/step - loss: 0.3700\n",
            "Epoch 16/50\n",
            "24/24 [==============================] - 0s 10ms/step - loss: 0.3703\n",
            "Epoch 17/50\n",
            "24/24 [==============================] - 0s 10ms/step - loss: 0.3718\n",
            "Epoch 18/50\n",
            "24/24 [==============================] - 0s 10ms/step - loss: 0.3674\n",
            "Epoch 19/50\n",
            "24/24 [==============================] - 0s 10ms/step - loss: 0.3685\n",
            "Epoch 20/50\n",
            "24/24 [==============================] - 0s 10ms/step - loss: 0.3655\n",
            "Epoch 21/50\n",
            "24/24 [==============================] - 0s 11ms/step - loss: 0.3688\n",
            "Epoch 22/50\n",
            "24/24 [==============================] - 0s 10ms/step - loss: 0.3710\n",
            "Epoch 23/50\n",
            "24/24 [==============================] - 0s 10ms/step - loss: 0.3646\n",
            "Epoch 24/50\n",
            "24/24 [==============================] - 0s 10ms/step - loss: 0.3662\n",
            "Epoch 25/50\n",
            "24/24 [==============================] - 0s 10ms/step - loss: 0.3652\n",
            "Epoch 26/50\n",
            "24/24 [==============================] - 0s 10ms/step - loss: 0.3653\n",
            "Epoch 27/50\n",
            "24/24 [==============================] - 0s 10ms/step - loss: 0.3619\n",
            "Epoch 28/50\n",
            "24/24 [==============================] - 0s 10ms/step - loss: 0.3663\n",
            "Epoch 29/50\n",
            "24/24 [==============================] - 0s 12ms/step - loss: 0.3678\n",
            "Epoch 30/50\n",
            "24/24 [==============================] - 0s 10ms/step - loss: 0.3666\n",
            "Epoch 31/50\n",
            "24/24 [==============================] - 0s 11ms/step - loss: 0.3641\n",
            "Epoch 32/50\n",
            "24/24 [==============================] - 0s 10ms/step - loss: 0.3615\n",
            "Epoch 33/50\n",
            "24/24 [==============================] - 0s 10ms/step - loss: 0.3627\n",
            "Epoch 34/50\n",
            "24/24 [==============================] - 0s 13ms/step - loss: 0.3624\n",
            "Epoch 35/50\n",
            "24/24 [==============================] - 0s 10ms/step - loss: 0.3605\n",
            "Epoch 36/50\n",
            "24/24 [==============================] - 0s 13ms/step - loss: 0.3616\n",
            "Epoch 37/50\n",
            "24/24 [==============================] - 0s 12ms/step - loss: 0.3586\n",
            "Epoch 38/50\n",
            "24/24 [==============================] - 0s 11ms/step - loss: 0.3602\n",
            "Epoch 39/50\n",
            "24/24 [==============================] - 0s 10ms/step - loss: 0.3595\n",
            "Epoch 40/50\n",
            "24/24 [==============================] - 0s 17ms/step - loss: 0.3614\n",
            "Epoch 41/50\n",
            "24/24 [==============================] - 0s 12ms/step - loss: 0.3607\n",
            "Epoch 42/50\n",
            "24/24 [==============================] - 0s 12ms/step - loss: 0.3614\n",
            "Epoch 43/50\n",
            "24/24 [==============================] - 0s 13ms/step - loss: 0.3581\n",
            "Epoch 44/50\n",
            "24/24 [==============================] - 0s 13ms/step - loss: 0.3591\n",
            "Epoch 45/50\n",
            "24/24 [==============================] - 0s 10ms/step - loss: 0.3584\n",
            "Epoch 46/50\n",
            "24/24 [==============================] - 0s 16ms/step - loss: 0.3600\n",
            "Epoch 47/50\n",
            "24/24 [==============================] - 0s 17ms/step - loss: 0.3600\n",
            "Epoch 48/50\n",
            "24/24 [==============================] - 0s 14ms/step - loss: 0.3545\n",
            "Epoch 49/50\n",
            "24/24 [==============================] - 0s 16ms/step - loss: 0.3581\n",
            "Epoch 50/50\n",
            "24/24 [==============================] - 1s 21ms/step - loss: 0.3568\n",
            "1/1 [==============================] - 4s 4s/step\n",
            "Model Number: 9 with model ETS in generation 0 of 20\n",
            "Model Number: 10 with model ETS in generation 0 of 20\n",
            "Model Number: 11 with model GLM in generation 0 of 20\n",
            "Model Number: 12 with model GLM in generation 0 of 20\n",
            "Model Number: 13 with model GLS in generation 0 of 20\n",
            "Model Number: 14 with model GLS in generation 0 of 20\n",
            "Model Number: 15 with model LastValueNaive in generation 0 of 20\n",
            "Model Number: 16 with model LastValueNaive in generation 0 of 20\n",
            "Model Number: 17 with model LastValueNaive in generation 0 of 20\n",
            "Model Number: 18 with model LastValueNaive in generation 0 of 20\n",
            "Model Number: 19 with model SeasonalNaive in generation 0 of 20\n",
            "Model Number: 20 with model SeasonalNaive in generation 0 of 20\n",
            "Model Number: 21 with model SeasonalNaive in generation 0 of 20\n",
            "Model Number: 22 with model UnobservedComponents in generation 0 of 20\n",
            "Model Number: 23 with model UnobservedComponents in generation 0 of 20\n",
            "Model Number: 24 with model UnobservedComponents in generation 0 of 20\n",
            "Model Number: 25 with model VAR in generation 0 of 20\n",
            "Template Eval Error: ValueError('Only gave one variable to VAR') in model 25 in generation 0: VAR\n",
            "Model Number: 26 with model VAR in generation 0 of 20\n",
            "Template Eval Error: ValueError('Only gave one variable to VAR') in model 26 in generation 0: VAR\n",
            "Model Number: 27 with model VECM in generation 0 of 20\n",
            "Template Eval Error: ValueError('Only gave one variable to VECM') in model 27 in generation 0: VECM\n",
            "Model Number: 28 with model VECM in generation 0 of 20\n",
            "Template Eval Error: ValueError('Only gave one variable to VECM') in model 28 in generation 0: VECM\n",
            "Model Number: 29 with model WindowRegression in generation 0 of 20\n",
            "Model Number: 30 with model ConstantNaive in generation 0 of 20\n"
          ]
        },
        {
          "output_type": "stream",
          "name": "stderr",
          "text": [
            "/usr/local/lib/python3.10/dist-packages/sklearn/neural_network/_multilayer_perceptron.py:541: ConvergenceWarning:\n",
            "\n",
            "lbfgs failed to converge (status=1):\n",
            "STOP: TOTAL NO. of ITERATIONS REACHED LIMIT.\n",
            "\n",
            "Increase the number of iterations (max_iter) or scale the data as shown in:\n",
            "    https://scikit-learn.org/stable/modules/preprocessing.html\n",
            "\n"
          ]
        },
        {
          "output_type": "stream",
          "name": "stdout",
          "text": [
            "Model Number: 31 with model FBProphet in generation 0 of 20\n"
          ]
        },
        {
          "output_type": "stream",
          "name": "stderr",
          "text": [
            "DEBUG:cmdstanpy:input tempfile: /tmp/tmp9gjx8t26/nyxd0jji.json\n",
            "DEBUG:cmdstanpy:input tempfile: /tmp/tmp9gjx8t26/vg4csocs.json\n",
            "DEBUG:cmdstanpy:idx 0\n",
            "DEBUG:cmdstanpy:running CmdStan, num_threads: None\n",
            "DEBUG:cmdstanpy:CmdStan args: ['/usr/local/lib/python3.10/dist-packages/prophet/stan_model/prophet_model.bin', 'random', 'seed=60287', 'data', 'file=/tmp/tmp9gjx8t26/nyxd0jji.json', 'init=/tmp/tmp9gjx8t26/vg4csocs.json', 'output', 'file=/tmp/tmp9gjx8t26/prophet_model28n7f8ed/prophet_model-20240227145929.csv', 'method=optimize', 'algorithm=lbfgs', 'iter=10000']\n",
            "14:59:29 - cmdstanpy - INFO - Chain [1] start processing\n",
            "INFO:cmdstanpy:Chain [1] start processing\n",
            "14:59:29 - cmdstanpy - INFO - Chain [1] done processing\n",
            "INFO:cmdstanpy:Chain [1] done processing\n"
          ]
        },
        {
          "output_type": "stream",
          "name": "stdout",
          "text": [
            "Model Number: 32 with model MultivariateRegression in generation 0 of 20\n",
            "Model Number: 33 with model MultivariateRegression in generation 0 of 20\n",
            "Template Eval Error: ValueError(\"regression_type='User' but not future_regressor supplied.\") in model 33 in generation 0: MultivariateRegression\n",
            "Model Number: 34 with model DatepartRegression in generation 0 of 20\n",
            "Template Eval Error: ValueError(\"regression_type='User' but no future_regressor passed\") in model 34 in generation 0: DatepartRegression\n",
            "Model Number: 35 with model SeasonalNaive in generation 0 of 20\n",
            "Model Number: 36 with model DatepartRegression in generation 0 of 20\n",
            "Model Number: 37 with model UnobservedComponents in generation 0 of 20\n",
            "Model Number: 38 with model UnobservedComponents in generation 0 of 20\n",
            "Model Number: 39 with model ETS in generation 0 of 20\n",
            "Model Number: 40 with model VECM in generation 0 of 20\n",
            "Template Eval Error: ValueError('Only gave one variable to VECM') in model 40 in generation 0: VECM\n",
            "Model Number: 41 with model ARDL in generation 0 of 20\n",
            "Model Number: 42 with model MultivariateMotif in generation 0 of 20\n",
            "Model Number: 43 with model MultivariateMotif in generation 0 of 20\n",
            "Model Number: 44 with model UnivariateMotif in generation 0 of 20\n",
            "Model Number: 45 with model UnivariateMotif in generation 0 of 20\n",
            "Model Number: 46 with model SectionalMotif in generation 0 of 20\n",
            "Model Number: 47 with model SectionalMotif in generation 0 of 20\n",
            "Model Number: 48 with model MultivariateRegression in generation 0 of 20\n",
            "Model Number: 49 with model FBProphet in generation 0 of 20\n",
            "Model Number: 50 with model SeasonalNaive in generation 0 of 20\n",
            "Model Number: 51 with model DatepartRegression in generation 0 of 20\n",
            "Model Number: 52 with model NVAR in generation 0 of 20\n",
            "Model Number: 53 with model Theta in generation 0 of 20\n",
            "Model Number: 54 with model UnivariateRegression in generation 0 of 20\n",
            "Model Number: 55 with model ARCH in generation 0 of 20\n",
            "Template Eval Error: ImportError('`arch` package must be installed from pip') in model 55 in generation 0: ARCH\n",
            "Model Number: 56 with model SeasonalityMotif in generation 0 of 20\n",
            "Model Number: 57 with model ConstantNaive in generation 0 of 20\n",
            "Model Number: 58 with model LastValueNaive in generation 0 of 20\n",
            "Model Number: 59 with model AverageValueNaive in generation 0 of 20\n",
            "Model Number: 60 with model GLS in generation 0 of 20\n",
            "Model Number: 61 with model SeasonalNaive in generation 0 of 20\n",
            "Model Number: 62 with model GLM in generation 0 of 20\n"
          ]
        },
        {
          "output_type": "stream",
          "name": "stderr",
          "text": [
            "/usr/local/lib/python3.10/dist-packages/statsmodels/genmod/families/family.py:445: RuntimeWarning:\n",
            "\n",
            "divide by zero encountered in divide\n",
            "\n",
            "/usr/local/lib/python3.10/dist-packages/statsmodels/genmod/families/family.py:143: RuntimeWarning:\n",
            "\n",
            "divide by zero encountered in divide\n",
            "\n"
          ]
        },
        {
          "output_type": "stream",
          "name": "stdout",
          "text": [
            "Template Eval Error: ValueError('NaN, inf or invalid value detected in weights, estimation infeasible.') in model 62 in generation 0: GLM\n",
            "Model Number: 63 with model ETS in generation 0 of 20\n",
            "Template Eval Error: Exception(\"Transformer ScipyFilter failed on fit from params ffill {'0': {'rows': 1, 'lag': 1, 'method': 'additive', 'strength': 0.9, 'first_value_only': False}, '1': {'lag_1': 7, 'method': 2}, '2': {'rows': 7, 'lag': 2, 'method': 'additive', 'strength': 0.7, 'first_value_only': False}, '3': {'rows': 1, 'lag': 7, 'method': 'additive', 'strength': 0.5, 'first_value_only': False}, '4': {'rows': 1, 'lag': 1, 'method': 'additive', 'strength': 1.0, 'first_value_only': False}, '5': {'method': 'butter', 'method_args': {'N': 6, 'btype': 'highpass', 'analog': False, 'output': 'sos', 'Wn': 0.03571428571428571}}}\") in model 63 in generation 0: ETS\n",
            "Model Number: 64 with model FBProphet in generation 0 of 20\n",
            "Model Number: 65 with model UnobservedComponents in generation 0 of 20\n",
            "Model Number: 66 with model VAR in generation 0 of 20\n",
            "Template Eval Error: ValueError('Only gave one variable to VAR') in model 66 in generation 0: VAR\n",
            "Model Number: 67 with model VECM in generation 0 of 20\n",
            "Template Eval Error: ValueError('Only gave one variable to VECM') in model 67 in generation 0: VECM\n",
            "Model Number: 68 with model ARIMA in generation 0 of 20\n"
          ]
        },
        {
          "output_type": "stream",
          "name": "stderr",
          "text": [
            "/usr/local/lib/python3.10/dist-packages/sklearn/neighbors/_classification.py:215: DataConversionWarning:\n",
            "\n",
            "A column-vector y was passed when a 1d array was expected. Please change the shape of y to (n_samples,), for example using ravel().\n",
            "\n"
          ]
        },
        {
          "output_type": "stream",
          "name": "stdout",
          "text": [
            "Template Eval Error: ValueError(\"regression_type='User' but future_regressor not supplied\") in model 68 in generation 0: ARIMA\n",
            "Model Number: 69 with model WindowRegression in generation 0 of 20\n",
            "Model Number: 70 with model DatepartRegression in generation 0 of 20\n",
            "Model Number: 71 with model UnivariateRegression in generation 0 of 20\n",
            "Template Eval Error: Exception(\"Transformer DatepartRegression failed on inverse from params ffill {'0': {'rows': 7, 'lag': 1, 'method': 'additive', 'strength': 1.0, 'first_value_only': False}, '1': {'fixed': False, 'window': 3}, '2': {'regression_model': {'model': 'ElasticNet', 'model_params': {}}, 'datepart_method': 'simple_binarized', 'polynomial_degree': None, 'transform_dict': None, 'holiday_countries_used': True}}\") in model 71 in generation 0: UnivariateRegression\n",
            "Model Number: 72 with model MultivariateRegression in generation 0 of 20\n",
            "Template Eval Error: XGBoostError('[14:59:47] /workspace/src/objective/regression_obj.cu:343: PoissonRegression: label must be nonnegative\\nStack trace:\\n  [bt] (0) /usr/local/lib/python3.10/dist-packages/xgboost/lib/libxgboost.so(+0xa8dc0a) [0x7b11a74a7c0a]\\n  [bt] (1) /usr/local/lib/python3.10/dist-packages/xgboost/lib/libxgboost.so(+0xaa0797) [0x7b11a74ba797]\\n  [bt] (2) /usr/local/lib/python3.10/dist-packages/xgboost/lib/libxgboost.so(+0x55f9ed) [0x7b11a6f799ed]\\n  [bt] (3) /usr/local/lib/python3.10/dist-packages/xgboost/lib/libxgboost.so(+0x4900d1) [0x7b11a6eaa0d1]\\n  [bt] (4) /usr/local/lib/python3.10/dist-packages/xgboost/lib/libxgboost.so(+0x4c0716) [0x7b11a6eda716]\\n  [bt] (5) /usr/local/lib/python3.10/dist-packages/xgboost/lib/libxgboost.so(+0x4c5274) [0x7b11a6edf274]\\n  [bt] (6) /usr/local/lib/python3.10/dist-packages/xgboost/lib/libxgboost.so(XGBoosterUpdateOneIter+0x70) [0x7b11a6b7bef0]\\n  [bt] (7) /lib/x86_64-linux-gnu/libffi.so.8(+0x7e2e) [0x7b12857bae2e]\\n  [bt] (8) /lib/x86_64-linux-gnu/libffi.so.8(+0x4493) [0x7b12857b7493]\\n\\n') in model 72 in generation 0: MultivariateRegression\n",
            "Model Number: 73 with model UnivariateMotif in generation 0 of 20\n",
            "Model Number: 74 with model MultivariateMotif in generation 0 of 20\n",
            "Template Eval Error: Exception(\"Transformer RegressionFilter failed on fit from params ffill {'0': {'sigma': 2, 'rolling_window': 90, 'run_order': 'trend_first', 'regression_params': {'regression_model': {'model': 'ElasticNet', 'model_params': {}}, 'datepart_method': 'expanded', 'polynomial_degree': None, 'transform_dict': {'fillna': None, 'transformations': {'0': 'AnomalyRemoval'}, 'transformation_params': {'0': {'method': 'zscore', 'transform_dict': {'transformations': {'0': 'DatepartRegression'}, 'transformation_params': {'0': {'datepart_method': 'simple_3', 'regression_model': {'model': 'ElasticNet', 'model_params': {}}}}}, 'method_params': {'distribution': 'uniform', 'alpha': 0.05}}}}, 'holiday_countries_used': True}, 'holiday_params': None}, '1': {'rows': 4, 'lag': 1, 'method': 'additive', 'strength': 1.0, 'first_value_only': False}, '2': {'decimals': 0, 'on_transform': True, 'on_inverse': False}}\") in model 74 in generation 0: MultivariateMotif\n",
            "Model Number: 75 with model SectionalMotif in generation 0 of 20\n",
            "Model Number: 76 with model NVAR in generation 0 of 20\n",
            "Model Number: 77 with model Theta in generation 0 of 20\n",
            "Model Number: 78 with model ARDL in generation 0 of 20\n",
            "Model Number: 79 with model ARCH in generation 0 of 20\n",
            "Template Eval Error: ImportError('`arch` package must be installed from pip') in model 79 in generation 0: ARCH\n",
            "Model Number: 80 with model MetricMotif in generation 0 of 20\n",
            "Model Number: 81 with model SeasonalityMotif in generation 0 of 20\n",
            "Model Number: 82 with model GLM in generation 0 of 20\n",
            "Model Number: 83 with model GLM in generation 0 of 20\n"
          ]
        },
        {
          "output_type": "stream",
          "name": "stderr",
          "text": [
            "/usr/local/lib/python3.10/dist-packages/statsmodels/genmod/families/links.py:198: RuntimeWarning:\n",
            "\n",
            "overflow encountered in exp\n",
            "\n"
          ]
        },
        {
          "output_type": "stream",
          "name": "stdout",
          "text": [
            "Model Number: 84 with model VECM in generation 0 of 20\n",
            "Template Eval Error: ValueError('Only gave one variable to VECM') in model 84 in generation 0: VECM\n",
            "Model Number: 85 with model ARCH in generation 0 of 20\n",
            "Template Eval Error: ImportError('`arch` package must be installed from pip') in model 85 in generation 0: ARCH\n",
            "Model Number: 86 with model WindowRegression in generation 0 of 20\n",
            "Template Eval Error: LightGBMError('[poisson]: at least one target label is negative') in model 86 in generation 0: WindowRegression\n",
            "Model Number: 87 with model ConstantNaive in generation 0 of 20\n",
            "Model Number: 88 with model Theta in generation 0 of 20\n",
            "Model Number: 89 with model DatepartRegression in generation 0 of 20\n",
            "Model Number: 90 with model GLM in generation 0 of 20\n",
            "Template Eval Error: ValueError('The first guess on the deviance function returned a nan.  This could be a boundary  problem and should be reported.') in model 90 in generation 0: GLM\n",
            "Model Number: 91 with model VAR in generation 0 of 20\n"
          ]
        },
        {
          "output_type": "stream",
          "name": "stderr",
          "text": [
            "/usr/local/lib/python3.10/dist-packages/statsmodels/genmod/families/family.py:1650: RuntimeWarning:\n",
            "\n",
            "invalid value encountered in log\n",
            "\n"
          ]
        },
        {
          "output_type": "stream",
          "name": "stdout",
          "text": [
            "Template Eval Error: ValueError('Only gave one variable to VAR') in model 91 in generation 0: VAR\n",
            "Model Number: 92 with model DatepartRegression in generation 0 of 20\n",
            "Template Eval Error: ValueError(\"regression_type='User' but no future_regressor passed\") in model 92 in generation 0: DatepartRegression\n",
            "Model Number: 93 with model SeasonalityMotif in generation 0 of 20\n",
            "Model Number: 94 with model VECM in generation 0 of 20\n",
            "Template Eval Error: Exception(\"Transformer ScipyFilter failed on fit from params fake_date {'0': {'rows': 1, 'lag': 1, 'method': 'multiplicative', 'strength': 1.0, 'first_value_only': True}, '1': {'method': 'butter', 'method_args': {'N': 5, 'btype': 'highpass', 'analog': False, 'output': 'sos', 'Wn': 0.011904761904761904}}, '2': {}, '3': {'method': 'clip', 'std_threshold': 2, 'fillna': None}, '4': {}}\") in model 94 in generation 0: VECM\n",
            "Model Number: 95 with model SeasonalNaive in generation 0 of 20\n",
            "Model Number: 96 with model Theta in generation 0 of 20\n",
            "Template Eval Error: Exception(\"Transformer AlignLastValue failed on inverse from params ffill {'0': {}, '1': {}, '2': {'rows': 7, 'lag': 1, 'method': 'additive', 'strength': 1.0, 'first_value_only': True}, '3': {'rows': 1, 'lag': 1, 'method': 'additive', 'strength': 1.0, 'first_value_only': True}, '4': {}, '5': {'method': 'savgol_filter', 'method_args': {'window_length': 91, 'polyorder': 4, 'deriv': 0, 'mode': 'nearest'}}}\") in model 96 in generation 0: Theta\n",
            "Model Number: 97 with model UnobservedComponents in generation 0 of 20\n",
            "Model Number: 98 with model FBProphet in generation 0 of 20\n",
            "Model Number: 99 with model ARCH in generation 0 of 20\n",
            "Template Eval Error: ImportError('`arch` package must be installed from pip') in model 99 in generation 0: ARCH\n",
            "Model Number: 100 with model VAR in generation 0 of 20\n",
            "Template Eval Error: Exception(\"Transformer ScipyFilter failed on fit from params ffill {'0': {'method': 'butter', 'method_args': {'N': 8, 'btype': 'highpass', 'analog': False, 'output': 'sos', 'Wn': 0.03571428571428571}}, '1': {}}\") in model 100 in generation 0: VAR\n",
            "Model Number: 101 with model NVAR in generation 0 of 20\n",
            "Model Number: 102 with model FBProphet in generation 0 of 20\n",
            "Model Number: 103 with model WindowRegression in generation 0 of 20\n"
          ]
        },
        {
          "output_type": "stream",
          "name": "stderr",
          "text": [
            "/usr/local/lib/python3.10/dist-packages/sklearn/experimental/enable_hist_gradient_boosting.py:16: UserWarning:\n",
            "\n",
            "Since version 1.0, it is not needed to import enable_hist_gradient_boosting anymore. HistGradientBoostingClassifier and HistGradientBoostingRegressor are now stable and can be normally imported from sklearn.ensemble.\n",
            "\n"
          ]
        },
        {
          "output_type": "stream",
          "name": "stdout",
          "text": [
            "Model Number: 104 with model UnobservedComponents in generation 0 of 20\n",
            "Model Number: 105 with model SeasonalNaive in generation 0 of 20\n",
            "Template Eval Error: Exception(\"Transformer AlignLastValue failed on inverse from params ffill_mean_biased {'0': {'method': 'clip', 'std_threshold': 4, 'fillna': None}, '1': {'model': 'GLS', 'phi': 1, 'window': None, 'transform_dict': None}, '2': {'rows': 1, 'lag': 1, 'method': 'additive', 'strength': 1.0, 'first_value_only': True}, '3': {'rows': 1, 'lag': 1, 'method': 'additive', 'strength': 1.0, 'first_value_only': True}}\") in model 105 in generation 0: SeasonalNaive\n",
            "Model Number: 106 with model ARDL in generation 0 of 20\n",
            "Template Eval Error: ValueError(\"regression_type='User' but future_regressor not supplied\") in model 106 in generation 0: ARDL\n",
            "Model Number: 107 with model LastValueNaive in generation 0 of 20\n",
            "Model Number: 108 with model UnobservedComponents in generation 0 of 20\n",
            "Template Eval Error: ValueError(\"regression_type='User' but no future_regressor supplied\") in model 108 in generation 0: UnobservedComponents\n",
            "Model Number: 109 with model ARCH in generation 0 of 20\n",
            "Template Eval Error: ImportError('`arch` package must be installed from pip') in model 109 in generation 0: ARCH\n",
            "Model Number: 110 with model AverageValueNaive in generation 0 of 20\n",
            "Model Number: 111 with model NVAR in generation 0 of 20\n",
            "Model Number: 112 with model GLM in generation 0 of 20\n",
            "Model Number: 113 with model UnobservedComponents in generation 0 of 20\n",
            "Model Number: 114 with model GLM in generation 0 of 20\n",
            "Template Eval Error: ValueError('The first guess on the deviance function returned a nan.  This could be a boundary  problem and should be reported.') in model 114 in generation 0: GLM\n",
            "Model Number: 115 with model WindowRegression in generation 0 of 20\n",
            "Template Eval Error: ValueError('Input contains NaN.') in model 115 in generation 0: WindowRegression\n",
            "Model Number: 116 with model UnivariateMotif in generation 0 of 20\n",
            "Template Eval Error: Exception(\"Transformer ScipyFilter failed on fit from params ffill {'0': {'model': 'GLS', 'phi': 1, 'window': None, 'transform_dict': None}, '1': {}, '2': {}, '3': {'method': 'butter', 'method_args': {'N': 1, 'btype': 'highpass', 'analog': False, 'output': 'sos', 'Wn': 0.0027472527472527475}}, '4': {'window_size': 30, 'alpha': 3.0, 'grouping_forward_limit': 2, 'max_level_shifts': 10, 'alignment': 'last_value'}, '5': {'fixed': True, 'window': 3}}\") in model 116 in generation 0: UnivariateMotif\n"
          ]
        },
        {
          "output_type": "stream",
          "name": "stderr",
          "text": [
            "/usr/local/lib/python3.10/dist-packages/statsmodels/genmod/families/family.py:1367: ValueWarning:\n",
            "\n",
            "Negative binomial dispersion parameter alpha not set. Using default value alpha=1.0.\n",
            "\n",
            "/usr/local/lib/python3.10/dist-packages/statsmodels/genmod/families/family.py:1406: RuntimeWarning:\n",
            "\n",
            "invalid value encountered in log\n",
            "\n",
            "/usr/local/lib/python3.10/dist-packages/sklearn/neural_network/_base.py:174: RuntimeWarning:\n",
            "\n",
            "overflow encountered in square\n",
            "\n",
            "/usr/local/lib/python3.10/dist-packages/sklearn/utils/extmath.py:189: RuntimeWarning:\n",
            "\n",
            "overflow encountered in matmul\n",
            "\n",
            "/usr/local/lib/python3.10/dist-packages/sklearn/utils/extmath.py:189: RuntimeWarning:\n",
            "\n",
            "invalid value encountered in matmul\n",
            "\n",
            "/usr/local/lib/python3.10/dist-packages/numpy/core/_methods.py:118: RuntimeWarning:\n",
            "\n",
            "overflow encountered in reduce\n",
            "\n",
            "/usr/local/lib/python3.10/dist-packages/sklearn/neural_network/_stochastic_optimizers.py:184: RuntimeWarning:\n",
            "\n",
            "invalid value encountered in subtract\n",
            "\n"
          ]
        },
        {
          "output_type": "stream",
          "name": "stdout",
          "text": [
            "Model Number: 117 with model DatepartRegression in generation 0 of 20\n",
            "Template Eval Error: Exception(\"Transformer AlignLastValue failed on inverse from params rolling_mean {'0': {'method': 'clip', 'std_threshold': 3.5, 'fillna': None}, '1': {'model': 'Linear', 'phi': 1, 'window': 900, 'transform_dict': None}, '2': {'method': 'clip', 'std_threshold': 4.5, 'fillna': None}, '3': {'rows': 1, 'lag': 1, 'method': 'additive', 'strength': 0.9, 'first_value_only': True}}\") in model 117 in generation 0: DatepartRegression\n",
            "Model Number: 118 with model Theta in generation 0 of 20\n",
            "Template Eval Error: Exception(\"Transformer DatepartRegression failed on inverse from params zero {'0': {'lag_1': 7, 'method': 'LastValue'}, '1': {}, '2': {'regression_model': {'model': 'ElasticNet', 'model_params': {}}, 'datepart_method': 'expanded', 'polynomial_degree': None, 'transform_dict': {'fillna': 'ffill', 'transformations': {'0': 'bkfilter'}, 'transformation_params': {'0': {}}}, 'holiday_countries_used': True}}\") in model 118 in generation 0: Theta\n",
            "Model Number: 119 with model GLS in generation 0 of 20\n",
            "Template Eval Error: Exception(\"Transformer ScipyFilter failed on fit from params zero {'0': {}, '1': {'fixed': True, 'window': 10}, '2': {}, '3': {}, '4': {'method': 'butter', 'method_args': {'N': 7, 'btype': 'highpass', 'analog': False, 'output': 'sos', 'Wn': 0.08333333333333333}}}\") in model 119 in generation 0: GLS\n",
            "Model Number: 120 with model AverageValueNaive in generation 0 of 20\n",
            "Model Number: 121 with model ARDL in generation 0 of 20\n",
            "Model Number: 122 with model UnivariateMotif in generation 0 of 20\n",
            "Model Number: 123 with model MultivariateMotif in generation 0 of 20\n",
            "Model Number: 124 with model FBProphet in generation 0 of 20\n",
            "back_forecast split 2 failed with LinAlgError('Array must not contain infs or NaNs')\n",
            "back_forecast split 3 failed with LinAlgError('Array must not contain infs or NaNs')\n",
            "back_forecast split 4 failed with LinAlgError('Array must not contain infs or NaNs')\n",
            "back_forecast split 5 failed with LinAlgError('Array must not contain infs or NaNs')\n",
            "back_forecast split 6 failed with LinAlgError('Array must not contain infs or NaNs')\n"
          ]
        },
        {
          "output_type": "stream",
          "name": "stderr",
          "text": [
            "/usr/local/lib/python3.10/dist-packages/autots/models/matrix_var.py:62: RuntimeWarning:\n",
            "\n",
            "divide by zero encountered in reciprocal\n",
            "\n",
            "/usr/local/lib/python3.10/dist-packages/autots/models/matrix_var.py:62: RuntimeWarning:\n",
            "\n",
            "invalid value encountered in multiply\n",
            "\n",
            "/usr/local/lib/python3.10/dist-packages/autots/models/matrix_var.py:62: RuntimeWarning:\n",
            "\n",
            "divide by zero encountered in reciprocal\n",
            "\n",
            "/usr/local/lib/python3.10/dist-packages/autots/models/matrix_var.py:62: RuntimeWarning:\n",
            "\n",
            "invalid value encountered in multiply\n",
            "\n",
            "/usr/local/lib/python3.10/dist-packages/autots/models/matrix_var.py:62: RuntimeWarning:\n",
            "\n",
            "divide by zero encountered in reciprocal\n",
            "\n",
            "/usr/local/lib/python3.10/dist-packages/autots/models/matrix_var.py:62: RuntimeWarning:\n",
            "\n",
            "invalid value encountered in multiply\n",
            "\n",
            "/usr/local/lib/python3.10/dist-packages/autots/models/matrix_var.py:62: RuntimeWarning:\n",
            "\n",
            "divide by zero encountered in reciprocal\n",
            "\n",
            "/usr/local/lib/python3.10/dist-packages/autots/models/matrix_var.py:62: RuntimeWarning:\n",
            "\n",
            "invalid value encountered in multiply\n",
            "\n",
            "/usr/local/lib/python3.10/dist-packages/autots/models/matrix_var.py:62: RuntimeWarning:\n",
            "\n",
            "divide by zero encountered in reciprocal\n",
            "\n",
            "/usr/local/lib/python3.10/dist-packages/autots/models/matrix_var.py:62: RuntimeWarning:\n",
            "\n",
            "invalid value encountered in multiply\n",
            "\n"
          ]
        },
        {
          "output_type": "stream",
          "name": "stdout",
          "text": [
            "Model Number: 125 with model VAR in generation 0 of 20\n",
            "Template Eval Error: ValueError('Only gave one variable to VAR') in model 125 in generation 0: VAR\n",
            "Model Number: 126 with model UnivariateRegression in generation 0 of 20\n",
            "Template Eval Error: Exception(\"Transformer ScipyFilter failed on fit from params nearest {'0': {'method': 'butter', 'method_args': {'N': 8, 'btype': 'lowpass', 'analog': False, 'output': 'sos', 'Wn': 0.25}}, '1': {}}\") in model 126 in generation 0: UnivariateRegression\n",
            "Model Number: 127 with model AverageValueNaive in generation 0 of 20\n",
            "Template Eval Error: Exception(\"Transformer ScipyFilter failed on fit from params pchip {'0': {'method': 'butter', 'method_args': {'N': 4, 'btype': 'lowpass', 'analog': False, 'output': 'sos', 'Wn': 0.017241379310344827}}, '1': {'discretization': 'upper', 'n_bins': 5}, '2': {'rows': 1, 'lag': 28, 'method': 'additive', 'strength': 1.0, 'first_value_only': False}}\") in model 127 in generation 0: AverageValueNaive\n",
            "Model Number: 128 with model ETS in generation 0 of 20\n"
          ]
        },
        {
          "output_type": "stream",
          "name": "stderr",
          "text": [
            "15:00:45 - cmdstanpy - ERROR - Chain [1] error: error during processing Operation not permitted\n",
            "ERROR:cmdstanpy:Chain [1] error: error during processing Operation not permitted\n",
            "WARNING:prophet.models:Optimization terminated abnormally. Falling back to Newton.\n"
          ]
        },
        {
          "output_type": "stream",
          "name": "stdout",
          "text": [
            "Template Eval Error: Exception(\"Transformer ScipyFilter failed on fit from params ffill {'0': {}, '1': {}, '2': {'threshold': 0.9, 'splash_threshold': None, 'use_dayofmonth_holidays': True, 'use_wkdom_holidays': True, 'use_wkdeom_holidays': False, 'use_lunar_holidays': False, 'use_lunar_weekday': False, 'use_islamic_holidays': False, 'use_hebrew_holidays': True, 'anomaly_detector_params': {'method': 'IQR', 'method_params': {'iqr_threshold': 3.0, 'iqr_quantiles': [0.25, 0.75]}, 'fillna': 'rolling_mean_24', 'transform_dict': None, 'isolated_only': False}, 'remove_excess_anomalies': True, 'impact': 'datepart_regression', 'regression_params': {'regression_model': {'model': 'DecisionTree', 'model_params': {'max_depth': 3, 'min_samples_split': 0.05}}, 'datepart_method': 'common_fourier', 'polynomial_degree': None, 'transform_dict': None, 'holiday_countries_used': False}}, '3': {'method': 'butter', 'method_args': {'N': 2, 'btype': 'highpass', 'analog': False, 'output': 'sos', 'Wn': 0.011904761904761904}}}\") in model 128 in generation 0: ETS\n",
            "Model Number: 129 with model FBProphet in generation 0 of 20\n",
            "Template Eval Error: Exception(\"Transformer AlignLastValue failed on inverse from params akima {'0': {'method': 'clip', 'std_threshold': 1, 'fillna': None}, '1': {'model': 'Linear', 'phi': 1, 'window': None, 'transform_dict': {'fillna': None, 'transformations': {'0': 'bkfilter'}, 'transformation_params': {'0': {}}}}, '2': {}, '3': {'rows': 1, 'lag': 1, 'method': 'additive', 'strength': 1.0, 'first_value_only': True}}\") in model 129 in generation 0: FBProphet\n",
            "Model Number: 130 with model ETS in generation 0 of 20\n",
            "Model Number: 131 with model UnivariateMotif in generation 0 of 20\n",
            "Model Number: 132 with model GLS in generation 0 of 20\n",
            "Model Number: 133 with model UnobservedComponents in generation 0 of 20\n",
            "Model Number: 134 with model SeasonalNaive in generation 0 of 20\n",
            "Model Number: 135 with model ARIMA in generation 0 of 20\n",
            "Model Number: 136 with model GLS in generation 0 of 20\n",
            "Model Number: 137 with model DatepartRegression in generation 0 of 20\n",
            "Template Eval Error: ValueError(\"regression_type='User' but no future_regressor passed\") in model 137 in generation 0: DatepartRegression\n",
            "Model Number: 138 with model WindowRegression in generation 0 of 20\n",
            "Template Eval Error: ValueError(\"regression_type='User' but no future_regressor passed\") in model 138 in generation 0: WindowRegression\n",
            "Model Number: 139 with model ConstantNaive in generation 0 of 20\n",
            "Template Eval Error: Exception(\"Transformer StandardScaler failed on inverse from params mean {'0': {}, '1': {'rolling_window': 30, 'n_tails': 0.05, 'n_future': 0.2, 'method': 'mean', 'macro_micro': True}, '2': {'fillna': 'akima', 'center': 'zero'}}\") in model 139 in generation 0: ConstantNaive\n",
            "Model Number: 140 with model Theta in generation 0 of 20\n",
            "Model Number: 141 with model DatepartRegression in generation 0 of 20\n",
            "Model Number: 142 with model MetricMotif in generation 0 of 20\n",
            "Model Number: 143 with model UnobservedComponents in generation 0 of 20\n",
            "Template Eval Error: ValueError('Model UnobservedComponents returned NaN for one or more series. fail_on_forecast_nan=True') in model 143 in generation 0: UnobservedComponents\n",
            "Model Number: 144 with model ARDL in generation 0 of 20\n",
            "Model Number: 145 with model SeasonalityMotif in generation 0 of 20\n",
            "Model Number: 146 with model ARCH in generation 0 of 20\n",
            "Template Eval Error: ImportError('`arch` package must be installed from pip') in model 146 in generation 0: ARCH\n",
            "Model Number: 147 with model VECM in generation 0 of 20\n",
            "Template Eval Error: ValueError('Only gave one variable to VECM') in model 147 in generation 0: VECM\n",
            "Model Number: 148 with model SectionalMotif in generation 0 of 20\n",
            "Model Number: 149 with model VAR in generation 0 of 20\n",
            "Template Eval Error: ValueError('Only gave one variable to VAR') in model 149 in generation 0: VAR\n",
            "Model Number: 150 with model MetricMotif in generation 0 of 20\n",
            "Model Number: 151 with model ConstantNaive in generation 0 of 20\n",
            "Model Number: 152 with model ETS in generation 0 of 20\n",
            "Model Number: 153 with model ConstantNaive in generation 0 of 20\n",
            "Model Number: 154 with model ARDL in generation 0 of 20\n",
            "Template Eval Error: ValueError(\"regression_type='User' but future_regressor not supplied\") in model 154 in generation 0: ARDL\n",
            "Model Number: 155 with model NVAR in generation 0 of 20\n",
            "Model Number: 156 with model DatepartRegression in generation 0 of 20\n",
            "Model Number: 157 with model MultivariateMotif in generation 0 of 20\n",
            "Model Number: 158 with model VECM in generation 0 of 20\n",
            "Template Eval Error: ValueError('Only gave one variable to VECM') in model 158 in generation 0: VECM\n",
            "Model Number: 159 with model ARCH in generation 0 of 20\n",
            "Template Eval Error: ImportError('`arch` package must be installed from pip') in model 159 in generation 0: ARCH\n",
            "Model Number: 160 with model VECM in generation 0 of 20\n",
            "Template Eval Error: ValueError('Only gave one variable to VECM') in model 160 in generation 0: VECM\n",
            "Model Number: 161 with model SeasonalityMotif in generation 0 of 20\n",
            "Model Number: 162 with model ARIMA in generation 0 of 20\n"
          ]
        },
        {
          "output_type": "stream",
          "name": "stderr",
          "text": [
            "/usr/local/lib/python3.10/dist-packages/autots/tools/thresholding.py:204: RuntimeWarning:\n",
            "\n",
            "overflow encountered in scalar power\n",
            "\n",
            "/usr/local/lib/python3.10/dist-packages/sklearn/linear_model/_coordinate_descent.py:631: ConvergenceWarning:\n",
            "\n",
            "Objective did not converge. You might want to increase the number of iterations, check the scale of the features or consider increasing regularisation. Duality gap: 1.912e+10, tolerance: 5.200e+06\n",
            "\n"
          ]
        },
        {
          "output_type": "stream",
          "name": "stdout",
          "text": [
            "Template Eval Error: Exception(\"Transformer AlignLastValue failed on inverse from params zero {'0': {'sigma': 0.5, 'rolling_window': 90, 'run_order': 'season_first', 'regression_params': {'regression_model': {'model': 'ElasticNet', 'model_params': {}}, 'datepart_method': 'recurring', 'polynomial_degree': 2, 'transform_dict': None, 'holiday_countries_used': False}, 'holiday_params': None}, '1': {'rows': 1, 'lag': 7, 'method': 'additive', 'strength': 1.0, 'first_value_only': False}, '2': {}, '3': {'window_size': 90, 'alpha': 2.5, 'grouping_forward_limit': 3, 'max_level_shifts': 30, 'alignment': 'average'}, '4': {'rows': 1, 'lag': 7, 'method': 'additive', 'strength': 1.0, 'first_value_only': True}, '5': {'rows': 1, 'lag': 1, 'method': 'additive', 'strength': 1.0, 'first_value_only': False}}\") in model 162 in generation 0: ARIMA\n",
            "Model Number: 163 with model UnivariateMotif in generation 0 of 20\n",
            "Model Number: 164 with model ARCH in generation 0 of 20\n",
            "Template Eval Error: ImportError('`arch` package must be installed from pip') in model 164 in generation 0: ARCH\n",
            "Model Number: 165 with model ARCH in generation 0 of 20\n",
            "Template Eval Error: ImportError('`arch` package must be installed from pip') in model 165 in generation 0: ARCH\n",
            "Model Number: 166 with model GLM in generation 0 of 20\n",
            "Template Eval Error: ValueError('regression_type=user and no future_regressor passed') in model 166 in generation 0: GLM\n",
            "Model Number: 167 with model SeasonalNaive in generation 0 of 20\n",
            "Model Number: 168 with model MetricMotif in generation 0 of 20\n",
            "Template Eval Error: IndexError('index 730 is out of bounds for axis 0 with size 147') in model 168 in generation 0: MetricMotif\n",
            "Model Number: 169 with model DatepartRegression in generation 0 of 20\n"
          ]
        },
        {
          "output_type": "stream",
          "name": "stderr",
          "text": [
            "/usr/local/lib/python3.10/dist-packages/sklearn/neural_network/_multilayer_perceptron.py:541: ConvergenceWarning:\n",
            "\n",
            "lbfgs failed to converge (status=1):\n",
            "STOP: TOTAL NO. of ITERATIONS REACHED LIMIT.\n",
            "\n",
            "Increase the number of iterations (max_iter) or scale the data as shown in:\n",
            "    https://scikit-learn.org/stable/modules/preprocessing.html\n",
            "\n"
          ]
        },
        {
          "output_type": "stream",
          "name": "stdout",
          "text": [
            "Model Number: 170 with model DatepartRegression in generation 0 of 20\n",
            "Template Eval Error: ValueError(\"regression_type='User' but no future_regressor passed\") in model 170 in generation 0: DatepartRegression\n",
            "Model Number: 171 with model SeasonalNaive in generation 0 of 20\n",
            "Template Eval Error: Exception(\"Transformer AlignLastValue failed on inverse from params linear {'0': {}, '1': {}, '2': {'rows': 2, 'lag': 1, 'method': 'additive', 'strength': 1.0, 'first_value_only': True}}\") in model 171 in generation 0: SeasonalNaive\n",
            "Model Number: 172 with model WindowRegression in generation 0 of 20\n",
            "Model Number: 173 with model WindowRegression in generation 0 of 20\n",
            "Model Number: 174 with model GLM in generation 0 of 20\n",
            "Template Eval Error: ValueError('NaN, inf or invalid value detected in weights, estimation infeasible.') in model 174 in generation 0: GLM\n",
            "Model Number: 175 with model UnobservedComponents in generation 0 of 20\n"
          ]
        },
        {
          "output_type": "stream",
          "name": "stderr",
          "text": [
            "/usr/local/lib/python3.10/dist-packages/statsmodels/genmod/families/links.py:527: RuntimeWarning:\n",
            "\n",
            "overflow encountered in exp\n",
            "\n",
            "/usr/local/lib/python3.10/dist-packages/statsmodels/genmod/families/family.py:445: RuntimeWarning:\n",
            "\n",
            "divide by zero encountered in divide\n",
            "\n",
            "/usr/local/lib/python3.10/dist-packages/statsmodels/genmod/families/family.py:143: RuntimeWarning:\n",
            "\n",
            "invalid value encountered in multiply\n",
            "\n",
            "/usr/local/lib/python3.10/dist-packages/statsmodels/genmod/families/family.py:143: RuntimeWarning:\n",
            "\n",
            "divide by zero encountered in divide\n",
            "\n",
            "/usr/local/lib/python3.10/dist-packages/statsmodels/genmod/generalized_linear_model.py:1328: RuntimeWarning:\n",
            "\n",
            "invalid value encountered in multiply\n",
            "\n"
          ]
        },
        {
          "output_type": "stream",
          "name": "stdout",
          "text": [
            "Template Eval Error: ValueError(\"regression_type='User' but no future_regressor supplied\") in model 175 in generation 0: UnobservedComponents\n",
            "Model Number: 176 with model NVAR in generation 0 of 20\n",
            "Model Number: 177 with model SeasonalityMotif in generation 0 of 20\n",
            "Model Number: 178 with model LastValueNaive in generation 0 of 20\n",
            "Model Number: 179 with model UnivariateMotif in generation 0 of 20\n",
            "Model Number: 180 with model SeasonalityMotif in generation 0 of 20\n",
            "Model Number: 181 with model UnobservedComponents in generation 0 of 20\n",
            "New Generation: 1 of 20\n",
            "Model Number: 182 with model SeasonalNaive in generation 1 of 20\n",
            "Model Number: 183 with model SectionalMotif in generation 1 of 20\n",
            "Model Number: 184 with model SeasonalityMotif in generation 1 of 20\n",
            "Model Number: 185 with model Theta in generation 1 of 20\n",
            "Model Number: 186 with model NVAR in generation 1 of 20\n",
            "Model Number: 187 with model AverageValueNaive in generation 1 of 20\n",
            "Model Number: 188 with model FBProphet in generation 1 of 20\n"
          ]
        },
        {
          "output_type": "stream",
          "name": "stderr",
          "text": [
            "15:01:03 - cmdstanpy - ERROR - Chain [1] error: error during processing Operation not permitted\n",
            "ERROR:cmdstanpy:Chain [1] error: error during processing Operation not permitted\n",
            "WARNING:prophet.models:Optimization terminated abnormally. Falling back to Newton.\n"
          ]
        },
        {
          "output_type": "stream",
          "name": "stdout",
          "text": [
            "Model Number: 189 with model ETS in generation 1 of 20\n",
            "Model Number: 190 with model UnivariateRegression in generation 1 of 20\n",
            "Model Number: 191 with model LastValueNaive in generation 1 of 20\n",
            "Model Number: 192 with model Theta in generation 1 of 20\n",
            "Model Number: 193 with model SeasonalNaive in generation 1 of 20\n",
            "Model Number: 194 with model ConstantNaive in generation 1 of 20\n",
            "Model Number: 195 with model SeasonalityMotif in generation 1 of 20\n",
            "Model Number: 196 with model MultivariateMotif in generation 1 of 20\n",
            "Model Number: 197 with model SeasonalNaive in generation 1 of 20\n",
            "Model Number: 198 with model ARIMA in generation 1 of 20\n",
            "Model Number: 199 with model SeasonalityMotif in generation 1 of 20\n",
            "Model Number: 200 with model GLS in generation 1 of 20\n",
            "Model Number: 201 with model ARDL in generation 1 of 20\n",
            "Template Eval Error: ValueError(\"ARDL series Close failed with error IndexError('tuple index out of range') exog train None and predict None\") in model 201 in generation 1: ARDL\n",
            "Model Number: 202 with model MetricMotif in generation 1 of 20\n",
            "Model Number: 203 with model NVAR in generation 1 of 20\n",
            "Model Number: 204 with model SeasonalityMotif in generation 1 of 20\n",
            "Model Number: 205 with model NVAR in generation 1 of 20\n"
          ]
        },
        {
          "output_type": "stream",
          "name": "stderr",
          "text": [
            "/usr/local/lib/python3.10/dist-packages/sklearn/linear_model/_ridge.py:216: LinAlgWarning:\n",
            "\n",
            "Ill-conditioned matrix (rcond=1.44546e-25): result may not be accurate.\n",
            "\n"
          ]
        },
        {
          "output_type": "stream",
          "name": "stdout",
          "text": [
            "Model Number: 206 with model SeasonalityMotif in generation 1 of 20\n",
            "Model Number: 207 with model LastValueNaive in generation 1 of 20\n",
            "Model Number: 208 with model SeasonalNaive in generation 1 of 20\n",
            "Model Number: 209 with model Theta in generation 1 of 20\n",
            "Model Number: 210 with model SeasonalNaive in generation 1 of 20\n",
            "Model Number: 211 with model ConstantNaive in generation 1 of 20\n",
            "Model Number: 212 with model WindowRegression in generation 1 of 20\n",
            "Model Number: 213 with model ETS in generation 1 of 20\n",
            "Model Number: 214 with model SeasonalityMotif in generation 1 of 20\n",
            "Model Number: 215 with model SeasonalNaive in generation 1 of 20\n",
            "Model Number: 216 with model LastValueNaive in generation 1 of 20\n",
            "Model Number: 217 with model ETS in generation 1 of 20\n",
            "Template Eval Error: Exception(\"Transformer ScipyFilter failed on fit from params zero {'0': {'method': 'butter', 'method_args': {'N': 3, 'btype': 'highpass', 'analog': False, 'output': 'sos', 'Wn': 0.03571428571428571}}, '1': {'method': 100}, '2': {}, '3': {'sigma': 2, 'rolling_window': 90, 'run_order': 'season_first', 'regression_params': {'regression_model': {'model': 'ElasticNet', 'model_params': {}}, 'datepart_method': 'simple_binarized', 'polynomial_degree': None, 'transform_dict': {'fillna': None, 'transformations': {'0': 'bkfilter'}, 'transformation_params': {'0': {}}}, 'holiday_countries_used': False}, 'holiday_params': {'threshold': 0.9, 'splash_threshold': None, 'use_dayofmonth_holidays': True, 'use_wkdom_holidays': True, 'use_wkdeom_holidays': False, 'use_lunar_holidays': False, 'use_lunar_weekday': False, 'use_islamic_holidays': False, 'use_hebrew_holidays': False, 'anomaly_detector_params': {'method': 'rolling_zscore', 'method_params': {'distribution': 'uniform', 'alpha': 0.05, 'rolling_periods': 200, 'center': True}, 'fillna': 'mean', 'transform_dict': {'fillna': 'zero', 'transformations': {'0': 'MinMaxScaler', '1': 'MinMaxScaler'}, 'transformation_params': {'0': {}, '1': {}}}, 'isolated_only': False}, 'remove_excess_anomalies': True, 'impact': 'datepart_regression', 'regression_params': {'regression_model': {'model': 'ElasticNet', 'model_params': {}}, 'datepart_method': 'simple_binarized', 'polynomial_degree': None, 'transform_dict': {'fillna': None, 'transformations': {'0': 'bkfilter'}, 'transformation_params': {'0': {}}}, 'holiday_countries_used': False}}}}\") in model 217 in generation 1: ETS\n",
            "Model Number: 218 with model UnivariateMotif in generation 1 of 20\n",
            "Model Number: 219 with model SeasonalityMotif in generation 1 of 20\n",
            "Model Number: 220 with model SeasonalNaive in generation 1 of 20\n",
            "Model Number: 221 with model ETS in generation 1 of 20\n",
            "Model Number: 222 with model ARDL in generation 1 of 20\n",
            "Model Number: 223 with model SeasonalNaive in generation 1 of 20\n",
            "Model Number: 224 with model AverageValueNaive in generation 1 of 20\n",
            "Model Number: 225 with model ETS in generation 1 of 20\n",
            "Model Number: 226 with model NVAR in generation 1 of 20\n",
            "Template Eval Error: Exception(\"Transformer ReplaceConstant failed on fit from params time {'0': {'fillna': 'ffill', 'center': 'zero'}, '1': {'decomp_type': 'seasonal_decompose', 'part': 'trend'}, '2': {'constant': 0, 'reintroduction_model': {'model': 'xgboost', 'model_params': {'base_score': 0.5, 'booster': 'gbtree', 'colsample_bylevel': 0.692, 'learning_rate': 0.022, 'max_bin': 256, 'max_depth': 14, 'max_leaves': 0, 'min_child_weight': 0.024, 'n_estimators': 162}, 'datepart_method': ['weekdayofmonth', 'common_fourier']}, 'fillna': 'SeasonalityMotifImputer1K'}, '3': {}}\") in model 226 in generation 1: NVAR\n",
            "Model Number: 227 with model ARDL in generation 1 of 20\n",
            "Template Eval Error: ValueError(\"regression_type='User' but future_regressor not supplied\") in model 227 in generation 1: ARDL\n",
            "Model Number: 228 with model GLS in generation 1 of 20\n",
            "Model Number: 229 with model UnivariateMotif in generation 1 of 20\n",
            "Model Number: 230 with model UnobservedComponents in generation 1 of 20\n",
            "Model Number: 231 with model UnobservedComponents in generation 1 of 20\n",
            "Model Number: 232 with model MultivariateRegression in generation 1 of 20\n",
            "Model Number: 233 with model Theta in generation 1 of 20\n",
            "Model Number: 234 with model WindowRegression in generation 1 of 20\n",
            "Template Eval Error: ValueError(\"regression_type='User' but no future_regressor passed\") in model 234 in generation 1: WindowRegression\n",
            "Model Number: 235 with model LastValueNaive in generation 1 of 20\n",
            "Model Number: 236 with model MultivariateRegression in generation 1 of 20\n",
            "Template Eval Error: ValueError(\"regression_type='User' but not future_regressor supplied.\") in model 236 in generation 1: MultivariateRegression\n",
            "Model Number: 237 with model LastValueNaive in generation 1 of 20\n",
            "Model Number: 238 with model DatepartRegression in generation 1 of 20\n",
            "Model Number: 239 with model GLS in generation 1 of 20\n",
            "Model Number: 240 with model SeasonalNaive in generation 1 of 20\n",
            "Model Number: 241 with model MetricMotif in generation 1 of 20\n",
            "Model Number: 242 with model AverageValueNaive in generation 1 of 20\n",
            "Model Number: 243 with model DatepartRegression in generation 1 of 20\n",
            "Model Number: 244 with model ARIMA in generation 1 of 20\n",
            "Template Eval Error: ValueError(\"regression_type='User' but future_regressor not supplied\") in model 244 in generation 1: ARIMA\n",
            "Model Number: 245 with model UnobservedComponents in generation 1 of 20\n",
            "Model Number: 246 with model ARIMA in generation 1 of 20\n",
            "Model Number: 247 with model DatepartRegression in generation 1 of 20\n",
            "Template Eval Error: ValueError(\"regression_type='User' but no future_regressor passed\") in model 247 in generation 1: DatepartRegression\n",
            "Model Number: 248 with model LastValueNaive in generation 1 of 20\n",
            "Model Number: 249 with model MultivariateRegression in generation 1 of 20\n",
            "Model Number: 250 with model LastValueNaive in generation 1 of 20\n",
            "Model Number: 251 with model FBProphet in generation 1 of 20\n",
            "Model Number: 252 with model GLS in generation 1 of 20\n",
            "Model Number: 253 with model GLS in generation 1 of 20\n",
            "Model Number: 254 with model LastValueNaive in generation 1 of 20\n",
            "Model Number: 255 with model SeasonalityMotif in generation 1 of 20\n",
            "Model Number: 256 with model DatepartRegression in generation 1 of 20\n",
            "Model Number: 257 with model ETS in generation 1 of 20\n",
            "Model Number: 258 with model SeasonalNaive in generation 1 of 20\n",
            "Model Number: 259 with model UnobservedComponents in generation 1 of 20\n",
            "Model Number: 260 with model UnobservedComponents in generation 1 of 20\n",
            "Model Number: 261 with model MetricMotif in generation 1 of 20\n",
            "Model Number: 262 with model LastValueNaive in generation 1 of 20\n",
            "Model Number: 263 with model UnivariateRegression in generation 1 of 20\n",
            "Template Eval Error: ValueError(\"regression_type='User' but not future_regressor supplied.\") in model 263 in generation 1: UnivariateRegression\n",
            "Model Number: 264 with model ARDL in generation 1 of 20\n",
            "Model Number: 265 with model AverageValueNaive in generation 1 of 20\n",
            "Model Number: 266 with model LastValueNaive in generation 1 of 20\n",
            "Model Number: 267 with model UnobservedComponents in generation 1 of 20\n",
            "Model Number: 268 with model ETS in generation 1 of 20\n",
            "Model Number: 269 with model FBProphet in generation 1 of 20\n",
            "Model Number: 270 with model Theta in generation 1 of 20\n",
            "Model Number: 271 with model UnobservedComponents in generation 1 of 20\n",
            "Model Number: 272 with model UnobservedComponents in generation 1 of 20\n",
            "Model Number: 273 with model SectionalMotif in generation 1 of 20\n",
            "Model Number: 274 with model GLS in generation 1 of 20\n",
            "Model Number: 275 with model FBProphet in generation 1 of 20\n",
            "Model Number: 276 with model GLM in generation 1 of 20\n",
            "Template Eval Error: ValueError('NaN, inf or invalid value detected in weights, estimation infeasible.') in model 276 in generation 1: GLM\n",
            "Model Number: 277 with model AverageValueNaive in generation 1 of 20\n",
            "Template Eval Error: Exception(\"Transformer Cointegration failed on fit from params ffill {'0': {'method': 'clip', 'std_threshold': 3, 'fillna': None}, '1': {}, '2': {}, '3': {'det_order': -1, 'k_ar_diff': 1}, '4': {'algorithm': 'deflation', 'fun': 'logcosh', 'max_iter': 500, 'whiten': True}}\") in model 277 in generation 1: AverageValueNaive\n",
            "Model Number: 278 with model SeasonalityMotif in generation 1 of 20\n",
            "Model Number: 279 with model FBProphet in generation 1 of 20\n",
            "Template Eval Error: ValueError(\"regression_type='User' but no future_regressor passed\") in model 279 in generation 1: FBProphet\n",
            "Model Number: 280 with model FBProphet in generation 1 of 20\n"
          ]
        },
        {
          "output_type": "stream",
          "name": "stderr",
          "text": [
            "/usr/local/lib/python3.10/dist-packages/statsmodels/genmod/families/links.py:527: RuntimeWarning:\n",
            "\n",
            "overflow encountered in exp\n",
            "\n",
            "/usr/local/lib/python3.10/dist-packages/statsmodels/genmod/families/family.py:143: RuntimeWarning:\n",
            "\n",
            "invalid value encountered in multiply\n",
            "\n",
            "/usr/local/lib/python3.10/dist-packages/statsmodels/genmod/generalized_linear_model.py:1328: RuntimeWarning:\n",
            "\n",
            "invalid value encountered in multiply\n",
            "\n"
          ]
        },
        {
          "output_type": "stream",
          "name": "stdout",
          "text": [
            "Model Number: 281 with model ConstantNaive in generation 1 of 20\n",
            "Model Number: 282 with model Theta in generation 1 of 20\n",
            "Model Number: 283 with model ARDL in generation 1 of 20\n",
            "Template Eval Error: ValueError(\"regression_type='User' but future_regressor not supplied\") in model 283 in generation 1: ARDL\n",
            "Model Number: 284 with model WindowRegression in generation 1 of 20\n",
            "Model Number: 285 with model NVAR in generation 1 of 20\n"
          ]
        },
        {
          "output_type": "stream",
          "name": "stderr",
          "text": [
            "/usr/local/lib/python3.10/dist-packages/sklearn/neural_network/_multilayer_perceptron.py:541: ConvergenceWarning:\n",
            "\n",
            "lbfgs failed to converge (status=1):\n",
            "STOP: TOTAL NO. of ITERATIONS REACHED LIMIT.\n",
            "\n",
            "Increase the number of iterations (max_iter) or scale the data as shown in:\n",
            "    https://scikit-learn.org/stable/modules/preprocessing.html\n",
            "\n",
            "/usr/local/lib/python3.10/dist-packages/sklearn/linear_model/_coordinate_descent.py:631: ConvergenceWarning:\n",
            "\n",
            "Objective did not converge. You might want to increase the number of iterations, check the scale of the features or consider increasing regularisation. Duality gap: 1.100e+02, tolerance: 2.586e-02\n",
            "\n"
          ]
        },
        {
          "output_type": "stream",
          "name": "stdout",
          "text": [
            "Model Number: 286 with model UnobservedComponents in generation 1 of 20\n",
            "Template Eval Error: ValueError(\"regression_type='User' but no future_regressor supplied\") in model 286 in generation 1: UnobservedComponents\n",
            "Model Number: 287 with model GLS in generation 1 of 20\n",
            "Template Eval Error: Exception(\"Transformer ScipyFilter failed on fit from params fake_date {'0': {}, '1': {'lag_1': 24, 'method': 'LastValue'}, '2': {'rows': 1, 'lag': 1, 'method': 'additive', 'strength': 1.0, 'first_value_only': False}, '3': {'method': 'butter', 'method_args': {'N': 4, 'btype': 'lowpass', 'analog': False, 'output': 'sos', 'Wn': 0.14285714285714285}}, '4': {}, '5': {}}\") in model 287 in generation 1: GLS\n",
            "Model Number: 288 with model NVAR in generation 1 of 20\n",
            "Model Number: 289 with model UnobservedComponents in generation 1 of 20\n",
            "Model Number: 290 with model LastValueNaive in generation 1 of 20\n",
            "Model Number: 291 with model GLM in generation 1 of 20\n",
            "Model Number: 292 with model AverageValueNaive in generation 1 of 20\n"
          ]
        },
        {
          "output_type": "stream",
          "name": "stderr",
          "text": [
            "/usr/local/lib/python3.10/dist-packages/statsmodels/genmod/families/links.py:198: RuntimeWarning:\n",
            "\n",
            "overflow encountered in exp\n",
            "\n"
          ]
        },
        {
          "output_type": "stream",
          "name": "stdout",
          "text": [
            "Model Number: 293 with model GLS in generation 1 of 20\n",
            "Template Eval Error: Exception(\"Transformer ScipyFilter failed on fit from params fake_date {'0': {}, '1': {}, '2': {'method': 'butter', 'method_args': {'N': 4, 'btype': 'lowpass', 'analog': False, 'output': 'sos', 'Wn': 0.14285714285714285}}}\") in model 293 in generation 1: GLS\n",
            "Model Number: 294 with model GLS in generation 1 of 20\n",
            "Template Eval Error: Exception(\"Transformer ReplaceConstant failed on fit from params rolling_mean {'0': {'method': 0.8}, '1': {'constant': 0, 'reintroduction_model': {'model': 'SGD', 'model_params': {}, 'datepart_method': 'simple'}, 'fillna': 'mean'}, '2': {'model': 'Linear'}}\") in model 294 in generation 1: GLS\n",
            "Model Number: 295 with model MultivariateMotif in generation 1 of 20\n",
            "Model Number: 296 with model FBProphet in generation 1 of 20\n"
          ]
        },
        {
          "output_type": "stream",
          "name": "stderr",
          "text": [
            "/usr/local/lib/python3.10/dist-packages/sklearn/utils/validation.py:1143: DataConversionWarning:\n",
            "\n",
            "A column-vector y was passed when a 1d array was expected. Please change the shape of y to (n_samples, ), for example using ravel().\n",
            "\n"
          ]
        },
        {
          "output_type": "stream",
          "name": "stdout",
          "text": [
            "Model Number: 297 with model SeasonalityMotif in generation 1 of 20\n",
            "Model Number: 298 with model SeasonalNaive in generation 1 of 20\n",
            "Model Number: 299 with model LastValueNaive in generation 1 of 20\n",
            "Model Number: 300 with model MetricMotif in generation 1 of 20\n",
            "Model Number: 301 with model ETS in generation 1 of 20\n",
            "Model Number: 302 with model AverageValueNaive in generation 1 of 20\n",
            "Model Number: 303 with model MultivariateMotif in generation 1 of 20\n",
            "Model Number: 304 with model NVAR in generation 1 of 20\n",
            "Model Number: 305 with model SeasonalityMotif in generation 1 of 20\n",
            "Model Number: 306 with model UnivariateMotif in generation 1 of 20\n",
            "New Generation: 2 of 20\n",
            "Model Number: 307 with model FBProphet in generation 2 of 20\n",
            "back_forecast split 2 failed with LinAlgError('Array must not contain infs or NaNs')\n",
            "back_forecast split 3 failed with LinAlgError('Array must not contain infs or NaNs')\n",
            "back_forecast split 4 failed with LinAlgError('Array must not contain infs or NaNs')\n",
            "back_forecast split 5 failed with LinAlgError('Array must not contain infs or NaNs')\n",
            "back_forecast split 6 failed with LinAlgError('Array must not contain infs or NaNs')\n"
          ]
        },
        {
          "output_type": "stream",
          "name": "stderr",
          "text": [
            "/usr/local/lib/python3.10/dist-packages/autots/models/matrix_var.py:62: RuntimeWarning:\n",
            "\n",
            "divide by zero encountered in reciprocal\n",
            "\n",
            "/usr/local/lib/python3.10/dist-packages/autots/models/matrix_var.py:62: RuntimeWarning:\n",
            "\n",
            "invalid value encountered in multiply\n",
            "\n",
            "/usr/local/lib/python3.10/dist-packages/autots/models/matrix_var.py:62: RuntimeWarning:\n",
            "\n",
            "divide by zero encountered in reciprocal\n",
            "\n",
            "/usr/local/lib/python3.10/dist-packages/autots/models/matrix_var.py:62: RuntimeWarning:\n",
            "\n",
            "invalid value encountered in multiply\n",
            "\n",
            "/usr/local/lib/python3.10/dist-packages/autots/models/matrix_var.py:62: RuntimeWarning:\n",
            "\n",
            "divide by zero encountered in reciprocal\n",
            "\n",
            "/usr/local/lib/python3.10/dist-packages/autots/models/matrix_var.py:62: RuntimeWarning:\n",
            "\n",
            "invalid value encountered in multiply\n",
            "\n",
            "/usr/local/lib/python3.10/dist-packages/autots/models/matrix_var.py:62: RuntimeWarning:\n",
            "\n",
            "divide by zero encountered in reciprocal\n",
            "\n",
            "/usr/local/lib/python3.10/dist-packages/autots/models/matrix_var.py:62: RuntimeWarning:\n",
            "\n",
            "invalid value encountered in multiply\n",
            "\n",
            "/usr/local/lib/python3.10/dist-packages/autots/models/matrix_var.py:62: RuntimeWarning:\n",
            "\n",
            "divide by zero encountered in reciprocal\n",
            "\n",
            "/usr/local/lib/python3.10/dist-packages/autots/models/matrix_var.py:62: RuntimeWarning:\n",
            "\n",
            "invalid value encountered in multiply\n",
            "\n"
          ]
        },
        {
          "output_type": "stream",
          "name": "stdout",
          "text": [
            "Model Number: 308 with model UnivariateMotif in generation 2 of 20\n",
            "Template Eval Error: Exception(\"Transformer RegressionFilter failed on fit from params zero {'0': {'lag_1': 4, 'method': 'LastValue'}, '1': {'sigma': 1.5, 'rolling_window': 90, 'run_order': 'season_first', 'regression_params': {'regression_model': {'model': 'DecisionTree', 'model_params': {'max_depth': 9, 'min_samples_split': 0.05}}, 'datepart_method': 'common_fourier', 'polynomial_degree': None, 'transform_dict': {'fillna': None, 'transformations': {'0': 'Discretize'}, 'transformation_params': {'0': {'discretization': 'center', 'n_bins': 20}}}, 'holiday_countries_used': False}, 'holiday_params': {'threshold': 0.9, 'splash_threshold': None, 'use_dayofmonth_holidays': True, 'use_wkdom_holidays': True, 'use_wkdeom_holidays': False, 'use_lunar_holidays': False, 'use_lunar_weekday': False, 'use_islamic_holidays': False, 'use_hebrew_holidays': False, 'anomaly_detector_params': {'method': 'zscore', 'method_params': {'distribution': 'uniform', 'alpha': 0.05}, 'fillna': 'fake_date', 'transform_dict': {'fillna': None, 'transformations': {'0': 'EWMAFilter'}, 'transformation_params': {'0': {'span': 7}}}, 'isolated_only': False}, 'remove_excess_anomalies': True, 'impact': 'datepart_regression', 'regression_params': {'regression_model': {'model': 'DecisionTree', 'model_params': {'max_depth': 9, 'min_samples_split': 0.05}}, 'datepart_method': 'common_fourier', 'polynomial_degree': None, 'transform_dict': {'fillna': None, 'transformations': {'0': 'Discretize'}, 'transformation_params': {'0': {'discretization': 'center', 'n_bins': 20}}}, 'holiday_countries_used': False}}}, '2': {'method': 'minmax', 'method_params': {'alpha': 0.1}, 'fillna': 'ffill', 'transform_dict': {'transformations': {'0': 'DatepartRegression'}, 'transformation_params': {'0': {'datepart_method': 'simple_3', 'regression_model': {'model': 'DecisionTree', 'model_params': {'max_depth': None, 'min_samples_split': 0.1}}}}}, 'isolated_only': False}}\") in model 308 in generation 2: UnivariateMotif\n",
            "Model Number: 309 with model SeasonalNaive in generation 2 of 20\n",
            "Model Number: 310 with model MultivariateRegression in generation 2 of 20\n",
            "Template Eval Error: Exception(\"Transformer DatepartRegression failed on fit from params ffill {'0': {'rows': 1, 'lag': 7, 'method': 'multiplicative', 'strength': 1.0, 'first_value_only': False}, '1': {}, '2': {'regression_model': {'model': 'DecisionTree', 'model_params': {'max_depth': None, 'min_samples_split': 2}}, 'datepart_method': 'simple_binarized', 'polynomial_degree': None, 'transform_dict': {'fillna': None, 'transformations': {'0': 'AnomalyRemoval'}, 'transformation_params': {'0': {'method': 'zscore', 'transform_dict': {'transformations': {'0': 'DatepartRegression'}, 'transformation_params': {'0': {'datepart_method': 'simple_3', 'regression_model': {'model': 'ElasticNet', 'model_params': {}}}}}, 'method_params': {'distribution': 'uniform', 'alpha': 0.05}}}}, 'holiday_countries_used': False}, '3': {'window': None}}\") in model 310 in generation 2: MultivariateRegression\n",
            "Model Number: 311 with model Theta in generation 2 of 20\n",
            "Model Number: 312 with model MultivariateRegression in generation 2 of 20\n",
            "Model Number: 313 with model UnivariateMotif in generation 2 of 20\n",
            "Template Eval Error: Exception(\"Transformer AlignLastValue failed on inverse from params mean {'0': {'rows': 7, 'lag': 1, 'method': 'additive', 'strength': 1.0, 'first_value_only': True}, '1': {'model': 'GLS', 'phi': 1, 'window': None, 'transform_dict': None}, '2': {'method': 'minmax', 'method_params': {'alpha': 0.1}, 'fillna': 'ffill', 'transform_dict': {'transformations': {'0': 'DatepartRegression'}, 'transformation_params': {'0': {'datepart_method': 'simple_3', 'regression_model': {'model': 'DecisionTree', 'model_params': {'max_depth': None, 'min_samples_split': 0.1}}}}}, 'isolated_only': False}}\") in model 313 in generation 2: UnivariateMotif\n",
            "Model Number: 314 with model ConstantNaive in generation 2 of 20\n",
            "Model Number: 315 with model LastValueNaive in generation 2 of 20\n",
            "Model Number: 316 with model MultivariateRegression in generation 2 of 20\n",
            "Model Number: 317 with model ETS in generation 2 of 20\n",
            "Model Number: 318 with model WindowRegression in generation 2 of 20\n",
            "Template Eval Error: ValueError(\"Some value(s) of y are out of the valid range of the loss 'HalfPoissonLoss'.\") in model 318 in generation 2: WindowRegression\n",
            "Model Number: 319 with model LastValueNaive in generation 2 of 20\n",
            "Model Number: 320 with model SeasonalNaive in generation 2 of 20\n",
            "Model Number: 321 with model NVAR in generation 2 of 20\n",
            "Model Number: 322 with model DatepartRegression in generation 2 of 20\n",
            "Model Number: 323 with model GLM in generation 2 of 20\n",
            "Model Number: 324 with model ARIMA in generation 2 of 20\n",
            "Template Eval Error: ValueError(\"regression_type='User' but future_regressor not supplied\") in model 324 in generation 2: ARIMA\n",
            "Model Number: 325 with model NVAR in generation 2 of 20\n",
            "Model Number: 326 with model Theta in generation 2 of 20\n"
          ]
        },
        {
          "output_type": "stream",
          "name": "stderr",
          "text": [
            "/usr/local/lib/python3.10/dist-packages/statsmodels/genmod/families/links.py:198: RuntimeWarning:\n",
            "\n",
            "overflow encountered in exp\n",
            "\n"
          ]
        },
        {
          "output_type": "stream",
          "name": "stdout",
          "text": [
            "Model Number: 327 with model DatepartRegression in generation 2 of 20\n",
            "Model Number: 328 with model MetricMotif in generation 2 of 20\n",
            "Model Number: 329 with model AverageValueNaive in generation 2 of 20\n",
            "Model Number: 330 with model DatepartRegression in generation 2 of 20\n"
          ]
        },
        {
          "output_type": "stream",
          "name": "stderr",
          "text": [
            "/usr/local/lib/python3.10/dist-packages/sklearn/decomposition/_fastica.py:708: FutureWarning:\n",
            "\n",
            "Starting in v1.3, whiten=True should be specified as whiten='arbitrary-variance' (its current behaviour). This behavior is deprecated in 1.1 and will raise ValueError in 1.3.\n",
            "\n"
          ]
        },
        {
          "output_type": "stream",
          "name": "stdout",
          "text": [
            "Model Number: 331 with model MetricMotif in generation 2 of 20\n",
            "Model Number: 332 with model UnobservedComponents in generation 2 of 20\n",
            "Template Eval Error: ValueError(\"regression_type='User' but no future_regressor supplied\") in model 332 in generation 2: UnobservedComponents\n",
            "Model Number: 333 with model MetricMotif in generation 2 of 20\n",
            "Model Number: 334 with model DatepartRegression in generation 2 of 20\n",
            "Template Eval Error: ValueError(\"regression_type='User' but no future_regressor passed\") in model 334 in generation 2: DatepartRegression\n",
            "Model Number: 335 with model SeasonalNaive in generation 2 of 20\n",
            "Model Number: 336 with model Theta in generation 2 of 20\n",
            "Model Number: 337 with model NVAR in generation 2 of 20\n",
            "Model Number: 338 with model MetricMotif in generation 2 of 20\n",
            "Model Number: 339 with model UnivariateRegression in generation 2 of 20\n",
            "Template Eval Error: ValueError(\"regression_type='User' but not future_regressor supplied.\") in model 339 in generation 2: UnivariateRegression\n",
            "Model Number: 340 with model MultivariateRegression in generation 2 of 20\n",
            "Template Eval Error: ValueError(\"regression_type='User' but not future_regressor supplied.\") in model 340 in generation 2: MultivariateRegression\n",
            "Model Number: 341 with model FBProphet in generation 2 of 20\n"
          ]
        },
        {
          "output_type": "stream",
          "name": "stderr",
          "text": [
            "/usr/local/lib/python3.10/dist-packages/autots/tools/percentile.py:47: RuntimeWarning:\n",
            "\n",
            "All-NaN slice encountered\n",
            "\n"
          ]
        },
        {
          "output_type": "stream",
          "name": "stdout",
          "text": [
            "Model Number: 342 with model UnobservedComponents in generation 2 of 20\n",
            "Model Number: 343 with model SeasonalityMotif in generation 2 of 20\n",
            "Model Number: 344 with model Theta in generation 2 of 20\n",
            "Model Number: 345 with model ETS in generation 2 of 20\n",
            "Model Number: 346 with model NVAR in generation 2 of 20\n",
            "Model Number: 347 with model WindowRegression in generation 2 of 20\n"
          ]
        },
        {
          "output_type": "stream",
          "name": "stderr",
          "text": [
            "/usr/local/lib/python3.10/dist-packages/sklearn/neighbors/_classification.py:215: DataConversionWarning:\n",
            "\n",
            "A column-vector y was passed when a 1d array was expected. Please change the shape of y to (n_samples,), for example using ravel().\n",
            "\n"
          ]
        },
        {
          "output_type": "stream",
          "name": "stdout",
          "text": [
            "Model Number: 348 with model GLS in generation 2 of 20\n",
            "Model Number: 349 with model ConstantNaive in generation 2 of 20\n",
            "Model Number: 350 with model SeasonalNaive in generation 2 of 20\n",
            "Model Number: 351 with model FBProphet in generation 2 of 20\n",
            "No anomalies detected.\n",
            "Model Number: 352 with model UnivariateMotif in generation 2 of 20\n",
            "Model Number: 353 with model ConstantNaive in generation 2 of 20\n",
            "Model Number: 354 with model UnobservedComponents in generation 2 of 20\n",
            "Model Number: 355 with model NVAR in generation 2 of 20\n",
            "Model Number: 356 with model MultivariateMotif in generation 2 of 20\n",
            "Model Number: 357 with model LastValueNaive in generation 2 of 20\n",
            "Model Number: 358 with model Theta in generation 2 of 20\n"
          ]
        },
        {
          "output_type": "stream",
          "name": "stderr",
          "text": [
            "/usr/local/lib/python3.10/dist-packages/sklearn/decomposition/_fastica.py:583: UserWarning:\n",
            "\n",
            "Ignoring n_components with whiten=False.\n",
            "\n"
          ]
        },
        {
          "output_type": "stream",
          "name": "stdout",
          "text": [
            "Model Number: 359 with model Theta in generation 2 of 20\n",
            "Model Number: 360 with model GLS in generation 2 of 20\n",
            "Template Eval Error: Exception(\"Transformer BTCD failed on fit from params ffill {'0': {}, '1': {'regression_model': {'model': 'FastRidge', 'model_params': {}}, 'max_lags': 1}, '2': {'decimals': -1, 'on_transform': True, 'on_inverse': True}, '3': {'output_distribution': 'uniform', 'n_quantiles': 100}}\") in model 360 in generation 2: GLS\n",
            "Model Number: 361 with model GLS in generation 2 of 20\n",
            "Model Number: 362 with model LastValueNaive in generation 2 of 20\n",
            "Model Number: 363 with model NVAR in generation 2 of 20\n",
            "Model Number: 364 with model ARIMA in generation 2 of 20\n",
            "Model Number: 365 with model ConstantNaive in generation 2 of 20\n",
            "Model Number: 366 with model MultivariateRegression in generation 2 of 20\n",
            "Model Number: 367 with model ETS in generation 2 of 20\n",
            "Model Number: 368 with model WindowRegression in generation 2 of 20\n",
            "Model Number: 369 with model UnobservedComponents in generation 2 of 20\n",
            "Template Eval Error: Exception(\"Transformer ScipyFilter failed on fit from params fake_date {'0': {}, '1': {'rows': 4, 'lag': 1, 'method': 'additive', 'strength': 1.0, 'first_value_only': False}, '2': {}, '3': {'rows': 2}, '4': {}, '5': {'method': 'butter', 'method_args': {'N': 3, 'btype': 'highpass', 'analog': False, 'output': 'sos', 'Wn': 0.1111111111111111}}}\") in model 369 in generation 2: UnobservedComponents\n",
            "Model Number: 370 with model GLS in generation 2 of 20\n",
            "Model Number: 371 with model LastValueNaive in generation 2 of 20\n",
            "Model Number: 372 with model LastValueNaive in generation 2 of 20\n",
            "Model Number: 373 with model Theta in generation 2 of 20\n",
            "Model Number: 374 with model SectionalMotif in generation 2 of 20\n",
            "Model Number: 375 with model FBProphet in generation 2 of 20\n",
            "Model Number: 376 with model DatepartRegression in generation 2 of 20\n",
            "Model Number: 377 with model SeasonalityMotif in generation 2 of 20\n",
            "Model Number: 378 with model SeasonalNaive in generation 2 of 20\n",
            "Model Number: 379 with model LastValueNaive in generation 2 of 20\n",
            "Model Number: 380 with model ConstantNaive in generation 2 of 20\n",
            "Model Number: 381 with model SeasonalityMotif in generation 2 of 20\n",
            "Model Number: 382 with model UnobservedComponents in generation 2 of 20\n",
            "Model Number: 383 with model UnobservedComponents in generation 2 of 20\n",
            "Model Number: 384 with model SeasonalNaive in generation 2 of 20\n",
            "Model Number: 385 with model UnivariateMotif in generation 2 of 20\n",
            "Model Number: 386 with model ConstantNaive in generation 2 of 20\n",
            "Model Number: 387 with model UnobservedComponents in generation 2 of 20\n",
            "Template Eval Error: ValueError(\"regression_type='User' but no future_regressor supplied\") in model 387 in generation 2: UnobservedComponents\n",
            "Model Number: 388 with model SeasonalityMotif in generation 2 of 20\n",
            "Model Number: 389 with model UnobservedComponents in generation 2 of 20\n",
            "Model Number: 390 with model UnobservedComponents in generation 2 of 20\n",
            "Template Eval Error: ValueError(\"regression_type='User' but no future_regressor supplied\") in model 390 in generation 2: UnobservedComponents\n",
            "Model Number: 391 with model MultivariateMotif in generation 2 of 20\n",
            "Model Number: 392 with model SeasonalityMotif in generation 2 of 20\n",
            "Template Eval Error: Exception(\"Transformer AlignLastValue failed on inverse from params ffill {'0': {'output_distribution': 'uniform', 'n_quantiles': 246}, '1': {'rows': 1, 'lag': 1, 'method': 'additive', 'strength': 1.0, 'first_value_only': True}, '2': {'span': 2}, '3': {}, '4': {'rows': 1, 'lag': 1, 'method': 'additive', 'strength': 1.0, 'first_value_only': True}}\") in model 392 in generation 2: SeasonalityMotif\n",
            "Model Number: 393 with model SeasonalityMotif in generation 2 of 20\n",
            "Template Eval Error: Exception(\"Transformer AlignLastValue failed on inverse from params time {'0': {}, '1': {'rows': 1, 'lag': 1, 'method': 'additive', 'strength': 1.0, 'first_value_only': True}, '2': {}}\") in model 393 in generation 2: SeasonalityMotif\n",
            "Model Number: 394 with model MetricMotif in generation 2 of 20\n",
            "Model Number: 395 with model LastValueNaive in generation 2 of 20\n",
            "Model Number: 396 with model DatepartRegression in generation 2 of 20\n",
            "Template Eval Error: Exception(\"Transformer RobustScaler failed on fit from params mean {'0': {'rolling_window': 0.1, 'n_tails': 180, 'n_future': 0.2, 'method': 'mean', 'macro_micro': True}, '1': {'model': 'GLS', 'phi': 1, 'window': None, 'transform_dict': None}, '2': {}}\") in model 396 in generation 2: DatepartRegression\n",
            "Model Number: 397 with model ETS in generation 2 of 20\n",
            "Model Number: 398 with model SeasonalNaive in generation 2 of 20\n",
            "Model Number: 399 with model GLS in generation 2 of 20\n",
            "Model Number: 400 with model ARDL in generation 2 of 20\n",
            "Model Number: 401 with model ARDL in generation 2 of 20\n",
            "Model Number: 402 with model AverageValueNaive in generation 2 of 20\n",
            "Model Number: 403 with model AverageValueNaive in generation 2 of 20\n",
            "Template Eval Error: Exception(\"Transformer ScipyFilter failed on fit from params mean {'0': {'method': 0.5}, '1': {'model': 'GLS', 'phi': 1, 'window': None, 'transform_dict': None}, '2': {'method': 'butter', 'method_args': {'N': 1, 'btype': 'lowpass', 'analog': False, 'output': 'sos', 'Wn': 0.016666666666666666}}, '3': {'rows': 7, 'lag': 1, 'method': 'additive', 'strength': 1.0, 'first_value_only': False}}\") in model 403 in generation 2: AverageValueNaive\n",
            "Model Number: 404 with model SeasonalityMotif in generation 2 of 20\n",
            "Model Number: 405 with model ETS in generation 2 of 20\n",
            "Model Number: 406 with model MultivariateMotif in generation 2 of 20\n",
            "Model Number: 407 with model SeasonalityMotif in generation 2 of 20\n",
            "Model Number: 408 with model SectionalMotif in generation 2 of 20\n",
            "Model Number: 409 with model SeasonalNaive in generation 2 of 20\n",
            "Model Number: 410 with model NVAR in generation 2 of 20\n",
            "Model Number: 411 with model ARIMA in generation 2 of 20\n",
            "Model Number: 412 with model SeasonalityMotif in generation 2 of 20\n",
            "Model Number: 413 with model Theta in generation 2 of 20\n",
            "Model Number: 414 with model GLS in generation 2 of 20\n",
            "Model Number: 415 with model ETS in generation 2 of 20\n",
            "Model Number: 416 with model WindowRegression in generation 2 of 20\n",
            "Model Number: 417 with model GLM in generation 2 of 20\n",
            "Template Eval Error: Exception(\"Transformer ScipyFilter failed on fit from params rolling_mean {'0': {'method': 'butter', 'method_args': {'N': 8, 'btype': 'highpass', 'analog': False, 'output': 'sos', 'Wn': 0.03571428571428571}}, '1': {'rows': 1, 'lag': 1, 'method': 'additive', 'strength': 1.0, 'first_value_only': False}, '2': {'rows': 2, 'lag': 7, 'method': 'additive', 'strength': 1.0, 'first_value_only': False}, '3': {'rows': 1, 'lag': 1, 'method': 'multiplicative', 'strength': 0.7, 'first_value_only': False}, '4': {'sigma': 0.5, 'rolling_window': 90, 'run_order': 'trend_first', 'regression_params': {'regression_model': {'model': 'ElasticNet', 'model_params': {}}, 'datepart_method': 'common_fourier', 'polynomial_degree': None, 'transform_dict': None, 'holiday_countries_used': True}, 'holiday_params': None}}\") in model 417 in generation 2: GLM\n",
            "Model Number: 418 with model SeasonalityMotif in generation 2 of 20\n",
            "Model Number: 419 with model SeasonalNaive in generation 2 of 20\n",
            "Model Number: 420 with model GLS in generation 2 of 20\n",
            "Model Number: 421 with model WindowRegression in generation 2 of 20\n",
            "Model Number: 422 with model ARIMA in generation 2 of 20\n",
            "Model Number: 423 with model UnivariateRegression in generation 2 of 20\n",
            "Model Number: 424 with model ARDL in generation 2 of 20\n",
            "Model Number: 425 with model FBProphet in generation 2 of 20\n"
          ]
        },
        {
          "output_type": "stream",
          "name": "stderr",
          "text": [
            "/usr/local/lib/python3.10/dist-packages/sklearn/neighbors/_classification.py:215: DataConversionWarning:\n",
            "\n",
            "A column-vector y was passed when a 1d array was expected. Please change the shape of y to (n_samples,), for example using ravel().\n",
            "\n"
          ]
        },
        {
          "output_type": "stream",
          "name": "stdout",
          "text": [
            "Model Number: 426 with model ARDL in generation 2 of 20\n",
            "Model Number: 427 with model AverageValueNaive in generation 2 of 20\n",
            "Model Number: 428 with model MultivariateRegression in generation 2 of 20\n",
            "Model Number: 429 with model FBProphet in generation 2 of 20\n",
            "Model Number: 430 with model UnobservedComponents in generation 2 of 20\n",
            "Template Eval Error: ValueError(\"regression_type='User' but no future_regressor supplied\") in model 430 in generation 2: UnobservedComponents\n",
            "Model Number: 431 with model MetricMotif in generation 2 of 20\n",
            "New Generation: 3 of 20\n",
            "Model Number: 432 with model UnobservedComponents in generation 3 of 20\n",
            "Model Number: 433 with model FBProphet in generation 3 of 20\n",
            "Model Number: 434 with model AverageValueNaive in generation 3 of 20\n",
            "Model Number: 435 with model UnivariateRegression in generation 3 of 20\n",
            "Model Number: 436 with model UnivariateMotif in generation 3 of 20\n",
            "Model Number: 437 with model LastValueNaive in generation 3 of 20\n",
            "Model Number: 438 with model Theta in generation 3 of 20\n",
            "Model Number: 439 with model SeasonalityMotif in generation 3 of 20\n",
            "Model Number: 440 with model ConstantNaive in generation 3 of 20\n",
            "Model Number: 441 with model SeasonalNaive in generation 3 of 20\n",
            "Model Number: 442 with model FBProphet in generation 3 of 20\n",
            "Model Number: 443 with model ARIMA in generation 3 of 20\n",
            "Model Number: 444 with model UnobservedComponents in generation 3 of 20\n",
            "Model Number: 445 with model GLM in generation 3 of 20\n",
            "Model Number: 446 with model FBProphet in generation 3 of 20\n",
            "back_forecast split 2 failed with LinAlgError('Array must not contain infs or NaNs')\n",
            "back_forecast split 3 failed with LinAlgError('Array must not contain infs or NaNs')\n",
            "back_forecast split 4 failed with LinAlgError('Array must not contain infs or NaNs')\n",
            "back_forecast split 5 failed with LinAlgError('Array must not contain infs or NaNs')\n",
            "back_forecast split 6 failed with LinAlgError('Array must not contain infs or NaNs')\n"
          ]
        },
        {
          "output_type": "stream",
          "name": "stderr",
          "text": [
            "/usr/local/lib/python3.10/dist-packages/autots/models/matrix_var.py:62: RuntimeWarning:\n",
            "\n",
            "divide by zero encountered in reciprocal\n",
            "\n",
            "/usr/local/lib/python3.10/dist-packages/autots/models/matrix_var.py:62: RuntimeWarning:\n",
            "\n",
            "invalid value encountered in multiply\n",
            "\n",
            "/usr/local/lib/python3.10/dist-packages/autots/models/matrix_var.py:62: RuntimeWarning:\n",
            "\n",
            "divide by zero encountered in reciprocal\n",
            "\n",
            "/usr/local/lib/python3.10/dist-packages/autots/models/matrix_var.py:62: RuntimeWarning:\n",
            "\n",
            "invalid value encountered in multiply\n",
            "\n",
            "/usr/local/lib/python3.10/dist-packages/autots/models/matrix_var.py:62: RuntimeWarning:\n",
            "\n",
            "divide by zero encountered in reciprocal\n",
            "\n",
            "/usr/local/lib/python3.10/dist-packages/autots/models/matrix_var.py:62: RuntimeWarning:\n",
            "\n",
            "invalid value encountered in multiply\n",
            "\n",
            "/usr/local/lib/python3.10/dist-packages/autots/models/matrix_var.py:62: RuntimeWarning:\n",
            "\n",
            "divide by zero encountered in reciprocal\n",
            "\n",
            "/usr/local/lib/python3.10/dist-packages/autots/models/matrix_var.py:62: RuntimeWarning:\n",
            "\n",
            "invalid value encountered in multiply\n",
            "\n",
            "/usr/local/lib/python3.10/dist-packages/autots/models/matrix_var.py:62: RuntimeWarning:\n",
            "\n",
            "divide by zero encountered in reciprocal\n",
            "\n",
            "/usr/local/lib/python3.10/dist-packages/autots/models/matrix_var.py:62: RuntimeWarning:\n",
            "\n",
            "invalid value encountered in multiply\n",
            "\n"
          ]
        },
        {
          "output_type": "stream",
          "name": "stdout",
          "text": [
            "Model Number: 447 with model Theta in generation 3 of 20\n",
            "Model Number: 448 with model LastValueNaive in generation 3 of 20\n",
            "Model Number: 449 with model GLS in generation 3 of 20\n"
          ]
        },
        {
          "output_type": "stream",
          "name": "stderr",
          "text": [
            "/usr/local/lib/python3.10/dist-packages/sklearn/linear_model/_ridge.py:216: LinAlgWarning:\n",
            "\n",
            "Ill-conditioned matrix (rcond=1.44546e-25): result may not be accurate.\n",
            "\n"
          ]
        },
        {
          "output_type": "stream",
          "name": "stdout",
          "text": [
            "Model Number: 450 with model AverageValueNaive in generation 3 of 20\n",
            "Model Number: 451 with model MetricMotif in generation 3 of 20\n",
            "Template Eval Error: ZeroDivisionError(\"Weights sum to zero, can't be normalized\") in model 451 in generation 3: MetricMotif\n",
            "Model Number: 452 with model ETS in generation 3 of 20\n",
            "Model Number: 453 with model ETS in generation 3 of 20\n",
            "Model Number: 454 with model MetricMotif in generation 3 of 20\n",
            "Model Number: 455 with model Theta in generation 3 of 20\n",
            "Model Number: 456 with model ETS in generation 3 of 20\n",
            "Model Number: 457 with model NVAR in generation 3 of 20\n",
            "Model Number: 458 with model ARDL in generation 3 of 20\n",
            "Model Number: 459 with model FBProphet in generation 3 of 20\n",
            "No anomalies detected.\n"
          ]
        },
        {
          "output_type": "stream",
          "name": "stderr",
          "text": [
            "/usr/local/lib/python3.10/dist-packages/sklearn/linear_model/_ridge.py:216: LinAlgWarning:\n",
            "\n",
            "Ill-conditioned matrix (rcond=1.44546e-25): result may not be accurate.\n",
            "\n"
          ]
        },
        {
          "output_type": "stream",
          "name": "stdout",
          "text": [
            "Model Number: 460 with model UnobservedComponents in generation 3 of 20\n",
            "Model Number: 461 with model AverageValueNaive in generation 3 of 20\n",
            "Model Number: 462 with model GLS in generation 3 of 20\n",
            "Model Number: 463 with model SeasonalityMotif in generation 3 of 20\n",
            "Model Number: 464 with model UnobservedComponents in generation 3 of 20\n",
            "Model Number: 465 with model SectionalMotif in generation 3 of 20\n",
            "Model Number: 466 with model UnivariateMotif in generation 3 of 20\n",
            "Model Number: 467 with model SectionalMotif in generation 3 of 20\n",
            "Model Number: 468 with model SectionalMotif in generation 3 of 20\n",
            "Model Number: 469 with model LastValueNaive in generation 3 of 20\n",
            "Model Number: 470 with model Theta in generation 3 of 20\n",
            "Model Number: 471 with model UnivariateRegression in generation 3 of 20\n",
            "Template Eval Error: Exception(\"Transformer ReplaceConstant failed on fit from params mean {'0': {'constant': 0, 'reintroduction_model': {'model': 'xgboost', 'model_params': {'booster': 'gbtree', 'max_depth': 3, 'eta': 0.05, 'min_child_weight': 10, 'subsample': 1, 'colsample_bylevel': 0.9, 'reg_alpha': 0.05, 'reg_lambda': 5, 'quantile_alpha': 0.5, 'tree_method': 'hist'}, 'datepart_method': ['common_fourier_rw']}, 'fillna': 'linear'}}\") in model 471 in generation 3: UnivariateRegression\n",
            "Model Number: 472 with model GLS in generation 3 of 20\n",
            "Model Number: 473 with model Theta in generation 3 of 20\n",
            "Model Number: 474 with model ARDL in generation 3 of 20\n",
            "Model Number: 475 with model UnivariateMotif in generation 3 of 20\n",
            "Model Number: 476 with model GLS in generation 3 of 20\n",
            "Model Number: 477 with model MetricMotif in generation 3 of 20\n",
            "Model Number: 478 with model ETS in generation 3 of 20\n"
          ]
        },
        {
          "output_type": "stream",
          "name": "stderr",
          "text": [
            "/usr/local/lib/python3.10/dist-packages/sklearn/linear_model/_ridge.py:216: LinAlgWarning:\n",
            "\n",
            "Ill-conditioned matrix (rcond=1.44546e-25): result may not be accurate.\n",
            "\n"
          ]
        },
        {
          "output_type": "stream",
          "name": "stdout",
          "text": [
            "Model Number: 479 with model LastValueNaive in generation 3 of 20\n",
            "Model Number: 480 with model MultivariateRegression in generation 3 of 20\n",
            "Model Number: 481 with model SeasonalityMotif in generation 3 of 20\n",
            "Template Eval Error: Exception(\"Transformer BTCD failed on fit from params fake_date {'0': {'method': 'clip', 'std_threshold': 3, 'fillna': None}, '1': {'regression_model': {'model': 'FastRidge', 'model_params': {}}, 'max_lags': 2}, '2': {'output_distribution': 'uniform', 'n_quantiles': 'quarter'}, '3': {'cutoff': 0.01, 'reverse': False}, '4': {}}\") in model 481 in generation 3: SeasonalityMotif\n",
            "Model Number: 482 with model UnobservedComponents in generation 3 of 20\n",
            "Template Eval Error: ValueError(\"regression_type='User' but no future_regressor supplied\") in model 482 in generation 3: UnobservedComponents\n",
            "Model Number: 483 with model Theta in generation 3 of 20\n",
            "Model Number: 484 with model DatepartRegression in generation 3 of 20\n",
            "Model Number: 485 with model UnobservedComponents in generation 3 of 20\n",
            "Template Eval Error: ValueError(\"regression_type='User' but no future_regressor supplied\") in model 485 in generation 3: UnobservedComponents\n",
            "Model Number: 486 with model SeasonalNaive in generation 3 of 20\n",
            "Model Number: 487 with model ARDL in generation 3 of 20\n",
            "Model Number: 488 with model LastValueNaive in generation 3 of 20\n",
            "Model Number: 489 with model ARDL in generation 3 of 20\n",
            "Model Number: 490 with model GLM in generation 3 of 20\n",
            "Template Eval Error: Exception(\"Transformer Cointegration failed on fit from params ffill_mean_biased {'0': {'constant': 0, 'reintroduction_model': None, 'fillna': 'pchip'}, '1': {'det_order': 0, 'k_ar_diff': 2}, '2': {'window_size': 7, 'alpha': 3.0, 'grouping_forward_limit': 3, 'max_level_shifts': 5, 'alignment': 'last_value'}, '3': {}}\") in model 490 in generation 3: GLM\n",
            "Model Number: 491 with model GLS in generation 3 of 20\n",
            "Model Number: 492 with model SeasonalityMotif in generation 3 of 20\n",
            "Template Eval Error: Exception(\"Transformer BTCD failed on fit from params rolling_mean {'0': {'algorithm': 'parallel', 'fun': 'logcosh', 'max_iter': 500, 'whiten': True}, '1': {'regression_model': {'model': 'FastRidge', 'model_params': {}}, 'max_lags': 2}, '2': {'output_distribution': 'uniform', 'n_quantiles': 'quarter'}, '3': {'rows': 1, 'lag': 28, 'method': 'additive', 'strength': 1.0, 'first_value_only': False}}\") in model 492 in generation 3: SeasonalityMotif\n",
            "Model Number: 493 with model ARIMA in generation 3 of 20\n"
          ]
        },
        {
          "output_type": "stream",
          "name": "stderr",
          "text": [
            "/usr/local/lib/python3.10/dist-packages/sklearn/decomposition/_fastica.py:708: FutureWarning:\n",
            "\n",
            "Starting in v1.3, whiten=True should be specified as whiten='arbitrary-variance' (its current behaviour). This behavior is deprecated in 1.1 and will raise ValueError in 1.3.\n",
            "\n"
          ]
        },
        {
          "output_type": "stream",
          "name": "stdout",
          "text": [
            "Model Number: 494 with model SeasonalNaive in generation 3 of 20\n",
            "Model Number: 495 with model UnobservedComponents in generation 3 of 20\n",
            "Model Number: 496 with model ETS in generation 3 of 20\n",
            "Model Number: 497 with model GLS in generation 3 of 20\n",
            "Model Number: 498 with model LastValueNaive in generation 3 of 20\n",
            "Model Number: 499 with model ConstantNaive in generation 3 of 20\n"
          ]
        },
        {
          "output_type": "stream",
          "name": "stderr",
          "text": [
            "/usr/local/lib/python3.10/dist-packages/sklearn/neighbors/_classification.py:215: DataConversionWarning:\n",
            "\n",
            "A column-vector y was passed when a 1d array was expected. Please change the shape of y to (n_samples,), for example using ravel().\n",
            "\n"
          ]
        },
        {
          "output_type": "stream",
          "name": "stdout",
          "text": [
            "Model Number: 500 with model UnobservedComponents in generation 3 of 20\n",
            "Model Number: 501 with model DatepartRegression in generation 3 of 20\n",
            "Template Eval Error: ValueError(\"regression_type='User' but no future_regressor passed\") in model 501 in generation 3: DatepartRegression\n",
            "Model Number: 502 with model SeasonalNaive in generation 3 of 20\n",
            "Model Number: 503 with model NVAR in generation 3 of 20\n",
            "Model Number: 504 with model FBProphet in generation 3 of 20\n",
            "No anomalies detected.\n",
            "Model Number: 505 with model SeasonalityMotif in generation 3 of 20\n",
            "Model Number: 506 with model UnobservedComponents in generation 3 of 20\n",
            "Model Number: 507 with model WindowRegression in generation 3 of 20\n",
            "Template Eval Error: ValueError(\"Some value(s) of y are out of the valid range of the loss 'HalfPoissonLoss'.\") in model 507 in generation 3: WindowRegression\n",
            "Model Number: 508 with model Theta in generation 3 of 20\n",
            "Model Number: 509 with model MetricMotif in generation 3 of 20\n",
            "Model Number: 510 with model ARIMA in generation 3 of 20\n",
            "Model Number: 511 with model WindowRegression in generation 3 of 20\n",
            "Template Eval Error: ValueError(\"Some value(s) of y are out of the valid range of the loss 'HalfPoissonLoss'.\") in model 511 in generation 3: WindowRegression\n",
            "Model Number: 512 with model FBProphet in generation 3 of 20\n",
            "Model Number: 513 with model MultivariateMotif in generation 3 of 20\n",
            "Model Number: 514 with model MultivariateRegression in generation 3 of 20\n",
            "Model Number: 515 with model SeasonalNaive in generation 3 of 20\n",
            "Model Number: 516 with model NVAR in generation 3 of 20\n",
            "Model Number: 517 with model SeasonalityMotif in generation 3 of 20\n",
            "Model Number: 518 with model SeasonalityMotif in generation 3 of 20\n",
            "Model Number: 519 with model MultivariateRegression in generation 3 of 20\n",
            "Template Eval Error: XGBoostError('[15:03:59] /workspace/src/objective/regression_obj.cu:343: PoissonRegression: label must be nonnegative\\nStack trace:\\n  [bt] (0) /usr/local/lib/python3.10/dist-packages/xgboost/lib/libxgboost.so(+0xa8dc0a) [0x7b11a74a7c0a]\\n  [bt] (1) /usr/local/lib/python3.10/dist-packages/xgboost/lib/libxgboost.so(+0xaa0797) [0x7b11a74ba797]\\n  [bt] (2) /usr/local/lib/python3.10/dist-packages/xgboost/lib/libxgboost.so(+0x55f9ed) [0x7b11a6f799ed]\\n  [bt] (3) /usr/local/lib/python3.10/dist-packages/xgboost/lib/libxgboost.so(+0x4900d1) [0x7b11a6eaa0d1]\\n  [bt] (4) /usr/local/lib/python3.10/dist-packages/xgboost/lib/libxgboost.so(+0x4c0716) [0x7b11a6eda716]\\n  [bt] (5) /usr/local/lib/python3.10/dist-packages/xgboost/lib/libxgboost.so(+0x4c5274) [0x7b11a6edf274]\\n  [bt] (6) /usr/local/lib/python3.10/dist-packages/xgboost/lib/libxgboost.so(XGBoosterUpdateOneIter+0x70) [0x7b11a6b7bef0]\\n  [bt] (7) /lib/x86_64-linux-gnu/libffi.so.8(+0x7e2e) [0x7b12857bae2e]\\n  [bt] (8) /lib/x86_64-linux-gnu/libffi.so.8(+0x4493) [0x7b12857b7493]\\n\\n') in model 519 in generation 3: MultivariateRegression\n",
            "Model Number: 520 with model SeasonalNaive in generation 3 of 20\n",
            "Model Number: 521 with model ConstantNaive in generation 3 of 20\n",
            "Model Number: 522 with model SeasonalNaive in generation 3 of 20\n",
            "Model Number: 523 with model ETS in generation 3 of 20\n",
            "Model Number: 524 with model WindowRegression in generation 3 of 20\n",
            "Model Number: 525 with model GLS in generation 3 of 20\n",
            "Model Number: 526 with model WindowRegression in generation 3 of 20\n",
            "Model Number: 527 with model ARDL in generation 3 of 20\n",
            "Model Number: 528 with model UnivariateRegression in generation 3 of 20\n",
            "Model Number: 529 with model FBProphet in generation 3 of 20\n"
          ]
        },
        {
          "output_type": "stream",
          "name": "stderr",
          "text": [
            "/usr/local/lib/python3.10/dist-packages/sklearn/linear_model/_coordinate_descent.py:2418: ConvergenceWarning:\n",
            "\n",
            "Objective did not converge. You might want to increase the number of iterations. Duality gap: 230399802728.43762, tolerance: 219397528.2657194\n",
            "\n"
          ]
        },
        {
          "output_type": "stream",
          "name": "stdout",
          "text": [
            "back_forecast split 2 failed with LinAlgError('Array must not contain infs or NaNs')\n",
            "back_forecast split 3 failed with LinAlgError('Array must not contain infs or NaNs')\n",
            "back_forecast split 4 failed with LinAlgError('Array must not contain infs or NaNs')\n",
            "back_forecast split 5 failed with LinAlgError('Array must not contain infs or NaNs')\n",
            "back_forecast split 6 failed with LinAlgError('Array must not contain infs or NaNs')\n"
          ]
        },
        {
          "output_type": "stream",
          "name": "stderr",
          "text": [
            "/usr/local/lib/python3.10/dist-packages/autots/models/matrix_var.py:62: RuntimeWarning:\n",
            "\n",
            "divide by zero encountered in reciprocal\n",
            "\n",
            "/usr/local/lib/python3.10/dist-packages/autots/models/matrix_var.py:62: RuntimeWarning:\n",
            "\n",
            "invalid value encountered in multiply\n",
            "\n",
            "/usr/local/lib/python3.10/dist-packages/autots/models/matrix_var.py:62: RuntimeWarning:\n",
            "\n",
            "divide by zero encountered in reciprocal\n",
            "\n",
            "/usr/local/lib/python3.10/dist-packages/autots/models/matrix_var.py:62: RuntimeWarning:\n",
            "\n",
            "invalid value encountered in multiply\n",
            "\n",
            "/usr/local/lib/python3.10/dist-packages/autots/models/matrix_var.py:62: RuntimeWarning:\n",
            "\n",
            "divide by zero encountered in reciprocal\n",
            "\n",
            "/usr/local/lib/python3.10/dist-packages/autots/models/matrix_var.py:62: RuntimeWarning:\n",
            "\n",
            "invalid value encountered in multiply\n",
            "\n",
            "/usr/local/lib/python3.10/dist-packages/autots/models/matrix_var.py:62: RuntimeWarning:\n",
            "\n",
            "divide by zero encountered in reciprocal\n",
            "\n",
            "/usr/local/lib/python3.10/dist-packages/autots/models/matrix_var.py:62: RuntimeWarning:\n",
            "\n",
            "invalid value encountered in multiply\n",
            "\n",
            "/usr/local/lib/python3.10/dist-packages/autots/models/matrix_var.py:62: RuntimeWarning:\n",
            "\n",
            "divide by zero encountered in reciprocal\n",
            "\n",
            "/usr/local/lib/python3.10/dist-packages/autots/models/matrix_var.py:62: RuntimeWarning:\n",
            "\n",
            "invalid value encountered in multiply\n",
            "\n"
          ]
        },
        {
          "output_type": "stream",
          "name": "stdout",
          "text": [
            "Model Number: 530 with model ARDL in generation 3 of 20\n",
            "Template Eval Error: ValueError(\"regression_type='User' but future_regressor not supplied\") in model 530 in generation 3: ARDL\n",
            "Model Number: 531 with model MetricMotif in generation 3 of 20\n",
            "Model Number: 532 with model ARIMA in generation 3 of 20\n",
            "Template Eval Error: ValueError(\"regression_type='User' but future_regressor not supplied\") in model 532 in generation 3: ARIMA\n",
            "Model Number: 533 with model ETS in generation 3 of 20\n",
            "Model Number: 534 with model UnobservedComponents in generation 3 of 20\n",
            "Model Number: 535 with model FBProphet in generation 3 of 20\n",
            "Template Eval Error: ValueError(\"regression_type='User' but no future_regressor passed\") in model 535 in generation 3: FBProphet\n",
            "Model Number: 536 with model GLS in generation 3 of 20\n",
            "Model Number: 537 with model AverageValueNaive in generation 3 of 20\n",
            "Model Number: 538 with model UnobservedComponents in generation 3 of 20\n",
            "Template Eval Error: ValueError(\"regression_type='User' but no future_regressor supplied\") in model 538 in generation 3: UnobservedComponents\n",
            "Model Number: 539 with model ARDL in generation 3 of 20\n",
            "Model Number: 540 with model AverageValueNaive in generation 3 of 20\n",
            "Model Number: 541 with model LastValueNaive in generation 3 of 20\n",
            "Model Number: 542 with model NVAR in generation 3 of 20\n",
            "Model Number: 543 with model AverageValueNaive in generation 3 of 20\n",
            "Model Number: 544 with model LastValueNaive in generation 3 of 20\n",
            "Model Number: 545 with model SeasonalityMotif in generation 3 of 20\n",
            "Model Number: 546 with model UnivariateMotif in generation 3 of 20\n",
            "Model Number: 547 with model ARIMA in generation 3 of 20\n",
            "Model Number: 548 with model ETS in generation 3 of 20\n",
            "Model Number: 549 with model ARIMA in generation 3 of 20\n",
            "Model Number: 550 with model SeasonalityMotif in generation 3 of 20\n",
            "Model Number: 551 with model LastValueNaive in generation 3 of 20\n",
            "Model Number: 552 with model FBProphet in generation 3 of 20\n",
            "Model Number: 553 with model NVAR in generation 3 of 20\n",
            "Model Number: 554 with model SeasonalityMotif in generation 3 of 20\n",
            "Model Number: 555 with model FBProphet in generation 3 of 20\n",
            "back_forecast split 2 failed with LinAlgError('Array must not contain infs or NaNs')\n",
            "back_forecast split 3 failed with LinAlgError('Array must not contain infs or NaNs')\n",
            "back_forecast split 4 failed with LinAlgError('Array must not contain infs or NaNs')\n",
            "back_forecast split 5 failed with LinAlgError('Array must not contain infs or NaNs')\n",
            "back_forecast split 6 failed with LinAlgError('Array must not contain infs or NaNs')\n"
          ]
        },
        {
          "output_type": "stream",
          "name": "stderr",
          "text": [
            "/usr/local/lib/python3.10/dist-packages/autots/models/matrix_var.py:62: RuntimeWarning:\n",
            "\n",
            "divide by zero encountered in reciprocal\n",
            "\n",
            "/usr/local/lib/python3.10/dist-packages/autots/models/matrix_var.py:62: RuntimeWarning:\n",
            "\n",
            "invalid value encountered in multiply\n",
            "\n",
            "/usr/local/lib/python3.10/dist-packages/autots/models/matrix_var.py:62: RuntimeWarning:\n",
            "\n",
            "divide by zero encountered in reciprocal\n",
            "\n",
            "/usr/local/lib/python3.10/dist-packages/autots/models/matrix_var.py:62: RuntimeWarning:\n",
            "\n",
            "invalid value encountered in multiply\n",
            "\n",
            "/usr/local/lib/python3.10/dist-packages/autots/models/matrix_var.py:62: RuntimeWarning:\n",
            "\n",
            "divide by zero encountered in reciprocal\n",
            "\n",
            "/usr/local/lib/python3.10/dist-packages/autots/models/matrix_var.py:62: RuntimeWarning:\n",
            "\n",
            "invalid value encountered in multiply\n",
            "\n",
            "/usr/local/lib/python3.10/dist-packages/autots/models/matrix_var.py:62: RuntimeWarning:\n",
            "\n",
            "divide by zero encountered in reciprocal\n",
            "\n",
            "/usr/local/lib/python3.10/dist-packages/autots/models/matrix_var.py:62: RuntimeWarning:\n",
            "\n",
            "invalid value encountered in multiply\n",
            "\n",
            "/usr/local/lib/python3.10/dist-packages/autots/models/matrix_var.py:62: RuntimeWarning:\n",
            "\n",
            "divide by zero encountered in reciprocal\n",
            "\n",
            "/usr/local/lib/python3.10/dist-packages/autots/models/matrix_var.py:62: RuntimeWarning:\n",
            "\n",
            "invalid value encountered in multiply\n",
            "\n"
          ]
        },
        {
          "output_type": "stream",
          "name": "stdout",
          "text": [
            "Model Number: 556 with model FBProphet in generation 3 of 20\n",
            "New Generation: 4 of 20\n",
            "Model Number: 557 with model NVAR in generation 4 of 20\n",
            "Model Number: 558 with model ETS in generation 4 of 20\n",
            "Model Number: 559 with model WindowRegression in generation 4 of 20\n",
            "Template Eval Error: ValueError(\"regression_type='User' but no future_regressor passed\") in model 559 in generation 4: WindowRegression\n",
            "Model Number: 560 with model MultivariateRegression in generation 4 of 20\n"
          ]
        },
        {
          "output_type": "stream",
          "name": "stderr",
          "text": [
            "/usr/local/lib/python3.10/dist-packages/sklearn/neighbors/_classification.py:215: DataConversionWarning:\n",
            "\n",
            "A column-vector y was passed when a 1d array was expected. Please change the shape of y to (n_samples,), for example using ravel().\n",
            "\n"
          ]
        },
        {
          "output_type": "stream",
          "name": "stdout",
          "text": [
            "Model Number: 561 with model FBProphet in generation 4 of 20\n",
            "No anomalies detected.\n"
          ]
        },
        {
          "output_type": "stream",
          "name": "stderr",
          "text": [
            "/usr/local/lib/python3.10/dist-packages/sklearn/linear_model/_ridge.py:216: LinAlgWarning:\n",
            "\n",
            "Ill-conditioned matrix (rcond=1.44546e-25): result may not be accurate.\n",
            "\n"
          ]
        },
        {
          "output_type": "stream",
          "name": "stdout",
          "text": [
            "Model Number: 562 with model FBProphet in generation 4 of 20\n",
            "Model Number: 563 with model SeasonalNaive in generation 4 of 20\n",
            "Model Number: 564 with model AverageValueNaive in generation 4 of 20\n",
            "Model Number: 565 with model LastValueNaive in generation 4 of 20\n",
            "Model Number: 566 with model GLS in generation 4 of 20\n",
            "Model Number: 567 with model MetricMotif in generation 4 of 20\n",
            "Model Number: 568 with model FBProphet in generation 4 of 20\n",
            "Template Eval Error: ValueError(\"regression_type='User' but no future_regressor passed\") in model 568 in generation 4: FBProphet\n",
            "Model Number: 569 with model SeasonalityMotif in generation 4 of 20\n",
            "Model Number: 570 with model MetricMotif in generation 4 of 20\n",
            "Model Number: 571 with model SeasonalNaive in generation 4 of 20\n",
            "Model Number: 572 with model SeasonalityMotif in generation 4 of 20\n",
            "Model Number: 573 with model MultivariateRegression in generation 4 of 20\n",
            "Model Number: 574 with model SeasonalityMotif in generation 4 of 20\n",
            "Model Number: 575 with model MetricMotif in generation 4 of 20\n",
            "Model Number: 576 with model SeasonalNaive in generation 4 of 20\n",
            "Model Number: 577 with model MultivariateMotif in generation 4 of 20\n"
          ]
        },
        {
          "output_type": "stream",
          "name": "stderr",
          "text": [
            "/usr/local/lib/python3.10/dist-packages/sklearn/linear_model/_ridge.py:216: LinAlgWarning:\n",
            "\n",
            "Ill-conditioned matrix (rcond=1.44546e-25): result may not be accurate.\n",
            "\n"
          ]
        },
        {
          "output_type": "stream",
          "name": "stdout",
          "text": [
            "Model Number: 578 with model NVAR in generation 4 of 20\n"
          ]
        },
        {
          "output_type": "stream",
          "name": "stderr",
          "text": [
            "/usr/local/lib/python3.10/dist-packages/sklearn/neighbors/_classification.py:215: DataConversionWarning:\n",
            "\n",
            "A column-vector y was passed when a 1d array was expected. Please change the shape of y to (n_samples,), for example using ravel().\n",
            "\n"
          ]
        },
        {
          "output_type": "stream",
          "name": "stdout",
          "text": [
            "Model Number: 579 with model ETS in generation 4 of 20\n",
            "Model Number: 580 with model AverageValueNaive in generation 4 of 20\n",
            "Model Number: 581 with model UnobservedComponents in generation 4 of 20\n",
            "Model Number: 582 with model ARIMA in generation 4 of 20\n"
          ]
        },
        {
          "output_type": "stream",
          "name": "stderr",
          "text": [
            "/usr/local/lib/python3.10/dist-packages/sklearn/neighbors/_classification.py:215: DataConversionWarning:\n",
            "\n",
            "A column-vector y was passed when a 1d array was expected. Please change the shape of y to (n_samples,), for example using ravel().\n",
            "\n"
          ]
        },
        {
          "output_type": "stream",
          "name": "stdout",
          "text": [
            "Model Number: 583 with model UnivariateMotif in generation 4 of 20\n",
            "Model Number: 584 with model Theta in generation 4 of 20\n",
            "Model Number: 585 with model SeasonalityMotif in generation 4 of 20\n",
            "Model Number: 586 with model MetricMotif in generation 4 of 20\n",
            "Model Number: 587 with model MultivariateRegression in generation 4 of 20\n",
            "Model Number: 588 with model ConstantNaive in generation 4 of 20\n",
            "Model Number: 589 with model SeasonalNaive in generation 4 of 20\n",
            "Model Number: 590 with model SeasonalityMotif in generation 4 of 20\n",
            "Model Number: 591 with model LastValueNaive in generation 4 of 20\n",
            "Model Number: 592 with model LastValueNaive in generation 4 of 20\n",
            "Model Number: 593 with model GLS in generation 4 of 20\n"
          ]
        },
        {
          "output_type": "stream",
          "name": "stderr",
          "text": [
            "/usr/local/lib/python3.10/dist-packages/sklearn/linear_model/_coordinate_descent.py:631: ConvergenceWarning:\n",
            "\n",
            "Objective did not converge. You might want to increase the number of iterations, check the scale of the features or consider increasing regularisation. Duality gap: 2.134e+10, tolerance: 5.106e+06\n",
            "\n"
          ]
        },
        {
          "output_type": "stream",
          "name": "stdout",
          "text": [
            "Model Number: 594 with model GLS in generation 4 of 20\n",
            "Model Number: 595 with model GLS in generation 4 of 20\n",
            "Template Eval Error: Exception(\"Transformer AlignLastValue failed on inverse from params rolling_mean {'0': {'method': 0.3}, '1': {}, '2': {'rows': 1, 'lag': 1, 'method': 'additive', 'strength': 1.0, 'first_value_only': True}, '3': {'method': 100}}\") in model 595 in generation 4: GLS\n",
            "Model Number: 596 with model LastValueNaive in generation 4 of 20\n",
            "Model Number: 597 with model DatepartRegression in generation 4 of 20\n",
            "Model Number: 598 with model ARDL in generation 4 of 20\n",
            "Template Eval Error: ValueError(\"ARDL series Close failed with error ValueError('The number of regressors (120) including deterministics, lags of the endog, lags of the exogenous, and fixed regressors is larger than the sample available for estimation (98).') exog train             weekend  quarter      epoch  month_1  month_2  month_3  month_4  \\\\\\nDate                                                                          \\n2023-10-20        0        4  2460237.5      0.0      0.0      0.0      0.0   \\n2023-10-21        1        4  2460238.5      0.0      0.0      0.0      0.0   \\n2023-10-22        1        4  2460239.5      0.0      0.0      0.0      0.0   \\n2023-10-23        0        4  2460240.5      0.0      0.0      0.0      0.0   \\n2023-10-24        0        4  2460241.5      0.0      0.0      0.0      0.0   \\n...             ...      ...        ...      ...      ...      ...      ...   \\n2024-01-23        0        1  2460332.5      1.0      0.0      0.0      0.0   \\n2024-01-24        0        1  2460333.5      1.0      0.0      0.0      0.0   \\n2024-01-25        0        1  2460334.5      1.0      0.0      0.0      0.0   \\n2024-01-26        0        1  2460335.5      1.0      0.0      0.0      0.0   \\n2024-01-27        1        1  2460336.5      1.0      0.0      0.0      0.0   \\n\\n            month_5  month_6  month_7  ...  day_27  day_28  day_29  day_30  \\\\\\nDate                                   ...                                   \\n2023-10-20      0.0      0.0      0.0  ...     0.0     0.0     0.0     0.0   \\n2023-10-21      0.0      0.0      0.0  ...     0.0     0.0     0.0     0.0   \\n2023-10-22      0.0      0.0      0.0  ...     0.0     0.0     0.0     0.0   \\n2023-10-23      0.0      0.0      0.0  ...     0.0     0.0     0.0     0.0   \\n2023-10-24      0.0      0.0      0.0  ...     0.0     0.0     0.0     0.0   \\n...             ...      ...      ...  ...     ...     ...     ...     ...   \\n2024-01-23      0.0      0.0      0.0  ...     0.0     0.0     0.0     0.0   \\n2024-01-24      0.0      0.0      0.0  ...     0.0     0.0     0.0     0.0   \\n2024-01-25      0.0      0.0      0.0  ...     0.0     0.0     0.0     0.0   \\n2024-01-26      0.0      0.0      0.0  ...     0.0     0.0     0.0     0.0   \\n2024-01-27      0.0      0.0      0.0  ...     1.0     0.0     0.0     0.0   \\n\\n            day_31  weekdayofmonth_1  weekdayofmonth_2  weekdayofmonth_3  \\\\\\nDate                                                                       \\n2023-10-20     0.0               0.0               0.0               1.0   \\n2023-10-21     0.0               0.0               0.0               1.0   \\n2023-10-22     0.0               0.0               0.0               0.0   \\n2023-10-23     0.0               0.0               0.0               0.0   \\n2023-10-24     0.0               0.0               0.0               0.0   \\n...            ...               ...               ...               ...   \\n2024-01-23     0.0               0.0               0.0               0.0   \\n2024-01-24     0.0               0.0               0.0               0.0   \\n2024-01-25     0.0               0.0               0.0               0.0   \\n2024-01-26     0.0               0.0               0.0               0.0   \\n2024-01-27     0.0               0.0               0.0               0.0   \\n\\n            weekdayofmonth_4  weekdayofmonth_5  \\nDate                                            \\n2023-10-20               0.0               0.0  \\n2023-10-21               0.0               0.0  \\n2023-10-22               1.0               0.0  \\n2023-10-23               1.0               0.0  \\n2023-10-24               1.0               0.0  \\n...                      ...               ...  \\n2024-01-23               1.0               0.0  \\n2024-01-24               1.0               0.0  \\n2024-01-25               1.0               0.0  \\n2024-01-26               1.0               0.0  \\n2024-01-27               1.0               0.0  \\n\\n[100 rows x 58 columns] and predict             weekend  quarter      epoch  month_1  month_2  month_3  month_4  \\\\\\n2024-01-28        1        1  2460337.5      1.0      0.0      0.0      0.0   \\n2024-01-29        0        1  2460338.5      1.0      0.0      0.0      0.0   \\n2024-01-30        0        1  2460339.5      1.0      0.0      0.0      0.0   \\n2024-01-31        0        1  2460340.5      1.0      0.0      0.0      0.0   \\n2024-02-01        0        1  2460341.5      0.0      1.0      0.0      0.0   \\n2024-02-02        0        1  2460342.5      0.0      1.0      0.0      0.0   \\n2024-02-03        1        1  2460343.5      0.0      1.0      0.0      0.0   \\n2024-02-04        1        1  2460344.5      0.0      1.0      0.0      0.0   \\n2024-02-05        0        1  2460345.5      0.0      1.0      0.0      0.0   \\n2024-02-06        0        1  2460346.5      0.0      1.0      0.0      0.0   \\n2024-02-07        0        1  2460347.5      0.0      1.0      0.0      0.0   \\n2024-02-08        0        1  2460348.5      0.0      1.0      0.0      0.0   \\n2024-02-09        0        1  2460349.5      0.0      1.0      0.0      0.0   \\n2024-02-10        1        1  2460350.5      0.0      1.0      0.0      0.0   \\n2024-02-11        1        1  2460351.5      0.0      1.0      0.0      0.0   \\n2024-02-12        0        1  2460352.5      0.0      1.0      0.0      0.0   \\n2024-02-13        0        1  2460353.5      0.0      1.0      0.0      0.0   \\n2024-02-14        0        1  2460354.5      0.0      1.0      0.0      0.0   \\n2024-02-15        0        1  2460355.5      0.0      1.0      0.0      0.0   \\n2024-02-16        0        1  2460356.5      0.0      1.0      0.0      0.0   \\n2024-02-17        1        1  2460357.5      0.0      1.0      0.0      0.0   \\n2024-02-18        1        1  2460358.5      0.0      1.0      0.0      0.0   \\n2024-02-19        0        1  2460359.5      0.0      1.0      0.0      0.0   \\n2024-02-20        0        1  2460360.5      0.0      1.0      0.0      0.0   \\n2024-02-21        0        1  2460361.5      0.0      1.0      0.0      0.0   \\n2024-02-22        0        1  2460362.5      0.0      1.0      0.0      0.0   \\n2024-02-23        0        1  2460363.5      0.0      1.0      0.0      0.0   \\n2024-02-24        1        1  2460364.5      0.0      1.0      0.0      0.0   \\n2024-02-25        1        1  2460365.5      0.0      1.0      0.0      0.0   \\n2024-02-26        0        1  2460366.5      0.0      1.0      0.0      0.0   \\n\\n            month_5  month_6  month_7  ...  day_27  day_28  day_29  day_30  \\\\\\n2024-01-28      0.0      0.0      0.0  ...     0.0     1.0     0.0     0.0   \\n2024-01-29      0.0      0.0      0.0  ...     0.0     0.0     1.0     0.0   \\n2024-01-30      0.0      0.0      0.0  ...     0.0     0.0     0.0     1.0   \\n2024-01-31      0.0      0.0      0.0  ...     0.0     0.0     0.0     0.0   \\n2024-02-01      0.0      0.0      0.0  ...     0.0     0.0     0.0     0.0   \\n2024-02-02      0.0      0.0      0.0  ...     0.0     0.0     0.0     0.0   \\n2024-02-03      0.0      0.0      0.0  ...     0.0     0.0     0.0     0.0   \\n2024-02-04      0.0      0.0      0.0  ...     0.0     0.0     0.0     0.0   \\n2024-02-05      0.0      0.0      0.0  ...     0.0     0.0     0.0     0.0   \\n2024-02-06      0.0      0.0      0.0  ...     0.0     0.0     0.0     0.0   \\n2024-02-07      0.0      0.0      0.0  ...     0.0     0.0     0.0     0.0   \\n2024-02-08      0.0      0.0      0.0  ...     0.0     0.0     0.0     0.0   \\n2024-02-09      0.0      0.0      0.0  ...     0.0     0.0     0.0     0.0   \\n2024-02-10      0.0      0.0      0.0  ...     0.0     0.0     0.0     0.0   \\n2024-02-11      0.0      0.0      0.0  ...     0.0     0.0     0.0     0.0   \\n2024-02-12      0.0      0.0      0.0  ...     0.0     0.0     0.0     0.0   \\n2024-02-13      0.0      0.0      0.0  ...     0.0     0.0     0.0     0.0   \\n2024-02-14      0.0      0.0      0.0  ...     0.0     0.0     0.0     0.0   \\n2024-02-15      0.0      0.0      0.0  ...     0.0     0.0     0.0     0.0   \\n2024-02-16      0.0      0.0      0.0  ...     0.0     0.0     0.0     0.0   \\n2024-02-17      0.0      0.0      0.0  ...     0.0     0.0     0.0     0.0   \\n2024-02-18      0.0      0.0      0.0  ...     0.0     0.0     0.0     0.0   \\n2024-02-19      0.0      0.0      0.0  ...     0.0     0.0     0.0     0.0   \\n2024-02-20      0.0      0.0      0.0  ...     0.0     0.0     0.0     0.0   \\n2024-02-21      0.0      0.0      0.0  ...     0.0     0.0     0.0     0.0   \\n2024-02-22      0.0      0.0      0.0  ...     0.0     0.0     0.0     0.0   \\n2024-02-23      0.0      0.0      0.0  ...     0.0     0.0     0.0     0.0   \\n2024-02-24      0.0      0.0      0.0  ...     0.0     0.0     0.0     0.0   \\n2024-02-25      0.0      0.0      0.0  ...     0.0     0.0     0.0     0.0   \\n2024-02-26      0.0      0.0      0.0  ...     0.0     0.0     0.0     0.0   \\n\\n            day_31  weekdayofmonth_1  weekdayofmonth_2  weekdayofmonth_3  \\\\\\n2024-01-28     0.0               0.0               0.0               0.0   \\n2024-01-29     0.0               0.0               0.0               0.0   \\n2024-01-30     0.0               0.0               0.0               0.0   \\n2024-01-31     1.0               0.0               0.0               0.0   \\n2024-02-01     0.0               1.0               0.0               0.0   \\n2024-02-02     0.0               1.0               0.0               0.0   \\n2024-02-03     0.0               1.0               0.0               0.0   \\n2024-02-04     0.0               1.0               0.0               0.0   \\n2024-02-05     0.0               1.0               0.0               0.0   \\n2024-02-06     0.0               1.0               0.0               0.0   \\n2024-02-07     0.0               1.0               0.0               0.0   \\n2024-02-08     0.0               0.0               1.0               0.0   \\n2024-02-09     0.0               0.0               1.0               0.0   \\n2024-02-10     0.0               0.0               1.0               0.0   \\n2024-02-11     0.0               0.0               1.0               0.0   \\n2024-02-12     0.0               0.0               1.0               0.0   \\n2024-02-13     0.0               0.0               1.0               0.0   \\n2024-02-14     0.0               0.0               1.0               0.0   \\n2024-02-15     0.0               0.0               0.0               1.0   \\n2024-02-16     0.0               0.0               0.0               1.0   \\n2024-02-17     0.0               0.0               0.0               1.0   \\n2024-02-18     0.0               0.0               0.0               1.0   \\n2024-02-19     0.0               0.0               0.0               1.0   \\n2024-02-20     0.0               0.0               0.0               1.0   \\n2024-02-21     0.0               0.0               0.0               1.0   \\n2024-02-22     0.0               0.0               0.0               0.0   \\n2024-02-23     0.0               0.0               0.0               0.0   \\n2024-02-24     0.0               0.0               0.0               0.0   \\n2024-02-25     0.0               0.0               0.0               0.0   \\n2024-02-26     0.0               0.0               0.0               0.0   \\n\\n            weekdayofmonth_4  weekdayofmonth_5  \\n2024-01-28               1.0               0.0  \\n2024-01-29               0.0               1.0  \\n2024-01-30               0.0               1.0  \\n2024-01-31               0.0               1.0  \\n2024-02-01               0.0               0.0  \\n2024-02-02               0.0               0.0  \\n2024-02-03               0.0               0.0  \\n2024-02-04               0.0               0.0  \\n2024-02-05               0.0               0.0  \\n2024-02-06               0.0               0.0  \\n2024-02-07               0.0               0.0  \\n2024-02-08               0.0               0.0  \\n2024-02-09               0.0               0.0  \\n2024-02-10               0.0               0.0  \\n2024-02-11               0.0               0.0  \\n2024-02-12               0.0               0.0  \\n2024-02-13               0.0               0.0  \\n2024-02-14               0.0               0.0  \\n2024-02-15               0.0               0.0  \\n2024-02-16               0.0               0.0  \\n2024-02-17               0.0               0.0  \\n2024-02-18               0.0               0.0  \\n2024-02-19               0.0               0.0  \\n2024-02-20               0.0               0.0  \\n2024-02-21               0.0               0.0  \\n2024-02-22               1.0               0.0  \\n2024-02-23               1.0               0.0  \\n2024-02-24               1.0               0.0  \\n2024-02-25               1.0               0.0  \\n2024-02-26               1.0               0.0  \\n\\n[30 rows x 58 columns]\") in model 598 in generation 4: ARDL\n",
            "Model Number: 599 with model ConstantNaive in generation 4 of 20\n",
            "Model Number: 600 with model GLS in generation 4 of 20\n",
            "Model Number: 601 with model NVAR in generation 4 of 20\n",
            "Model Number: 602 with model ConstantNaive in generation 4 of 20\n",
            "Template Eval Error: Exception(\"Transformer Cointegration failed on fit from params zero {'0': {'window': None}, '1': {'model': 'Linear', 'phi': 1, 'window': None, 'transform_dict': None}, '2': {'det_order': 0, 'k_ar_diff': 2}, '3': {'method': 'remove', 'std_threshold': 4, 'fillna': 'mean'}, '4': {'n_harmonics': 10, 'detrend': 'quadratic'}}\") in model 602 in generation 4: ConstantNaive\n",
            "Model Number: 603 with model Theta in generation 4 of 20\n",
            "Model Number: 604 with model NVAR in generation 4 of 20\n",
            "Model Number: 605 with model FBProphet in generation 4 of 20\n",
            "Model Number: 606 with model GLS in generation 4 of 20\n",
            "Model Number: 607 with model LastValueNaive in generation 4 of 20\n",
            "Model Number: 608 with model SectionalMotif in generation 4 of 20\n",
            "Model Number: 609 with model ETS in generation 4 of 20\n",
            "Model Number: 610 with model FBProphet in generation 4 of 20\n",
            "back_forecast split 2 failed with LinAlgError('Array must not contain infs or NaNs')\n",
            "back_forecast split 3 failed with LinAlgError('Array must not contain infs or NaNs')\n",
            "back_forecast split 4 failed with LinAlgError('Array must not contain infs or NaNs')\n",
            "back_forecast split 5 failed with LinAlgError('Array must not contain infs or NaNs')\n",
            "back_forecast split 6 failed with LinAlgError('Array must not contain infs or NaNs')\n"
          ]
        },
        {
          "output_type": "stream",
          "name": "stderr",
          "text": [
            "/usr/local/lib/python3.10/dist-packages/autots/models/matrix_var.py:62: RuntimeWarning:\n",
            "\n",
            "divide by zero encountered in reciprocal\n",
            "\n",
            "/usr/local/lib/python3.10/dist-packages/autots/models/matrix_var.py:62: RuntimeWarning:\n",
            "\n",
            "invalid value encountered in multiply\n",
            "\n",
            "/usr/local/lib/python3.10/dist-packages/autots/models/matrix_var.py:62: RuntimeWarning:\n",
            "\n",
            "divide by zero encountered in reciprocal\n",
            "\n",
            "/usr/local/lib/python3.10/dist-packages/autots/models/matrix_var.py:62: RuntimeWarning:\n",
            "\n",
            "invalid value encountered in multiply\n",
            "\n",
            "/usr/local/lib/python3.10/dist-packages/autots/models/matrix_var.py:62: RuntimeWarning:\n",
            "\n",
            "divide by zero encountered in reciprocal\n",
            "\n",
            "/usr/local/lib/python3.10/dist-packages/autots/models/matrix_var.py:62: RuntimeWarning:\n",
            "\n",
            "invalid value encountered in multiply\n",
            "\n",
            "/usr/local/lib/python3.10/dist-packages/autots/models/matrix_var.py:62: RuntimeWarning:\n",
            "\n",
            "divide by zero encountered in reciprocal\n",
            "\n",
            "/usr/local/lib/python3.10/dist-packages/autots/models/matrix_var.py:62: RuntimeWarning:\n",
            "\n",
            "invalid value encountered in multiply\n",
            "\n",
            "/usr/local/lib/python3.10/dist-packages/autots/models/matrix_var.py:62: RuntimeWarning:\n",
            "\n",
            "divide by zero encountered in reciprocal\n",
            "\n",
            "/usr/local/lib/python3.10/dist-packages/autots/models/matrix_var.py:62: RuntimeWarning:\n",
            "\n",
            "invalid value encountered in multiply\n",
            "\n"
          ]
        },
        {
          "output_type": "stream",
          "name": "stdout",
          "text": [
            "Model Number: 611 with model UnobservedComponents in generation 4 of 20\n",
            "Template Eval Error: ValueError(\"regression_type='User' but no future_regressor supplied\") in model 611 in generation 4: UnobservedComponents\n",
            "Model Number: 612 with model GLS in generation 4 of 20\n",
            "Model Number: 613 with model SeasonalityMotif in generation 4 of 20\n",
            "Model Number: 614 with model GLS in generation 4 of 20\n",
            "Template Eval Error: Exception(\"Transformer RobustScaler failed on inverse from params zero {'0': {}, '1': {'low': 6, 'high': 364, 'K': 25, 'lanczos_factor': False, 'return_diff': True}, '2': {'rolling_window': 0.05, 'n_tails': 90, 'n_future': 90, 'method': 'median', 'macro_micro': True}, '3': {}}\") in model 614 in generation 4: GLS\n",
            "Model Number: 615 with model ConstantNaive in generation 4 of 20\n",
            "Model Number: 616 with model ARDL in generation 4 of 20\n",
            "Model Number: 617 with model AverageValueNaive in generation 4 of 20\n",
            "Model Number: 618 with model FBProphet in generation 4 of 20\n",
            "Model Number: 619 with model ETS in generation 4 of 20\n",
            "Model Number: 620 with model ETS in generation 4 of 20\n",
            "Model Number: 621 with model FBProphet in generation 4 of 20\n"
          ]
        },
        {
          "output_type": "stream",
          "name": "stderr",
          "text": [
            "/usr/local/lib/python3.10/dist-packages/sklearn/linear_model/_ridge.py:216: LinAlgWarning:\n",
            "\n",
            "Ill-conditioned matrix (rcond=1.44546e-25): result may not be accurate.\n",
            "\n"
          ]
        },
        {
          "output_type": "stream",
          "name": "stdout",
          "text": [
            "Model Number: 622 with model ARIMA in generation 4 of 20\n",
            "Model Number: 623 with model ETS in generation 4 of 20\n",
            "Model Number: 624 with model UnobservedComponents in generation 4 of 20\n",
            "Model Number: 625 with model DatepartRegression in generation 4 of 20\n",
            "Template Eval Error: ValueError('Model DatepartRegression returned NaN for one or more series. fail_on_forecast_nan=True') in model 625 in generation 4: DatepartRegression\n",
            "Model Number: 626 with model UnivariateRegression in generation 4 of 20\n"
          ]
        },
        {
          "output_type": "stream",
          "name": "stderr",
          "text": [
            "/usr/local/lib/python3.10/dist-packages/sklearn/neighbors/_regression.py:494: UserWarning:\n",
            "\n",
            "One or more samples have no neighbors within specified radius; predicting NaN.\n",
            "\n"
          ]
        },
        {
          "output_type": "stream",
          "name": "stdout",
          "text": [
            "Model Number: 627 with model GLM in generation 4 of 20\n",
            "Model Number: 628 with model NVAR in generation 4 of 20\n",
            "Model Number: 629 with model UnobservedComponents in generation 4 of 20\n",
            "Template Eval Error: ValueError(\"regression_type='User' but no future_regressor supplied\") in model 629 in generation 4: UnobservedComponents\n",
            "Model Number: 630 with model Theta in generation 4 of 20\n",
            "Model Number: 631 with model AverageValueNaive in generation 4 of 20\n",
            "Model Number: 632 with model DatepartRegression in generation 4 of 20\n",
            "Template Eval Error: ValueError(\"regression_type='User' but no future_regressor passed\") in model 632 in generation 4: DatepartRegression\n",
            "Model Number: 633 with model SeasonalityMotif in generation 4 of 20\n",
            "Model Number: 634 with model SectionalMotif in generation 4 of 20\n",
            "Model Number: 635 with model Theta in generation 4 of 20\n",
            "Model Number: 636 with model SeasonalNaive in generation 4 of 20\n",
            "Model Number: 637 with model FBProphet in generation 4 of 20\n",
            "Model Number: 638 with model WindowRegression in generation 4 of 20\n",
            "Template Eval Error: ValueError(\"regression_type='User' but no future_regressor passed\") in model 638 in generation 4: WindowRegression\n",
            "Model Number: 639 with model SeasonalNaive in generation 4 of 20\n",
            "Template Eval Error: Exception(\"Transformer BTCD failed on fit from params pad {'0': {}, '1': {'regression_model': {'model': 'FastRidge', 'model_params': {}}, 'max_lags': 1}, '2': {'rows': 1, 'lag': 1, 'method': 'additive', 'strength': 1.0, 'first_value_only': True}}\") in model 639 in generation 4: SeasonalNaive\n",
            "Model Number: 640 with model UnobservedComponents in generation 4 of 20\n",
            "Model Number: 641 with model GLM in generation 4 of 20\n"
          ]
        },
        {
          "output_type": "stream",
          "name": "stderr",
          "text": [
            "/usr/local/lib/python3.10/dist-packages/statsmodels/genmod/families/links.py:198: RuntimeWarning:\n",
            "\n",
            "overflow encountered in exp\n",
            "\n",
            "/usr/local/lib/python3.10/dist-packages/statsmodels/genmod/generalized_linear_model.py:1342: PerfectSeparationWarning:\n",
            "\n",
            "Perfect separation or prediction detected, parameter may not be identified\n",
            "\n"
          ]
        },
        {
          "output_type": "stream",
          "name": "stdout",
          "text": [
            "Model Number: 642 with model SectionalMotif in generation 4 of 20\n",
            "Model Number: 643 with model Theta in generation 4 of 20\n",
            "Template Eval Error: Exception(\"Transformer Detrend failed on fit from params zero {'0': {}, '1': {'lag_1': 168, 'method': 'LastValue'}, '2': {'model': 'Gamma', 'phi': 0.99, 'window': 30, 'transform_dict': {'fillna': None, 'transformations': {'0': 'EWMAFilter'}, 'transformation_params': {'0': {'span': 7}}}}}\") in model 643 in generation 4: Theta\n",
            "Model Number: 644 with model MetricMotif in generation 4 of 20\n",
            "Model Number: 645 with model SeasonalNaive in generation 4 of 20\n",
            "Template Eval Error: Exception(\"Transformer AlignLastValue failed on inverse from params pad {'0': {}, '1': {'rows': 1, 'lag': 1, 'method': 'additive', 'strength': 1.0, 'first_value_only': True}, '2': {'method': 'IsolationForest', 'method_params': {'contamination': 'auto', 'n_estimators': 20, 'max_features': 1.0, 'bootstrap': False}, 'fillna': 'ffill', 'transform_dict': {'fillna': None, 'transformations': {'0': 'EWMAFilter'}, 'transformation_params': {'0': {'span': 7}}}, 'isolated_only': False}}\") in model 645 in generation 4: SeasonalNaive\n",
            "Model Number: 646 with model SeasonalityMotif in generation 4 of 20\n",
            "Model Number: 647 with model MetricMotif in generation 4 of 20\n",
            "Model Number: 648 with model UnivariateMotif in generation 4 of 20\n",
            "Model Number: 649 with model AverageValueNaive in generation 4 of 20\n",
            "Model Number: 650 with model Theta in generation 4 of 20\n",
            "Model Number: 651 with model ARDL in generation 4 of 20\n",
            "Model Number: 652 with model ETS in generation 4 of 20\n",
            "Template Eval Error: Exception(\"Transformer ReplaceConstant failed on fit from params rolling_mean_24 {'0': {}, '1': {}, '2': {'method': 'hilbert', 'method_args': None}, '3': {'constant': 0, 'reintroduction_model': {'model': 'xgboost', 'model_params': {'booster': 'gblinear', 'max_depth': 2, 'eta': 0.3, 'min_child_weight': 1, 'subsample': 1, 'colsample_bylevel': 1, 'reg_alpha': 0, 'reg_lambda': 5, 'n_estimators': 10, 'quantile_alpha': 0.5, 'tree_method': 'hist'}, 'datepart_method': 'simple'}, 'fillna': 'pchip'}, '4': {'window_size': 90, 'alpha': 2.0, 'grouping_forward_limit': 2, 'max_level_shifts': 5, 'alignment': 'average'}}\") in model 652 in generation 4: ETS\n",
            "Model Number: 653 with model GLM in generation 4 of 20\n"
          ]
        },
        {
          "output_type": "stream",
          "name": "stderr",
          "text": [
            "/usr/local/lib/python3.10/dist-packages/sklearn/neighbors/_classification.py:215: DataConversionWarning:\n",
            "\n",
            "A column-vector y was passed when a 1d array was expected. Please change the shape of y to (n_samples,), for example using ravel().\n",
            "\n"
          ]
        },
        {
          "output_type": "stream",
          "name": "stdout",
          "text": [
            "Model Number: 654 with model SeasonalNaive in generation 4 of 20\n",
            "Model Number: 655 with model LastValueNaive in generation 4 of 20\n",
            "Model Number: 656 with model MetricMotif in generation 4 of 20\n",
            "Model Number: 657 with model FBProphet in generation 4 of 20\n",
            "back_forecast split 2 failed with LinAlgError('Array must not contain infs or NaNs')\n",
            "back_forecast split 3 failed with LinAlgError('Array must not contain infs or NaNs')\n",
            "back_forecast split 4 failed with LinAlgError('Array must not contain infs or NaNs')\n",
            "back_forecast split 5 failed with LinAlgError('Array must not contain infs or NaNs')\n",
            "back_forecast split 6 failed with LinAlgError('Array must not contain infs or NaNs')\n"
          ]
        },
        {
          "output_type": "stream",
          "name": "stderr",
          "text": [
            "/usr/local/lib/python3.10/dist-packages/autots/models/matrix_var.py:62: RuntimeWarning:\n",
            "\n",
            "divide by zero encountered in reciprocal\n",
            "\n",
            "/usr/local/lib/python3.10/dist-packages/autots/models/matrix_var.py:62: RuntimeWarning:\n",
            "\n",
            "invalid value encountered in multiply\n",
            "\n",
            "/usr/local/lib/python3.10/dist-packages/autots/models/matrix_var.py:62: RuntimeWarning:\n",
            "\n",
            "divide by zero encountered in reciprocal\n",
            "\n",
            "/usr/local/lib/python3.10/dist-packages/autots/models/matrix_var.py:62: RuntimeWarning:\n",
            "\n",
            "invalid value encountered in multiply\n",
            "\n",
            "/usr/local/lib/python3.10/dist-packages/autots/models/matrix_var.py:62: RuntimeWarning:\n",
            "\n",
            "divide by zero encountered in reciprocal\n",
            "\n",
            "/usr/local/lib/python3.10/dist-packages/autots/models/matrix_var.py:62: RuntimeWarning:\n",
            "\n",
            "invalid value encountered in multiply\n",
            "\n",
            "/usr/local/lib/python3.10/dist-packages/autots/models/matrix_var.py:62: RuntimeWarning:\n",
            "\n",
            "divide by zero encountered in reciprocal\n",
            "\n",
            "/usr/local/lib/python3.10/dist-packages/autots/models/matrix_var.py:62: RuntimeWarning:\n",
            "\n",
            "invalid value encountered in multiply\n",
            "\n",
            "/usr/local/lib/python3.10/dist-packages/autots/models/matrix_var.py:62: RuntimeWarning:\n",
            "\n",
            "divide by zero encountered in reciprocal\n",
            "\n",
            "/usr/local/lib/python3.10/dist-packages/autots/models/matrix_var.py:62: RuntimeWarning:\n",
            "\n",
            "invalid value encountered in multiply\n",
            "\n"
          ]
        },
        {
          "output_type": "stream",
          "name": "stdout",
          "text": [
            "Model Number: 658 with model SeasonalNaive in generation 4 of 20\n",
            "Model Number: 659 with model GLS in generation 4 of 20\n",
            "Model Number: 660 with model WindowRegression in generation 4 of 20\n",
            "Model Number: 661 with model FBProphet in generation 4 of 20\n",
            "back_forecast split 2 failed with LinAlgError('Array must not contain infs or NaNs')\n",
            "back_forecast split 3 failed with LinAlgError('Array must not contain infs or NaNs')\n",
            "back_forecast split 4 failed with LinAlgError('Array must not contain infs or NaNs')\n",
            "back_forecast split 5 failed with LinAlgError('Array must not contain infs or NaNs')\n",
            "back_forecast split 6 failed with LinAlgError('Array must not contain infs or NaNs')\n"
          ]
        },
        {
          "output_type": "stream",
          "name": "stderr",
          "text": [
            "/usr/local/lib/python3.10/dist-packages/autots/models/matrix_var.py:62: RuntimeWarning:\n",
            "\n",
            "divide by zero encountered in reciprocal\n",
            "\n",
            "/usr/local/lib/python3.10/dist-packages/autots/models/matrix_var.py:62: RuntimeWarning:\n",
            "\n",
            "invalid value encountered in multiply\n",
            "\n",
            "/usr/local/lib/python3.10/dist-packages/autots/models/matrix_var.py:62: RuntimeWarning:\n",
            "\n",
            "divide by zero encountered in reciprocal\n",
            "\n",
            "/usr/local/lib/python3.10/dist-packages/autots/models/matrix_var.py:62: RuntimeWarning:\n",
            "\n",
            "invalid value encountered in multiply\n",
            "\n",
            "/usr/local/lib/python3.10/dist-packages/autots/models/matrix_var.py:62: RuntimeWarning:\n",
            "\n",
            "divide by zero encountered in reciprocal\n",
            "\n",
            "/usr/local/lib/python3.10/dist-packages/autots/models/matrix_var.py:62: RuntimeWarning:\n",
            "\n",
            "invalid value encountered in multiply\n",
            "\n",
            "/usr/local/lib/python3.10/dist-packages/autots/models/matrix_var.py:62: RuntimeWarning:\n",
            "\n",
            "divide by zero encountered in reciprocal\n",
            "\n",
            "/usr/local/lib/python3.10/dist-packages/autots/models/matrix_var.py:62: RuntimeWarning:\n",
            "\n",
            "invalid value encountered in multiply\n",
            "\n",
            "/usr/local/lib/python3.10/dist-packages/autots/models/matrix_var.py:62: RuntimeWarning:\n",
            "\n",
            "divide by zero encountered in reciprocal\n",
            "\n",
            "/usr/local/lib/python3.10/dist-packages/autots/models/matrix_var.py:62: RuntimeWarning:\n",
            "\n",
            "invalid value encountered in multiply\n",
            "\n"
          ]
        },
        {
          "output_type": "stream",
          "name": "stdout",
          "text": [
            "Model Number: 662 with model ARDL in generation 4 of 20\n",
            "Template Eval Error: Exception(\"Transformer AlignLastValue failed on inverse from params rolling_mean_24 {'0': {'rows': 1, 'lag': 1, 'method': 'additive', 'strength': 1.0, 'first_value_only': True}}\") in model 662 in generation 4: ARDL\n",
            "Model Number: 663 with model MultivariateRegression in generation 4 of 20\n",
            "Template Eval Error: Exception(\"Transformer MaxAbsScaler failed on inverse from params ffill {'0': {'output_distribution': 'normal', 'n_quantiles': 20}, '1': {}, '2': {}, '3': {}}\") in model 663 in generation 4: MultivariateRegression\n",
            "Model Number: 664 with model GLS in generation 4 of 20\n",
            "Template Eval Error: Exception(\"Transformer AlignLastValue failed on inverse from params ffill {'0': {'method': 0.3}, '1': {'rows': 1, 'lag': 1, 'method': 'additive', 'strength': 1.0, 'first_value_only': True}}\") in model 664 in generation 4: GLS\n",
            "Model Number: 665 with model ConstantNaive in generation 4 of 20\n"
          ]
        },
        {
          "output_type": "stream",
          "name": "stderr",
          "text": [
            "/usr/local/lib/python3.10/dist-packages/numpy/core/fromnumeric.py:59: RuntimeWarning:\n",
            "\n",
            "overflow encountered in accumulate\n",
            "\n",
            "/usr/local/lib/python3.10/dist-packages/pandas/core/internals/blocks.py:351: RuntimeWarning:\n",
            "\n",
            "overflow encountered in exp\n",
            "\n"
          ]
        },
        {
          "output_type": "stream",
          "name": "stdout",
          "text": [
            "Model Number: 666 with model UnivariateMotif in generation 4 of 20\n",
            "Model Number: 667 with model MetricMotif in generation 4 of 20\n",
            "Model Number: 668 with model Theta in generation 4 of 20\n"
          ]
        },
        {
          "output_type": "stream",
          "name": "stderr",
          "text": [
            "/usr/local/lib/python3.10/dist-packages/sklearn/linear_model/_ridge.py:216: LinAlgWarning:\n",
            "\n",
            "Ill-conditioned matrix (rcond=1.44546e-25): result may not be accurate.\n",
            "\n"
          ]
        },
        {
          "output_type": "stream",
          "name": "stdout",
          "text": [
            "Model Number: 669 with model FBProphet in generation 4 of 20\n",
            "Model Number: 670 with model SectionalMotif in generation 4 of 20\n",
            "Model Number: 671 with model LastValueNaive in generation 4 of 20\n",
            "Model Number: 672 with model UnivariateRegression in generation 4 of 20\n",
            "Model Number: 673 with model MetricMotif in generation 4 of 20\n",
            "Model Number: 674 with model MultivariateMotif in generation 4 of 20\n",
            "Model Number: 675 with model SeasonalityMotif in generation 4 of 20\n",
            "Model Number: 676 with model SectionalMotif in generation 4 of 20\n",
            "Model Number: 677 with model SeasonalNaive in generation 4 of 20\n",
            "Model Number: 678 with model LastValueNaive in generation 4 of 20\n",
            "Model Number: 679 with model ARDL in generation 4 of 20\n",
            "Model Number: 680 with model SeasonalNaive in generation 4 of 20\n",
            "Model Number: 681 with model UnobservedComponents in generation 4 of 20\n",
            "Template Eval Error: ValueError(\"regression_type='User' but no future_regressor supplied\") in model 681 in generation 4: UnobservedComponents\n",
            "New Generation: 5 of 20\n",
            "Model Number: 682 with model AverageValueNaive in generation 5 of 20\n",
            "Template Eval Error: Exception(\"Transformer ReplaceConstant failed on fit from params zero {'0': {'rows': 7, 'lag': 1, 'method': 'additive', 'strength': 1.0, 'first_value_only': True}, '1': {'constant': 0, 'reintroduction_model': {'model': 'xgboost', 'model_params': {'base_score': 0.5, 'booster': 'gbtree', 'colsample_bylevel': 0.692, 'learning_rate': 0.022, 'max_bin': 256, 'max_depth': 14, 'max_leaves': 0, 'min_child_weight': 0.024, 'n_estimators': 162}, 'datepart_method': ['weekdayofmonth', 'common_fourier']}, 'fillna': 'mean'}, '2': {'decomp_type': 'STL', 'part': 'trend', 'seasonal': 7}, '3': {'fixed': True, 'window': 28}, '4': {}}\") in model 682 in generation 5: AverageValueNaive\n",
            "Model Number: 683 with model NVAR in generation 5 of 20\n",
            "Model Number: 684 with model LastValueNaive in generation 5 of 20\n",
            "Model Number: 685 with model SeasonalityMotif in generation 5 of 20\n",
            "Model Number: 686 with model SeasonalityMotif in generation 5 of 20\n",
            "Model Number: 687 with model GLS in generation 5 of 20\n",
            "Model Number: 688 with model SectionalMotif in generation 5 of 20\n",
            "Template Eval Error: Exception(\"Transformer ScipyFilter failed on fit from params ffill {'0': {'window_size': 30, 'alpha': 2.0, 'grouping_forward_limit': 2, 'max_level_shifts': 30, 'alignment': 'rolling_diff_3nn'}, '1': {'method': 'butter', 'method_args': {'N': 4, 'btype': 'highpass', 'analog': False, 'output': 'sos', 'Wn': 0.013888888888888888}}}\") in model 688 in generation 5: SectionalMotif\n",
            "Model Number: 689 with model MetricMotif in generation 5 of 20\n",
            "Template Eval Error: Exception(\"Transformer StandardScaler failed on fit from params zero {'0': {'rolling_window': 30, 'n_tails': 0.1, 'n_future': 0.2, 'method': 'median', 'macro_micro': True}, '1': {'n_harmonics': 10, 'detrend': None}, '2': {'window_size': 7, 'alpha': 3.0, 'grouping_forward_limit': 3, 'max_level_shifts': 5, 'alignment': 'last_value'}, '3': {}}\") in model 689 in generation 5: MetricMotif\n",
            "Model Number: 690 with model SeasonalityMotif in generation 5 of 20\n",
            "Model Number: 691 with model LastValueNaive in generation 5 of 20\n",
            "Model Number: 692 with model UnivariateRegression in generation 5 of 20\n",
            "Model Number: 693 with model AverageValueNaive in generation 5 of 20\n",
            "Model Number: 694 with model MetricMotif in generation 5 of 20\n",
            "Model Number: 695 with model ARDL in generation 5 of 20\n",
            "Model Number: 696 with model SectionalMotif in generation 5 of 20\n",
            "Model Number: 697 with model GLS in generation 5 of 20\n",
            "Model Number: 698 with model SeasonalNaive in generation 5 of 20\n",
            "Model Number: 699 with model FBProphet in generation 5 of 20\n",
            "Model Number: 700 with model MultivariateMotif in generation 5 of 20\n",
            "Model Number: 701 with model AverageValueNaive in generation 5 of 20\n",
            "Model Number: 702 with model LastValueNaive in generation 5 of 20\n",
            "Model Number: 703 with model AverageValueNaive in generation 5 of 20\n",
            "Model Number: 704 with model MultivariateRegression in generation 5 of 20\n",
            "Model Number: 705 with model SeasonalNaive in generation 5 of 20\n",
            "Model Number: 706 with model AverageValueNaive in generation 5 of 20\n",
            "Model Number: 707 with model WindowRegression in generation 5 of 20\n",
            "Template Eval Error: Exception(\"Transformer AlignLastValue failed on inverse from params ffill {'0': {'rows': 1, 'lag': 1, 'method': 'additive', 'strength': 1.0, 'first_value_only': True}, '1': {}, '2': {}, '3': {'rows': 1, 'lag': 1, 'method': 'additive', 'strength': 1.0, 'first_value_only': False}, '4': {'method': 'IQR', 'method_params': {'iqr_threshold': 3.0, 'iqr_quantiles': [0.25, 0.75]}, 'fillna': 'ffill', 'transform_dict': {'fillna': None, 'transformations': {'0': 'ClipOutliers'}, 'transformation_params': {'0': {'method': 'clip', 'std_threshold': 6}}}, 'isolated_only': True}}\") in model 707 in generation 5: WindowRegression\n",
            "Model Number: 708 with model SeasonalNaive in generation 5 of 20\n",
            "Model Number: 709 with model MetricMotif in generation 5 of 20\n",
            "Model Number: 710 with model SeasonalityMotif in generation 5 of 20\n",
            "Model Number: 711 with model MetricMotif in generation 5 of 20\n",
            "Template Eval Error: Exception(\"Transformer AlignLastValue failed on inverse from params rolling_mean_24 {'0': {'method': 'clip', 'std_threshold': 2, 'fillna': None}, '1': {'rows': 1, 'lag': 1, 'method': 'additive', 'strength': 0.2, 'first_value_only': True}, '2': {'decimals': 1, 'on_transform': True, 'on_inverse': False}, '3': {'output_distribution': 'uniform', 'n_quantiles': 246}}\") in model 711 in generation 5: MetricMotif\n",
            "Model Number: 712 with model UnivariateMotif in generation 5 of 20\n",
            "Model Number: 713 with model DatepartRegression in generation 5 of 20\n"
          ]
        },
        {
          "output_type": "stream",
          "name": "stderr",
          "text": [
            "/usr/local/lib/python3.10/dist-packages/sklearn/neural_network/_multilayer_perceptron.py:541: ConvergenceWarning:\n",
            "\n",
            "lbfgs failed to converge (status=1):\n",
            "STOP: TOTAL NO. of ITERATIONS REACHED LIMIT.\n",
            "\n",
            "Increase the number of iterations (max_iter) or scale the data as shown in:\n",
            "    https://scikit-learn.org/stable/modules/preprocessing.html\n",
            "\n",
            "/usr/local/lib/python3.10/dist-packages/sklearn/linear_model/_ridge.py:216: LinAlgWarning:\n",
            "\n",
            "Ill-conditioned matrix (rcond=1.44546e-25): result may not be accurate.\n",
            "\n"
          ]
        },
        {
          "output_type": "stream",
          "name": "stdout",
          "text": [
            "Model Number: 714 with model MetricMotif in generation 5 of 20\n",
            "Model Number: 715 with model LastValueNaive in generation 5 of 20\n",
            "Model Number: 716 with model SeasonalityMotif in generation 5 of 20\n",
            "Model Number: 717 with model FBProphet in generation 5 of 20\n",
            "Model Number: 718 with model UnivariateRegression in generation 5 of 20\n",
            "Template Eval Error: ValueError(\"regression_type='User' but not future_regressor supplied.\") in model 718 in generation 5: UnivariateRegression\n",
            "Model Number: 719 with model AverageValueNaive in generation 5 of 20\n",
            "Model Number: 720 with model Theta in generation 5 of 20\n",
            "Model Number: 721 with model MultivariateRegression in generation 5 of 20\n",
            "Model Number: 722 with model ConstantNaive in generation 5 of 20\n",
            "Model Number: 723 with model Theta in generation 5 of 20\n",
            "Model Number: 724 with model UnobservedComponents in generation 5 of 20\n",
            "Model Number: 725 with model ARDL in generation 5 of 20\n",
            "Model Number: 726 with model MetricMotif in generation 5 of 20\n"
          ]
        },
        {
          "output_type": "stream",
          "name": "stderr",
          "text": [
            "/usr/local/lib/python3.10/dist-packages/autots/tools/fast_kalman.py:1092: RuntimeWarning:\n",
            "\n",
            "overflow encountered in cast\n",
            "\n",
            "/usr/local/lib/python3.10/dist-packages/autots/tools/fast_kalman.py:1309: RuntimeWarning:\n",
            "\n",
            "invalid value encountered in matmul\n",
            "\n",
            "/usr/local/lib/python3.10/dist-packages/autots/tools/fast_kalman.py:1296: RuntimeWarning:\n",
            "\n",
            "invalid value encountered in matmul\n",
            "\n",
            "/usr/local/lib/python3.10/dist-packages/autots/tools/fast_kalman.py:1177: RuntimeWarning:\n",
            "\n",
            "invalid value encountered in add\n",
            "\n",
            "/usr/local/lib/python3.10/dist-packages/autots/tools/fast_kalman.py:1178: RuntimeWarning:\n",
            "\n",
            "invalid value encountered in add\n",
            "\n"
          ]
        },
        {
          "output_type": "stream",
          "name": "stdout",
          "text": [
            "Template Eval Error: Exception(\"Transformer KalmanSmoothing failed on fit from params zero {'0': {}, '1': {}, '2': {'lag_1': 7, 'method': 'Mean'}, '3': {'model_name': 'factor', 'state_transition': [[1, 1, 0, 0, 0, 0], [0, 1, 0, 0, 0, 0], [0, 0, 1, 0, 0, 0], [0, 0, 0, 1, 1, 0], [0, 0, 0, 0, 1, 0], [0, 0, 0, 0, 0, 1]], 'process_noise': [[1, 0, 0, 0, 0, 0], [0, 1, 0, 0, 0, 0], [0, 0, 0, 0, 0, 0], [0, 0, 1, 0, 0, 0], [0, 0, 0, 1, 0, 0], [0, 0, 0, 0, 0, 0]], 'observation_model': [[1, 0, 0, 0, 0, 0]], 'observation_noise': 0.04, 'em_iter': 30}}\") in model 726 in generation 5: MetricMotif\n",
            "Model Number: 727 with model SeasonalityMotif in generation 5 of 20\n",
            "Template Eval Error: Exception(\"Transformer Cointegration failed on fit from params nearest {'0': {}, '1': {'rows': 1, 'lag': 1, 'method': 'additive', 'strength': 1.0, 'first_value_only': False}, '2': {'low': 6, 'high': 32, 'K': 1, 'lanczos_factor': False, 'return_diff': False}, '3': {'det_order': 0, 'k_ar_diff': 2}, '4': {'fillna': 'mean', 'center': 'zero'}, '5': {}}\") in model 727 in generation 5: SeasonalityMotif\n",
            "Model Number: 728 with model UnobservedComponents in generation 5 of 20\n",
            "Template Eval Error: ValueError(\"regression_type='User' but no future_regressor supplied\") in model 728 in generation 5: UnobservedComponents\n",
            "Model Number: 729 with model ARIMA in generation 5 of 20\n",
            "Model Number: 730 with model MetricMotif in generation 5 of 20\n",
            "Model Number: 731 with model Theta in generation 5 of 20\n",
            "Model Number: 732 with model NVAR in generation 5 of 20\n",
            "Model Number: 733 with model ConstantNaive in generation 5 of 20\n",
            "Model Number: 734 with model LastValueNaive in generation 5 of 20\n",
            "Model Number: 735 with model Theta in generation 5 of 20\n",
            "Template Eval Error: Exception(\"Transformer AlignLastValue failed on inverse from params fake_date {'0': {'rows': 1, 'lag': 1, 'method': 'additive', 'strength': 0.7, 'first_value_only': True}, '1': {}, '2': {'output_distribution': 'uniform', 'n_quantiles': 246}, '3': {'lag_1': 7, 'method': 2}, '4': {'lag_1': 7, 'method': 'Mean'}, '5': {'rows': 1, 'lag': 7, 'method': 'additive', 'strength': 1.0, 'first_value_only': True}}\") in model 735 in generation 5: Theta\n",
            "Model Number: 736 with model FBProphet in generation 5 of 20\n",
            "Model Number: 737 with model ConstantNaive in generation 5 of 20\n",
            "Template Eval Error: Exception(\"Transformer ReplaceConstant failed on fit from params ffill {'0': {'fixed': True, 'window': 12}, '1': {'model': 'Linear', 'phi': 1, 'window': None, 'transform_dict': None}, '2': {'rows': 5}, '3': {'decimals': 0, 'on_transform': False, 'on_inverse': True}, '4': {'constant': 0, 'reintroduction_model': {'model': 'xgboost', 'model_params': {'booster': 'gbtree', 'max_depth': 3, 'eta': 0.003, 'min_child_weight': 1, 'subsample': 1, 'colsample_bylevel': 0.9, 'reg_alpha': 0, 'reg_lambda': 0.11, 'n_estimators': 100, 'multi_strategy': 'multi_output_tree', 'tree_method': 'hist'}, 'datepart_method': 'recurring'}, 'fillna': None}}\") in model 737 in generation 5: ConstantNaive\n",
            "Model Number: 738 with model NVAR in generation 5 of 20\n",
            "Model Number: 739 with model LastValueNaive in generation 5 of 20\n",
            "Model Number: 740 with model ARDL in generation 5 of 20\n",
            "Model Number: 741 with model UnobservedComponents in generation 5 of 20\n",
            "Template Eval Error: Exception(\"Transformer AlignLastValue failed on inverse from params linear {'0': {'rows': 1, 'lag': 1, 'method': 'additive', 'strength': 1.0, 'first_value_only': True}, '1': {'method': 'remove', 'std_threshold': 4, 'fillna': 'ffill'}, '2': {'method': 0.3}}\") in model 741 in generation 5: UnobservedComponents\n",
            "Model Number: 742 with model ETS in generation 5 of 20\n",
            "Model Number: 743 with model UnobservedComponents in generation 5 of 20\n",
            "Model Number: 744 with model Theta in generation 5 of 20\n",
            "Model Number: 745 with model ConstantNaive in generation 5 of 20\n",
            "Model Number: 746 with model WindowRegression in generation 5 of 20\n",
            "Model Number: 747 with model ETS in generation 5 of 20\n",
            "Model Number: 748 with model SeasonalityMotif in generation 5 of 20\n",
            "Model Number: 749 with model UnobservedComponents in generation 5 of 20\n",
            "Model Number: 750 with model UnobservedComponents in generation 5 of 20\n",
            "Template Eval Error: ValueError(\"regression_type='User' but no future_regressor supplied\") in model 750 in generation 5: UnobservedComponents\n",
            "Model Number: 751 with model Theta in generation 5 of 20\n",
            "Model Number: 752 with model FBProphet in generation 5 of 20\n",
            "Model Number: 753 with model UnobservedComponents in generation 5 of 20\n",
            "Model Number: 754 with model SeasonalNaive in generation 5 of 20\n",
            "Template Eval Error: Exception(\"Transformer StandardScaler failed on inverse from params fake_date {'0': {}, '1': {'rolling_window': 0.05, 'n_tails': 0.1, 'n_future': 0.05, 'method': 'mean', 'macro_micro': True}, '2': {'method': 'rolling_zscore', 'method_params': {'distribution': 'norm', 'alpha': 0.05, 'rolling_periods': 90, 'center': False}, 'fillna': 'mean', 'transform_dict': None, 'isolated_only': True}, '3': {'discretization': 'sklearn-uniform', 'n_bins': 10}}\") in model 754 in generation 5: SeasonalNaive\n",
            "Model Number: 755 with model LastValueNaive in generation 5 of 20\n",
            "Model Number: 756 with model ARDL in generation 5 of 20\n",
            "Model Number: 757 with model UnobservedComponents in generation 5 of 20\n",
            "Model Number: 758 with model FBProphet in generation 5 of 20\n",
            "No anomalies detected.\n"
          ]
        },
        {
          "output_type": "stream",
          "name": "stderr",
          "text": [
            "/usr/local/lib/python3.10/dist-packages/sklearn/linear_model/_ridge.py:216: LinAlgWarning:\n",
            "\n",
            "Ill-conditioned matrix (rcond=1.44546e-25): result may not be accurate.\n",
            "\n"
          ]
        },
        {
          "output_type": "stream",
          "name": "stdout",
          "text": [
            "Model Number: 759 with model ARIMA in generation 5 of 20\n",
            "Model Number: 760 with model ARDL in generation 5 of 20\n",
            "Model Number: 761 with model AverageValueNaive in generation 5 of 20\n",
            "Template Eval Error: Exception(\"Transformer Cointegration failed on fit from params ffill {'0': {'rows': 1, 'lag': 1, 'method': 'additive', 'strength': 1.0, 'first_value_only': False}, '1': {'det_order': 1, 'k_ar_diff': 0}, '2': {'decomp_type': 'seasonal_decompose', 'part': 'trend'}, '3': {}, '4': {}, '5': {}}\") in model 761 in generation 5: AverageValueNaive\n",
            "Model Number: 762 with model FBProphet in generation 5 of 20\n",
            "Model Number: 763 with model NVAR in generation 5 of 20\n",
            "Model Number: 764 with model ARDL in generation 5 of 20\n",
            "Model Number: 765 with model SeasonalityMotif in generation 5 of 20\n",
            "Model Number: 766 with model FBProphet in generation 5 of 20\n",
            "Model Number: 767 with model SeasonalNaive in generation 5 of 20\n"
          ]
        },
        {
          "output_type": "stream",
          "name": "stderr",
          "text": [
            "/usr/local/lib/python3.10/dist-packages/sklearn/linear_model/_coordinate_descent.py:631: ConvergenceWarning:\n",
            "\n",
            "Objective did not converge. You might want to increase the number of iterations, check the scale of the features or consider increasing regularisation. Duality gap: 5.300e+08, tolerance: 1.756e+05\n",
            "\n"
          ]
        },
        {
          "output_type": "stream",
          "name": "stdout",
          "text": [
            "Model Number: 768 with model UnobservedComponents in generation 5 of 20\n",
            "Model Number: 769 with model MultivariateRegression in generation 5 of 20\n",
            "Template Eval Error: LightGBMError('[tweedie]: at least one target label is negative') in model 769 in generation 5: MultivariateRegression\n",
            "Model Number: 770 with model SeasonalityMotif in generation 5 of 20\n",
            "Model Number: 771 with model ARDL in generation 5 of 20\n",
            "Template Eval Error: ValueError(\"ARDL series Close failed with error IndexError('tuple index out of range') exog train None and predict None\") in model 771 in generation 5: ARDL\n",
            "Model Number: 772 with model UnobservedComponents in generation 5 of 20\n",
            "Model Number: 773 with model ARDL in generation 5 of 20\n",
            "Model Number: 774 with model FBProphet in generation 5 of 20\n",
            "Model Number: 775 with model Theta in generation 5 of 20\n",
            "Template Eval Error: Exception(\"Transformer StandardScaler failed on fit from params ffill {'0': {'threshold': 0.8, 'splash_threshold': None, 'use_dayofmonth_holidays': True, 'use_wkdom_holidays': True, 'use_wkdeom_holidays': False, 'use_lunar_holidays': False, 'use_lunar_weekday': False, 'use_islamic_holidays': False, 'use_hebrew_holidays': False, 'anomaly_detector_params': {'method': 'nonparametric', 'method_params': {'p': None, 'z_init': 1.5, 'z_limit': 12, 'z_step': 0.25, 'inverse': False, 'max_contamination': 0.25, 'mean_weight': 25, 'sd_weight': 25, 'anomaly_count_weight': 1.0}, 'fillna': 'fake_date', 'transform_dict': None, 'isolated_only': False}, 'remove_excess_anomalies': True, 'impact': None, 'regression_params': {}}, '1': {'rows': 1, 'lag': 1, 'method': 'additive', 'strength': 1.0, 'first_value_only': False}, '2': {'rows': 1, 'lag': 1, 'method': 'additive', 'strength': 0.5, 'first_value_only': False}, '3': {}}\") in model 775 in generation 5: Theta\n",
            "Model Number: 776 with model FBProphet in generation 5 of 20\n",
            "Template Eval Error: Exception(\"Transformer ReplaceConstant failed on fit from params ffill_mean_biased {'0': {}, '1': {}, '2': {'constant': 0, 'reintroduction_model': {'model': 'xgboost', 'model_params': {'booster': 'gbtree', 'max_depth': 6, 'eta': 0.01, 'min_child_weight': 1, 'subsample': 1, 'colsample_bylevel': 1, 'reg_alpha': 0, 'reg_lambda': 1, 'n_estimators': 100}, 'datepart_method': 'expanded_binarized'}, 'fillna': 'linear'}}\") in model 776 in generation 5: FBProphet\n",
            "Model Number: 777 with model Theta in generation 5 of 20\n",
            "Model Number: 778 with model DatepartRegression in generation 5 of 20\n",
            "Model Number: 779 with model SeasonalityMotif in generation 5 of 20\n",
            "Model Number: 780 with model SeasonalNaive in generation 5 of 20\n",
            "Model Number: 781 with model MetricMotif in generation 5 of 20\n",
            "New Generation: 6 of 20\n",
            "Model Number: 782 with model GLS in generation 6 of 20\n",
            "Model Number: 783 with model FBProphet in generation 6 of 20\n",
            "Model Number: 784 with model GLS in generation 6 of 20\n",
            "Model Number: 785 with model UnobservedComponents in generation 6 of 20\n",
            "Model Number: 786 with model SeasonalNaive in generation 6 of 20\n",
            "Model Number: 787 with model SeasonalityMotif in generation 6 of 20\n",
            "Template Eval Error: Exception(\"Transformer BTCD failed on fit from params nearest {'0': {}, '1': {'output_distribution': 'uniform', 'n_quantiles': 246}, '2': {'regression_model': {'model': 'FastRidge', 'model_params': {}}, 'max_lags': 1}, '3': {}}\") in model 787 in generation 6: SeasonalityMotif\n",
            "Model Number: 788 with model MetricMotif in generation 6 of 20\n",
            "Model Number: 789 with model Theta in generation 6 of 20\n",
            "Model Number: 790 with model MetricMotif in generation 6 of 20\n",
            "Model Number: 791 with model Theta in generation 6 of 20\n",
            "Model Number: 792 with model NVAR in generation 6 of 20\n",
            "Model Number: 793 with model LastValueNaive in generation 6 of 20\n",
            "Model Number: 794 with model MetricMotif in generation 6 of 20\n",
            "Model Number: 795 with model UnobservedComponents in generation 6 of 20\n",
            "Model Number: 796 with model MetricMotif in generation 6 of 20\n",
            "Model Number: 797 with model UnivariateRegression in generation 6 of 20\n"
          ]
        },
        {
          "output_type": "stream",
          "name": "stderr",
          "text": [
            "/usr/local/lib/python3.10/dist-packages/sklearn/linear_model/_ridge.py:216: LinAlgWarning:\n",
            "\n",
            "Ill-conditioned matrix (rcond=1.44546e-25): result may not be accurate.\n",
            "\n",
            "/usr/local/lib/python3.10/dist-packages/sklearn/linear_model/_coordinate_descent.py:2418: ConvergenceWarning:\n",
            "\n",
            "Objective did not converge. You might want to increase the number of iterations. Duality gap: 717.2301568530561, tolerance: 0.17216252798059922\n",
            "\n"
          ]
        },
        {
          "output_type": "stream",
          "name": "stdout",
          "text": [
            "Model Number: 798 with model SeasonalNaive in generation 6 of 20\n",
            "Model Number: 799 with model MultivariateRegression in generation 6 of 20\n",
            "Model Number: 800 with model SeasonalityMotif in generation 6 of 20\n",
            "Model Number: 801 with model ETS in generation 6 of 20\n",
            "Model Number: 802 with model GLS in generation 6 of 20\n",
            "Model Number: 803 with model WindowRegression in generation 6 of 20\n",
            "Model Number: 804 with model SeasonalNaive in generation 6 of 20\n",
            "Template Eval Error: Exception(\"Transformer Cointegration failed on fit from params zero {'0': {'rows': 1, 'lag': 7, 'method': 'additive', 'strength': 0.9, 'first_value_only': True}, '1': {}, '2': {'det_order': -1, 'k_ar_diff': 0}, '3': {'decomp_type': 'seasonal_decompose', 'part': 'trend'}}\") in model 804 in generation 6: SeasonalNaive\n",
            "Model Number: 805 with model SeasonalityMotif in generation 6 of 20\n",
            "Model Number: 806 with model Theta in generation 6 of 20\n",
            "Model Number: 807 with model ConstantNaive in generation 6 of 20\n",
            "Template Eval Error: Exception(\"Transformer Cointegration failed on fit from params zero {'0': {'det_order': 1, 'k_ar_diff': 1}, '1': {}, '2': {'rows': 2, 'lag': 1, 'method': 'additive', 'strength': 1.0, 'first_value_only': False}, '3': {'lag_1': 24, 'method': 'LastValue'}, '4': {}}\") in model 807 in generation 6: ConstantNaive\n",
            "Model Number: 808 with model UnobservedComponents in generation 6 of 20\n",
            "Model Number: 809 with model MetricMotif in generation 6 of 20\n",
            "Template Eval Error: Exception(\"Transformer ScipyFilter failed on fit from params ffill {'0': {'method': 'butter', 'method_args': {'N': 7, 'btype': 'lowpass', 'analog': False, 'output': 'sos', 'Wn': 0.041666666666666664}}, '1': {'method': 0.3}}\") in model 809 in generation 6: MetricMotif\n",
            "Model Number: 810 with model SeasonalNaive in generation 6 of 20\n",
            "Model Number: 811 with model NVAR in generation 6 of 20\n",
            "Model Number: 812 with model UnobservedComponents in generation 6 of 20\n",
            "Template Eval Error: ValueError(\"regression_type='User' but no future_regressor supplied\") in model 812 in generation 6: UnobservedComponents\n",
            "Model Number: 813 with model SeasonalNaive in generation 6 of 20\n",
            "Model Number: 814 with model NVAR in generation 6 of 20\n",
            "Model Number: 815 with model WindowRegression in generation 6 of 20\n",
            "Model Number: 816 with model ETS in generation 6 of 20\n",
            "Model Number: 817 with model LastValueNaive in generation 6 of 20\n",
            "Model Number: 818 with model ARDL in generation 6 of 20\n",
            "Model Number: 819 with model AverageValueNaive in generation 6 of 20\n",
            "Model Number: 820 with model UnobservedComponents in generation 6 of 20\n",
            "Template Eval Error: ValueError(\"regression_type='User' but no future_regressor supplied\") in model 820 in generation 6: UnobservedComponents\n",
            "Model Number: 821 with model MetricMotif in generation 6 of 20\n",
            "Model Number: 822 with model LastValueNaive in generation 6 of 20\n",
            "Model Number: 823 with model NVAR in generation 6 of 20\n",
            "Model Number: 824 with model ARDL in generation 6 of 20\n"
          ]
        },
        {
          "output_type": "stream",
          "name": "stderr",
          "text": [
            "/usr/local/lib/python3.10/dist-packages/sklearn/decomposition/_fastica.py:708: FutureWarning:\n",
            "\n",
            "Starting in v1.3, whiten=True should be specified as whiten='arbitrary-variance' (its current behaviour). This behavior is deprecated in 1.1 and will raise ValueError in 1.3.\n",
            "\n"
          ]
        },
        {
          "output_type": "stream",
          "name": "stdout",
          "text": [
            "Model Number: 825 with model SeasonalityMotif in generation 6 of 20\n",
            "Template Eval Error: Exception(\"Transformer DatepartRegression failed on fit from params fake_date {'0': {'rows': 1, 'lag': 1, 'method': 'additive', 'strength': 1.0, 'first_value_only': False}, '1': {'regression_model': {'model': 'KNN', 'model_params': {'n_neighbors': 10, 'weights': 'uniform', 'p': 1, 'leaf_size': 30}}, 'datepart_method': 'expanded', 'polynomial_degree': None, 'transform_dict': {'fillna': None, 'transformations': {'0': 'AnomalyRemoval'}, 'transformation_params': {'0': {'method': 'zscore', 'transform_dict': {'transformations': {'0': 'DatepartRegression'}, 'transformation_params': {'0': {'datepart_method': 'simple_3', 'regression_model': {'model': 'ElasticNet', 'model_params': {}}}}}, 'method_params': {'distribution': 'uniform', 'alpha': 0.05}}}}, 'holiday_countries_used': False}, '2': {'n_harmonics': -0.5, 'detrend': 'quadratic'}, '3': {}}\") in model 825 in generation 6: SeasonalityMotif\n",
            "Model Number: 826 with model ConstantNaive in generation 6 of 20\n",
            "Template Eval Error: Exception(\"Transformer Cointegration failed on fit from params zero {'0': {'det_order': 1, 'k_ar_diff': 1}, '1': {}, '2': {'rows': 2, 'lag': 1, 'method': 'additive', 'strength': 1.0, 'first_value_only': False}, '3': {}, '4': {}}\") in model 826 in generation 6: ConstantNaive\n",
            "Model Number: 827 with model SeasonalNaive in generation 6 of 20\n"
          ]
        },
        {
          "output_type": "stream",
          "name": "stderr",
          "text": [
            "15:08:18 - cmdstanpy - ERROR - Chain [1] error: error during processing Operation not permitted\n",
            "ERROR:cmdstanpy:Chain [1] error: error during processing Operation not permitted\n",
            "WARNING:prophet.models:Optimization terminated abnormally. Falling back to Newton.\n"
          ]
        },
        {
          "output_type": "stream",
          "name": "stdout",
          "text": [
            "Model Number: 828 with model FBProphet in generation 6 of 20\n",
            "Model Number: 829 with model Theta in generation 6 of 20\n",
            "Model Number: 830 with model Theta in generation 6 of 20\n",
            "Model Number: 831 with model UnivariateRegression in generation 6 of 20\n",
            "Model Number: 832 with model SeasonalNaive in generation 6 of 20\n",
            "Model Number: 833 with model SectionalMotif in generation 6 of 20\n",
            "Model Number: 834 with model DatepartRegression in generation 6 of 20\n",
            "Template Eval Error: ValueError(\"regression_type='User' but no future_regressor passed\") in model 834 in generation 6: DatepartRegression\n",
            "Model Number: 835 with model LastValueNaive in generation 6 of 20\n",
            "Model Number: 836 with model AverageValueNaive in generation 6 of 20\n",
            "Model Number: 837 with model ConstantNaive in generation 6 of 20\n",
            "Model Number: 838 with model Theta in generation 6 of 20\n",
            "Model Number: 839 with model ARIMA in generation 6 of 20\n"
          ]
        },
        {
          "output_type": "stream",
          "name": "stderr",
          "text": [
            "/usr/local/lib/python3.10/dist-packages/sklearn/decomposition/_fastica.py:708: FutureWarning:\n",
            "\n",
            "Starting in v1.3, whiten=True should be specified as whiten='arbitrary-variance' (its current behaviour). This behavior is deprecated in 1.1 and will raise ValueError in 1.3.\n",
            "\n"
          ]
        },
        {
          "output_type": "stream",
          "name": "stdout",
          "text": [
            "Model Number: 840 with model MetricMotif in generation 6 of 20\n",
            "Template Eval Error: Exception(\"Transformer ScipyFilter failed on fit from params ffill {'0': {'method': 'butter', 'method_args': {'N': 7, 'btype': 'lowpass', 'analog': False, 'output': 'sos', 'Wn': 0.041666666666666664}}, '1': {'method': 'EE', 'method_params': {'contamination': 0.1, 'assume_centered': False, 'support_fraction': None}, 'fillna': 'ffill', 'transform_dict': {'transformations': {'0': 'DatepartRegression'}, 'transformation_params': {'0': {'datepart_method': 'simple_3', 'regression_model': {'model': 'FastRidge', 'model_params': {}}}}}, 'isolated_only': False}, '2': {'rows': 1, 'lag': 1, 'method': 'additive', 'strength': 1.0, 'first_value_only': False}, '3': {'rows': 1, 'lag': 1, 'method': 'additive', 'strength': 1.0, 'first_value_only': False}}\") in model 840 in generation 6: MetricMotif\n",
            "Model Number: 841 with model FBProphet in generation 6 of 20\n",
            "back_forecast split 2 failed with LinAlgError('Array must not contain infs or NaNs')\n",
            "back_forecast split 3 failed with LinAlgError('Array must not contain infs or NaNs')\n",
            "back_forecast split 4 failed with LinAlgError('Array must not contain infs or NaNs')\n",
            "back_forecast split 5 failed with LinAlgError('Array must not contain infs or NaNs')\n",
            "back_forecast split 6 failed with LinAlgError('Array must not contain infs or NaNs')\n"
          ]
        },
        {
          "output_type": "stream",
          "name": "stderr",
          "text": [
            "/usr/local/lib/python3.10/dist-packages/autots/models/matrix_var.py:62: RuntimeWarning:\n",
            "\n",
            "divide by zero encountered in reciprocal\n",
            "\n",
            "/usr/local/lib/python3.10/dist-packages/autots/models/matrix_var.py:62: RuntimeWarning:\n",
            "\n",
            "invalid value encountered in multiply\n",
            "\n",
            "/usr/local/lib/python3.10/dist-packages/autots/models/matrix_var.py:62: RuntimeWarning:\n",
            "\n",
            "divide by zero encountered in reciprocal\n",
            "\n",
            "/usr/local/lib/python3.10/dist-packages/autots/models/matrix_var.py:62: RuntimeWarning:\n",
            "\n",
            "invalid value encountered in multiply\n",
            "\n",
            "/usr/local/lib/python3.10/dist-packages/autots/models/matrix_var.py:62: RuntimeWarning:\n",
            "\n",
            "divide by zero encountered in reciprocal\n",
            "\n",
            "/usr/local/lib/python3.10/dist-packages/autots/models/matrix_var.py:62: RuntimeWarning:\n",
            "\n",
            "invalid value encountered in multiply\n",
            "\n",
            "/usr/local/lib/python3.10/dist-packages/autots/models/matrix_var.py:62: RuntimeWarning:\n",
            "\n",
            "divide by zero encountered in reciprocal\n",
            "\n",
            "/usr/local/lib/python3.10/dist-packages/autots/models/matrix_var.py:62: RuntimeWarning:\n",
            "\n",
            "invalid value encountered in multiply\n",
            "\n",
            "/usr/local/lib/python3.10/dist-packages/autots/models/matrix_var.py:62: RuntimeWarning:\n",
            "\n",
            "divide by zero encountered in reciprocal\n",
            "\n",
            "/usr/local/lib/python3.10/dist-packages/autots/models/matrix_var.py:62: RuntimeWarning:\n",
            "\n",
            "invalid value encountered in multiply\n",
            "\n"
          ]
        },
        {
          "output_type": "stream",
          "name": "stdout",
          "text": [
            "Model Number: 842 with model WindowRegression in generation 6 of 20\n",
            "Model Number: 843 with model ETS in generation 6 of 20\n",
            "Model Number: 844 with model SeasonalityMotif in generation 6 of 20\n",
            "Model Number: 845 with model ARDL in generation 6 of 20\n",
            "Model Number: 846 with model SeasonalityMotif in generation 6 of 20\n",
            "Model Number: 847 with model FBProphet in generation 6 of 20\n",
            "back_forecast split 2 failed with LinAlgError('Array must not contain infs or NaNs')\n",
            "back_forecast split 3 failed with LinAlgError('Array must not contain infs or NaNs')\n",
            "back_forecast split 4 failed with LinAlgError('Array must not contain infs or NaNs')\n",
            "back_forecast split 5 failed with LinAlgError('Array must not contain infs or NaNs')\n",
            "back_forecast split 6 failed with LinAlgError('Array must not contain infs or NaNs')\n"
          ]
        },
        {
          "output_type": "stream",
          "name": "stderr",
          "text": [
            "/usr/local/lib/python3.10/dist-packages/autots/models/matrix_var.py:62: RuntimeWarning:\n",
            "\n",
            "divide by zero encountered in reciprocal\n",
            "\n",
            "/usr/local/lib/python3.10/dist-packages/autots/models/matrix_var.py:62: RuntimeWarning:\n",
            "\n",
            "invalid value encountered in multiply\n",
            "\n",
            "/usr/local/lib/python3.10/dist-packages/autots/models/matrix_var.py:62: RuntimeWarning:\n",
            "\n",
            "divide by zero encountered in reciprocal\n",
            "\n",
            "/usr/local/lib/python3.10/dist-packages/autots/models/matrix_var.py:62: RuntimeWarning:\n",
            "\n",
            "invalid value encountered in multiply\n",
            "\n",
            "/usr/local/lib/python3.10/dist-packages/autots/models/matrix_var.py:62: RuntimeWarning:\n",
            "\n",
            "divide by zero encountered in reciprocal\n",
            "\n",
            "/usr/local/lib/python3.10/dist-packages/autots/models/matrix_var.py:62: RuntimeWarning:\n",
            "\n",
            "invalid value encountered in multiply\n",
            "\n",
            "/usr/local/lib/python3.10/dist-packages/autots/models/matrix_var.py:62: RuntimeWarning:\n",
            "\n",
            "divide by zero encountered in reciprocal\n",
            "\n",
            "/usr/local/lib/python3.10/dist-packages/autots/models/matrix_var.py:62: RuntimeWarning:\n",
            "\n",
            "invalid value encountered in multiply\n",
            "\n",
            "/usr/local/lib/python3.10/dist-packages/autots/models/matrix_var.py:62: RuntimeWarning:\n",
            "\n",
            "divide by zero encountered in reciprocal\n",
            "\n",
            "/usr/local/lib/python3.10/dist-packages/autots/models/matrix_var.py:62: RuntimeWarning:\n",
            "\n",
            "invalid value encountered in multiply\n",
            "\n"
          ]
        },
        {
          "output_type": "stream",
          "name": "stdout",
          "text": [
            "Model Number: 848 with model Theta in generation 6 of 20\n",
            "Model Number: 849 with model ConstantNaive in generation 6 of 20\n",
            "Model Number: 850 with model MultivariateMotif in generation 6 of 20\n",
            "Model Number: 851 with model UnivariateMotif in generation 6 of 20\n",
            "Model Number: 852 with model UnivariateMotif in generation 6 of 20\n",
            "Model Number: 853 with model Theta in generation 6 of 20\n",
            "Model Number: 854 with model MetricMotif in generation 6 of 20\n",
            "Template Eval Error: Exception(\"Transformer ReplaceConstant failed on fit from params ffill {'0': {}, '1': {'constant': 0, 'reintroduction_model': {'model': 'xgboost', 'model_params': {'booster': 'gbtree', 'max_depth': 6, 'eta': 0.05, 'min_child_weight': 1, 'subsample': 1, 'colsample_bylevel': 1, 'reg_alpha': 0, 'reg_lambda': 1, 'n_estimators': 100, 'multi_strategy': 'multi_output_tree', 'tree_method': 'hist'}, 'datepart_method': 'simple'}, 'fillna': 'akima'}, '2': {}, '3': {'rows': 1, 'lag': 1, 'method': 'additive', 'strength': 1.0, 'first_value_only': False}}\") in model 854 in generation 6: MetricMotif\n",
            "Model Number: 855 with model SeasonalityMotif in generation 6 of 20\n",
            "Model Number: 856 with model NVAR in generation 6 of 20\n",
            "Model Number: 857 with model GLS in generation 6 of 20\n",
            "Model Number: 858 with model FBProphet in generation 6 of 20\n",
            "Model Number: 859 with model SeasonalityMotif in generation 6 of 20\n",
            "Template Eval Error: Exception(\"Transformer DatepartRegression failed on fit from params ffill {'0': {'rows': 1, 'lag': 1, 'method': 'additive', 'strength': 1.0, 'first_value_only': False}, '1': {'regression_model': {'model': 'KNN', 'model_params': {'n_neighbors': 10, 'weights': 'uniform', 'p': 1, 'leaf_size': 30}}, 'datepart_method': 'expanded', 'polynomial_degree': None, 'transform_dict': {'fillna': None, 'transformations': {'0': 'AnomalyRemoval'}, 'transformation_params': {'0': {'method': 'zscore', 'transform_dict': {'transformations': {'0': 'DatepartRegression'}, 'transformation_params': {'0': {'datepart_method': 'simple_3', 'regression_model': {'model': 'ElasticNet', 'model_params': {}}}}}, 'method_params': {'distribution': 'uniform', 'alpha': 0.05}}}}, 'holiday_countries_used': False}, '2': {'lag_1': 7, 'method': 'LastValue'}, '3': {}}\") in model 859 in generation 6: SeasonalityMotif\n",
            "Model Number: 860 with model ARDL in generation 6 of 20\n",
            "Model Number: 861 with model AverageValueNaive in generation 6 of 20\n",
            "Model Number: 862 with model UnobservedComponents in generation 6 of 20\n",
            "Template Eval Error: ValueError(\"regression_type='User' but no future_regressor supplied\") in model 862 in generation 6: UnobservedComponents\n",
            "Model Number: 863 with model SeasonalNaive in generation 6 of 20\n",
            "Model Number: 864 with model SeasonalNaive in generation 6 of 20\n",
            "Model Number: 865 with model UnobservedComponents in generation 6 of 20\n",
            "Model Number: 866 with model LastValueNaive in generation 6 of 20\n",
            "Model Number: 867 with model ETS in generation 6 of 20\n",
            "Model Number: 868 with model UnobservedComponents in generation 6 of 20\n",
            "Template Eval Error: ValueError(\"regression_type='User' but no future_regressor supplied\") in model 868 in generation 6: UnobservedComponents\n",
            "Model Number: 869 with model SeasonalNaive in generation 6 of 20\n",
            "Model Number: 870 with model SeasonalityMotif in generation 6 of 20\n",
            "Model Number: 871 with model ARDL in generation 6 of 20\n",
            "Model Number: 872 with model SectionalMotif in generation 6 of 20\n",
            "Model Number: 873 with model MetricMotif in generation 6 of 20\n",
            "Model Number: 874 with model UnobservedComponents in generation 6 of 20\n",
            "Template Eval Error: ValueError(\"regression_type='User' but no future_regressor supplied\") in model 874 in generation 6: UnobservedComponents\n",
            "Model Number: 875 with model FBProphet in generation 6 of 20\n"
          ]
        },
        {
          "output_type": "stream",
          "name": "stderr",
          "text": [
            "/usr/local/lib/python3.10/dist-packages/sklearn/linear_model/_ridge.py:216: LinAlgWarning:\n",
            "\n",
            "Ill-conditioned matrix (rcond=1.44546e-25): result may not be accurate.\n",
            "\n"
          ]
        },
        {
          "output_type": "stream",
          "name": "stdout",
          "text": [
            "Model Number: 876 with model SeasonalityMotif in generation 6 of 20\n",
            "Model Number: 877 with model ETS in generation 6 of 20\n",
            "Model Number: 878 with model SeasonalityMotif in generation 6 of 20\n",
            "Model Number: 879 with model SeasonalityMotif in generation 6 of 20\n",
            "Model Number: 880 with model SeasonalityMotif in generation 6 of 20\n",
            "Model Number: 881 with model ARIMA in generation 6 of 20\n",
            "New Generation: 7 of 20\n",
            "Model Number: 882 with model FBProphet in generation 7 of 20\n",
            "Model Number: 883 with model UnobservedComponents in generation 7 of 20\n",
            "Model Number: 884 with model SeasonalityMotif in generation 7 of 20\n",
            "Model Number: 885 with model LastValueNaive in generation 7 of 20\n",
            "Model Number: 886 with model ConstantNaive in generation 7 of 20\n",
            "Model Number: 887 with model AverageValueNaive in generation 7 of 20\n",
            "Model Number: 888 with model FBProphet in generation 7 of 20\n",
            "back_forecast split 2 failed with LinAlgError('Array must not contain infs or NaNs')\n",
            "back_forecast split 3 failed with LinAlgError('Array must not contain infs or NaNs')\n",
            "back_forecast split 4 failed with LinAlgError('Array must not contain infs or NaNs')\n",
            "back_forecast split 5 failed with LinAlgError('Array must not contain infs or NaNs')\n",
            "back_forecast split 6 failed with LinAlgError('Array must not contain infs or NaNs')\n"
          ]
        },
        {
          "output_type": "stream",
          "name": "stderr",
          "text": [
            "/usr/local/lib/python3.10/dist-packages/autots/models/matrix_var.py:62: RuntimeWarning:\n",
            "\n",
            "divide by zero encountered in reciprocal\n",
            "\n",
            "/usr/local/lib/python3.10/dist-packages/autots/models/matrix_var.py:62: RuntimeWarning:\n",
            "\n",
            "invalid value encountered in multiply\n",
            "\n",
            "/usr/local/lib/python3.10/dist-packages/autots/models/matrix_var.py:62: RuntimeWarning:\n",
            "\n",
            "divide by zero encountered in reciprocal\n",
            "\n",
            "/usr/local/lib/python3.10/dist-packages/autots/models/matrix_var.py:62: RuntimeWarning:\n",
            "\n",
            "invalid value encountered in multiply\n",
            "\n",
            "/usr/local/lib/python3.10/dist-packages/autots/models/matrix_var.py:62: RuntimeWarning:\n",
            "\n",
            "divide by zero encountered in reciprocal\n",
            "\n",
            "/usr/local/lib/python3.10/dist-packages/autots/models/matrix_var.py:62: RuntimeWarning:\n",
            "\n",
            "invalid value encountered in multiply\n",
            "\n",
            "/usr/local/lib/python3.10/dist-packages/autots/models/matrix_var.py:62: RuntimeWarning:\n",
            "\n",
            "divide by zero encountered in reciprocal\n",
            "\n",
            "/usr/local/lib/python3.10/dist-packages/autots/models/matrix_var.py:62: RuntimeWarning:\n",
            "\n",
            "invalid value encountered in multiply\n",
            "\n",
            "/usr/local/lib/python3.10/dist-packages/autots/models/matrix_var.py:62: RuntimeWarning:\n",
            "\n",
            "divide by zero encountered in reciprocal\n",
            "\n",
            "/usr/local/lib/python3.10/dist-packages/autots/models/matrix_var.py:62: RuntimeWarning:\n",
            "\n",
            "invalid value encountered in multiply\n",
            "\n"
          ]
        },
        {
          "output_type": "stream",
          "name": "stdout",
          "text": [
            "Model Number: 889 with model SeasonalityMotif in generation 7 of 20\n",
            "Model Number: 890 with model Theta in generation 7 of 20\n",
            "Model Number: 891 with model LastValueNaive in generation 7 of 20\n",
            "Model Number: 892 with model Theta in generation 7 of 20\n",
            "Model Number: 893 with model SectionalMotif in generation 7 of 20\n",
            "Model Number: 894 with model MultivariateRegression in generation 7 of 20\n",
            "Model Number: 895 with model ARDL in generation 7 of 20\n",
            "Template Eval Error: ValueError(\"ARDL series Close failed with error IndexError('tuple index out of range') exog train None and predict None\") in model 895 in generation 7: ARDL\n",
            "Model Number: 896 with model SeasonalityMotif in generation 7 of 20\n",
            "Model Number: 897 with model FBProphet in generation 7 of 20\n",
            "Model Number: 898 with model FBProphet in generation 7 of 20\n",
            "Model Number: 899 with model Theta in generation 7 of 20\n",
            "Model Number: 900 with model AverageValueNaive in generation 7 of 20\n",
            "Model Number: 901 with model MetricMotif in generation 7 of 20\n",
            "Model Number: 902 with model SectionalMotif in generation 7 of 20\n",
            "Model Number: 903 with model ARDL in generation 7 of 20\n"
          ]
        },
        {
          "output_type": "stream",
          "name": "stderr",
          "text": [
            "/usr/local/lib/python3.10/dist-packages/sklearn/linear_model/_ridge.py:216: LinAlgWarning:\n",
            "\n",
            "Ill-conditioned matrix (rcond=1.44546e-25): result may not be accurate.\n",
            "\n"
          ]
        },
        {
          "output_type": "stream",
          "name": "stdout",
          "text": [
            "Model Number: 904 with model UnobservedComponents in generation 7 of 20\n",
            "Model Number: 905 with model SeasonalityMotif in generation 7 of 20\n",
            "Model Number: 906 with model NVAR in generation 7 of 20\n",
            "Model Number: 907 with model UnobservedComponents in generation 7 of 20\n",
            "Model Number: 908 with model SeasonalityMotif in generation 7 of 20\n",
            "Model Number: 909 with model LastValueNaive in generation 7 of 20\n",
            "Model Number: 910 with model UnivariateRegression in generation 7 of 20\n",
            "Model Number: 911 with model MultivariateRegression in generation 7 of 20\n",
            "Model Number: 912 with model SeasonalityMotif in generation 7 of 20\n",
            "Template Eval Error: Exception(\"Transformer Cointegration failed on fit from params fake_date {'0': {'det_order': -1, 'k_ar_diff': 0}, '1': {'model': 'Linear', 'phi': 1, 'window': None, 'transform_dict': {'fillna': None, 'transformations': {'0': 'ScipyFilter'}, 'transformation_params': {'0': {'method': 'savgol_filter', 'method_args': {'window_length': 31, 'polyorder': 3, 'deriv': 0, 'mode': 'interp'}}}}}, '2': {}, '3': {'rows': 1, 'lag': 1, 'method': 'additive', 'strength': 1.0, 'first_value_only': False}}\") in model 912 in generation 7: SeasonalityMotif\n",
            "Model Number: 913 with model Theta in generation 7 of 20\n",
            "Model Number: 914 with model AverageValueNaive in generation 7 of 20\n",
            "Model Number: 915 with model LastValueNaive in generation 7 of 20\n",
            "Model Number: 916 with model Theta in generation 7 of 20\n",
            "Model Number: 917 with model Theta in generation 7 of 20\n",
            "Model Number: 918 with model FBProphet in generation 7 of 20\n",
            "Model Number: 919 with model SeasonalityMotif in generation 7 of 20\n",
            "Model Number: 920 with model Theta in generation 7 of 20\n",
            "Model Number: 921 with model ConstantNaive in generation 7 of 20\n",
            "Model Number: 922 with model SectionalMotif in generation 7 of 20\n",
            "Template Eval Error: Exception(\"Transformer RobustScaler failed on fit from params zero {'0': {'window_size': 30, 'alpha': 2.0, 'grouping_forward_limit': 2, 'max_level_shifts': 30, 'alignment': 'rolling_diff_3nn'}, '1': {'rolling_window': 0.05, 'n_tails': 0.1, 'n_future': 0.2, 'method': 'mean', 'macro_micro': True}, '2': {'rows': 1}, '3': {}, '4': {'rows': 1, 'lag': 1, 'method': 'additive', 'strength': 1.0, 'first_value_only': False}}\") in model 922 in generation 7: SectionalMotif\n",
            "Model Number: 923 with model GLS in generation 7 of 20\n",
            "Model Number: 924 with model LastValueNaive in generation 7 of 20\n",
            "Model Number: 925 with model NVAR in generation 7 of 20\n",
            "Model Number: 926 with model ETS in generation 7 of 20\n",
            "Model Number: 927 with model SeasonalNaive in generation 7 of 20\n",
            "Model Number: 928 with model MultivariateRegression in generation 7 of 20\n"
          ]
        },
        {
          "output_type": "stream",
          "name": "stderr",
          "text": [
            "/usr/local/lib/python3.10/dist-packages/sklearn/decomposition/_fastica.py:708: FutureWarning:\n",
            "\n",
            "Starting in v1.3, whiten=True should be specified as whiten='arbitrary-variance' (its current behaviour). This behavior is deprecated in 1.1 and will raise ValueError in 1.3.\n",
            "\n"
          ]
        },
        {
          "output_type": "stream",
          "name": "stdout",
          "text": [
            "Model Number: 929 with model SeasonalityMotif in generation 7 of 20\n",
            "Model Number: 930 with model FBProphet in generation 7 of 20\n",
            "Model Number: 931 with model UnivariateRegression in generation 7 of 20\n",
            "Model Number: 932 with model SeasonalNaive in generation 7 of 20\n",
            "Model Number: 933 with model SeasonalityMotif in generation 7 of 20\n",
            "Model Number: 934 with model LastValueNaive in generation 7 of 20\n",
            "Model Number: 935 with model ConstantNaive in generation 7 of 20\n",
            "Model Number: 936 with model UnobservedComponents in generation 7 of 20\n",
            "Model Number: 937 with model ARDL in generation 7 of 20\n",
            "Model Number: 938 with model AverageValueNaive in generation 7 of 20\n",
            "Model Number: 939 with model Theta in generation 7 of 20\n",
            "Model Number: 940 with model SeasonalNaive in generation 7 of 20\n",
            "Model Number: 941 with model DatepartRegression in generation 7 of 20\n",
            "Template Eval Error: Exception(\"Transformer DatepartRegression failed on fit from params mean {'0': {'method': 'clip', 'std_threshold': 3, 'fillna': None}, '1': {'output_distribution': 'uniform', 'n_quantiles': 246}, '2': {}, '3': {'rows': 1, 'lag': 1, 'method': 'additive', 'strength': 0.9, 'first_value_only': False}, '4': {'regression_model': {'C': 1.0, 'tol': 0.0001, 'loss': 'squared_epsilon_insensitive', 'max_iter': 500}, 'datepart_method': 'expanded', 'polynomial_degree': None, 'transform_dict': None, 'holiday_countries_used': False}}\") in model 941 in generation 7: DatepartRegression\n",
            "Model Number: 942 with model SeasonalNaive in generation 7 of 20\n",
            "Template Eval Error: Exception(\"Transformer BTCD failed on fit from params ffill {'0': {'rows': 1, 'lag': 1, 'method': 'additive', 'strength': 1.0, 'first_value_only': False}, '1': {}, '2': {'regression_model': {'model': 'LinearRegression', 'model_params': {}}, 'max_lags': 1}, '3': {'method': 'nonparametric', 'method_params': {'p': None, 'z_init': 1.5, 'z_limit': 10, 'z_step': 0.5, 'inverse': False, 'max_contamination': 0.25, 'mean_weight': 25, 'sd_weight': 100, 'anomaly_count_weight': 1.0}, 'fillna': 'rolling_mean_24', 'transform_dict': {'fillna': None, 'transformations': {'0': 'ClipOutliers'}, 'transformation_params': {'0': {'method': 'clip', 'std_threshold': 6}}}, 'isolated_only': False}, '4': {'part': 'trend', 'lamb': 104976000000}}\") in model 942 in generation 7: SeasonalNaive\n",
            "Model Number: 943 with model GLS in generation 7 of 20\n",
            "Model Number: 944 with model AverageValueNaive in generation 7 of 20\n",
            "Model Number: 945 with model UnobservedComponents in generation 7 of 20\n",
            "Model Number: 946 with model ARDL in generation 7 of 20\n",
            "Template Eval Error: Exception(\"Transformer BTCD failed on fit from params ffill {'0': {'rows': 1, 'lag': 1, 'method': 'additive', 'strength': 1.0, 'first_value_only': False}, '1': {'regression_model': {'model': 'FastRidge', 'model_params': {}}, 'max_lags': 1}, '2': {}, '3': {'discretization': 'sklearn-kmeans', 'n_bins': 5}, '4': {'lag_1': 10, 'method': 'LastValue'}}\") in model 946 in generation 7: ARDL\n",
            "Model Number: 947 with model SectionalMotif in generation 7 of 20\n",
            "Model Number: 948 with model MultivariateRegression in generation 7 of 20\n",
            "Model Number: 949 with model FBProphet in generation 7 of 20\n",
            "back_forecast split 2 failed with LinAlgError('Array must not contain infs or NaNs')\n",
            "back_forecast split 3 failed with LinAlgError('Array must not contain infs or NaNs')\n",
            "back_forecast split 4 failed with LinAlgError('Array must not contain infs or NaNs')\n",
            "back_forecast split 5 failed with LinAlgError('Array must not contain infs or NaNs')\n",
            "back_forecast split 6 failed with LinAlgError('Array must not contain infs or NaNs')\n"
          ]
        },
        {
          "output_type": "stream",
          "name": "stderr",
          "text": [
            "/usr/local/lib/python3.10/dist-packages/autots/models/matrix_var.py:62: RuntimeWarning:\n",
            "\n",
            "divide by zero encountered in reciprocal\n",
            "\n",
            "/usr/local/lib/python3.10/dist-packages/autots/models/matrix_var.py:62: RuntimeWarning:\n",
            "\n",
            "invalid value encountered in multiply\n",
            "\n",
            "/usr/local/lib/python3.10/dist-packages/autots/models/matrix_var.py:62: RuntimeWarning:\n",
            "\n",
            "divide by zero encountered in reciprocal\n",
            "\n",
            "/usr/local/lib/python3.10/dist-packages/autots/models/matrix_var.py:62: RuntimeWarning:\n",
            "\n",
            "invalid value encountered in multiply\n",
            "\n",
            "/usr/local/lib/python3.10/dist-packages/autots/models/matrix_var.py:62: RuntimeWarning:\n",
            "\n",
            "divide by zero encountered in reciprocal\n",
            "\n",
            "/usr/local/lib/python3.10/dist-packages/autots/models/matrix_var.py:62: RuntimeWarning:\n",
            "\n",
            "invalid value encountered in multiply\n",
            "\n",
            "/usr/local/lib/python3.10/dist-packages/autots/models/matrix_var.py:62: RuntimeWarning:\n",
            "\n",
            "divide by zero encountered in reciprocal\n",
            "\n",
            "/usr/local/lib/python3.10/dist-packages/autots/models/matrix_var.py:62: RuntimeWarning:\n",
            "\n",
            "invalid value encountered in multiply\n",
            "\n",
            "/usr/local/lib/python3.10/dist-packages/autots/models/matrix_var.py:62: RuntimeWarning:\n",
            "\n",
            "divide by zero encountered in reciprocal\n",
            "\n",
            "/usr/local/lib/python3.10/dist-packages/autots/models/matrix_var.py:62: RuntimeWarning:\n",
            "\n",
            "invalid value encountered in multiply\n",
            "\n"
          ]
        },
        {
          "output_type": "stream",
          "name": "stdout",
          "text": [
            "Model Number: 950 with model LastValueNaive in generation 7 of 20\n",
            "Model Number: 951 with model SeasonalityMotif in generation 7 of 20\n",
            "Model Number: 952 with model UnobservedComponents in generation 7 of 20\n",
            "Model Number: 953 with model UnivariateMotif in generation 7 of 20\n",
            "Model Number: 954 with model MultivariateRegression in generation 7 of 20\n",
            "Model Number: 955 with model GLS in generation 7 of 20\n",
            "Model Number: 956 with model ARDL in generation 7 of 20\n",
            "Template Eval Error: ValueError(\"regression_type='User' but future_regressor not supplied\") in model 956 in generation 7: ARDL\n",
            "Model Number: 957 with model AverageValueNaive in generation 7 of 20\n",
            "Model Number: 958 with model UnobservedComponents in generation 7 of 20\n"
          ]
        },
        {
          "output_type": "stream",
          "name": "stderr",
          "text": [
            "/usr/local/lib/python3.10/dist-packages/sklearn/neighbors/_classification.py:215: DataConversionWarning:\n",
            "\n",
            "A column-vector y was passed when a 1d array was expected. Please change the shape of y to (n_samples,), for example using ravel().\n",
            "\n"
          ]
        },
        {
          "output_type": "stream",
          "name": "stdout",
          "text": [
            "Model Number: 959 with model SeasonalityMotif in generation 7 of 20\n",
            "Model Number: 960 with model ARIMA in generation 7 of 20\n",
            "Template Eval Error: ValueError(\"regression_type='User' but future_regressor not supplied\") in model 960 in generation 7: ARIMA\n",
            "Model Number: 961 with model MetricMotif in generation 7 of 20\n",
            "Model Number: 962 with model UnivariateMotif in generation 7 of 20\n",
            "Template Eval Error: Exception(\"Transformer BTCD failed on fit from params rolling_mean_24 {'0': {'rows': 1, 'lag': 1, 'method': 'additive', 'strength': 1.0, 'first_value_only': False}, '1': {'lag_1': 75, 'method': 20}, '2': {}, '3': {'regression_model': {'model': 'LinearRegression', 'model_params': {}}, 'max_lags': 1}}\") in model 962 in generation 7: UnivariateMotif\n",
            "Model Number: 963 with model Theta in generation 7 of 20\n",
            "Model Number: 964 with model ETS in generation 7 of 20\n"
          ]
        },
        {
          "output_type": "stream",
          "name": "stderr",
          "text": [
            "/usr/local/lib/python3.10/dist-packages/sklearn/linear_model/_ridge.py:216: LinAlgWarning:\n",
            "\n",
            "Ill-conditioned matrix (rcond=1.44546e-25): result may not be accurate.\n",
            "\n"
          ]
        },
        {
          "output_type": "stream",
          "name": "stdout",
          "text": [
            "Model Number: 965 with model UnivariateMotif in generation 7 of 20\n",
            "Model Number: 966 with model SeasonalityMotif in generation 7 of 20\n",
            "Model Number: 967 with model FBProphet in generation 7 of 20\n"
          ]
        },
        {
          "output_type": "stream",
          "name": "stderr",
          "text": [
            "/usr/local/lib/python3.10/dist-packages/sklearn/linear_model/_ridge.py:216: LinAlgWarning:\n",
            "\n",
            "Ill-conditioned matrix (rcond=1.44546e-25): result may not be accurate.\n",
            "\n"
          ]
        },
        {
          "output_type": "stream",
          "name": "stdout",
          "text": [
            "Model Number: 968 with model SeasonalNaive in generation 7 of 20\n",
            "Model Number: 969 with model UnivariateMotif in generation 7 of 20\n",
            "Model Number: 970 with model ETS in generation 7 of 20\n",
            "Model Number: 971 with model LastValueNaive in generation 7 of 20\n",
            "Model Number: 972 with model AverageValueNaive in generation 7 of 20\n",
            "Model Number: 973 with model NVAR in generation 7 of 20\n",
            "Model Number: 974 with model UnobservedComponents in generation 7 of 20\n",
            "Template Eval Error: Exception(\"Transformer BTCD failed on fit from params ffill {'0': {}, '1': {'model': 'Linear', 'phi': 1, 'window': 90, 'transform_dict': None}, '2': {'regression_model': {'model': 'LinearRegression', 'model_params': {}}, 'max_lags': 1}, '3': {}, '4': {'rows': 1, 'lag': 1, 'method': 'additive', 'strength': 1.0, 'first_value_only': False}}\") in model 974 in generation 7: UnobservedComponents\n",
            "Model Number: 975 with model SeasonalNaive in generation 7 of 20\n",
            "Model Number: 976 with model UnobservedComponents in generation 7 of 20\n",
            "Model Number: 977 with model WindowRegression in generation 7 of 20\n",
            "Model Number: 978 with model AverageValueNaive in generation 7 of 20\n",
            "Model Number: 979 with model ARIMA in generation 7 of 20\n",
            "Template Eval Error: Exception(\"Transformer BTCD failed on fit from params ffill {'0': {'rows': 1, 'lag': 1, 'method': 'additive', 'strength': 1.0, 'first_value_only': False}, '1': {}, '2': {}, '3': {'regression_model': {'model': 'LinearRegression', 'model_params': {}}, 'max_lags': 1}, '4': {'output_distribution': 'uniform', 'n_quantiles': 1000}}\") in model 979 in generation 7: ARIMA\n",
            "Model Number: 980 with model FBProphet in generation 7 of 20\n",
            "No anomalies detected.\n"
          ]
        },
        {
          "output_type": "stream",
          "name": "stderr",
          "text": [
            "/usr/local/lib/python3.10/dist-packages/sklearn/linear_model/_ridge.py:216: LinAlgWarning:\n",
            "\n",
            "Ill-conditioned matrix (rcond=1.44546e-25): result may not be accurate.\n",
            "\n"
          ]
        },
        {
          "output_type": "stream",
          "name": "stdout",
          "text": [
            "Model Number: 981 with model WindowRegression in generation 7 of 20\n",
            "New Generation: 8 of 20\n",
            "Model Number: 982 with model AverageValueNaive in generation 8 of 20\n",
            "Model Number: 983 with model UnivariateRegression in generation 8 of 20\n",
            "Template Eval Error: ValueError(\"regression_type='User' but not future_regressor supplied.\") in model 983 in generation 8: UnivariateRegression\n",
            "Model Number: 984 with model Theta in generation 8 of 20\n",
            "Model Number: 985 with model Theta in generation 8 of 20\n",
            "Model Number: 986 with model FBProphet in generation 8 of 20\n",
            "Template Eval Error: ValueError(\"regression_type='User' but no future_regressor passed\") in model 986 in generation 8: FBProphet\n",
            "Model Number: 987 with model Theta in generation 8 of 20\n",
            "Model Number: 988 with model SectionalMotif in generation 8 of 20\n",
            "Model Number: 989 with model FBProphet in generation 8 of 20\n",
            "Model Number: 990 with model UnobservedComponents in generation 8 of 20\n",
            "Model Number: 991 with model FBProphet in generation 8 of 20\n",
            "Model Number: 992 with model MultivariateRegression in generation 8 of 20\n",
            "Model Number: 993 with model Theta in generation 8 of 20\n",
            "Model Number: 994 with model GLS in generation 8 of 20\n",
            "Model Number: 995 with model UnobservedComponents in generation 8 of 20\n",
            "Model Number: 996 with model UnobservedComponents in generation 8 of 20\n",
            "Model Number: 997 with model LastValueNaive in generation 8 of 20\n",
            "Template Eval Error: Exception(\"Transformer Cointegration failed on fit from params mean {'0': {'span': 7}, '1': {}, '2': {'det_order': 1, 'k_ar_diff': 2}, '3': {'method': 0.9}}\") in model 997 in generation 8: LastValueNaive\n",
            "Model Number: 998 with model GLS in generation 8 of 20\n",
            "Template Eval Error: Exception(\"Transformer Cointegration failed on fit from params rolling_mean_24 {'0': {'method': 'nonparametric', 'method_params': {'p': None, 'z_init': 2.0, 'z_limit': 10, 'z_step': 0.25, 'inverse': False, 'max_contamination': 0.25, 'mean_weight': 25, 'sd_weight': 25, 'anomaly_count_weight': 1.0}, 'fillna': 'rolling_mean_24', 'transform_dict': {'transformations': {'0': 'DatepartRegression'}, 'transformation_params': {'0': {'datepart_method': 'simple_3', 'regression_model': {'model': 'DecisionTree', 'model_params': {'max_depth': None, 'min_samples_split': 0.1}}}}}, 'isolated_only': False}, '1': {'det_order': -1, 'k_ar_diff': 2}}\") in model 998 in generation 8: GLS\n",
            "Model Number: 999 with model FBProphet in generation 8 of 20\n"
          ]
        },
        {
          "output_type": "stream",
          "name": "stderr",
          "text": [
            "/usr/local/lib/python3.10/dist-packages/autots/tools/thresholding.py:204: RuntimeWarning:\n",
            "\n",
            "overflow encountered in scalar power\n",
            "\n",
            "/usr/local/lib/python3.10/dist-packages/sklearn/linear_model/_ridge.py:216: LinAlgWarning:\n",
            "\n",
            "Ill-conditioned matrix (rcond=1.44546e-25): result may not be accurate.\n",
            "\n"
          ]
        },
        {
          "output_type": "stream",
          "name": "stdout",
          "text": [
            "Model Number: 1000 with model ETS in generation 8 of 20\n",
            "Model Number: 1001 with model ConstantNaive in generation 8 of 20\n",
            "Model Number: 1002 with model NVAR in generation 8 of 20\n",
            "Model Number: 1003 with model SeasonalNaive in generation 8 of 20\n",
            "Model Number: 1004 with model LastValueNaive in generation 8 of 20\n",
            "Model Number: 1005 with model ETS in generation 8 of 20\n",
            "Model Number: 1006 with model LastValueNaive in generation 8 of 20\n",
            "Model Number: 1007 with model WindowRegression in generation 8 of 20\n",
            "Model Number: 1008 with model SeasonalNaive in generation 8 of 20\n",
            "Model Number: 1009 with model FBProphet in generation 8 of 20\n",
            "Template Eval Error: ValueError(\"regression_type='User' but no future_regressor passed\") in model 1009 in generation 8: FBProphet\n",
            "Model Number: 1010 with model ETS in generation 8 of 20\n",
            "Model Number: 1011 with model UnivariateRegression in generation 8 of 20\n",
            "Model Number: 1012 with model LastValueNaive in generation 8 of 20\n",
            "Model Number: 1013 with model SeasonalityMotif in generation 8 of 20\n",
            "Model Number: 1014 with model SeasonalityMotif in generation 8 of 20\n",
            "Model Number: 1015 with model WindowRegression in generation 8 of 20\n",
            "Template Eval Error: ValueError(\"regression_type='User' but no future_regressor passed\") in model 1015 in generation 8: WindowRegression\n",
            "Model Number: 1016 with model GLS in generation 8 of 20\n",
            "Model Number: 1017 with model SeasonalityMotif in generation 8 of 20\n",
            "Model Number: 1018 with model FBProphet in generation 8 of 20\n"
          ]
        },
        {
          "output_type": "stream",
          "name": "stderr",
          "text": [
            "/usr/local/lib/python3.10/dist-packages/sklearn/linear_model/_ridge.py:216: LinAlgWarning:\n",
            "\n",
            "Ill-conditioned matrix (rcond=1.44546e-25): result may not be accurate.\n",
            "\n"
          ]
        },
        {
          "output_type": "stream",
          "name": "stdout",
          "text": [
            "Model Number: 1019 with model Theta in generation 8 of 20\n",
            "Model Number: 1020 with model ConstantNaive in generation 8 of 20\n",
            "Template Eval Error: Exception(\"Transformer DifferencedTransformer failed on inverse from params ffill {'0': {}, '1': {'rows': 1, 'lag': 1, 'method': 'additive', 'strength': 1.0, 'first_value_only': False}, '2': {'fillna': 'pchip', 'center': 'zero'}, '3': {}, '4': {'part': 'trend', 'lamb': 104976000000}}\") in model 1020 in generation 8: ConstantNaive\n",
            "Model Number: 1021 with model SeasonalityMotif in generation 8 of 20\n",
            "Model Number: 1022 with model LastValueNaive in generation 8 of 20\n",
            "Model Number: 1023 with model MetricMotif in generation 8 of 20\n",
            "Template Eval Error: Exception(\"Transformer ReplaceConstant failed on fit from params akima {'0': {'decomp_type': 'seasonal_decompose', 'part': 'trend'}, '1': {'method': 'savgol_filter', 'method_args': {'window_length': 31, 'polyorder': 2, 'deriv': 0, 'mode': 'mirror'}}, '2': {}, '3': {'constant': 0, 'reintroduction_model': {'model': 'xgboost', 'model_params': {'booster': 'gbtree', 'max_depth': 6, 'eta': 0.003, 'min_child_weight': 2, 'subsample': 1, 'colsample_bylevel': 0.5, 'reg_alpha': 0, 'reg_lambda': 0.11, 'n_estimators': 100, 'quantile_alpha': 0.5, 'tree_method': 'hist'}, 'datepart_method': 'common_fourier'}, 'fillna': 'mean'}, '4': {}}\") in model 1023 in generation 8: MetricMotif\n",
            "Model Number: 1024 with model SectionalMotif in generation 8 of 20\n",
            "Model Number: 1025 with model MetricMotif in generation 8 of 20\n",
            "Model Number: 1026 with model AverageValueNaive in generation 8 of 20\n",
            "Model Number: 1027 with model MultivariateRegression in generation 8 of 20\n",
            "Model Number: 1028 with model MetricMotif in generation 8 of 20\n",
            "Model Number: 1029 with model ConstantNaive in generation 8 of 20\n",
            "Model Number: 1030 with model ARDL in generation 8 of 20\n",
            "Model Number: 1031 with model AverageValueNaive in generation 8 of 20\n",
            "Template Eval Error: Exception(\"Transformer DatepartRegression failed on inverse from params ffill {'0': {}, '1': {'output_distribution': 'uniform', 'n_quantiles': 246}, '2': {'whiten': False}, '3': {'regression_model': {'model': 'RandomForest', 'model_params': {'n_estimators': 300, 'min_samples_leaf': 1, 'bootstrap': False}}, 'datepart_method': 'simple', 'polynomial_degree': 2, 'transform_dict': None, 'holiday_countries_used': True}, '4': {}}\") in model 1031 in generation 8: AverageValueNaive\n",
            "Model Number: 1032 with model MetricMotif in generation 8 of 20\n",
            "Model Number: 1033 with model MultivariateRegression in generation 8 of 20\n",
            "Model Number: 1034 with model UnobservedComponents in generation 8 of 20\n",
            "Model Number: 1035 with model ETS in generation 8 of 20\n",
            "Model Number: 1036 with model UnivariateMotif in generation 8 of 20\n",
            "Model Number: 1037 with model AverageValueNaive in generation 8 of 20\n",
            "Model Number: 1038 with model UnivariateMotif in generation 8 of 20\n",
            "Model Number: 1039 with model GLS in generation 8 of 20\n",
            "Template Eval Error: Exception(\"Transformer MaxAbsScaler failed on fit from params ffill {'0': {'rows': 3}, '1': {}, '2': {'method': 'zscore', 'method_params': {'distribution': 'uniform', 'alpha': 0.05}, 'fillna': 'fake_date', 'transform_dict': {'fillna': None, 'transformations': {'0': 'EWMAFilter'}, 'transformation_params': {'0': {'span': 7}}}, 'isolated_only': False}, '3': {}, '4': {'model': 'GLS', 'phi': 1, 'window': 10, 'transform_dict': {'fillna': None, 'transformations': {'0': 'Discretize'}, 'transformation_params': {'0': {'discretization': 'center', 'n_bins': 20}}}}}\") in model 1039 in generation 8: GLS\n",
            "Model Number: 1040 with model SectionalMotif in generation 8 of 20\n",
            "Model Number: 1041 with model LastValueNaive in generation 8 of 20\n",
            "Model Number: 1042 with model FBProphet in generation 8 of 20\n"
          ]
        },
        {
          "output_type": "stream",
          "name": "stderr",
          "text": [
            "/usr/local/lib/python3.10/dist-packages/sklearn/linear_model/_ridge.py:216: LinAlgWarning:\n",
            "\n",
            "Ill-conditioned matrix (rcond=1.44546e-25): result may not be accurate.\n",
            "\n"
          ]
        },
        {
          "output_type": "stream",
          "name": "stdout",
          "text": [
            "No anomalies detected.\n",
            "Model Number: 1043 with model FBProphet in generation 8 of 20\n"
          ]
        },
        {
          "output_type": "stream",
          "name": "stderr",
          "text": [
            "/usr/local/lib/python3.10/dist-packages/sklearn/linear_model/_ridge.py:216: LinAlgWarning:\n",
            "\n",
            "Ill-conditioned matrix (rcond=1.44546e-25): result may not be accurate.\n",
            "\n"
          ]
        },
        {
          "output_type": "stream",
          "name": "stdout",
          "text": [
            "Model Number: 1044 with model UnobservedComponents in generation 8 of 20\n",
            "Model Number: 1045 with model AverageValueNaive in generation 8 of 20\n",
            "Model Number: 1046 with model GLS in generation 8 of 20\n",
            "Model Number: 1047 with model LastValueNaive in generation 8 of 20\n",
            "Model Number: 1048 with model ARDL in generation 8 of 20\n",
            "Template Eval Error: ValueError(\"ARDL series Close failed with error ValueError('The number of regressors (120) including deterministics, lags of the endog, lags of the exogenous, and fixed regressors is larger than the sample available for estimation (97).') exog train             weekend  quarter      epoch  month_1  month_2  month_3  month_4  \\\\\\nDate                                                                          \\n2023-10-20        0        4  2460237.5      0.0      0.0      0.0      0.0   \\n2023-10-21        1        4  2460238.5      0.0      0.0      0.0      0.0   \\n2023-10-22        1        4  2460239.5      0.0      0.0      0.0      0.0   \\n2023-10-23        0        4  2460240.5      0.0      0.0      0.0      0.0   \\n2023-10-24        0        4  2460241.5      0.0      0.0      0.0      0.0   \\n...             ...      ...        ...      ...      ...      ...      ...   \\n2024-01-23        0        1  2460332.5      1.0      0.0      0.0      0.0   \\n2024-01-24        0        1  2460333.5      1.0      0.0      0.0      0.0   \\n2024-01-25        0        1  2460334.5      1.0      0.0      0.0      0.0   \\n2024-01-26        0        1  2460335.5      1.0      0.0      0.0      0.0   \\n2024-01-27        1        1  2460336.5      1.0      0.0      0.0      0.0   \\n\\n            month_5  month_6  month_7  ...  day_27  day_28  day_29  day_30  \\\\\\nDate                                   ...                                   \\n2023-10-20      0.0      0.0      0.0  ...     0.0     0.0     0.0     0.0   \\n2023-10-21      0.0      0.0      0.0  ...     0.0     0.0     0.0     0.0   \\n2023-10-22      0.0      0.0      0.0  ...     0.0     0.0     0.0     0.0   \\n2023-10-23      0.0      0.0      0.0  ...     0.0     0.0     0.0     0.0   \\n2023-10-24      0.0      0.0      0.0  ...     0.0     0.0     0.0     0.0   \\n...             ...      ...      ...  ...     ...     ...     ...     ...   \\n2024-01-23      0.0      0.0      0.0  ...     0.0     0.0     0.0     0.0   \\n2024-01-24      0.0      0.0      0.0  ...     0.0     0.0     0.0     0.0   \\n2024-01-25      0.0      0.0      0.0  ...     0.0     0.0     0.0     0.0   \\n2024-01-26      0.0      0.0      0.0  ...     0.0     0.0     0.0     0.0   \\n2024-01-27      0.0      0.0      0.0  ...     1.0     0.0     0.0     0.0   \\n\\n            day_31  weekdayofmonth_1  weekdayofmonth_2  weekdayofmonth_3  \\\\\\nDate                                                                       \\n2023-10-20     0.0               0.0               0.0               1.0   \\n2023-10-21     0.0               0.0               0.0               1.0   \\n2023-10-22     0.0               0.0               0.0               0.0   \\n2023-10-23     0.0               0.0               0.0               0.0   \\n2023-10-24     0.0               0.0               0.0               0.0   \\n...            ...               ...               ...               ...   \\n2024-01-23     0.0               0.0               0.0               0.0   \\n2024-01-24     0.0               0.0               0.0               0.0   \\n2024-01-25     0.0               0.0               0.0               0.0   \\n2024-01-26     0.0               0.0               0.0               0.0   \\n2024-01-27     0.0               0.0               0.0               0.0   \\n\\n            weekdayofmonth_4  weekdayofmonth_5  \\nDate                                            \\n2023-10-20               0.0               0.0  \\n2023-10-21               0.0               0.0  \\n2023-10-22               1.0               0.0  \\n2023-10-23               1.0               0.0  \\n2023-10-24               1.0               0.0  \\n...                      ...               ...  \\n2024-01-23               1.0               0.0  \\n2024-01-24               1.0               0.0  \\n2024-01-25               1.0               0.0  \\n2024-01-26               1.0               0.0  \\n2024-01-27               1.0               0.0  \\n\\n[100 rows x 58 columns] and predict             weekend  quarter      epoch  month_1  month_2  month_3  month_4  \\\\\\n2024-01-28        1        1  2460337.5      1.0      0.0      0.0      0.0   \\n2024-01-29        0        1  2460338.5      1.0      0.0      0.0      0.0   \\n2024-01-30        0        1  2460339.5      1.0      0.0      0.0      0.0   \\n2024-01-31        0        1  2460340.5      1.0      0.0      0.0      0.0   \\n2024-02-01        0        1  2460341.5      0.0      1.0      0.0      0.0   \\n2024-02-02        0        1  2460342.5      0.0      1.0      0.0      0.0   \\n2024-02-03        1        1  2460343.5      0.0      1.0      0.0      0.0   \\n2024-02-04        1        1  2460344.5      0.0      1.0      0.0      0.0   \\n2024-02-05        0        1  2460345.5      0.0      1.0      0.0      0.0   \\n2024-02-06        0        1  2460346.5      0.0      1.0      0.0      0.0   \\n2024-02-07        0        1  2460347.5      0.0      1.0      0.0      0.0   \\n2024-02-08        0        1  2460348.5      0.0      1.0      0.0      0.0   \\n2024-02-09        0        1  2460349.5      0.0      1.0      0.0      0.0   \\n2024-02-10        1        1  2460350.5      0.0      1.0      0.0      0.0   \\n2024-02-11        1        1  2460351.5      0.0      1.0      0.0      0.0   \\n2024-02-12        0        1  2460352.5      0.0      1.0      0.0      0.0   \\n2024-02-13        0        1  2460353.5      0.0      1.0      0.0      0.0   \\n2024-02-14        0        1  2460354.5      0.0      1.0      0.0      0.0   \\n2024-02-15        0        1  2460355.5      0.0      1.0      0.0      0.0   \\n2024-02-16        0        1  2460356.5      0.0      1.0      0.0      0.0   \\n2024-02-17        1        1  2460357.5      0.0      1.0      0.0      0.0   \\n2024-02-18        1        1  2460358.5      0.0      1.0      0.0      0.0   \\n2024-02-19        0        1  2460359.5      0.0      1.0      0.0      0.0   \\n2024-02-20        0        1  2460360.5      0.0      1.0      0.0      0.0   \\n2024-02-21        0        1  2460361.5      0.0      1.0      0.0      0.0   \\n2024-02-22        0        1  2460362.5      0.0      1.0      0.0      0.0   \\n2024-02-23        0        1  2460363.5      0.0      1.0      0.0      0.0   \\n2024-02-24        1        1  2460364.5      0.0      1.0      0.0      0.0   \\n2024-02-25        1        1  2460365.5      0.0      1.0      0.0      0.0   \\n2024-02-26        0        1  2460366.5      0.0      1.0      0.0      0.0   \\n\\n            month_5  month_6  month_7  ...  day_27  day_28  day_29  day_30  \\\\\\n2024-01-28      0.0      0.0      0.0  ...     0.0     1.0     0.0     0.0   \\n2024-01-29      0.0      0.0      0.0  ...     0.0     0.0     1.0     0.0   \\n2024-01-30      0.0      0.0      0.0  ...     0.0     0.0     0.0     1.0   \\n2024-01-31      0.0      0.0      0.0  ...     0.0     0.0     0.0     0.0   \\n2024-02-01      0.0      0.0      0.0  ...     0.0     0.0     0.0     0.0   \\n2024-02-02      0.0      0.0      0.0  ...     0.0     0.0     0.0     0.0   \\n2024-02-03      0.0      0.0      0.0  ...     0.0     0.0     0.0     0.0   \\n2024-02-04      0.0      0.0      0.0  ...     0.0     0.0     0.0     0.0   \\n2024-02-05      0.0      0.0      0.0  ...     0.0     0.0     0.0     0.0   \\n2024-02-06      0.0      0.0      0.0  ...     0.0     0.0     0.0     0.0   \\n2024-02-07      0.0      0.0      0.0  ...     0.0     0.0     0.0     0.0   \\n2024-02-08      0.0      0.0      0.0  ...     0.0     0.0     0.0     0.0   \\n2024-02-09      0.0      0.0      0.0  ...     0.0     0.0     0.0     0.0   \\n2024-02-10      0.0      0.0      0.0  ...     0.0     0.0     0.0     0.0   \\n2024-02-11      0.0      0.0      0.0  ...     0.0     0.0     0.0     0.0   \\n2024-02-12      0.0      0.0      0.0  ...     0.0     0.0     0.0     0.0   \\n2024-02-13      0.0      0.0      0.0  ...     0.0     0.0     0.0     0.0   \\n2024-02-14      0.0      0.0      0.0  ...     0.0     0.0     0.0     0.0   \\n2024-02-15      0.0      0.0      0.0  ...     0.0     0.0     0.0     0.0   \\n2024-02-16      0.0      0.0      0.0  ...     0.0     0.0     0.0     0.0   \\n2024-02-17      0.0      0.0      0.0  ...     0.0     0.0     0.0     0.0   \\n2024-02-18      0.0      0.0      0.0  ...     0.0     0.0     0.0     0.0   \\n2024-02-19      0.0      0.0      0.0  ...     0.0     0.0     0.0     0.0   \\n2024-02-20      0.0      0.0      0.0  ...     0.0     0.0     0.0     0.0   \\n2024-02-21      0.0      0.0      0.0  ...     0.0     0.0     0.0     0.0   \\n2024-02-22      0.0      0.0      0.0  ...     0.0     0.0     0.0     0.0   \\n2024-02-23      0.0      0.0      0.0  ...     0.0     0.0     0.0     0.0   \\n2024-02-24      0.0      0.0      0.0  ...     0.0     0.0     0.0     0.0   \\n2024-02-25      0.0      0.0      0.0  ...     0.0     0.0     0.0     0.0   \\n2024-02-26      0.0      0.0      0.0  ...     0.0     0.0     0.0     0.0   \\n\\n            day_31  weekdayofmonth_1  weekdayofmonth_2  weekdayofmonth_3  \\\\\\n2024-01-28     0.0               0.0               0.0               0.0   \\n2024-01-29     0.0               0.0               0.0               0.0   \\n2024-01-30     0.0               0.0               0.0               0.0   \\n2024-01-31     1.0               0.0               0.0               0.0   \\n2024-02-01     0.0               1.0               0.0               0.0   \\n2024-02-02     0.0               1.0               0.0               0.0   \\n2024-02-03     0.0               1.0               0.0               0.0   \\n2024-02-04     0.0               1.0               0.0               0.0   \\n2024-02-05     0.0               1.0               0.0               0.0   \\n2024-02-06     0.0               1.0               0.0               0.0   \\n2024-02-07     0.0               1.0               0.0               0.0   \\n2024-02-08     0.0               0.0               1.0               0.0   \\n2024-02-09     0.0               0.0               1.0               0.0   \\n2024-02-10     0.0               0.0               1.0               0.0   \\n2024-02-11     0.0               0.0               1.0               0.0   \\n2024-02-12     0.0               0.0               1.0               0.0   \\n2024-02-13     0.0               0.0               1.0               0.0   \\n2024-02-14     0.0               0.0               1.0               0.0   \\n2024-02-15     0.0               0.0               0.0               1.0   \\n2024-02-16     0.0               0.0               0.0               1.0   \\n2024-02-17     0.0               0.0               0.0               1.0   \\n2024-02-18     0.0               0.0               0.0               1.0   \\n2024-02-19     0.0               0.0               0.0               1.0   \\n2024-02-20     0.0               0.0               0.0               1.0   \\n2024-02-21     0.0               0.0               0.0               1.0   \\n2024-02-22     0.0               0.0               0.0               0.0   \\n2024-02-23     0.0               0.0               0.0               0.0   \\n2024-02-24     0.0               0.0               0.0               0.0   \\n2024-02-25     0.0               0.0               0.0               0.0   \\n2024-02-26     0.0               0.0               0.0               0.0   \\n\\n            weekdayofmonth_4  weekdayofmonth_5  \\n2024-01-28               1.0               0.0  \\n2024-01-29               0.0               1.0  \\n2024-01-30               0.0               1.0  \\n2024-01-31               0.0               1.0  \\n2024-02-01               0.0               0.0  \\n2024-02-02               0.0               0.0  \\n2024-02-03               0.0               0.0  \\n2024-02-04               0.0               0.0  \\n2024-02-05               0.0               0.0  \\n2024-02-06               0.0               0.0  \\n2024-02-07               0.0               0.0  \\n2024-02-08               0.0               0.0  \\n2024-02-09               0.0               0.0  \\n2024-02-10               0.0               0.0  \\n2024-02-11               0.0               0.0  \\n2024-02-12               0.0               0.0  \\n2024-02-13               0.0               0.0  \\n2024-02-14               0.0               0.0  \\n2024-02-15               0.0               0.0  \\n2024-02-16               0.0               0.0  \\n2024-02-17               0.0               0.0  \\n2024-02-18               0.0               0.0  \\n2024-02-19               0.0               0.0  \\n2024-02-20               0.0               0.0  \\n2024-02-21               0.0               0.0  \\n2024-02-22               1.0               0.0  \\n2024-02-23               1.0               0.0  \\n2024-02-24               1.0               0.0  \\n2024-02-25               1.0               0.0  \\n2024-02-26               1.0               0.0  \\n\\n[30 rows x 58 columns]\") in model 1048 in generation 8: ARDL\n",
            "Model Number: 1049 with model FBProphet in generation 8 of 20\n",
            "No anomalies detected.\n"
          ]
        },
        {
          "output_type": "stream",
          "name": "stderr",
          "text": [
            "/usr/local/lib/python3.10/dist-packages/sklearn/linear_model/_ridge.py:216: LinAlgWarning:\n",
            "\n",
            "Ill-conditioned matrix (rcond=1.44546e-25): result may not be accurate.\n",
            "\n"
          ]
        },
        {
          "output_type": "stream",
          "name": "stdout",
          "text": [
            "Model Number: 1050 with model LastValueNaive in generation 8 of 20\n",
            "Model Number: 1051 with model SeasonalNaive in generation 8 of 20\n",
            "Template Eval Error: Exception(\"Transformer BTCD failed on fit from params ffill {'0': {}, '1': {}, '2': {}, '3': {'rows': 1, 'lag': 1, 'method': 'additive', 'strength': 1.0, 'first_value_only': False}, '4': {}, '5': {'regression_model': {'model': 'FastRidge', 'model_params': {}}, 'max_lags': 1}}\") in model 1051 in generation 8: SeasonalNaive\n",
            "Model Number: 1052 with model Theta in generation 8 of 20\n",
            "Model Number: 1053 with model LastValueNaive in generation 8 of 20\n",
            "Model Number: 1054 with model ETS in generation 8 of 20\n",
            "Model Number: 1055 with model SectionalMotif in generation 8 of 20\n",
            "Model Number: 1056 with model FBProphet in generation 8 of 20\n",
            "Template Eval Error: ValueError(\"regression_type='User' but no future_regressor passed\") in model 1056 in generation 8: FBProphet\n",
            "Model Number: 1057 with model Theta in generation 8 of 20\n",
            "Model Number: 1058 with model UnobservedComponents in generation 8 of 20\n",
            "Model Number: 1059 with model UnivariateRegression in generation 8 of 20\n",
            "Model Number: 1060 with model SeasonalNaive in generation 8 of 20\n",
            "Model Number: 1061 with model MetricMotif in generation 8 of 20\n",
            "Model Number: 1062 with model UnobservedComponents in generation 8 of 20\n"
          ]
        },
        {
          "output_type": "stream",
          "name": "stderr",
          "text": [
            "/usr/local/lib/python3.10/dist-packages/sklearn/linear_model/_ridge.py:216: LinAlgWarning:\n",
            "\n",
            "Ill-conditioned matrix (rcond=1.44546e-25): result may not be accurate.\n",
            "\n"
          ]
        },
        {
          "output_type": "stream",
          "name": "stdout",
          "text": [
            "Model Number: 1063 with model SeasonalNaive in generation 8 of 20\n",
            "Model Number: 1064 with model UnobservedComponents in generation 8 of 20\n",
            "Model Number: 1065 with model ConstantNaive in generation 8 of 20\n",
            "Model Number: 1066 with model GLS in generation 8 of 20\n",
            "Model Number: 1067 with model Theta in generation 8 of 20\n",
            "Model Number: 1068 with model SeasonalityMotif in generation 8 of 20\n",
            "Model Number: 1069 with model GLS in generation 8 of 20\n",
            "Model Number: 1070 with model FBProphet in generation 8 of 20\n",
            "Model Number: 1071 with model SectionalMotif in generation 8 of 20\n"
          ]
        },
        {
          "output_type": "stream",
          "name": "stderr",
          "text": [
            "/usr/local/lib/python3.10/dist-packages/autots/tools/fast_kalman.py:1092: RuntimeWarning:\n",
            "\n",
            "overflow encountered in cast\n",
            "\n",
            "/usr/local/lib/python3.10/dist-packages/autots/tools/fast_kalman.py:1098: RuntimeWarning:\n",
            "\n",
            "overflow encountered in cast\n",
            "\n",
            "/usr/local/lib/python3.10/dist-packages/autots/tools/fast_kalman.py:1296: RuntimeWarning:\n",
            "\n",
            "overflow encountered in matmul\n",
            "\n",
            "/usr/local/lib/python3.10/dist-packages/autots/tools/fast_kalman.py:1309: RuntimeWarning:\n",
            "\n",
            "overflow encountered in matmul\n",
            "\n",
            "/usr/local/lib/python3.10/dist-packages/autots/tools/fast_kalman.py:1309: RuntimeWarning:\n",
            "\n",
            "invalid value encountered in matmul\n",
            "\n",
            "/usr/local/lib/python3.10/dist-packages/autots/tools/fast_kalman.py:1296: RuntimeWarning:\n",
            "\n",
            "invalid value encountered in matmul\n",
            "\n",
            "/usr/local/lib/python3.10/dist-packages/autots/tools/fast_kalman.py:1314: RuntimeWarning:\n",
            "\n",
            "overflow encountered in multiply\n",
            "\n"
          ]
        },
        {
          "output_type": "stream",
          "name": "stdout",
          "text": [
            "Template Eval Error: Exception(\"Transformer KalmanSmoothing failed on fit from params rolling_mean_24 {'0': {'rows': 1, 'lag': 1, 'method': 'additive', 'strength': 1.0, 'first_value_only': False}, '1': {'rows': 1, 'lag': 7, 'method': 'additive', 'strength': 1.0, 'first_value_only': False}, '2': {'fillna': 'pchip', 'center': 'zero'}, '3': {'model_name': 'locallinear_weekly_fourier', 'state_transition': [[1.0, 1.0, 0.0, 0.0, 0.0, 0.0, 0.0, 0.0, 0.0, 0.0, 0.0, 0.0], [0.0, 1.0, 0.0, 0.0, 0.0, 0.0, 0.0, 0.0, 0.0, 0.0, 0.0, 0.0], [0.0, 0.0, 0.0, 1.0, 0.0, 0.0, 0.0, 0.0, 0.0, 0.0, 0.0, 0.0], [0.0, 0.0, 0.0, 0.0, 1.0, 0.0, 0.0, 0.0, 0.0, 0.0, 0.0, 0.0], [0.0, 0.0, 0.0, 0.0, 0.0, 1.0, 0.0, 0.0, 0.0, 0.0, 0.0, 0.0], [0.0, 0.0, 0.0, 0.0, 0.0, 0.0, 1.0, 0.0, 0.0, 0.0, 0.0, 0.0], [0.0, 0.0, 0.0, 0.0, 0.0, 0.0, 0.0, 1.0, 0.0, 0.0, 0.0, 0.0], [0.0, 0.0, -1.0, 0.0, 0.0, 0.0, 0.0, 0.0, 0.0, 0.0, 0.0, 0.0], [0.0, 0.0, 0.0, 0.0, 0.0, 0.0, 0.0, 0.0, 0.9998520419557735, 0.017201575418260506, 0.0, 0.0], [0.0, 0.0, 0.0, 0.0, 0.0, 0.0, 0.0, 0.0, -0.017201575418260506, 0.9998520419557735, 0.0, 0.0], [0.0, 0.0, 0.0, 0.0, 0.0, 0.0, 0.0, 0.0, 0.9994082116062598, 0.03439806061360801, 0.0, 0.0], [0.0, 0.0, 0.0, 0.0, 0.0, 0.0, 0.0, 0.0, -0.03439806061360801, 0.9994082116062598, 0.0, 0.0]], 'process_noise': [[0.01, 0.0, 0.0, 0.0, 0.0, 0.0, 0.0, 0.0, 0.0, 0.0, 0.0, 0.0], [0.0, 0.001, 0.0, 0.0, 0.0, 0.0, 0.0, 0.0, 0.0, 0.0, 0.0, 0.0], [0.0, 0.0, 0.01, 0.0, 0.0, 0.0, 0.0, 0.0, 0.0, 0.0, 0.0, 0.0], [0.0, 0.0, 0.0, 0.01, 0.0, 0.0, 0.0, 0.0, 0.0, 0.0, 0.0, 0.0], [0.0, 0.0, 0.0, 0.0, 0.01, 0.0, 0.0, 0.0, 0.0, 0.0, 0.0, 0.0], [0.0, 0.0, 0.0, 0.0, 0.0, 0.01, 0.0, 0.0, 0.0, 0.0, 0.0, 0.0], [0.0, 0.0, 0.0, 0.0, 0.0, 0.0, 0.01, 0.0, 0.0, 0.0, 0.0, 0.0], [0.0, 0.0, 0.0, 0.0, 0.0, 0.0, 0.0, 0.01, 0.0, 0.0, 0.0, 0.0], [0.0, 0.0, 0.0, 0.0, 0.0, 0.0, 0.0, 0.0, 0.01, 0.0, 0.0, 0.0], [0.0, 0.0, 0.0, 0.0, 0.0, 0.0, 0.0, 0.0, 0.0, 0.01, 0.0, 0.0], [0.0, 0.0, 0.0, 0.0, 0.0, 0.0, 0.0, 0.0, 0.0, 0.0, 0.01, 0.0], [0.0, 0.0, 0.0, 0.0, 0.0, 0.0, 0.0, 0.0, 0.0, 0.0, 0.0, 0.01]], 'observation_model': [[1.0, 0.0, 1.0, 1.0, 1.0, 1.0, 1.0, 1.0, 0.9998520419557735, 0.017201575418260506, 0.9994082116062598, 0.03439806061360801]], 'observation_noise': 0.1, 'em_iter': 30}}\") in model 1071 in generation 8: SectionalMotif\n",
            "Model Number: 1072 with model SeasonalNaive in generation 8 of 20\n",
            "Model Number: 1073 with model MetricMotif in generation 8 of 20\n",
            "Model Number: 1074 with model FBProphet in generation 8 of 20\n"
          ]
        },
        {
          "output_type": "stream",
          "name": "stderr",
          "text": [
            "/usr/local/lib/python3.10/dist-packages/sklearn/linear_model/_ridge.py:216: LinAlgWarning:\n",
            "\n",
            "Ill-conditioned matrix (rcond=1.44546e-25): result may not be accurate.\n",
            "\n",
            "/usr/local/lib/python3.10/dist-packages/sklearn/linear_model/_ridge.py:216: LinAlgWarning:\n",
            "\n",
            "Ill-conditioned matrix (rcond=1.44546e-25): result may not be accurate.\n",
            "\n"
          ]
        },
        {
          "output_type": "stream",
          "name": "stdout",
          "text": [
            "No anomalies detected.\n",
            "Model Number: 1075 with model SeasonalityMotif in generation 8 of 20\n",
            "Model Number: 1076 with model LastValueNaive in generation 8 of 20\n",
            "Model Number: 1077 with model FBProphet in generation 8 of 20\n",
            "No anomalies detected.\n"
          ]
        },
        {
          "output_type": "stream",
          "name": "stderr",
          "text": [
            "/usr/local/lib/python3.10/dist-packages/sklearn/linear_model/_ridge.py:216: LinAlgWarning:\n",
            "\n",
            "Ill-conditioned matrix (rcond=1.44546e-25): result may not be accurate.\n",
            "\n"
          ]
        },
        {
          "output_type": "stream",
          "name": "stdout",
          "text": [
            "Model Number: 1078 with model UnobservedComponents in generation 8 of 20\n",
            "Template Eval Error: ValueError(\"regression_type='User' but no future_regressor supplied\") in model 1078 in generation 8: UnobservedComponents\n",
            "Model Number: 1079 with model SeasonalNaive in generation 8 of 20\n",
            "Model Number: 1080 with model ETS in generation 8 of 20\n",
            "Model Number: 1081 with model SeasonalNaive in generation 8 of 20\n",
            "New Generation: 9 of 20\n",
            "Model Number: 1082 with model SeasonalityMotif in generation 9 of 20\n",
            "Model Number: 1083 with model SeasonalNaive in generation 9 of 20\n",
            "Model Number: 1084 with model ETS in generation 9 of 20\n",
            "Model Number: 1085 with model FBProphet in generation 9 of 20\n",
            "Model Number: 1086 with model MetricMotif in generation 9 of 20\n",
            "Template Eval Error: Exception(\"Transformer BTCD failed on fit from params ffill {'0': {'regression_model': {'model': 'LinearRegression', 'model_params': {}}, 'max_lags': 2}, '1': {}, '2': {'rows': 1, 'lag': 1, 'method': 'additive', 'strength': 1.0, 'first_value_only': False}, '3': {}}\") in model 1086 in generation 9: MetricMotif\n",
            "Model Number: 1087 with model Theta in generation 9 of 20\n",
            "Model Number: 1088 with model MetricMotif in generation 9 of 20\n",
            "Model Number: 1089 with model GLS in generation 9 of 20\n",
            "Model Number: 1090 with model Theta in generation 9 of 20\n",
            "Model Number: 1091 with model ARDL in generation 9 of 20\n",
            "Template Eval Error: ValueError(\"regression_type='User' but future_regressor not supplied\") in model 1091 in generation 9: ARDL\n",
            "Model Number: 1092 with model NVAR in generation 9 of 20\n",
            "Template Eval Error: Exception(\"Transformer DatepartRegression failed on inverse from params ffill {'0': {}, '1': {}, '2': {'fillna': 'akima', 'center': 'median'}, '3': {'regression_model': {'model': 'RandomForest', 'model_params': {}}, 'datepart_method': 'recurring', 'polynomial_degree': None, 'transform_dict': None, 'holiday_countries_used': True}, '4': {'lag_1': 7, 'method': 20}, '5': {'method': 'remove', 'std_threshold': 4.5, 'fillna': 'mean'}}\") in model 1092 in generation 9: NVAR\n",
            "Model Number: 1093 with model SeasonalityMotif in generation 9 of 20\n",
            "Model Number: 1094 with model SeasonalityMotif in generation 9 of 20\n",
            "Model Number: 1095 with model UnivariateMotif in generation 9 of 20\n",
            "Model Number: 1096 with model FBProphet in generation 9 of 20\n",
            "No anomalies detected.\n"
          ]
        },
        {
          "output_type": "stream",
          "name": "stderr",
          "text": [
            "/usr/local/lib/python3.10/dist-packages/sklearn/linear_model/_ridge.py:216: LinAlgWarning:\n",
            "\n",
            "Ill-conditioned matrix (rcond=1.44546e-25): result may not be accurate.\n",
            "\n"
          ]
        },
        {
          "output_type": "stream",
          "name": "stdout",
          "text": [
            "Model Number: 1097 with model UnobservedComponents in generation 9 of 20\n",
            "Template Eval Error: ValueError(\"regression_type='User' but no future_regressor supplied\") in model 1097 in generation 9: UnobservedComponents\n",
            "Model Number: 1098 with model MetricMotif in generation 9 of 20\n",
            "Model Number: 1099 with model GLS in generation 9 of 20\n",
            "Model Number: 1100 with model MultivariateMotif in generation 9 of 20\n",
            "Model Number: 1101 with model LastValueNaive in generation 9 of 20\n"
          ]
        },
        {
          "output_type": "stream",
          "name": "stderr",
          "text": [
            "/usr/local/lib/python3.10/dist-packages/sklearn/decomposition/_fastica.py:708: FutureWarning:\n",
            "\n",
            "Starting in v1.3, whiten=True should be specified as whiten='arbitrary-variance' (its current behaviour). This behavior is deprecated in 1.1 and will raise ValueError in 1.3.\n",
            "\n"
          ]
        },
        {
          "output_type": "stream",
          "name": "stdout",
          "text": [
            "Model Number: 1102 with model MetricMotif in generation 9 of 20\n",
            "Model Number: 1103 with model SectionalMotif in generation 9 of 20\n",
            "Model Number: 1104 with model ARIMA in generation 9 of 20\n",
            "Model Number: 1105 with model SectionalMotif in generation 9 of 20\n",
            "Model Number: 1106 with model DatepartRegression in generation 9 of 20\n",
            "Model Number: 1107 with model SeasonalityMotif in generation 9 of 20\n",
            "Model Number: 1108 with model Theta in generation 9 of 20\n",
            "Model Number: 1109 with model ARIMA in generation 9 of 20\n",
            "Model Number: 1110 with model UnivariateMotif in generation 9 of 20\n",
            "Template Eval Error: Exception(\"Transformer AlignLastValue failed on inverse from params linear {'0': {}, '1': {'method': 'zscore', 'method_params': {'distribution': 'chi2', 'alpha': 0.05}, 'fillna': 'linear', 'transform_dict': {'fillna': 'ffill', 'transformations': {'0': 'QuantileTransformer', '1': 'EWMAFilter'}, 'transformation_params': {'0': {'output_distribution': 'uniform', 'n_quantiles': 246}, '1': {'span': 10}}}, 'isolated_only': False}, '2': {'rows': 4, 'lag': 1, 'method': 'additive', 'strength': 1.0, 'first_value_only': True}}\") in model 1110 in generation 9: UnivariateMotif\n",
            "Model Number: 1111 with model SectionalMotif in generation 9 of 20\n",
            "Model Number: 1112 with model SeasonalNaive in generation 9 of 20\n",
            "Model Number: 1113 with model SeasonalityMotif in generation 9 of 20\n",
            "Model Number: 1114 with model GLS in generation 9 of 20\n",
            "Model Number: 1115 with model AverageValueNaive in generation 9 of 20\n",
            "Model Number: 1116 with model Theta in generation 9 of 20\n",
            "Model Number: 1117 with model GLS in generation 9 of 20\n",
            "Model Number: 1118 with model ARDL in generation 9 of 20\n",
            "Model Number: 1119 with model Theta in generation 9 of 20\n",
            "Model Number: 1120 with model UnobservedComponents in generation 9 of 20\n",
            "Model Number: 1121 with model LastValueNaive in generation 9 of 20\n",
            "Model Number: 1122 with model MetricMotif in generation 9 of 20\n",
            "Model Number: 1123 with model SeasonalNaive in generation 9 of 20\n",
            "Template Eval Error: Exception(\"Transformer AlignLastValue failed on inverse from params cubic {'0': {'rows': 1, 'lag': 7, 'method': 'additive', 'strength': 1.0, 'first_value_only': True}, '1': {}, '2': {}, '3': {'rows': 7, 'lag': 28, 'method': 'additive', 'strength': 1.0, 'first_value_only': False}, '4': {'rows': 1, 'lag': 1, 'method': 'additive', 'strength': 0.2, 'first_value_only': False}, '5': {}}\") in model 1123 in generation 9: SeasonalNaive\n",
            "Model Number: 1124 with model UnobservedComponents in generation 9 of 20\n",
            "Model Number: 1125 with model ConstantNaive in generation 9 of 20\n",
            "Model Number: 1126 with model FBProphet in generation 9 of 20\n",
            "No anomalies detected.\n"
          ]
        },
        {
          "output_type": "stream",
          "name": "stderr",
          "text": [
            "/usr/local/lib/python3.10/dist-packages/sklearn/linear_model/_ridge.py:216: LinAlgWarning:\n",
            "\n",
            "Ill-conditioned matrix (rcond=1.44546e-25): result may not be accurate.\n",
            "\n"
          ]
        },
        {
          "output_type": "stream",
          "name": "stdout",
          "text": [
            "Model Number: 1127 with model SectionalMotif in generation 9 of 20\n",
            "Model Number: 1128 with model GLS in generation 9 of 20\n",
            "Model Number: 1129 with model Theta in generation 9 of 20\n",
            "Model Number: 1130 with model AverageValueNaive in generation 9 of 20\n",
            "Model Number: 1131 with model ARDL in generation 9 of 20\n",
            "Model Number: 1132 with model SeasonalityMotif in generation 9 of 20\n",
            "Model Number: 1133 with model SeasonalityMotif in generation 9 of 20\n",
            "Model Number: 1134 with model LastValueNaive in generation 9 of 20\n",
            "Model Number: 1135 with model FBProphet in generation 9 of 20\n",
            "Model Number: 1136 with model UnivariateMotif in generation 9 of 20\n",
            "Model Number: 1137 with model SectionalMotif in generation 9 of 20\n",
            "Model Number: 1138 with model ETS in generation 9 of 20\n",
            "Model Number: 1139 with model NVAR in generation 9 of 20\n",
            "Template Eval Error: Exception(\"Transformer AlignLastValue failed on inverse from params cubic {'0': {'method': 0.2}, '1': {'rows': 1, 'lag': 1, 'method': 'additive', 'strength': 1.0, 'first_value_only': True}, '2': {'method': 'clip', 'std_threshold': 5, 'fillna': None}}\") in model 1139 in generation 9: NVAR\n",
            "Model Number: 1140 with model UnivariateMotif in generation 9 of 20\n",
            "Model Number: 1141 with model SeasonalityMotif in generation 9 of 20\n",
            "Model Number: 1142 with model AverageValueNaive in generation 9 of 20\n",
            "Model Number: 1143 with model UnivariateMotif in generation 9 of 20\n",
            "Model Number: 1144 with model UnobservedComponents in generation 9 of 20\n",
            "Template Eval Error: ValueError(\"regression_type='User' but no future_regressor supplied\") in model 1144 in generation 9: UnobservedComponents\n",
            "Model Number: 1145 with model SeasonalNaive in generation 9 of 20\n",
            "Model Number: 1146 with model MultivariateRegression in generation 9 of 20\n",
            "Template Eval Error: Exception(\"Transformer AlignLastValue failed on inverse from params ffill {'0': {'output_distribution': 'normal', 'n_quantiles': 20}, '1': {'fixed': True, 'window': 28}, '2': {'rows': 1, 'lag': 1, 'method': 'additive', 'strength': 0.7, 'first_value_only': True}, '3': {'sigma': 2.5, 'rolling_window': 90, 'run_order': 'trend_first', 'regression_params': {'regression_model': {'model': 'DecisionTree', 'model_params': {'max_depth': None, 'min_samples_split': 0.05}}, 'datepart_method': 'simple_binarized', 'polynomial_degree': None, 'transform_dict': None, 'holiday_countries_used': False}, 'holiday_params': None}}\") in model 1146 in generation 9: MultivariateRegression\n",
            "Model Number: 1147 with model Theta in generation 9 of 20\n",
            "Model Number: 1148 with model ConstantNaive in generation 9 of 20\n",
            "Model Number: 1149 with model ETS in generation 9 of 20\n",
            "Model Number: 1150 with model ETS in generation 9 of 20\n",
            "Model Number: 1151 with model MetricMotif in generation 9 of 20\n",
            "Model Number: 1152 with model MetricMotif in generation 9 of 20\n",
            "Model Number: 1153 with model UnobservedComponents in generation 9 of 20\n",
            "Model Number: 1154 with model ARDL in generation 9 of 20\n",
            "Model Number: 1155 with model FBProphet in generation 9 of 20\n"
          ]
        },
        {
          "output_type": "stream",
          "name": "stderr",
          "text": [
            "/usr/local/lib/python3.10/dist-packages/sklearn/linear_model/_ridge.py:216: LinAlgWarning:\n",
            "\n",
            "Ill-conditioned matrix (rcond=1.44546e-25): result may not be accurate.\n",
            "\n"
          ]
        },
        {
          "output_type": "stream",
          "name": "stdout",
          "text": [
            "Model Number: 1156 with model LastValueNaive in generation 9 of 20\n",
            "Model Number: 1157 with model FBProphet in generation 9 of 20\n"
          ]
        },
        {
          "output_type": "stream",
          "name": "stderr",
          "text": [
            "/usr/local/lib/python3.10/dist-packages/sklearn/linear_model/_ridge.py:216: LinAlgWarning:\n",
            "\n",
            "Ill-conditioned matrix (rcond=1.44546e-25): result may not be accurate.\n",
            "\n"
          ]
        },
        {
          "output_type": "stream",
          "name": "stdout",
          "text": [
            "Model Number: 1158 with model SeasonalNaive in generation 9 of 20\n",
            "Model Number: 1159 with model SectionalMotif in generation 9 of 20\n",
            "Model Number: 1160 with model ConstantNaive in generation 9 of 20\n",
            "Model Number: 1161 with model AverageValueNaive in generation 9 of 20\n",
            "Model Number: 1162 with model ETS in generation 9 of 20\n",
            "Model Number: 1163 with model FBProphet in generation 9 of 20\n",
            "No anomalies detected.\n"
          ]
        },
        {
          "output_type": "stream",
          "name": "stderr",
          "text": [
            "/usr/local/lib/python3.10/dist-packages/sklearn/decomposition/_fastica.py:708: FutureWarning:\n",
            "\n",
            "Starting in v1.3, whiten=True should be specified as whiten='arbitrary-variance' (its current behaviour). This behavior is deprecated in 1.1 and will raise ValueError in 1.3.\n",
            "\n",
            "/usr/local/lib/python3.10/dist-packages/sklearn/linear_model/_ridge.py:216: LinAlgWarning:\n",
            "\n",
            "Ill-conditioned matrix (rcond=1.44546e-25): result may not be accurate.\n",
            "\n"
          ]
        },
        {
          "output_type": "stream",
          "name": "stdout",
          "text": [
            "Model Number: 1164 with model SeasonalNaive in generation 9 of 20\n",
            "Model Number: 1165 with model GLS in generation 9 of 20\n",
            "Model Number: 1166 with model SeasonalNaive in generation 9 of 20\n",
            "Model Number: 1167 with model FBProphet in generation 9 of 20\n",
            "Model Number: 1168 with model FBProphet in generation 9 of 20\n",
            "No anomalies detected.\n"
          ]
        },
        {
          "output_type": "stream",
          "name": "stderr",
          "text": [
            "/usr/local/lib/python3.10/dist-packages/sklearn/linear_model/_ridge.py:216: LinAlgWarning:\n",
            "\n",
            "Ill-conditioned matrix (rcond=1.44546e-25): result may not be accurate.\n",
            "\n"
          ]
        },
        {
          "output_type": "stream",
          "name": "stdout",
          "text": [
            "Model Number: 1169 with model ETS in generation 9 of 20\n",
            "Model Number: 1170 with model SectionalMotif in generation 9 of 20\n",
            "Model Number: 1171 with model AverageValueNaive in generation 9 of 20\n",
            "Model Number: 1172 with model FBProphet in generation 9 of 20\n",
            "Model Number: 1173 with model AverageValueNaive in generation 9 of 20\n",
            "Model Number: 1174 with model MultivariateRegression in generation 9 of 20\n",
            "Model Number: 1175 with model ConstantNaive in generation 9 of 20\n",
            "Model Number: 1176 with model ConstantNaive in generation 9 of 20\n",
            "Model Number: 1177 with model WindowRegression in generation 9 of 20\n",
            "Template Eval Error: ValueError(\"regression_type='User' but no future_regressor passed\") in model 1177 in generation 9: WindowRegression\n",
            "Model Number: 1178 with model Theta in generation 9 of 20\n",
            "Model Number: 1179 with model GLS in generation 9 of 20\n",
            "Model Number: 1180 with model AverageValueNaive in generation 9 of 20\n",
            "Model Number: 1181 with model AverageValueNaive in generation 9 of 20\n",
            "New Generation: 10 of 20\n"
          ]
        },
        {
          "output_type": "stream",
          "name": "stderr",
          "text": [
            "/usr/local/lib/python3.10/dist-packages/sklearn/neighbors/_classification.py:215: DataConversionWarning:\n",
            "\n",
            "A column-vector y was passed when a 1d array was expected. Please change the shape of y to (n_samples,), for example using ravel().\n",
            "\n"
          ]
        },
        {
          "output_type": "stream",
          "name": "stdout",
          "text": [
            "Model Number: 1182 with model MetricMotif in generation 10 of 20\n",
            "Model Number: 1183 with model SectionalMotif in generation 10 of 20\n",
            "Model Number: 1184 with model GLS in generation 10 of 20\n"
          ]
        },
        {
          "output_type": "stream",
          "name": "stderr",
          "text": [
            "/usr/local/lib/python3.10/dist-packages/sklearn/linear_model/_ridge.py:216: LinAlgWarning:\n",
            "\n",
            "Ill-conditioned matrix (rcond=1.44546e-25): result may not be accurate.\n",
            "\n"
          ]
        },
        {
          "output_type": "stream",
          "name": "stdout",
          "text": [
            "Model Number: 1185 with model SectionalMotif in generation 10 of 20\n",
            "Model Number: 1186 with model ConstantNaive in generation 10 of 20\n",
            "Model Number: 1187 with model UnobservedComponents in generation 10 of 20\n",
            "Template Eval Error: Exception(\"Transformer Cointegration failed on fit from params time {'0': {'decimals': 1, 'on_transform': False, 'on_inverse': True}, '1': {'det_order': -1, 'k_ar_diff': 2}, '2': {}}\") in model 1187 in generation 10: UnobservedComponents\n",
            "Model Number: 1188 with model LastValueNaive in generation 10 of 20\n",
            "Model Number: 1189 with model ARDL in generation 10 of 20\n"
          ]
        },
        {
          "output_type": "stream",
          "name": "stderr",
          "text": [
            "/usr/local/lib/python3.10/dist-packages/sklearn/linear_model/_ridge.py:216: LinAlgWarning:\n",
            "\n",
            "Ill-conditioned matrix (rcond=1.44546e-25): result may not be accurate.\n",
            "\n"
          ]
        },
        {
          "output_type": "stream",
          "name": "stdout",
          "text": [
            "Model Number: 1190 with model GLS in generation 10 of 20\n",
            "Model Number: 1191 with model ConstantNaive in generation 10 of 20\n",
            "Model Number: 1192 with model FBProphet in generation 10 of 20\n",
            "No anomalies detected.\n"
          ]
        },
        {
          "output_type": "stream",
          "name": "stderr",
          "text": [
            "/usr/local/lib/python3.10/dist-packages/sklearn/linear_model/_ridge.py:216: LinAlgWarning:\n",
            "\n",
            "Ill-conditioned matrix (rcond=1.44546e-25): result may not be accurate.\n",
            "\n",
            "/usr/local/lib/python3.10/dist-packages/sklearn/linear_model/_ridge.py:216: LinAlgWarning:\n",
            "\n",
            "Ill-conditioned matrix (rcond=1.44546e-25): result may not be accurate.\n",
            "\n"
          ]
        },
        {
          "output_type": "stream",
          "name": "stdout",
          "text": [
            "Model Number: 1193 with model GLS in generation 10 of 20\n",
            "Model Number: 1194 with model GLS in generation 10 of 20\n",
            "Model Number: 1195 with model SeasonalityMotif in generation 10 of 20\n",
            "Model Number: 1196 with model UnobservedComponents in generation 10 of 20\n",
            "Model Number: 1197 with model AverageValueNaive in generation 10 of 20\n",
            "Model Number: 1198 with model FBProphet in generation 10 of 20\n"
          ]
        },
        {
          "output_type": "stream",
          "name": "stderr",
          "text": [
            "/usr/local/lib/python3.10/dist-packages/sklearn/linear_model/_ridge.py:216: LinAlgWarning:\n",
            "\n",
            "Ill-conditioned matrix (rcond=1.44546e-25): result may not be accurate.\n",
            "\n"
          ]
        },
        {
          "output_type": "stream",
          "name": "stdout",
          "text": [
            "Model Number: 1199 with model ARDL in generation 10 of 20\n",
            "Model Number: 1200 with model GLS in generation 10 of 20\n",
            "Model Number: 1201 with model AverageValueNaive in generation 10 of 20\n",
            "Model Number: 1202 with model MultivariateRegression in generation 10 of 20\n",
            "Model Number: 1203 with model LastValueNaive in generation 10 of 20\n",
            "Model Number: 1204 with model FBProphet in generation 10 of 20\n"
          ]
        },
        {
          "output_type": "stream",
          "name": "stderr",
          "text": [
            "/usr/local/lib/python3.10/dist-packages/sklearn/linear_model/_ridge.py:216: LinAlgWarning:\n",
            "\n",
            "Ill-conditioned matrix (rcond=1.44546e-25): result may not be accurate.\n",
            "\n"
          ]
        },
        {
          "output_type": "stream",
          "name": "stdout",
          "text": [
            "Model Number: 1205 with model LastValueNaive in generation 10 of 20\n",
            "Model Number: 1206 with model SectionalMotif in generation 10 of 20\n",
            "Model Number: 1207 with model FBProphet in generation 10 of 20\n"
          ]
        },
        {
          "output_type": "stream",
          "name": "stderr",
          "text": [
            "15:11:46 - cmdstanpy - ERROR - Chain [1] error: error during processing Operation not permitted\n",
            "ERROR:cmdstanpy:Chain [1] error: error during processing Operation not permitted\n",
            "WARNING:prophet.models:Optimization terminated abnormally. Falling back to Newton.\n"
          ]
        },
        {
          "output_type": "stream",
          "name": "stdout",
          "text": [
            "Model Number: 1208 with model UnobservedComponents in generation 10 of 20\n",
            "Model Number: 1209 with model Theta in generation 10 of 20\n",
            "Model Number: 1210 with model UnobservedComponents in generation 10 of 20\n",
            "Model Number: 1211 with model GLS in generation 10 of 20\n",
            "Model Number: 1212 with model SeasonalNaive in generation 10 of 20\n",
            "Model Number: 1213 with model AverageValueNaive in generation 10 of 20\n",
            "Template Eval Error: Exception(\"Transformer ReplaceConstant failed on fit from params ffill {'0': {'constant': 0, 'reintroduction_model': {'model': 'xgboost', 'model_params': {'base_score': 0.5, 'booster': 'gbtree', 'colsample_bylevel': 0.692, 'learning_rate': 0.022, 'max_bin': 256, 'max_depth': 14, 'max_leaves': 0, 'min_child_weight': 0.024, 'n_estimators': 162}, 'datepart_method': 'simple_binarized'}, 'fillna': 'ffill'}, '1': {'rows': 1, 'lag': 1, 'method': 'additive', 'strength': 1.0, 'first_value_only': False}, '2': {'lag_1': 7, 'method': 'Mean'}, '3': {'method': 'butter', 'method_args': {'N': 7, 'window_size': 12, 'btype': 'lowpass', 'analog': False, 'output': 'sos'}}, '4': {}}\") in model 1213 in generation 10: AverageValueNaive\n",
            "Model Number: 1214 with model ConstantNaive in generation 10 of 20\n",
            "Model Number: 1215 with model SeasonalityMotif in generation 10 of 20\n",
            "Model Number: 1216 with model UnobservedComponents in generation 10 of 20\n",
            "Model Number: 1217 with model SectionalMotif in generation 10 of 20\n",
            "Model Number: 1218 with model SeasonalityMotif in generation 10 of 20\n",
            "Model Number: 1219 with model Theta in generation 10 of 20\n",
            "Model Number: 1220 with model UnobservedComponents in generation 10 of 20\n",
            "Model Number: 1221 with model LastValueNaive in generation 10 of 20\n",
            "Model Number: 1222 with model AverageValueNaive in generation 10 of 20\n",
            "Model Number: 1223 with model SeasonalNaive in generation 10 of 20\n",
            "Model Number: 1224 with model ConstantNaive in generation 10 of 20\n",
            "Model Number: 1225 with model GLS in generation 10 of 20\n",
            "Model Number: 1226 with model SectionalMotif in generation 10 of 20\n",
            "Model Number: 1227 with model UnobservedComponents in generation 10 of 20\n",
            "Template Eval Error: Exception(\"Transformer Cointegration failed on fit from params mean {'0': {'model': 'GLS', 'phi': 1, 'window': None, 'transform_dict': None}, '1': {'model': 'GLS', 'phi': 1, 'window': None, 'transform_dict': None}, '2': {'det_order': -1, 'k_ar_diff': 1}, '3': {}, '4': {'rows': 1, 'lag': 7, 'method': 'additive', 'strength': 1.0, 'first_value_only': False}}\") in model 1227 in generation 10: UnobservedComponents\n",
            "Model Number: 1228 with model AverageValueNaive in generation 10 of 20\n",
            "Model Number: 1229 with model FBProphet in generation 10 of 20\n",
            "Template Eval Error: Exception(\"Transformer ReplaceConstant failed on fit from params ffill {'0': {'rows': 1, 'lag': 1, 'method': 'additive', 'strength': 1.0, 'first_value_only': False}, '1': {'method': 'savgol_filter', 'method_args': {'window_length': 31, 'polyorder': 1, 'deriv': 1, 'mode': 'mirror'}}, '2': {}, '3': {'constant': 0, 'reintroduction_model': {'model': 'SGD', 'model_params': {}, 'datepart_method': 'simple_2'}, 'fillna': 'akima'}, '4': {}}\") in model 1229 in generation 10: FBProphet\n",
            "Model Number: 1230 with model ETS in generation 10 of 20\n",
            "Model Number: 1231 with model GLS in generation 10 of 20\n"
          ]
        },
        {
          "output_type": "stream",
          "name": "stderr",
          "text": [
            "/usr/local/lib/python3.10/dist-packages/sklearn/utils/validation.py:1143: DataConversionWarning:\n",
            "\n",
            "A column-vector y was passed when a 1d array was expected. Please change the shape of y to (n_samples, ), for example using ravel().\n",
            "\n"
          ]
        },
        {
          "output_type": "stream",
          "name": "stdout",
          "text": [
            "Model Number: 1232 with model UnobservedComponents in generation 10 of 20\n",
            "Template Eval Error: LinAlgError('Singular matrix') in model 1232 in generation 10: UnobservedComponents\n",
            "Model Number: 1233 with model UnivariateMotif in generation 10 of 20\n",
            "Model Number: 1234 with model SeasonalityMotif in generation 10 of 20\n",
            "Model Number: 1235 with model FBProphet in generation 10 of 20\n",
            "Model Number: 1236 with model FBProphet in generation 10 of 20\n"
          ]
        },
        {
          "output_type": "stream",
          "name": "stderr",
          "text": [
            "/usr/local/lib/python3.10/dist-packages/sklearn/linear_model/_ridge.py:216: LinAlgWarning:\n",
            "\n",
            "Ill-conditioned matrix (rcond=1.44546e-25): result may not be accurate.\n",
            "\n"
          ]
        },
        {
          "output_type": "stream",
          "name": "stdout",
          "text": [
            "Model Number: 1237 with model ConstantNaive in generation 10 of 20\n",
            "Model Number: 1238 with model AverageValueNaive in generation 10 of 20\n",
            "Model Number: 1239 with model SectionalMotif in generation 10 of 20\n",
            "Template Eval Error: Exception(\"Transformer AlignLastValue failed on inverse from params ffill {'0': {'rows': 1, 'lag': 1, 'method': 'additive', 'strength': 0.5, 'first_value_only': False}, '1': {}, '2': {}, '3': {}, '4': {'rows': 1, 'lag': 1, 'method': 'additive', 'strength': 1.0, 'first_value_only': True}}\") in model 1239 in generation 10: SectionalMotif\n",
            "Model Number: 1240 with model SeasonalityMotif in generation 10 of 20\n",
            "Model Number: 1241 with model Theta in generation 10 of 20\n",
            "Model Number: 1242 with model GLS in generation 10 of 20\n",
            "Model Number: 1243 with model SectionalMotif in generation 10 of 20\n",
            "Model Number: 1244 with model ETS in generation 10 of 20\n",
            "Template Eval Error: Exception(\"Transformer AlignLastValue failed on inverse from params nearest {'0': {'rows': 1, 'lag': 1, 'method': 'additive', 'strength': 1.0, 'first_value_only': False}, '1': {'rows': 1, 'lag': 1, 'method': 'additive', 'strength': 1.0, 'first_value_only': True}, '2': {'decimals': 0, 'on_transform': False, 'on_inverse': True}, '3': {}, '4': {'rows': 1, 'lag': 1, 'method': 'additive', 'strength': 1.0, 'first_value_only': False}}\") in model 1244 in generation 10: ETS\n",
            "Model Number: 1245 with model SeasonalityMotif in generation 10 of 20\n",
            "Template Eval Error: Exception(\"Transformer BTCD failed on fit from params ffill {'0': {}, '1': {}, '2': {'low': 6, 'high': 32, 'K': 1, 'lanczos_factor': False, 'return_diff': False}, '3': {'regression_model': {'model': 'FastRidge', 'model_params': {}}, 'max_lags': 1}}\") in model 1245 in generation 10: SeasonalityMotif\n",
            "Model Number: 1246 with model AverageValueNaive in generation 10 of 20\n",
            "Model Number: 1247 with model Theta in generation 10 of 20\n",
            "Model Number: 1248 with model FBProphet in generation 10 of 20\n",
            "No anomalies detected.\n"
          ]
        },
        {
          "output_type": "stream",
          "name": "stderr",
          "text": [
            "/usr/local/lib/python3.10/dist-packages/sklearn/linear_model/_ridge.py:216: LinAlgWarning:\n",
            "\n",
            "Ill-conditioned matrix (rcond=1.44546e-25): result may not be accurate.\n",
            "\n"
          ]
        },
        {
          "output_type": "stream",
          "name": "stdout",
          "text": [
            "Model Number: 1249 with model MultivariateRegression in generation 10 of 20\n",
            "Model Number: 1250 with model ARDL in generation 10 of 20\n",
            "Model Number: 1251 with model MetricMotif in generation 10 of 20\n",
            "Model Number: 1252 with model SeasonalNaive in generation 10 of 20\n",
            "Model Number: 1253 with model FBProphet in generation 10 of 20\n",
            "Model Number: 1254 with model FBProphet in generation 10 of 20\n",
            "No anomalies detected.\n"
          ]
        },
        {
          "output_type": "stream",
          "name": "stderr",
          "text": [
            "/usr/local/lib/python3.10/dist-packages/sklearn/linear_model/_ridge.py:216: LinAlgWarning:\n",
            "\n",
            "Ill-conditioned matrix (rcond=1.44546e-25): result may not be accurate.\n",
            "\n"
          ]
        },
        {
          "output_type": "stream",
          "name": "stdout",
          "text": [
            "Model Number: 1255 with model SectionalMotif in generation 10 of 20\n",
            "Model Number: 1256 with model ARDL in generation 10 of 20\n",
            "Template Eval Error: ValueError(\"regression_type='User' but future_regressor not supplied\") in model 1256 in generation 10: ARDL\n",
            "New Generation: 11 of 20\n"
          ]
        },
        {
          "output_type": "stream",
          "name": "stderr",
          "text": [
            "/usr/local/lib/python3.10/dist-packages/autots/tools/percentile.py:47: RuntimeWarning:\n",
            "\n",
            "All-NaN slice encountered\n",
            "\n"
          ]
        },
        {
          "output_type": "stream",
          "name": "stdout",
          "text": [
            "Model Number: 1257 with model GLS in generation 11 of 20\n",
            "Model Number: 1258 with model SeasonalityMotif in generation 11 of 20\n",
            "Model Number: 1259 with model MetricMotif in generation 11 of 20\n",
            "Model Number: 1260 with model Theta in generation 11 of 20\n",
            "Model Number: 1261 with model UnobservedComponents in generation 11 of 20\n",
            "Model Number: 1262 with model FBProphet in generation 11 of 20\n"
          ]
        },
        {
          "output_type": "stream",
          "name": "stderr",
          "text": [
            "/usr/local/lib/python3.10/dist-packages/sklearn/linear_model/_ridge.py:216: LinAlgWarning:\n",
            "\n",
            "Ill-conditioned matrix (rcond=1.44546e-25): result may not be accurate.\n",
            "\n"
          ]
        },
        {
          "output_type": "stream",
          "name": "stdout",
          "text": [
            "No anomalies detected.\n",
            "Model Number: 1263 with model GLS in generation 11 of 20\n",
            "Model Number: 1264 with model GLS in generation 11 of 20\n",
            "Model Number: 1265 with model ETS in generation 11 of 20\n",
            "Model Number: 1266 with model Theta in generation 11 of 20\n",
            "Model Number: 1267 with model ConstantNaive in generation 11 of 20\n",
            "Model Number: 1268 with model GLS in generation 11 of 20\n",
            "Model Number: 1269 with model FBProphet in generation 11 of 20\n",
            "No anomalies detected.\n"
          ]
        },
        {
          "output_type": "stream",
          "name": "stderr",
          "text": [
            "/usr/local/lib/python3.10/dist-packages/sklearn/linear_model/_ridge.py:216: LinAlgWarning:\n",
            "\n",
            "Ill-conditioned matrix (rcond=1.44546e-25): result may not be accurate.\n",
            "\n"
          ]
        },
        {
          "output_type": "stream",
          "name": "stdout",
          "text": [
            "Model Number: 1270 with model SeasonalNaive in generation 11 of 20\n",
            "Model Number: 1271 with model FBProphet in generation 11 of 20\n"
          ]
        },
        {
          "output_type": "stream",
          "name": "stderr",
          "text": [
            "/usr/local/lib/python3.10/dist-packages/sklearn/linear_model/_ridge.py:216: LinAlgWarning:\n",
            "\n",
            "Ill-conditioned matrix (rcond=1.44546e-25): result may not be accurate.\n",
            "\n"
          ]
        },
        {
          "output_type": "stream",
          "name": "stdout",
          "text": [
            "No anomalies detected.\n",
            "Model Number: 1272 with model Theta in generation 11 of 20\n",
            "Model Number: 1273 with model Theta in generation 11 of 20\n",
            "Model Number: 1274 with model Theta in generation 11 of 20\n",
            "Model Number: 1275 with model MetricMotif in generation 11 of 20\n",
            "Model Number: 1276 with model NVAR in generation 11 of 20\n",
            "Model Number: 1277 with model ETS in generation 11 of 20\n",
            "Model Number: 1278 with model FBProphet in generation 11 of 20\n",
            "Model Number: 1279 with model ETS in generation 11 of 20\n",
            "Model Number: 1280 with model AverageValueNaive in generation 11 of 20\n",
            "Model Number: 1281 with model NVAR in generation 11 of 20\n",
            "Model Number: 1282 with model GLS in generation 11 of 20\n",
            "Model Number: 1283 with model ETS in generation 11 of 20\n",
            "Model Number: 1284 with model ConstantNaive in generation 11 of 20\n",
            "Model Number: 1285 with model UnobservedComponents in generation 11 of 20\n",
            "Template Eval Error: ValueError('Model UnobservedComponents returned NaN for one or more series. fail_on_forecast_nan=True') in model 1285 in generation 11: UnobservedComponents\n",
            "Model Number: 1286 with model SectionalMotif in generation 11 of 20\n",
            "Template Eval Error: Exception(\"Transformer ReplaceConstant failed on fit from params rolling_mean_24 {'0': {'window_size': 30, 'alpha': 2.0, 'grouping_forward_limit': 2, 'max_level_shifts': 30, 'alignment': 'rolling_diff_3nn'}, '1': {'constant': 0, 'reintroduction_model': {'model': 'xgboost', 'model_params': {'base_score': 0.5, 'booster': 'gbtree', 'colsample_bylevel': 0.692, 'learning_rate': 0.022, 'max_bin': 256, 'max_depth': 14, 'max_leaves': 0, 'min_child_weight': 0.024, 'n_estimators': 162}, 'datepart_method': 'expanded_binarized'}, 'fillna': 'ffill'}, '2': {'part': 'trend', 'lamb': 104976000000}}\") in model 1286 in generation 11: SectionalMotif\n",
            "Model Number: 1287 with model SeasonalityMotif in generation 11 of 20\n",
            "Model Number: 1288 with model MetricMotif in generation 11 of 20\n",
            "Model Number: 1289 with model ARDL in generation 11 of 20\n",
            "Model Number: 1290 with model LastValueNaive in generation 11 of 20\n",
            "Model Number: 1291 with model LastValueNaive in generation 11 of 20\n",
            "Model Number: 1292 with model SeasonalityMotif in generation 11 of 20\n",
            "Model Number: 1293 with model ARDL in generation 11 of 20\n",
            "Model Number: 1294 with model LastValueNaive in generation 11 of 20\n",
            "Model Number: 1295 with model UnobservedComponents in generation 11 of 20\n",
            "Model Number: 1296 with model LastValueNaive in generation 11 of 20\n",
            "Template Eval Error: Exception(\"Transformer AlignLastValue failed on inverse from params rolling_mean_24 {'0': {'method': 'remove', 'std_threshold': 2, 'fillna': 'mean'}, '1': {'lag_1': 364, 'method': 'Mean'}, '2': {'rows': 7, 'lag': 7, 'method': 'additive', 'strength': 1.0, 'first_value_only': False}, '3': {'rows': 1, 'lag': 2, 'method': 'additive', 'strength': 1.0, 'first_value_only': True}}\") in model 1296 in generation 11: LastValueNaive\n",
            "Model Number: 1297 with model UnobservedComponents in generation 11 of 20\n",
            "Model Number: 1298 with model SeasonalityMotif in generation 11 of 20\n",
            "Model Number: 1299 with model UnobservedComponents in generation 11 of 20\n",
            "Model Number: 1300 with model MultivariateRegression in generation 11 of 20\n",
            "Model Number: 1301 with model UnobservedComponents in generation 11 of 20\n",
            "Model Number: 1302 with model UnobservedComponents in generation 11 of 20\n",
            "Model Number: 1303 with model SeasonalityMotif in generation 11 of 20\n",
            "Model Number: 1304 with model ARDL in generation 11 of 20\n",
            "Template Eval Error: ValueError(\"ARDL series Close failed with error IndexError('tuple index out of range') exog train None and predict None\") in model 1304 in generation 11: ARDL\n",
            "Model Number: 1305 with model FBProphet in generation 11 of 20\n",
            "No anomalies detected.\n"
          ]
        },
        {
          "output_type": "stream",
          "name": "stderr",
          "text": [
            "/usr/local/lib/python3.10/dist-packages/sklearn/linear_model/_ridge.py:216: LinAlgWarning:\n",
            "\n",
            "Ill-conditioned matrix (rcond=1.44546e-25): result may not be accurate.\n",
            "\n"
          ]
        },
        {
          "output_type": "stream",
          "name": "stdout",
          "text": [
            "Model Number: 1306 with model FBProphet in generation 11 of 20\n",
            "Model Number: 1307 with model SeasonalNaive in generation 11 of 20\n",
            "Model Number: 1308 with model GLS in generation 11 of 20\n",
            "Model Number: 1309 with model SectionalMotif in generation 11 of 20\n",
            "Model Number: 1310 with model ARDL in generation 11 of 20\n",
            "Template Eval Error: ValueError(\"ARDL series Close failed with error IndexError('tuple index out of range') exog train None and predict None\") in model 1310 in generation 11: ARDL\n",
            "Model Number: 1311 with model SectionalMotif in generation 11 of 20\n",
            "Model Number: 1312 with model ETS in generation 11 of 20\n",
            "Model Number: 1313 with model AverageValueNaive in generation 11 of 20\n",
            "Model Number: 1314 with model SeasonalityMotif in generation 11 of 20\n",
            "Model Number: 1315 with model AverageValueNaive in generation 11 of 20\n",
            "Model Number: 1316 with model UnobservedComponents in generation 11 of 20\n",
            "Model Number: 1317 with model GLS in generation 11 of 20\n",
            "Model Number: 1318 with model ConstantNaive in generation 11 of 20\n",
            "Model Number: 1319 with model SeasonalNaive in generation 11 of 20\n",
            "Model Number: 1320 with model GLS in generation 11 of 20\n",
            "Model Number: 1321 with model UnobservedComponents in generation 11 of 20\n",
            "Model Number: 1322 with model MetricMotif in generation 11 of 20\n",
            "Model Number: 1323 with model UnobservedComponents in generation 11 of 20\n",
            "Model Number: 1324 with model SeasonalityMotif in generation 11 of 20\n",
            "Model Number: 1325 with model FBProphet in generation 11 of 20\n"
          ]
        },
        {
          "output_type": "stream",
          "name": "stderr",
          "text": [
            "/usr/local/lib/python3.10/dist-packages/sklearn/linear_model/_ridge.py:216: LinAlgWarning:\n",
            "\n",
            "Ill-conditioned matrix (rcond=1.44546e-25): result may not be accurate.\n",
            "\n"
          ]
        },
        {
          "output_type": "stream",
          "name": "stdout",
          "text": [
            "No anomalies detected.\n",
            "Model Number: 1326 with model GLS in generation 11 of 20\n",
            "Model Number: 1327 with model FBProphet in generation 11 of 20\n",
            "Template Eval Error: ValueError(\"regression_type='User' but no future_regressor passed\") in model 1327 in generation 11: FBProphet\n",
            "Model Number: 1328 with model FBProphet in generation 11 of 20\n",
            "Model Number: 1329 with model SeasonalityMotif in generation 11 of 20\n",
            "Model Number: 1330 with model AverageValueNaive in generation 11 of 20\n",
            "Model Number: 1331 with model SeasonalNaive in generation 11 of 20\n",
            "New Generation: 12 of 20\n",
            "Model Number: 1332 with model Theta in generation 12 of 20\n",
            "Model Number: 1333 with model MultivariateRegression in generation 12 of 20\n",
            "Template Eval Error: Exception(\"Transformer ScipyFilter failed on fit from params mean {'0': {'span': 96}, '1': {'method': 'butter', 'method_args': {'N': 6, 'btype': 'highpass', 'analog': False, 'output': 'sos', 'Wn': 0.03571428571428571}}, '2': {'model_name': 'local linear stochastic seasonal 7', 'state_transition': [[1, 1, 0.0, 0.0, 0.0, 0.0, 0.0, 0.0], [0, 1, 0.0, 0.0, 0.0, 0.0, 0.0, 0.0], [0.0, 0, -1.0, -1.0, -1.0, -1.0, -1.0, 0.0], [0.0, 0.0, 1.0, 0.0, 0.0, 0.0, 0.0, 0.0], [0.0, 0.0, 0.0, 1.0, 0.0, 0.0, 0.0, 0.0], [0.0, 0.0, 0.0, 0.0, 1.0, 0.0, 0.0, 0.0], [0.0, 0.0, 0.0, 0.0, 0.0, 1.0, 0.0, 0.0], [0.0, 0.0, 0.0, 0.0, 0.0, 0.0, 1.0, 0.0]], 'process_noise': [[1, 0, 0, 0, 0, 0, 0, 0], [0, 1, 0, 0, 0, 0, 0, 0], [0, 0, 1, 0, 0, 0, 0, 0], [0, 0, 0, 1, 0, 0, 0, 0], [0, 0, 0, 0, 1, 0, 0, 0], [0, 0, 0, 0, 0, 1, 0, 0], [0, 0, 0, 0, 0, 0, 0, 0], [0, 0, 0, 0, 0, 0, 0, 0]], 'observation_model': [[1, 0, 1, 0, 0, 0, 0, 0]], 'observation_noise': 0.25, 'em_iter': 10}, '3': {'part': 'trend', 'lamb': 104976000000}}\") in model 1333 in generation 12: MultivariateRegression\n",
            "Model Number: 1334 with model UnobservedComponents in generation 12 of 20\n",
            "Template Eval Error: ValueError(\"regression_type='User' but no future_regressor supplied\") in model 1334 in generation 12: UnobservedComponents\n",
            "Model Number: 1335 with model GLS in generation 12 of 20\n",
            "Model Number: 1336 with model SeasonalityMotif in generation 12 of 20\n",
            "Model Number: 1337 with model Theta in generation 12 of 20\n",
            "Model Number: 1338 with model Theta in generation 12 of 20\n",
            "Model Number: 1339 with model SeasonalNaive in generation 12 of 20\n",
            "Model Number: 1340 with model FBProphet in generation 12 of 20\n",
            "Template Eval Error: ValueError(\"regression_type='User' but no future_regressor passed\") in model 1340 in generation 12: FBProphet\n",
            "Model Number: 1341 with model SeasonalNaive in generation 12 of 20\n",
            "Model Number: 1342 with model AverageValueNaive in generation 12 of 20\n",
            "Template Eval Error: Exception(\"Transformer AlignLastValue failed on inverse from params quadratic {'0': {}, '1': {}, '2': {}, '3': {'rows': 4, 'lag': 1, 'method': 'additive', 'strength': 0.7, 'first_value_only': True}}\") in model 1342 in generation 12: AverageValueNaive\n",
            "Model Number: 1343 with model ARDL in generation 12 of 20\n",
            "Model Number: 1344 with model FBProphet in generation 12 of 20\n"
          ]
        },
        {
          "output_type": "stream",
          "name": "stderr",
          "text": [
            "/usr/local/lib/python3.10/dist-packages/sklearn/linear_model/_ridge.py:216: LinAlgWarning:\n",
            "\n",
            "Ill-conditioned matrix (rcond=1.44546e-25): result may not be accurate.\n",
            "\n"
          ]
        },
        {
          "output_type": "stream",
          "name": "stdout",
          "text": [
            "No anomalies detected.\n",
            "Model Number: 1345 with model FBProphet in generation 12 of 20\n",
            "No anomalies detected.\n"
          ]
        },
        {
          "output_type": "stream",
          "name": "stderr",
          "text": [
            "/usr/local/lib/python3.10/dist-packages/sklearn/linear_model/_ridge.py:216: LinAlgWarning:\n",
            "\n",
            "Ill-conditioned matrix (rcond=1.44546e-25): result may not be accurate.\n",
            "\n"
          ]
        },
        {
          "output_type": "stream",
          "name": "stdout",
          "text": [
            "Model Number: 1346 with model ConstantNaive in generation 12 of 20\n",
            "Model Number: 1347 with model LastValueNaive in generation 12 of 20\n",
            "Model Number: 1348 with model GLS in generation 12 of 20\n",
            "Template Eval Error: Exception(\"Transformer ScipyFilter failed on fit from params rolling_mean_24 {'0': {}, '1': {'rows': 1, 'lag': 1, 'method': 'additive', 'strength': 0.7, 'first_value_only': False}, '2': {'rows': 1, 'lag': 1, 'method': 'additive', 'strength': 0.9, 'first_value_only': False}, '3': {'method': 'butter', 'method_args': {'N': 4, 'btype': 'lowpass', 'analog': False, 'output': 'sos', 'Wn': 0.0027472527472527475}}, '4': {'fixed': False, 'window': 45}}\") in model 1348 in generation 12: GLS\n",
            "Model Number: 1349 with model SeasonalNaive in generation 12 of 20\n",
            "Model Number: 1350 with model UnobservedComponents in generation 12 of 20\n",
            "Template Eval Error: ValueError(\"regression_type='User' but no future_regressor supplied\") in model 1350 in generation 12: UnobservedComponents\n",
            "Model Number: 1351 with model GLS in generation 12 of 20\n",
            "Model Number: 1352 with model FBProphet in generation 12 of 20\n",
            "Model Number: 1353 with model UnobservedComponents in generation 12 of 20\n",
            "Template Eval Error: Exception(\"Transformer BTCD failed on fit from params pchip {'0': {'constant': 1, 'reintroduction_model': {'model': 'KNN', 'model_params': {'n_neighbors': 5, 'weights': 'uniform', 'p': 2, 'leaf_size': 10}, 'datepart_method': 'expanded'}, 'fillna': 'ffill'}, '1': {'regression_model': {'model': 'LinearRegression', 'model_params': {}}, 'max_lags': 1}, '2': {'lag_1': 12, 'method': 'LastValue'}}\") in model 1353 in generation 12: UnobservedComponents\n",
            "Model Number: 1354 with model FBProphet in generation 12 of 20\n",
            "No anomalies detected.\n"
          ]
        },
        {
          "output_type": "stream",
          "name": "stderr",
          "text": [
            "/usr/local/lib/python3.10/dist-packages/sklearn/neighbors/_classification.py:215: DataConversionWarning:\n",
            "\n",
            "A column-vector y was passed when a 1d array was expected. Please change the shape of y to (n_samples,), for example using ravel().\n",
            "\n",
            "/usr/local/lib/python3.10/dist-packages/sklearn/linear_model/_ridge.py:216: LinAlgWarning:\n",
            "\n",
            "Ill-conditioned matrix (rcond=1.44546e-25): result may not be accurate.\n",
            "\n"
          ]
        },
        {
          "output_type": "stream",
          "name": "stdout",
          "text": [
            "Model Number: 1355 with model SeasonalityMotif in generation 12 of 20\n",
            "Model Number: 1356 with model UnobservedComponents in generation 12 of 20\n",
            "Model Number: 1357 with model GLS in generation 12 of 20\n",
            "Model Number: 1358 with model ConstantNaive in generation 12 of 20\n",
            "Model Number: 1359 with model GLS in generation 12 of 20\n",
            "Model Number: 1360 with model Theta in generation 12 of 20\n",
            "Model Number: 1361 with model UnivariateMotif in generation 12 of 20\n",
            "Model Number: 1362 with model ARDL in generation 12 of 20\n",
            "Model Number: 1363 with model ETS in generation 12 of 20\n",
            "Model Number: 1364 with model GLS in generation 12 of 20\n",
            "Model Number: 1365 with model UnobservedComponents in generation 12 of 20\n",
            "Model Number: 1366 with model Theta in generation 12 of 20\n",
            "Model Number: 1367 with model AverageValueNaive in generation 12 of 20\n",
            "Model Number: 1368 with model AverageValueNaive in generation 12 of 20\n",
            "Model Number: 1369 with model GLS in generation 12 of 20\n",
            "Model Number: 1370 with model SectionalMotif in generation 12 of 20\n",
            "Model Number: 1371 with model LastValueNaive in generation 12 of 20\n"
          ]
        },
        {
          "output_type": "stream",
          "name": "stderr",
          "text": [
            "/usr/local/lib/python3.10/dist-packages/autots/tools/fast_kalman.py:1092: RuntimeWarning:\n",
            "\n",
            "overflow encountered in cast\n",
            "\n",
            "/usr/local/lib/python3.10/dist-packages/autots/tools/fast_kalman.py:1098: RuntimeWarning:\n",
            "\n",
            "overflow encountered in cast\n",
            "\n",
            "/usr/local/lib/python3.10/dist-packages/autots/tools/fast_kalman.py:1309: RuntimeWarning:\n",
            "\n",
            "overflow encountered in matmul\n",
            "\n",
            "/usr/local/lib/python3.10/dist-packages/autots/tools/fast_kalman.py:1296: RuntimeWarning:\n",
            "\n",
            "overflow encountered in matmul\n",
            "\n",
            "/usr/local/lib/python3.10/dist-packages/autots/tools/fast_kalman.py:1296: RuntimeWarning:\n",
            "\n",
            "invalid value encountered in matmul\n",
            "\n",
            "/usr/local/lib/python3.10/dist-packages/autots/tools/fast_kalman.py:1314: RuntimeWarning:\n",
            "\n",
            "overflow encountered in multiply\n",
            "\n",
            "/usr/local/lib/python3.10/dist-packages/autots/tools/fast_kalman.py:1309: RuntimeWarning:\n",
            "\n",
            "invalid value encountered in matmul\n",
            "\n"
          ]
        },
        {
          "output_type": "stream",
          "name": "stdout",
          "text": [
            "Template Eval Error: Exception(\"Transformer KalmanSmoothing failed on fit from params ffill {'0': {}, '1': {'part': 'trend', 'lamb': 6.25}, '2': {'model_name': 'locallinear_weekly_fourier', 'state_transition': [[1.0, 1.0, 0.0, 0.0, 0.0, 0.0, 0.0, 0.0, 0.0, 0.0, 0.0, 0.0, 0.0, 0.0], [0.0, 1.0, 0.0, 0.0, 0.0, 0.0, 0.0, 0.0, 0.0, 0.0, 0.0, 0.0, 0.0, 0.0], [0.0, 0.0, 0.0, 1.0, 0.0, 0.0, 0.0, 0.0, 0.0, 0.0, 0.0, 0.0, 0.0, 0.0], [0.0, 0.0, 0.0, 0.0, 1.0, 0.0, 0.0, 0.0, 0.0, 0.0, 0.0, 0.0, 0.0, 0.0], [0.0, 0.0, 0.0, 0.0, 0.0, 1.0, 0.0, 0.0, 0.0, 0.0, 0.0, 0.0, 0.0, 0.0], [0.0, 0.0, 0.0, 0.0, 0.0, 0.0, 1.0, 0.0, 0.0, 0.0, 0.0, 0.0, 0.0, 0.0], [0.0, 0.0, 0.0, 0.0, 0.0, 0.0, 0.0, 1.0, 0.0, 0.0, 0.0, 0.0, 0.0, 0.0], [0.0, 0.0, -1.0, 0.0, 0.0, 0.0, 0.0, 0.0, 0.0, 0.0, 0.0, 0.0, 0.0, 0.0], [0.0, 0.0, 0.0, 0.0, 0.0, 0.0, 0.0, 0.0, 0.9998520419557735, 0.017201575418260506, 0.0, 0.0, 0.0, 0.0], [0.0, 0.0, 0.0, 0.0, 0.0, 0.0, 0.0, 0.0, -0.017201575418260506, 0.9998520419557735, 0.0, 0.0, 0.0, 0.0], [0.0, 0.0, 0.0, 0.0, 0.0, 0.0, 0.0, 0.0, 0.9994082116062598, 0.03439806061360801, 0.0, 0.0, 0.0, 0.0], [0.0, 0.0, 0.0, 0.0, 0.0, 0.0, 0.0, 0.0, -0.03439806061360801, 0.9994082116062598, 0.0, 0.0, 0.0, 0.0], [0.0, 0.0, 0.0, 0.0, 0.0, 0.0, 0.0, 0.0, 0.9986686402879997, 0.051584366869408364, 0.0, 0.0, 0.0, 0.0], [0.0, 0.0, 0.0, 0.0, 0.0, 0.0, 0.0, 0.0, -0.051584366869408364, 0.9986686402879997, 0.0, 0.0, 0.0, 0.0]], 'process_noise': [[0.01, 0.0, 0.0, 0.0, 0.0, 0.0, 0.0, 0.0, 0.0, 0.0, 0.0, 0.0, 0.0, 0.0], [0.0, 0.001, 0.0, 0.0, 0.0, 0.0, 0.0, 0.0, 0.0, 0.0, 0.0, 0.0, 0.0, 0.0], [0.0, 0.0, 0.01, 0.0, 0.0, 0.0, 0.0, 0.0, 0.0, 0.0, 0.0, 0.0, 0.0, 0.0], [0.0, 0.0, 0.0, 0.01, 0.0, 0.0, 0.0, 0.0, 0.0, 0.0, 0.0, 0.0, 0.0, 0.0], [0.0, 0.0, 0.0, 0.0, 0.01, 0.0, 0.0, 0.0, 0.0, 0.0, 0.0, 0.0, 0.0, 0.0], [0.0, 0.0, 0.0, 0.0, 0.0, 0.01, 0.0, 0.0, 0.0, 0.0, 0.0, 0.0, 0.0, 0.0], [0.0, 0.0, 0.0, 0.0, 0.0, 0.0, 0.01, 0.0, 0.0, 0.0, 0.0, 0.0, 0.0, 0.0], [0.0, 0.0, 0.0, 0.0, 0.0, 0.0, 0.0, 0.01, 0.0, 0.0, 0.0, 0.0, 0.0, 0.0], [0.0, 0.0, 0.0, 0.0, 0.0, 0.0, 0.0, 0.0, 0.01, 0.0, 0.0, 0.0, 0.0, 0.0], [0.0, 0.0, 0.0, 0.0, 0.0, 0.0, 0.0, 0.0, 0.0, 0.01, 0.0, 0.0, 0.0, 0.0], [0.0, 0.0, 0.0, 0.0, 0.0, 0.0, 0.0, 0.0, 0.0, 0.0, 0.01, 0.0, 0.0, 0.0], [0.0, 0.0, 0.0, 0.0, 0.0, 0.0, 0.0, 0.0, 0.0, 0.0, 0.0, 0.01, 0.0, 0.0], [0.0, 0.0, 0.0, 0.0, 0.0, 0.0, 0.0, 0.0, 0.0, 0.0, 0.0, 0.0, 0.01, 0.0], [0.0, 0.0, 0.0, 0.0, 0.0, 0.0, 0.0, 0.0, 0.0, 0.0, 0.0, 0.0, 0.0, 0.01]], 'observation_model': [[1.0, 0.0, 1.0, 1.0, 1.0, 1.0, 1.0, 1.0, 0.9998520419557735, 0.017201575418260506, 0.9994082116062598, 0.03439806061360801, 0.9986686402879997, 0.051584366869408364]], 'observation_noise': 0.1, 'em_iter': 30}}\") in model 1371 in generation 12: LastValueNaive\n",
            "Model Number: 1372 with model FBProphet in generation 12 of 20\n",
            "No anomalies detected.\n"
          ]
        },
        {
          "output_type": "stream",
          "name": "stderr",
          "text": [
            "/usr/local/lib/python3.10/dist-packages/sklearn/linear_model/_ridge.py:216: LinAlgWarning:\n",
            "\n",
            "Ill-conditioned matrix (rcond=1.44546e-25): result may not be accurate.\n",
            "\n"
          ]
        },
        {
          "output_type": "stream",
          "name": "stdout",
          "text": [
            "Model Number: 1373 with model SeasonalityMotif in generation 12 of 20\n",
            "Model Number: 1374 with model ARDL in generation 12 of 20\n",
            "Model Number: 1375 with model SeasonalNaive in generation 12 of 20\n",
            "Model Number: 1376 with model FBProphet in generation 12 of 20\n",
            "Model Number: 1377 with model GLS in generation 12 of 20\n",
            "Model Number: 1378 with model SeasonalNaive in generation 12 of 20\n",
            "Model Number: 1379 with model MetricMotif in generation 12 of 20\n",
            "Model Number: 1380 with model SeasonalityMotif in generation 12 of 20\n",
            "Model Number: 1381 with model GLS in generation 12 of 20\n",
            "Model Number: 1382 with model SeasonalNaive in generation 12 of 20\n",
            "Model Number: 1383 with model FBProphet in generation 12 of 20\n",
            "No anomalies detected.\n"
          ]
        },
        {
          "output_type": "stream",
          "name": "stderr",
          "text": [
            "/usr/local/lib/python3.10/dist-packages/sklearn/linear_model/_ridge.py:216: LinAlgWarning:\n",
            "\n",
            "Ill-conditioned matrix (rcond=1.44546e-25): result may not be accurate.\n",
            "\n"
          ]
        },
        {
          "output_type": "stream",
          "name": "stdout",
          "text": [
            "Model Number: 1384 with model GLS in generation 12 of 20\n",
            "Model Number: 1385 with model FBProphet in generation 12 of 20\n",
            "Model Number: 1386 with model AverageValueNaive in generation 12 of 20\n",
            "Model Number: 1387 with model SeasonalityMotif in generation 12 of 20\n",
            "Model Number: 1388 with model Theta in generation 12 of 20\n",
            "Model Number: 1389 with model SectionalMotif in generation 12 of 20\n",
            "Model Number: 1390 with model ARDL in generation 12 of 20\n",
            "Model Number: 1391 with model ETS in generation 12 of 20\n",
            "Model Number: 1392 with model ETS in generation 12 of 20\n",
            "Model Number: 1393 with model SeasonalNaive in generation 12 of 20\n",
            "Model Number: 1394 with model UnobservedComponents in generation 12 of 20\n",
            "Model Number: 1395 with model SeasonalityMotif in generation 12 of 20\n",
            "Model Number: 1396 with model DatepartRegression in generation 12 of 20\n",
            "Model Number: 1397 with model GLS in generation 12 of 20\n",
            "Model Number: 1398 with model MetricMotif in generation 12 of 20\n",
            "Model Number: 1399 with model UnobservedComponents in generation 12 of 20\n",
            "Model Number: 1400 with model MultivariateRegression in generation 12 of 20\n",
            "Model Number: 1401 with model UnobservedComponents in generation 12 of 20\n",
            "Template Eval Error: Exception(\"Transformer BTCD failed on fit from params zero {'0': {'constant': 1, 'reintroduction_model': {'model': 'KNN', 'model_params': {'n_neighbors': 5, 'weights': 'uniform', 'p': 2, 'leaf_size': 10}, 'datepart_method': 'expanded'}, 'fillna': 'ffill'}, '1': {'regression_model': {'model': 'LinearRegression', 'model_params': {}}, 'max_lags': 1}, '2': {'lag_1': 7, 'method': 'Mean'}}\") in model 1401 in generation 12: UnobservedComponents\n",
            "Model Number: 1402 with model MetricMotif in generation 12 of 20\n",
            "Model Number: 1403 with model SectionalMotif in generation 12 of 20\n",
            "Model Number: 1404 with model LastValueNaive in generation 12 of 20\n"
          ]
        },
        {
          "output_type": "stream",
          "name": "stderr",
          "text": [
            "/usr/local/lib/python3.10/dist-packages/sklearn/neighbors/_classification.py:215: DataConversionWarning:\n",
            "\n",
            "A column-vector y was passed when a 1d array was expected. Please change the shape of y to (n_samples,), for example using ravel().\n",
            "\n",
            "/usr/local/lib/python3.10/dist-packages/sklearn/linear_model/_ridge.py:216: LinAlgWarning:\n",
            "\n",
            "Ill-conditioned matrix (rcond=1.44546e-25): result may not be accurate.\n",
            "\n"
          ]
        },
        {
          "output_type": "stream",
          "name": "stdout",
          "text": [
            "Model Number: 1405 with model FBProphet in generation 12 of 20\n",
            "No anomalies detected.\n"
          ]
        },
        {
          "output_type": "stream",
          "name": "stderr",
          "text": [
            "/usr/local/lib/python3.10/dist-packages/sklearn/linear_model/_ridge.py:216: LinAlgWarning:\n",
            "\n",
            "Ill-conditioned matrix (rcond=1.44546e-25): result may not be accurate.\n",
            "\n"
          ]
        },
        {
          "output_type": "stream",
          "name": "stdout",
          "text": [
            "Model Number: 1406 with model GLS in generation 12 of 20\n",
            "New Generation: 13 of 20\n",
            "Model Number: 1407 with model SeasonalNaive in generation 13 of 20\n",
            "Model Number: 1408 with model UnobservedComponents in generation 13 of 20\n",
            "Model Number: 1409 with model SeasonalityMotif in generation 13 of 20\n",
            "Model Number: 1410 with model Theta in generation 13 of 20\n",
            "Model Number: 1411 with model GLS in generation 13 of 20\n",
            "Model Number: 1412 with model SectionalMotif in generation 13 of 20\n",
            "Model Number: 1413 with model UnobservedComponents in generation 13 of 20\n",
            "Template Eval Error: ValueError(\"regression_type='User' but no future_regressor supplied\") in model 1413 in generation 13: UnobservedComponents\n",
            "Model Number: 1414 with model MetricMotif in generation 13 of 20\n",
            "Model Number: 1415 with model AverageValueNaive in generation 13 of 20\n",
            "Model Number: 1416 with model AverageValueNaive in generation 13 of 20\n"
          ]
        },
        {
          "output_type": "stream",
          "name": "stderr",
          "text": [
            "/usr/local/lib/python3.10/dist-packages/sklearn/decomposition/_fastica.py:708: FutureWarning:\n",
            "\n",
            "Starting in v1.3, whiten=True should be specified as whiten='arbitrary-variance' (its current behaviour). This behavior is deprecated in 1.1 and will raise ValueError in 1.3.\n",
            "\n"
          ]
        },
        {
          "output_type": "stream",
          "name": "stdout",
          "text": [
            "Model Number: 1417 with model SeasonalityMotif in generation 13 of 20\n",
            "Model Number: 1418 with model SectionalMotif in generation 13 of 20\n",
            "Model Number: 1419 with model Theta in generation 13 of 20\n",
            "Model Number: 1420 with model FBProphet in generation 13 of 20\n",
            "No anomalies detected.\n"
          ]
        },
        {
          "output_type": "stream",
          "name": "stderr",
          "text": [
            "/usr/local/lib/python3.10/dist-packages/sklearn/linear_model/_ridge.py:216: LinAlgWarning:\n",
            "\n",
            "Ill-conditioned matrix (rcond=1.44546e-25): result may not be accurate.\n",
            "\n"
          ]
        },
        {
          "output_type": "stream",
          "name": "stdout",
          "text": [
            "Model Number: 1421 with model Theta in generation 13 of 20\n",
            "Model Number: 1422 with model SeasonalNaive in generation 13 of 20\n",
            "Model Number: 1423 with model ARDL in generation 13 of 20\n"
          ]
        },
        {
          "output_type": "stream",
          "name": "stderr",
          "text": [
            "/usr/local/lib/python3.10/dist-packages/sklearn/decomposition/_fastica.py:708: FutureWarning:\n",
            "\n",
            "Starting in v1.3, whiten=True should be specified as whiten='arbitrary-variance' (its current behaviour). This behavior is deprecated in 1.1 and will raise ValueError in 1.3.\n",
            "\n"
          ]
        },
        {
          "output_type": "stream",
          "name": "stdout",
          "text": [
            "Model Number: 1424 with model LastValueNaive in generation 13 of 20\n",
            "Model Number: 1425 with model FBProphet in generation 13 of 20\n",
            "Template Eval Error: Exception(\"Transformer Cointegration failed on fit from params ffill {'0': {'det_order': 0, 'k_ar_diff': 0}, '1': {'det_order': 0, 'k_ar_diff': 0}, '2': {'method': 'clip', 'std_threshold': 4.5, 'fillna': None}}\") in model 1425 in generation 13: FBProphet\n",
            "Model Number: 1426 with model SectionalMotif in generation 13 of 20\n",
            "Model Number: 1427 with model SeasonalNaive in generation 13 of 20\n",
            "Model Number: 1428 with model MultivariateRegression in generation 13 of 20\n",
            "Model Number: 1429 with model UnobservedComponents in generation 13 of 20\n",
            "Model Number: 1430 with model ARIMA in generation 13 of 20\n",
            "Model Number: 1431 with model FBProphet in generation 13 of 20\n",
            "Model Number: 1432 with model Theta in generation 13 of 20\n",
            "Model Number: 1433 with model SeasonalNaive in generation 13 of 20\n",
            "Model Number: 1434 with model SectionalMotif in generation 13 of 20\n",
            "Model Number: 1435 with model SeasonalityMotif in generation 13 of 20\n",
            "Model Number: 1436 with model SeasonalityMotif in generation 13 of 20\n",
            "Model Number: 1437 with model ETS in generation 13 of 20\n",
            "Model Number: 1438 with model UnobservedComponents in generation 13 of 20\n",
            "Model Number: 1439 with model FBProphet in generation 13 of 20\n",
            "No anomalies detected.\n"
          ]
        },
        {
          "output_type": "stream",
          "name": "stderr",
          "text": [
            "/usr/local/lib/python3.10/dist-packages/sklearn/linear_model/_ridge.py:216: LinAlgWarning:\n",
            "\n",
            "Ill-conditioned matrix (rcond=1.44546e-25): result may not be accurate.\n",
            "\n"
          ]
        },
        {
          "output_type": "stream",
          "name": "stdout",
          "text": [
            "Model Number: 1440 with model SeasonalityMotif in generation 13 of 20\n",
            "Model Number: 1441 with model UnobservedComponents in generation 13 of 20\n",
            "Model Number: 1442 with model ARDL in generation 13 of 20\n",
            "Model Number: 1443 with model NVAR in generation 13 of 20\n",
            "Model Number: 1444 with model ARDL in generation 13 of 20\n",
            "Model Number: 1445 with model SectionalMotif in generation 13 of 20\n",
            "Model Number: 1446 with model SeasonalNaive in generation 13 of 20\n",
            "Model Number: 1447 with model LastValueNaive in generation 13 of 20\n",
            "Template Eval Error: Exception(\"Transformer DatepartRegression failed on inverse from params mean {'0': {}, '1': {}, '2': {'regression_model': {'model': 'RandomForest', 'model_params': {'n_estimators': 100, 'min_samples_leaf': 4, 'bootstrap': True}}, 'datepart_method': 'recurring', 'polynomial_degree': 2, 'transform_dict': {'fillna': None, 'transformations': {'0': 'ClipOutliers'}, 'transformation_params': {'0': {'method': 'clip', 'std_threshold': 4}}}, 'holiday_countries_used': True}}\") in model 1447 in generation 13: LastValueNaive\n",
            "Model Number: 1448 with model FBProphet in generation 13 of 20\n",
            "No anomalies detected.\n"
          ]
        },
        {
          "output_type": "stream",
          "name": "stderr",
          "text": [
            "/usr/local/lib/python3.10/dist-packages/sklearn/linear_model/_ridge.py:216: LinAlgWarning:\n",
            "\n",
            "Ill-conditioned matrix (rcond=1.44546e-25): result may not be accurate.\n",
            "\n"
          ]
        },
        {
          "output_type": "stream",
          "name": "stdout",
          "text": [
            "Model Number: 1449 with model SeasonalNaive in generation 13 of 20\n",
            "Model Number: 1450 with model FBProphet in generation 13 of 20\n",
            "No anomalies detected.\n"
          ]
        },
        {
          "output_type": "stream",
          "name": "stderr",
          "text": [
            "/usr/local/lib/python3.10/dist-packages/sklearn/linear_model/_ridge.py:216: LinAlgWarning:\n",
            "\n",
            "Ill-conditioned matrix (rcond=1.44546e-25): result may not be accurate.\n",
            "\n"
          ]
        },
        {
          "output_type": "stream",
          "name": "stdout",
          "text": [
            "Model Number: 1451 with model GLS in generation 13 of 20\n",
            "Model Number: 1452 with model GLS in generation 13 of 20\n",
            "Model Number: 1453 with model SectionalMotif in generation 13 of 20\n",
            "Template Eval Error: ValueError('kth(=100) out of bounds (70)') in model 1453 in generation 13: SectionalMotif\n",
            "Model Number: 1454 with model UnobservedComponents in generation 13 of 20\n",
            "Model Number: 1455 with model GLS in generation 13 of 20\n",
            "Model Number: 1456 with model GLS in generation 13 of 20\n",
            "Model Number: 1457 with model FBProphet in generation 13 of 20\n",
            "Model Number: 1458 with model Theta in generation 13 of 20\n",
            "Model Number: 1459 with model Theta in generation 13 of 20\n",
            "Model Number: 1460 with model GLS in generation 13 of 20\n",
            "Model Number: 1461 with model LastValueNaive in generation 13 of 20\n",
            "Template Eval Error: Exception(\"Transformer DatepartRegression failed on inverse from params zero {'0': {'rows': 1, 'lag': 1, 'method': 'additive', 'strength': 1.0, 'first_value_only': False}, '1': {'rows': 4, 'lag': 1, 'method': 'additive', 'strength': 1.0, 'first_value_only': False}, '2': {'rows': 7, 'displacement_rows': 1, 'quantile': 0.2, 'decay_span': None}, '3': {'regression_model': {'model': 'RandomForest', 'model_params': {'n_estimators': 100, 'min_samples_leaf': 4, 'bootstrap': True}}, 'datepart_method': 'recurring', 'polynomial_degree': 2, 'transform_dict': {'fillna': None, 'transformations': {'0': 'ClipOutliers'}, 'transformation_params': {'0': {'method': 'clip', 'std_threshold': 4}}}, 'holiday_countries_used': True}, '4': {'method': 'zscore', 'method_params': {'distribution': 'gamma', 'alpha': 0.05}, 'transform_dict': None, 'reverse_alignment': True, 'isolated_only': True, 'fillna': 'rolling_mean_24'}, '5': {'rows': 1, 'lag': 1, 'method': 'additive', 'strength': 1.0, 'first_value_only': False}}\") in model 1461 in generation 13: LastValueNaive\n",
            "Model Number: 1462 with model UnobservedComponents in generation 13 of 20\n",
            "Model Number: 1463 with model SectionalMotif in generation 13 of 20\n",
            "Model Number: 1464 with model AverageValueNaive in generation 13 of 20\n",
            "Model Number: 1465 with model SeasonalityMotif in generation 13 of 20\n",
            "Template Eval Error: Exception(\"Transformer AlignLastValue failed on inverse from params zero {'0': {'rows': 1, 'lag': 1, 'method': 'additive', 'strength': 1.0, 'first_value_only': True}, '1': {'regression_model': {'model': 'DecisionTree', 'model_params': {'max_depth': None, 'min_samples_split': 1.0}}, 'datepart_method': 'recurring', 'polynomial_degree': None, 'transform_dict': None, 'holiday_countries_used': False}}\") in model 1465 in generation 13: SeasonalityMotif\n",
            "Model Number: 1466 with model Theta in generation 13 of 20\n",
            "Model Number: 1467 with model GLS in generation 13 of 20\n",
            "Model Number: 1468 with model FBProphet in generation 13 of 20\n",
            "No anomalies detected.\n"
          ]
        },
        {
          "output_type": "stream",
          "name": "stderr",
          "text": [
            "/usr/local/lib/python3.10/dist-packages/sklearn/linear_model/_ridge.py:216: LinAlgWarning:\n",
            "\n",
            "Ill-conditioned matrix (rcond=1.44546e-25): result may not be accurate.\n",
            "\n"
          ]
        },
        {
          "output_type": "stream",
          "name": "stdout",
          "text": [
            "Model Number: 1469 with model Theta in generation 13 of 20\n",
            "Model Number: 1470 with model UnobservedComponents in generation 13 of 20\n",
            "Model Number: 1471 with model SectionalMotif in generation 13 of 20\n",
            "Model Number: 1472 with model UnobservedComponents in generation 13 of 20\n",
            "Model Number: 1473 with model UnobservedComponents in generation 13 of 20\n",
            "Model Number: 1474 with model ETS in generation 13 of 20\n",
            "Template Eval Error: Exception(\"Transformer BTCD failed on fit from params ffill_mean_biased {'0': {'fixed': True, 'window': 60}, '1': {'method': 'zscore', 'method_params': {'distribution': 'chi2', 'alpha': 0.03}, 'fillna': 'ffill', 'transform_dict': None, 'isolated_only': False}, '2': {'fixed': False, 'window': 7}, '3': {'regression_model': {'model': 'FastRidge', 'model_params': {}}, 'max_lags': 1}}\") in model 1474 in generation 13: ETS\n",
            "Model Number: 1475 with model AverageValueNaive in generation 13 of 20\n",
            "Model Number: 1476 with model ARDL in generation 13 of 20\n",
            "Model Number: 1477 with model GLS in generation 13 of 20\n",
            "Model Number: 1478 with model UnobservedComponents in generation 13 of 20\n",
            "Model Number: 1479 with model LastValueNaive in generation 13 of 20\n",
            "Model Number: 1480 with model ETS in generation 13 of 20\n",
            "Template Eval Error: Exception(\"Transformer Cointegration failed on fit from params rolling_mean_24 {'0': {'rows': 6}, '1': {}, '2': {'det_order': 0, 'k_ar_diff': 1}, '3': {}, '4': {'rows': 1, 'lag': 1, 'method': 'additive', 'strength': 0.5, 'first_value_only': False}}\") in model 1480 in generation 13: ETS\n",
            "Model Number: 1481 with model LastValueNaive in generation 13 of 20\n",
            "New Generation: 14 of 20\n",
            "Model Number: 1482 with model SeasonalityMotif in generation 14 of 20\n",
            "Model Number: 1483 with model Theta in generation 14 of 20\n",
            "Model Number: 1484 with model GLS in generation 14 of 20\n",
            "Model Number: 1485 with model SectionalMotif in generation 14 of 20\n",
            "Model Number: 1486 with model FBProphet in generation 14 of 20\n",
            "No anomalies detected.\n"
          ]
        },
        {
          "output_type": "stream",
          "name": "stderr",
          "text": [
            "/usr/local/lib/python3.10/dist-packages/sklearn/linear_model/_ridge.py:216: LinAlgWarning:\n",
            "\n",
            "Ill-conditioned matrix (rcond=1.44546e-25): result may not be accurate.\n",
            "\n"
          ]
        },
        {
          "output_type": "stream",
          "name": "stdout",
          "text": [
            "Model Number: 1487 with model SeasonalNaive in generation 14 of 20\n",
            "Model Number: 1488 with model SeasonalityMotif in generation 14 of 20\n",
            "Model Number: 1489 with model FBProphet in generation 14 of 20\n",
            "Model Number: 1490 with model GLS in generation 14 of 20\n",
            "Model Number: 1491 with model SectionalMotif in generation 14 of 20\n",
            "Model Number: 1492 with model MultivariateRegression in generation 14 of 20\n",
            "Model Number: 1493 with model LastValueNaive in generation 14 of 20\n",
            "Model Number: 1494 with model SeasonalityMotif in generation 14 of 20\n",
            "Model Number: 1495 with model UnobservedComponents in generation 14 of 20\n",
            "Template Eval Error: ValueError(\"regression_type='User' but no future_regressor supplied\") in model 1495 in generation 14: UnobservedComponents\n",
            "Model Number: 1496 with model GLS in generation 14 of 20\n",
            "Model Number: 1497 with model SectionalMotif in generation 14 of 20\n",
            "Model Number: 1498 with model Theta in generation 14 of 20\n",
            "Model Number: 1499 with model MetricMotif in generation 14 of 20\n",
            "Model Number: 1500 with model SeasonalNaive in generation 14 of 20\n",
            "Model Number: 1501 with model FBProphet in generation 14 of 20\n",
            "No anomalies detected.\n"
          ]
        },
        {
          "output_type": "stream",
          "name": "stderr",
          "text": [
            "/usr/local/lib/python3.10/dist-packages/sklearn/linear_model/_ridge.py:216: LinAlgWarning:\n",
            "\n",
            "Ill-conditioned matrix (rcond=1.44546e-25): result may not be accurate.\n",
            "\n"
          ]
        },
        {
          "output_type": "stream",
          "name": "stdout",
          "text": [
            "Model Number: 1502 with model FBProphet in generation 14 of 20\n",
            "Model Number: 1503 with model SeasonalityMotif in generation 14 of 20\n",
            "Model Number: 1504 with model GLS in generation 14 of 20\n"
          ]
        },
        {
          "output_type": "stream",
          "name": "stderr",
          "text": [
            "/usr/local/lib/python3.10/dist-packages/sklearn/linear_model/_ridge.py:216: LinAlgWarning:\n",
            "\n",
            "Ill-conditioned matrix (rcond=1.44546e-25): result may not be accurate.\n",
            "\n"
          ]
        },
        {
          "output_type": "stream",
          "name": "stdout",
          "text": [
            "Model Number: 1505 with model MultivariateRegression in generation 14 of 20\n",
            "Model Number: 1506 with model ConstantNaive in generation 14 of 20\n",
            "Template Eval Error: Exception(\"Transformer Cointegration failed on fit from params zero {'0': {}, '1': {}, '2': {'lag_1': 7, 'method': 'Mean'}, '3': {}, '4': {'det_order': 0, 'k_ar_diff': 1}}\") in model 1506 in generation 14: ConstantNaive\n",
            "Model Number: 1507 with model SeasonalityMotif in generation 14 of 20\n",
            "Model Number: 1508 with model SeasonalityMotif in generation 14 of 20\n",
            "Model Number: 1509 with model Theta in generation 14 of 20\n",
            "Model Number: 1510 with model AverageValueNaive in generation 14 of 20\n",
            "Model Number: 1511 with model LastValueNaive in generation 14 of 20\n",
            "Model Number: 1512 with model FBProphet in generation 14 of 20\n",
            "No anomalies detected.\n"
          ]
        },
        {
          "output_type": "stream",
          "name": "stderr",
          "text": [
            "/usr/local/lib/python3.10/dist-packages/sklearn/linear_model/_ridge.py:216: LinAlgWarning:\n",
            "\n",
            "Ill-conditioned matrix (rcond=1.44546e-25): result may not be accurate.\n",
            "\n"
          ]
        },
        {
          "output_type": "stream",
          "name": "stdout",
          "text": [
            "Model Number: 1513 with model UnobservedComponents in generation 14 of 20\n",
            "Model Number: 1514 with model LastValueNaive in generation 14 of 20\n",
            "Model Number: 1515 with model GLS in generation 14 of 20\n",
            "Model Number: 1516 with model UnobservedComponents in generation 14 of 20\n",
            "Model Number: 1517 with model FBProphet in generation 14 of 20\n",
            "Model Number: 1518 with model UnobservedComponents in generation 14 of 20\n",
            "Model Number: 1519 with model GLS in generation 14 of 20\n",
            "Model Number: 1520 with model UnobservedComponents in generation 14 of 20\n",
            "Model Number: 1521 with model AverageValueNaive in generation 14 of 20\n",
            "Model Number: 1522 with model SectionalMotif in generation 14 of 20\n",
            "Model Number: 1523 with model NVAR in generation 14 of 20\n",
            "Model Number: 1524 with model ConstantNaive in generation 14 of 20\n",
            "Model Number: 1525 with model MetricMotif in generation 14 of 20\n",
            "Model Number: 1526 with model MetricMotif in generation 14 of 20\n",
            "Model Number: 1527 with model Theta in generation 14 of 20\n",
            "Model Number: 1528 with model UnobservedComponents in generation 14 of 20\n",
            "Model Number: 1529 with model GLS in generation 14 of 20\n",
            "Model Number: 1530 with model ConstantNaive in generation 14 of 20\n",
            "Model Number: 1531 with model FBProphet in generation 14 of 20\n",
            "Model Number: 1532 with model ARDL in generation 14 of 20\n",
            "Template Eval Error: ValueError(\"ARDL series Close failed with error IndexError('tuple index out of range') exog train None and predict None\") in model 1532 in generation 14: ARDL\n",
            "Model Number: 1533 with model SeasonalityMotif in generation 14 of 20\n",
            "Model Number: 1534 with model SectionalMotif in generation 14 of 20\n",
            "Model Number: 1535 with model SeasonalityMotif in generation 14 of 20\n",
            "Model Number: 1536 with model MetricMotif in generation 14 of 20\n",
            "Model Number: 1537 with model AverageValueNaive in generation 14 of 20\n",
            "Model Number: 1538 with model SeasonalityMotif in generation 14 of 20\n"
          ]
        },
        {
          "output_type": "stream",
          "name": "stderr",
          "text": [
            "/usr/local/lib/python3.10/dist-packages/sklearn/linear_model/_ridge.py:216: LinAlgWarning:\n",
            "\n",
            "Ill-conditioned matrix (rcond=1.44546e-25): result may not be accurate.\n",
            "\n"
          ]
        },
        {
          "output_type": "stream",
          "name": "stdout",
          "text": [
            "Model Number: 1539 with model FBProphet in generation 14 of 20\n",
            "No anomalies detected.\n"
          ]
        },
        {
          "output_type": "stream",
          "name": "stderr",
          "text": [
            "/usr/local/lib/python3.10/dist-packages/sklearn/linear_model/_ridge.py:216: LinAlgWarning:\n",
            "\n",
            "Ill-conditioned matrix (rcond=1.44546e-25): result may not be accurate.\n",
            "\n"
          ]
        },
        {
          "output_type": "stream",
          "name": "stdout",
          "text": [
            "Model Number: 1540 with model FBProphet in generation 14 of 20\n",
            "No anomalies detected.\n"
          ]
        },
        {
          "output_type": "stream",
          "name": "stderr",
          "text": [
            "/usr/local/lib/python3.10/dist-packages/sklearn/linear_model/_ridge.py:216: LinAlgWarning:\n",
            "\n",
            "Ill-conditioned matrix (rcond=1.44546e-25): result may not be accurate.\n",
            "\n"
          ]
        },
        {
          "output_type": "stream",
          "name": "stdout",
          "text": [
            "Model Number: 1541 with model FBProphet in generation 14 of 20\n",
            "Model Number: 1542 with model SectionalMotif in generation 14 of 20\n",
            "Model Number: 1543 with model SeasonalityMotif in generation 14 of 20\n",
            "Model Number: 1544 with model SectionalMotif in generation 14 of 20\n",
            "Model Number: 1545 with model SectionalMotif in generation 14 of 20\n",
            "Model Number: 1546 with model MetricMotif in generation 14 of 20\n",
            "Model Number: 1547 with model ETS in generation 14 of 20\n",
            "Model Number: 1548 with model LastValueNaive in generation 14 of 20\n",
            "Model Number: 1549 with model GLS in generation 14 of 20\n",
            "Model Number: 1550 with model MultivariateRegression in generation 14 of 20\n",
            "Template Eval Error: ValueError(\"regression_type='User' but not future_regressor supplied.\") in model 1550 in generation 14: MultivariateRegression\n",
            "Model Number: 1551 with model LastValueNaive in generation 14 of 20\n",
            "Model Number: 1552 with model SeasonalNaive in generation 14 of 20\n",
            "Model Number: 1553 with model UnobservedComponents in generation 14 of 20\n",
            "Template Eval Error: LinAlgError('Singular matrix') in model 1553 in generation 14: UnobservedComponents\n",
            "Model Number: 1554 with model FBProphet in generation 14 of 20\n",
            "Template Eval Error: Exception(\"Transformer Cointegration failed on fit from params ffill_mean_biased {'0': {'det_order': -1, 'k_ar_diff': 0}, '1': {}, '2': {'lag_1': 7, 'method': 'Mean'}}\") in model 1554 in generation 14: FBProphet\n",
            "Model Number: 1555 with model UnivariateMotif in generation 14 of 20\n",
            "Model Number: 1556 with model GLS in generation 14 of 20\n",
            "New Generation: 15 of 20\n",
            "Model Number: 1557 with model MetricMotif in generation 15 of 20\n",
            "Model Number: 1558 with model FBProphet in generation 15 of 20\n",
            "Model Number: 1559 with model SectionalMotif in generation 15 of 20\n",
            "Model Number: 1560 with model UnobservedComponents in generation 15 of 20\n",
            "Model Number: 1561 with model GLS in generation 15 of 20\n"
          ]
        },
        {
          "output_type": "stream",
          "name": "stderr",
          "text": [
            "/usr/local/lib/python3.10/dist-packages/sklearn/decomposition/_fastica.py:708: FutureWarning:\n",
            "\n",
            "Starting in v1.3, whiten=True should be specified as whiten='arbitrary-variance' (its current behaviour). This behavior is deprecated in 1.1 and will raise ValueError in 1.3.\n",
            "\n"
          ]
        },
        {
          "output_type": "stream",
          "name": "stdout",
          "text": [
            "Model Number: 1562 with model AverageValueNaive in generation 15 of 20\n",
            "Model Number: 1563 with model UnobservedComponents in generation 15 of 20\n",
            "Model Number: 1564 with model SectionalMotif in generation 15 of 20\n",
            "Model Number: 1565 with model UnobservedComponents in generation 15 of 20\n",
            "Template Eval Error: ValueError(\"regression_type='User' but no future_regressor supplied\") in model 1565 in generation 15: UnobservedComponents\n",
            "Model Number: 1566 with model LastValueNaive in generation 15 of 20\n",
            "Model Number: 1567 with model SectionalMotif in generation 15 of 20\n",
            "Model Number: 1568 with model UnobservedComponents in generation 15 of 20\n",
            "Template Eval Error: Exception(\"Transformer Cointegration failed on fit from params linear {'0': {'det_order': -1, 'k_ar_diff': 2}, '1': {'algorithm': 'parallel', 'fun': 'exp', 'max_iter': 100, 'whiten': True}, '2': {'method': 'EE', 'method_params': {'contamination': 0.1, 'assume_centered': False, 'support_fraction': None}, 'fillna': 'ffill', 'transform_dict': None, 'isolated_only': False}, '3': {'rows': 1, 'lag': 1, 'method': 'additive', 'strength': 0.9, 'first_value_only': False}, '4': {'part': 'trend', 'lamb': 129600}}\") in model 1568 in generation 15: UnobservedComponents\n",
            "Model Number: 1569 with model SeasonalityMotif in generation 15 of 20\n",
            "Model Number: 1570 with model MetricMotif in generation 15 of 20\n",
            "Model Number: 1571 with model GLS in generation 15 of 20\n",
            "Model Number: 1572 with model LastValueNaive in generation 15 of 20\n",
            "Model Number: 1573 with model SectionalMotif in generation 15 of 20\n",
            "Template Eval Error: ValueError(\"regression_type=='User' but no future_regressor supplied\") in model 1573 in generation 15: SectionalMotif\n",
            "Model Number: 1574 with model FBProphet in generation 15 of 20\n",
            "Model Number: 1575 with model SectionalMotif in generation 15 of 20\n",
            "Model Number: 1576 with model FBProphet in generation 15 of 20\n",
            "Template Eval Error: Exception(\"Transformer ScipyFilter failed on fit from params zero {'0': {'lag_1': 364, 'method': 20}, '1': {'method': 'butter', 'method_args': {'N': 2, 'btype': 'lowpass', 'analog': False, 'output': 'sos', 'Wn': 0.011363636363636364}}, '2': {'center': 'median'}, '3': {'method': 'remove', 'std_threshold': 2, 'fillna': 'ffill'}}\") in model 1576 in generation 15: FBProphet\n",
            "Model Number: 1577 with model AverageValueNaive in generation 15 of 20\n",
            "Model Number: 1578 with model UnobservedComponents in generation 15 of 20\n",
            "Model Number: 1579 with model Theta in generation 15 of 20\n",
            "Model Number: 1580 with model SeasonalNaive in generation 15 of 20\n",
            "Model Number: 1581 with model SeasonalityMotif in generation 15 of 20\n"
          ]
        },
        {
          "output_type": "stream",
          "name": "stderr",
          "text": [
            "/usr/local/lib/python3.10/dist-packages/sklearn/decomposition/_fastica.py:708: FutureWarning:\n",
            "\n",
            "Starting in v1.3, whiten=True should be specified as whiten='arbitrary-variance' (its current behaviour). This behavior is deprecated in 1.1 and will raise ValueError in 1.3.\n",
            "\n"
          ]
        },
        {
          "output_type": "stream",
          "name": "stdout",
          "text": [
            "Model Number: 1582 with model SeasonalityMotif in generation 15 of 20\n",
            "Model Number: 1583 with model ETS in generation 15 of 20\n",
            "Model Number: 1584 with model ETS in generation 15 of 20\n",
            "Model Number: 1585 with model FBProphet in generation 15 of 20\n",
            "No anomalies detected.\n",
            "Model Number: 1586 with model ETS in generation 15 of 20\n",
            "Model Number: 1587 with model NVAR in generation 15 of 20\n",
            "Model Number: 1588 with model MultivariateRegression in generation 15 of 20\n",
            "Template Eval Error: ValueError(\"regression_type='User' but not future_regressor supplied.\") in model 1588 in generation 15: MultivariateRegression\n",
            "Model Number: 1589 with model SeasonalNaive in generation 15 of 20\n",
            "Model Number: 1590 with model MetricMotif in generation 15 of 20\n",
            "Model Number: 1591 with model GLS in generation 15 of 20\n",
            "Template Eval Error: Exception(\"Transformer Cointegration failed on fit from params ffill {'0': {}, '1': {'n_harmonics': 10, 'detrend': None}, '2': {}, '3': {'det_order': -1, 'k_ar_diff': 2}, '4': {'part': 'trend', 'lamb': 104976000000}}\") in model 1591 in generation 15: GLS\n",
            "Model Number: 1592 with model SectionalMotif in generation 15 of 20\n",
            "Model Number: 1593 with model SectionalMotif in generation 15 of 20\n",
            "Model Number: 1594 with model SeasonalNaive in generation 15 of 20\n",
            "Model Number: 1595 with model SeasonalNaive in generation 15 of 20\n",
            "Model Number: 1596 with model UnivariateMotif in generation 15 of 20\n",
            "Model Number: 1597 with model UnobservedComponents in generation 15 of 20\n",
            "Model Number: 1598 with model SeasonalityMotif in generation 15 of 20\n",
            "Model Number: 1599 with model FBProphet in generation 15 of 20\n",
            "No anomalies detected.\n"
          ]
        },
        {
          "output_type": "stream",
          "name": "stderr",
          "text": [
            "/usr/local/lib/python3.10/dist-packages/sklearn/linear_model/_ridge.py:216: LinAlgWarning:\n",
            "\n",
            "Ill-conditioned matrix (rcond=1.44546e-25): result may not be accurate.\n",
            "\n"
          ]
        },
        {
          "output_type": "stream",
          "name": "stdout",
          "text": [
            "Model Number: 1600 with model Theta in generation 15 of 20\n",
            "Model Number: 1601 with model GLS in generation 15 of 20\n",
            "Model Number: 1602 with model SeasonalNaive in generation 15 of 20\n",
            "Model Number: 1603 with model ETS in generation 15 of 20\n",
            "Model Number: 1604 with model FBProphet in generation 15 of 20\n",
            "Model Number: 1605 with model ConstantNaive in generation 15 of 20\n",
            "Model Number: 1606 with model GLS in generation 15 of 20\n"
          ]
        },
        {
          "output_type": "stream",
          "name": "stderr",
          "text": [
            "/usr/local/lib/python3.10/dist-packages/autots/tools/seasonal.py:630: RuntimeWarning:\n",
            "\n",
            "invalid value encountered in divide\n",
            "\n"
          ]
        },
        {
          "output_type": "stream",
          "name": "stdout",
          "text": [
            "Template Eval Error: Exception(\"Transformer AlignLastValue failed on inverse from params ffill {'0': {'rows': 1, 'lag': 2, 'method': 'additive', 'strength': 0.7, 'first_value_only': True}, '1': {'lag_1': 2, 'method': 'Mean'}, '2': {}, '3': {'fillna': 'SeasonalityMotifImputerLinMix', 'center': 'zero'}, '4': {}, '5': {}}\") in model 1606 in generation 15: GLS\n",
            "Model Number: 1607 with model MultivariateRegression in generation 15 of 20\n",
            "Model Number: 1608 with model GLS in generation 15 of 20\n",
            "Model Number: 1609 with model MetricMotif in generation 15 of 20\n",
            "Model Number: 1610 with model SeasonalNaive in generation 15 of 20\n",
            "Model Number: 1611 with model MetricMotif in generation 15 of 20\n",
            "Model Number: 1612 with model MultivariateRegression in generation 15 of 20\n",
            "Model Number: 1613 with model ETS in generation 15 of 20\n",
            "Model Number: 1614 with model UnobservedComponents in generation 15 of 20\n"
          ]
        },
        {
          "output_type": "stream",
          "name": "stderr",
          "text": [
            "/usr/local/lib/python3.10/dist-packages/sklearn/decomposition/_fastica.py:708: FutureWarning:\n",
            "\n",
            "Starting in v1.3, whiten=True should be specified as whiten='arbitrary-variance' (its current behaviour). This behavior is deprecated in 1.1 and will raise ValueError in 1.3.\n",
            "\n"
          ]
        },
        {
          "output_type": "stream",
          "name": "stdout",
          "text": [
            "Model Number: 1615 with model Theta in generation 15 of 20\n",
            "Model Number: 1616 with model ARDL in generation 15 of 20\n",
            "Model Number: 1617 with model Theta in generation 15 of 20\n",
            "Template Eval Error: Exception(\"Transformer QuantileTransformer failed on fit from params rolling_mean_24 {'0': {'rolling_window': 0.1, 'n_tails': 90, 'n_future': 0.05, 'method': 'median', 'macro_micro': True}, '1': {}, '2': {'sigma': 3, 'rolling_window': 90, 'run_order': 'season_first', 'regression_params': {'regression_model': {'model': 'KNN', 'model_params': {'n_neighbors': 5, 'weights': 'distance', 'p': 1, 'leaf_size': 10}}, 'datepart_method': 'simple_binarized', 'polynomial_degree': None, 'transform_dict': None, 'holiday_countries_used': False}, 'holiday_params': None}, '3': {'output_distribution': 'uniform', 'n_quantiles': 246}, '4': {}}\") in model 1617 in generation 15: Theta\n",
            "Model Number: 1618 with model GLS in generation 15 of 20\n",
            "Model Number: 1619 with model SeasonalityMotif in generation 15 of 20\n",
            "Template Eval Error: Exception(\"Transformer AlignLastValue failed on inverse from params pad {'0': {}, '1': {'model': 'GLS', 'phi': 1, 'window': None, 'transform_dict': {'fillna': None, 'transformations': {'0': 'ScipyFilter'}, 'transformation_params': {'0': {'method': 'savgol_filter', 'method_args': {'window_length': 31, 'polyorder': 3, 'deriv': 0, 'mode': 'interp'}}}}}, '2': {'low': 6, 'high': 32, 'K': 1, 'lanczos_factor': False, 'return_diff': False}, '3': {'rows': 1, 'lag': 1, 'method': 'additive', 'strength': 1.0, 'first_value_only': False}, '4': {'rows': 1, 'lag': 1, 'method': 'additive', 'strength': 1.0, 'first_value_only': True}}\") in model 1619 in generation 15: SeasonalityMotif\n",
            "Model Number: 1620 with model UnobservedComponents in generation 15 of 20\n"
          ]
        },
        {
          "output_type": "stream",
          "name": "stderr",
          "text": [
            "/usr/local/lib/python3.10/dist-packages/sklearn/neighbors/_classification.py:215: DataConversionWarning:\n",
            "\n",
            "A column-vector y was passed when a 1d array was expected. Please change the shape of y to (n_samples,), for example using ravel().\n",
            "\n"
          ]
        },
        {
          "output_type": "stream",
          "name": "stdout",
          "text": [
            "Model Number: 1621 with model AverageValueNaive in generation 15 of 20\n",
            "Model Number: 1622 with model UnobservedComponents in generation 15 of 20\n",
            "Model Number: 1623 with model SeasonalityMotif in generation 15 of 20\n",
            "Model Number: 1624 with model UnobservedComponents in generation 15 of 20\n",
            "Template Eval Error: ValueError(\"regression_type='User' but no future_regressor supplied\") in model 1624 in generation 15: UnobservedComponents\n",
            "Model Number: 1625 with model SectionalMotif in generation 15 of 20\n",
            "Model Number: 1626 with model UnobservedComponents in generation 15 of 20\n",
            "Model Number: 1627 with model SeasonalNaive in generation 15 of 20\n",
            "Model Number: 1628 with model ARDL in generation 15 of 20\n",
            "Template Eval Error: ValueError(\"regression_type='User' but future_regressor not supplied\") in model 1628 in generation 15: ARDL\n",
            "Model Number: 1629 with model MetricMotif in generation 15 of 20\n",
            "Model Number: 1630 with model SectionalMotif in generation 15 of 20\n",
            "Model Number: 1631 with model FBProphet in generation 15 of 20\n",
            "New Generation: 16 of 20\n",
            "Model Number: 1632 with model SeasonalNaive in generation 16 of 20\n",
            "Template Eval Error: Exception(\"Transformer AlignLastValue failed on inverse from params zero {'0': {}, '1': {'method': 'clip', 'std_threshold': 3.5, 'fillna': None}, '2': {'lag_1': 7, 'method': 'Mean'}, '3': {'rows': 7, 'lag': 1, 'method': 'additive', 'strength': 1.0, 'first_value_only': True}}\") in model 1632 in generation 16: SeasonalNaive\n",
            "Model Number: 1633 with model FBProphet in generation 16 of 20\n",
            "Model Number: 1634 with model Theta in generation 16 of 20\n",
            "Model Number: 1635 with model FBProphet in generation 16 of 20\n",
            "Model Number: 1636 with model UnobservedComponents in generation 16 of 20\n",
            "Template Eval Error: Exception(\"Transformer AlignLastValue failed on inverse from params akima {'0': {'lag_1': 24, 'method': 2}, '1': {}, '2': {'lag_1': 7, 'method': 'Mean'}, '3': {'rows': 1, 'lag': 1, 'method': 'additive', 'strength': 1.0, 'first_value_only': True}}\") in model 1636 in generation 16: UnobservedComponents\n",
            "Model Number: 1637 with model GLS in generation 16 of 20\n",
            "Model Number: 1638 with model MetricMotif in generation 16 of 20\n",
            "Model Number: 1639 with model UnobservedComponents in generation 16 of 20\n",
            "Model Number: 1640 with model FBProphet in generation 16 of 20\n"
          ]
        },
        {
          "output_type": "stream",
          "name": "stderr",
          "text": [
            "/usr/local/lib/python3.10/dist-packages/sklearn/decomposition/_fastica.py:708: FutureWarning:\n",
            "\n",
            "Starting in v1.3, whiten=True should be specified as whiten='arbitrary-variance' (its current behaviour). This behavior is deprecated in 1.1 and will raise ValueError in 1.3.\n",
            "\n"
          ]
        },
        {
          "output_type": "stream",
          "name": "stdout",
          "text": [
            "Model Number: 1641 with model FBProphet in generation 16 of 20\n",
            "Model Number: 1642 with model UnobservedComponents in generation 16 of 20\n",
            "Template Eval Error: ValueError(\"regression_type='User' but no future_regressor supplied\") in model 1642 in generation 16: UnobservedComponents\n",
            "Model Number: 1643 with model AverageValueNaive in generation 16 of 20\n",
            "Model Number: 1644 with model SectionalMotif in generation 16 of 20\n",
            "Model Number: 1645 with model UnivariateMotif in generation 16 of 20\n",
            "Model Number: 1646 with model FBProphet in generation 16 of 20\n",
            "Model Number: 1647 with model SectionalMotif in generation 16 of 20\n",
            "Model Number: 1648 with model GLS in generation 16 of 20\n",
            "Model Number: 1649 with model UnobservedComponents in generation 16 of 20\n",
            "Model Number: 1650 with model ARDL in generation 16 of 20\n",
            "Model Number: 1651 with model ARDL in generation 16 of 20\n",
            "Model Number: 1652 with model ETS in generation 16 of 20\n",
            "Model Number: 1653 with model SeasonalNaive in generation 16 of 20\n",
            "Model Number: 1654 with model SectionalMotif in generation 16 of 20\n",
            "Model Number: 1655 with model LastValueNaive in generation 16 of 20\n",
            "Model Number: 1656 with model SeasonalNaive in generation 16 of 20\n",
            "Model Number: 1657 with model GLS in generation 16 of 20\n",
            "Model Number: 1658 with model MetricMotif in generation 16 of 20\n",
            "Model Number: 1659 with model ETS in generation 16 of 20\n",
            "Model Number: 1660 with model SeasonalityMotif in generation 16 of 20\n",
            "Model Number: 1661 with model SectionalMotif in generation 16 of 20\n",
            "Model Number: 1662 with model LastValueNaive in generation 16 of 20\n",
            "Model Number: 1663 with model UnobservedComponents in generation 16 of 20\n",
            "Template Eval Error: LinAlgError('Singular matrix') in model 1663 in generation 16: UnobservedComponents\n",
            "Model Number: 1664 with model AverageValueNaive in generation 16 of 20\n",
            "Model Number: 1665 with model MetricMotif in generation 16 of 20\n",
            "Model Number: 1666 with model FBProphet in generation 16 of 20\n"
          ]
        },
        {
          "output_type": "stream",
          "name": "stderr",
          "text": [
            "/usr/local/lib/python3.10/dist-packages/sklearn/linear_model/_ridge.py:216: LinAlgWarning:\n",
            "\n",
            "Ill-conditioned matrix (rcond=1.44546e-25): result may not be accurate.\n",
            "\n"
          ]
        },
        {
          "output_type": "stream",
          "name": "stdout",
          "text": [
            "Template Eval Error: Exception(\"Transformer AlignLastValue failed on inverse from params rolling_mean_24 {'0': {'window': 730}, '1': {'output_distribution': 'normal', 'n_quantiles': 246}, '2': {}, '3': {'rows': 4, 'lag': 2, 'method': 'additive', 'strength': 1.0, 'first_value_only': True}}\") in model 1666 in generation 16: FBProphet\n",
            "Model Number: 1667 with model Theta in generation 16 of 20\n",
            "Model Number: 1668 with model LastValueNaive in generation 16 of 20\n",
            "Model Number: 1669 with model AverageValueNaive in generation 16 of 20\n",
            "Model Number: 1670 with model UnobservedComponents in generation 16 of 20\n",
            "Model Number: 1671 with model UnobservedComponents in generation 16 of 20\n",
            "Model Number: 1672 with model SectionalMotif in generation 16 of 20\n",
            "Template Eval Error: Exception(\"Transformer BTCD failed on fit from params zero {'0': {'whiten': False}, '1': {'regression_model': {'model': 'FastRidge', 'model_params': {}}, 'max_lags': 2}, '2': {}}\") in model 1672 in generation 16: SectionalMotif\n",
            "Model Number: 1673 with model MetricMotif in generation 16 of 20\n",
            "Model Number: 1674 with model SeasonalityMotif in generation 16 of 20\n",
            "Model Number: 1675 with model SectionalMotif in generation 16 of 20\n",
            "Model Number: 1676 with model AverageValueNaive in generation 16 of 20\n",
            "Model Number: 1677 with model ETS in generation 16 of 20\n",
            "Model Number: 1678 with model SectionalMotif in generation 16 of 20\n",
            "Model Number: 1679 with model SeasonalNaive in generation 16 of 20\n",
            "Model Number: 1680 with model GLS in generation 16 of 20\n",
            "Model Number: 1681 with model SeasonalityMotif in generation 16 of 20\n",
            "Model Number: 1682 with model SeasonalityMotif in generation 16 of 20\n",
            "Model Number: 1683 with model Theta in generation 16 of 20\n",
            "Model Number: 1684 with model SectionalMotif in generation 16 of 20\n",
            "Model Number: 1685 with model ETS in generation 16 of 20\n",
            "Model Number: 1686 with model MetricMotif in generation 16 of 20\n",
            "Template Eval Error: Exception(\"Transformer MinMaxScaler failed on fit from params ffill {'0': {'rolling_window': 0.1, 'n_tails': 0.1, 'n_future': 0.2, 'method': 'median', 'macro_micro': True}, '1': {'lag_1': 420, 'method': 5}, '2': {}, '3': {'decimals': 2, 'on_transform': True, 'on_inverse': True}}\") in model 1686 in generation 16: MetricMotif\n",
            "Model Number: 1687 with model Theta in generation 16 of 20\n",
            "Model Number: 1688 with model LastValueNaive in generation 16 of 20\n",
            "Model Number: 1689 with model ARDL in generation 16 of 20\n",
            "Model Number: 1690 with model Theta in generation 16 of 20\n",
            "Model Number: 1691 with model SectionalMotif in generation 16 of 20\n",
            "Model Number: 1692 with model MultivariateRegression in generation 16 of 20\n",
            "Model Number: 1693 with model SeasonalityMotif in generation 16 of 20\n",
            "Model Number: 1694 with model FBProphet in generation 16 of 20\n",
            "Model Number: 1695 with model SeasonalNaive in generation 16 of 20\n",
            "Model Number: 1696 with model SeasonalityMotif in generation 16 of 20\n",
            "Model Number: 1697 with model MetricMotif in generation 16 of 20\n",
            "Model Number: 1698 with model LastValueNaive in generation 16 of 20\n",
            "Model Number: 1699 with model UnobservedComponents in generation 16 of 20\n"
          ]
        },
        {
          "output_type": "stream",
          "name": "stderr",
          "text": [
            "/usr/local/lib/python3.10/dist-packages/sklearn/linear_model/_ridge.py:216: LinAlgWarning:\n",
            "\n",
            "Ill-conditioned matrix (rcond=1.44546e-25): result may not be accurate.\n",
            "\n"
          ]
        },
        {
          "output_type": "stream",
          "name": "stdout",
          "text": [
            "Model Number: 1700 with model Theta in generation 16 of 20\n",
            "Model Number: 1701 with model UnobservedComponents in generation 16 of 20\n",
            "Model Number: 1702 with model LastValueNaive in generation 16 of 20\n",
            "Model Number: 1703 with model Theta in generation 16 of 20\n",
            "Model Number: 1704 with model MultivariateRegression in generation 16 of 20\n",
            "Model Number: 1705 with model GLS in generation 16 of 20\n",
            "Template Eval Error: Exception(\"Transformer Cointegration failed on fit from params ffill {'0': {}, '1': {'fixed': False, 'window': 1440}, '2': {'det_order': 1, 'k_ar_diff': 2}, '3': {}}\") in model 1705 in generation 16: GLS\n",
            "Model Number: 1706 with model SectionalMotif in generation 16 of 20\n",
            "New Generation: 17 of 20\n",
            "Model Number: 1707 with model FBProphet in generation 17 of 20\n",
            "No anomalies detected.\n"
          ]
        },
        {
          "output_type": "stream",
          "name": "stderr",
          "text": [
            "/usr/local/lib/python3.10/dist-packages/sklearn/linear_model/_ridge.py:216: LinAlgWarning:\n",
            "\n",
            "Ill-conditioned matrix (rcond=1.44546e-25): result may not be accurate.\n",
            "\n"
          ]
        },
        {
          "output_type": "stream",
          "name": "stdout",
          "text": [
            "Model Number: 1708 with model UnobservedComponents in generation 17 of 20\n",
            "Model Number: 1709 with model GLS in generation 17 of 20\n",
            "Model Number: 1710 with model SectionalMotif in generation 17 of 20\n",
            "Template Eval Error: ValueError(\"regression_type=='User' but no future_regressor supplied\") in model 1710 in generation 17: SectionalMotif\n",
            "Model Number: 1711 with model FBProphet in generation 17 of 20\n",
            "Model Number: 1712 with model FBProphet in generation 17 of 20\n",
            "Model Number: 1713 with model GLS in generation 17 of 20\n",
            "Model Number: 1714 with model AverageValueNaive in generation 17 of 20\n",
            "Model Number: 1715 with model FBProphet in generation 17 of 20\n",
            "Model Number: 1716 with model SectionalMotif in generation 17 of 20\n",
            "Model Number: 1717 with model Theta in generation 17 of 20\n",
            "Model Number: 1718 with model GLS in generation 17 of 20\n",
            "Model Number: 1719 with model LastValueNaive in generation 17 of 20\n",
            "Model Number: 1720 with model SeasonalNaive in generation 17 of 20\n"
          ]
        },
        {
          "output_type": "stream",
          "name": "stderr",
          "text": [
            "/usr/local/lib/python3.10/dist-packages/sklearn/neighbors/_classification.py:215: DataConversionWarning:\n",
            "\n",
            "A column-vector y was passed when a 1d array was expected. Please change the shape of y to (n_samples,), for example using ravel().\n",
            "\n",
            "/usr/local/lib/python3.10/dist-packages/sklearn/neighbors/_classification.py:215: DataConversionWarning:\n",
            "\n",
            "A column-vector y was passed when a 1d array was expected. Please change the shape of y to (n_samples,), for example using ravel().\n",
            "\n"
          ]
        },
        {
          "output_type": "stream",
          "name": "stdout",
          "text": [
            "Model Number: 1721 with model SectionalMotif in generation 17 of 20\n",
            "Model Number: 1722 with model GLS in generation 17 of 20\n",
            "Model Number: 1723 with model ARDL in generation 17 of 20\n",
            "Template Eval Error: ValueError(\"regression_type='User' but future_regressor not supplied\") in model 1723 in generation 17: ARDL\n",
            "Model Number: 1724 with model FBProphet in generation 17 of 20\n",
            "Model Number: 1725 with model UnobservedComponents in generation 17 of 20\n",
            "Model Number: 1726 with model GLS in generation 17 of 20\n",
            "Model Number: 1727 with model SectionalMotif in generation 17 of 20\n",
            "Model Number: 1728 with model FBProphet in generation 17 of 20\n",
            "Model Number: 1729 with model SectionalMotif in generation 17 of 20\n",
            "Model Number: 1730 with model ConstantNaive in generation 17 of 20\n",
            "Model Number: 1731 with model SeasonalNaive in generation 17 of 20\n",
            "Model Number: 1732 with model SectionalMotif in generation 17 of 20\n",
            "Model Number: 1733 with model AverageValueNaive in generation 17 of 20\n",
            "Model Number: 1734 with model SectionalMotif in generation 17 of 20\n",
            "Model Number: 1735 with model LastValueNaive in generation 17 of 20\n",
            "Model Number: 1736 with model SeasonalNaive in generation 17 of 20\n",
            "Model Number: 1737 with model Theta in generation 17 of 20\n",
            "Model Number: 1738 with model SeasonalityMotif in generation 17 of 20\n",
            "Model Number: 1739 with model AverageValueNaive in generation 17 of 20\n",
            "Model Number: 1740 with model SeasonalityMotif in generation 17 of 20\n",
            "Model Number: 1741 with model MetricMotif in generation 17 of 20\n",
            "Model Number: 1742 with model LastValueNaive in generation 17 of 20\n",
            "Model Number: 1743 with model LastValueNaive in generation 17 of 20\n",
            "Template Eval Error: Exception(\"Transformer AlignLastValue failed on inverse from params ffill {'0': {'whiten': False}, '1': {'rows': 4, 'lag': 1, 'method': 'additive', 'strength': 1.0, 'first_value_only': True}, '2': {}, '3': {}}\") in model 1743 in generation 17: LastValueNaive\n",
            "Model Number: 1744 with model SeasonalityMotif in generation 17 of 20\n"
          ]
        },
        {
          "output_type": "stream",
          "name": "stderr",
          "text": [
            "/usr/local/lib/python3.10/dist-packages/sklearn/linear_model/_ridge.py:216: LinAlgWarning:\n",
            "\n",
            "Ill-conditioned matrix (rcond=1.44546e-25): result may not be accurate.\n",
            "\n"
          ]
        },
        {
          "output_type": "stream",
          "name": "stdout",
          "text": [
            "Model Number: 1745 with model MultivariateRegression in generation 17 of 20\n",
            "Model Number: 1746 with model GLS in generation 17 of 20\n",
            "Model Number: 1747 with model UnobservedComponents in generation 17 of 20\n",
            "Model Number: 1748 with model ARIMA in generation 17 of 20\n",
            "Model Number: 1749 with model MetricMotif in generation 17 of 20\n",
            "Model Number: 1750 with model MultivariateRegression in generation 17 of 20\n"
          ]
        },
        {
          "output_type": "stream",
          "name": "stderr",
          "text": [
            "/usr/local/lib/python3.10/dist-packages/sklearn/linear_model/_ridge.py:216: LinAlgWarning:\n",
            "\n",
            "Ill-conditioned matrix (rcond=1.44546e-25): result may not be accurate.\n",
            "\n"
          ]
        },
        {
          "output_type": "stream",
          "name": "stdout",
          "text": [
            "Model Number: 1751 with model UnobservedComponents in generation 17 of 20\n",
            "Model Number: 1752 with model Theta in generation 17 of 20\n",
            "Template Eval Error: Exception(\"Transformer ReplaceConstant failed on fit from params linear {'0': {'method': 'rolling_zscore', 'method_params': {'distribution': 'uniform', 'alpha': 0.05, 'rolling_periods': 300, 'center': True}, 'fillna': 'linear', 'transform_dict': {'fillna': 'ffill_mean_biased', 'transformations': {'0': 'AnomalyRemoval'}, 'transformation_params': {'0': {'method': 'minmax', 'method_params': {'alpha': 0.03}, 'fillna': 'rolling_mean_24', 'transform_dict': {'fillna': 'quadratic', 'transformations': {'0': 'ScipyFilter', '1': 'Slice'}, 'transformation_params': {'0': {'method': 'savgol_filter', 'method_args': {'window_length': 91, 'polyorder': 3, 'deriv': 0, 'mode': 'interp'}}, '1': {'method': 0.5}}}, 'isolated_only': False}}}, 'isolated_only': True}, '1': {'constant': 0, 'reintroduction_model': {'model': 'xgboost', 'model_params': {'booster': 'gbtree', 'colsample_bylevel': 0.54, 'learning_rate': 0.0125, 'max_depth': 11, 'min_child_weight': 0.0127203, 'n_estimators': 319}, 'datepart_method': 'simple_2'}, 'fillna': 'mean'}, '2': {'lag_1': 7, 'method': 'LastValue'}, '3': {'rolling_window': 360, 'n_tails': 0.1, 'n_future': 0.2, 'method': 'mean', 'macro_micro': False}}\") in model 1752 in generation 17: Theta\n",
            "Model Number: 1753 with model MetricMotif in generation 17 of 20\n",
            "Model Number: 1754 with model MetricMotif in generation 17 of 20\n",
            "Model Number: 1755 with model SectionalMotif in generation 17 of 20\n"
          ]
        },
        {
          "output_type": "stream",
          "name": "stderr",
          "text": [
            "/usr/local/lib/python3.10/dist-packages/sklearn/linear_model/_ridge.py:216: LinAlgWarning:\n",
            "\n",
            "Ill-conditioned matrix (rcond=1.44546e-25): result may not be accurate.\n",
            "\n"
          ]
        },
        {
          "output_type": "stream",
          "name": "stdout",
          "text": [
            "Model Number: 1756 with model SectionalMotif in generation 17 of 20\n",
            "Template Eval Error: ValueError(\"regression_type=='User' but no future_regressor supplied\") in model 1756 in generation 17: SectionalMotif\n",
            "Model Number: 1757 with model ARDL in generation 17 of 20\n",
            "Model Number: 1758 with model AverageValueNaive in generation 17 of 20\n",
            "Model Number: 1759 with model AverageValueNaive in generation 17 of 20\n",
            "Model Number: 1760 with model ARDL in generation 17 of 20\n",
            "Template Eval Error: ValueError(\"ARDL series Close failed with error IndexError('tuple index out of range') exog train None and predict None\") in model 1760 in generation 17: ARDL\n",
            "Model Number: 1761 with model FBProphet in generation 17 of 20\n",
            "Template Eval Error: Exception(\"Transformer AlignLastValue failed on inverse from params pchip {'0': {'rows': 1, 'lag': 1, 'method': 'additive', 'strength': 1.0, 'first_value_only': False}, '1': {'rows': 1, 'lag': 1, 'method': 'additive', 'strength': 1.0, 'first_value_only': True}, '2': {'threshold': 0.8, 'splash_threshold': None, 'use_dayofmonth_holidays': True, 'use_wkdom_holidays': False, 'use_wkdeom_holidays': False, 'use_lunar_holidays': False, 'use_lunar_weekday': False, 'use_islamic_holidays': False, 'use_hebrew_holidays': False, 'anomaly_detector_params': {'method': 'rolling_zscore', 'method_params': {'distribution': 'chi2', 'alpha': 0.05, 'rolling_periods': 90, 'center': True}, 'fillna': 'linear', 'transform_dict': {'transformations': {'0': 'DifferencedTransformer'}, 'transformation_params': {'0': {}}}, 'isolated_only': False}, 'remove_excess_anomalies': True, 'impact': 'median_value', 'regression_params': {}}, '3': {'rows': 1, 'lag': 1, 'method': 'additive', 'strength': 1.0, 'first_value_only': True}}\") in model 1761 in generation 17: FBProphet\n",
            "Model Number: 1762 with model GLS in generation 17 of 20\n",
            "Model Number: 1763 with model SeasonalityMotif in generation 17 of 20\n",
            "Model Number: 1764 with model GLS in generation 17 of 20\n",
            "Model Number: 1765 with model GLS in generation 17 of 20\n",
            "Model Number: 1766 with model LastValueNaive in generation 17 of 20\n",
            "Model Number: 1767 with model UnivariateMotif in generation 17 of 20\n",
            "Model Number: 1768 with model Theta in generation 17 of 20\n",
            "Model Number: 1769 with model SeasonalNaive in generation 17 of 20\n",
            "Model Number: 1770 with model UnobservedComponents in generation 17 of 20\n",
            "Model Number: 1771 with model Theta in generation 17 of 20\n",
            "Model Number: 1772 with model SeasonalityMotif in generation 17 of 20\n",
            "Model Number: 1773 with model AverageValueNaive in generation 17 of 20\n",
            "Model Number: 1774 with model AverageValueNaive in generation 17 of 20\n",
            "Model Number: 1775 with model MetricMotif in generation 17 of 20\n",
            "Template Eval Error: Exception(\"Transformer ScipyFilter failed on fit from params time {'0': {'lag_1': 7, 'method': 'LastValue'}, '1': {'method': 'butter', 'method_args': {'N': 8, 'btype': 'lowpass', 'analog': False, 'output': 'sos', 'Wn': 0.019230769230769232}}, '2': {'method': 100}, '3': {'rows': 1, 'lag': 1, 'method': 'multiplicative', 'strength': 1.0, 'first_value_only': False}}\") in model 1775 in generation 17: MetricMotif\n",
            "Model Number: 1776 with model SectionalMotif in generation 17 of 20\n",
            "Model Number: 1777 with model SectionalMotif in generation 17 of 20\n",
            "Model Number: 1778 with model AverageValueNaive in generation 17 of 20\n",
            "Model Number: 1779 with model UnobservedComponents in generation 17 of 20\n",
            "Model Number: 1780 with model SeasonalityMotif in generation 17 of 20\n",
            "Model Number: 1781 with model ARDL in generation 17 of 20\n",
            "Template Eval Error: Exception(\"Transformer Cointegration failed on fit from params akima {'0': {'rolling_window': 0.05, 'n_tails': 360, 'n_future': 360, 'method': 'median', 'macro_micro': False}, '1': {'method': 'clip', 'std_threshold': 3, 'fillna': None}, '2': {'sigma': 2, 'rolling_window': 90, 'run_order': 'season_first', 'regression_params': {'regression_model': {'model': 'ElasticNet', 'model_params': {}}, 'datepart_method': 'simple', 'polynomial_degree': None, 'transform_dict': None, 'holiday_countries_used': False}, 'holiday_params': None}, '3': {'rows': 1, 'lag': 1, 'method': 'additive', 'strength': 1.0, 'first_value_only': True}, '4': {'det_order': 1, 'k_ar_diff': 0}}\") in model 1781 in generation 17: ARDL\n",
            "New Generation: 18 of 20\n",
            "Model Number: 1782 with model FBProphet in generation 18 of 20\n",
            "Model Number: 1783 with model FBProphet in generation 18 of 20\n",
            "Model Number: 1784 with model MetricMotif in generation 18 of 20\n",
            "Model Number: 1785 with model AverageValueNaive in generation 18 of 20\n",
            "Model Number: 1786 with model SeasonalNaive in generation 18 of 20\n"
          ]
        },
        {
          "output_type": "stream",
          "name": "stderr",
          "text": [
            "/usr/local/lib/python3.10/dist-packages/sklearn/linear_model/_ridge.py:216: LinAlgWarning:\n",
            "\n",
            "Ill-conditioned matrix (rcond=1.44546e-25): result may not be accurate.\n",
            "\n"
          ]
        },
        {
          "output_type": "stream",
          "name": "stdout",
          "text": [
            "Model Number: 1787 with model Theta in generation 18 of 20\n",
            "Model Number: 1788 with model UnobservedComponents in generation 18 of 20\n",
            "Model Number: 1789 with model SectionalMotif in generation 18 of 20\n",
            "Model Number: 1790 with model SeasonalityMotif in generation 18 of 20\n",
            "Model Number: 1791 with model GLS in generation 18 of 20\n",
            "Model Number: 1792 with model SeasonalNaive in generation 18 of 20\n",
            "Model Number: 1793 with model SectionalMotif in generation 18 of 20\n",
            "Model Number: 1794 with model ARDL in generation 18 of 20\n",
            "Model Number: 1795 with model UnobservedComponents in generation 18 of 20\n",
            "Model Number: 1796 with model AverageValueNaive in generation 18 of 20\n",
            "Model Number: 1797 with model SectionalMotif in generation 18 of 20\n",
            "Model Number: 1798 with model AverageValueNaive in generation 18 of 20\n",
            "Model Number: 1799 with model UnobservedComponents in generation 18 of 20\n",
            "Template Eval Error: ValueError(\"regression_type='User' but no future_regressor supplied\") in model 1799 in generation 18: UnobservedComponents\n",
            "Model Number: 1800 with model FBProphet in generation 18 of 20\n",
            "No anomalies detected.\n"
          ]
        },
        {
          "output_type": "stream",
          "name": "stderr",
          "text": [
            "/usr/local/lib/python3.10/dist-packages/sklearn/linear_model/_ridge.py:216: LinAlgWarning:\n",
            "\n",
            "Ill-conditioned matrix (rcond=1.44546e-25): result may not be accurate.\n",
            "\n"
          ]
        },
        {
          "output_type": "stream",
          "name": "stdout",
          "text": [
            "Model Number: 1801 with model ARDL in generation 18 of 20\n",
            "Model Number: 1802 with model MultivariateRegression in generation 18 of 20\n",
            "Model Number: 1803 with model AverageValueNaive in generation 18 of 20\n",
            "Model Number: 1804 with model GLS in generation 18 of 20\n",
            "Model Number: 1805 with model ARDL in generation 18 of 20\n",
            "Model Number: 1806 with model SeasonalNaive in generation 18 of 20\n",
            "Model Number: 1807 with model SeasonalityMotif in generation 18 of 20\n",
            "Model Number: 1808 with model SectionalMotif in generation 18 of 20\n",
            "Model Number: 1809 with model MetricMotif in generation 18 of 20\n",
            "Model Number: 1810 with model SeasonalityMotif in generation 18 of 20\n"
          ]
        },
        {
          "output_type": "stream",
          "name": "stderr",
          "text": [
            "/usr/local/lib/python3.10/dist-packages/sklearn/linear_model/_ridge.py:216: LinAlgWarning:\n",
            "\n",
            "Ill-conditioned matrix (rcond=1.44546e-25): result may not be accurate.\n",
            "\n",
            "/usr/local/lib/python3.10/dist-packages/sklearn/linear_model/_coordinate_descent.py:631: ConvergenceWarning:\n",
            "\n",
            "Objective did not converge. You might want to increase the number of iterations, check the scale of the features or consider increasing regularisation. Duality gap: 1.944e+10, tolerance: 5.161e+06\n",
            "\n"
          ]
        },
        {
          "output_type": "stream",
          "name": "stdout",
          "text": [
            "Model Number: 1811 with model UnobservedComponents in generation 18 of 20\n",
            "Model Number: 1812 with model SeasonalityMotif in generation 18 of 20\n",
            "Model Number: 1813 with model ConstantNaive in generation 18 of 20\n",
            "Template Eval Error: Exception(\"Transformer BTCD failed on fit from params zero {'0': {'regression_model': {'model': 'LinearRegression', 'model_params': {}}, 'max_lags': 1}, '1': {'rows': 1, 'lag': 1, 'method': 'additive', 'strength': 1.0, 'first_value_only': False}}\") in model 1813 in generation 18: ConstantNaive\n",
            "Model Number: 1814 with model GLS in generation 18 of 20\n",
            "Model Number: 1815 with model AverageValueNaive in generation 18 of 20\n",
            "Model Number: 1816 with model AverageValueNaive in generation 18 of 20\n",
            "Model Number: 1817 with model SeasonalityMotif in generation 18 of 20\n",
            "Model Number: 1818 with model MetricMotif in generation 18 of 20\n"
          ]
        },
        {
          "output_type": "stream",
          "name": "stderr",
          "text": [
            "/usr/local/lib/python3.10/dist-packages/sklearn/neighbors/_classification.py:215: DataConversionWarning:\n",
            "\n",
            "A column-vector y was passed when a 1d array was expected. Please change the shape of y to (n_samples,), for example using ravel().\n",
            "\n",
            "/usr/local/lib/python3.10/dist-packages/sklearn/linear_model/_ridge.py:216: LinAlgWarning:\n",
            "\n",
            "Ill-conditioned matrix (rcond=1.44546e-25): result may not be accurate.\n",
            "\n"
          ]
        },
        {
          "output_type": "stream",
          "name": "stdout",
          "text": [
            "Model Number: 1819 with model FBProphet in generation 18 of 20\n",
            "Model Number: 1820 with model ConstantNaive in generation 18 of 20\n",
            "Template Eval Error: Exception(\"Transformer AlignLastValue failed on inverse from params zero {'0': {}, '1': {'rows': 1, 'lag': 1, 'method': 'additive', 'strength': 1.0, 'first_value_only': True}, '2': {'lag_1': 91, 'method': 'Median'}, '3': {'part': 'trend', 'lamb': 6.25}}\") in model 1820 in generation 18: ConstantNaive\n",
            "Model Number: 1821 with model SectionalMotif in generation 18 of 20\n",
            "Model Number: 1822 with model GLS in generation 18 of 20\n",
            "Model Number: 1823 with model UnobservedComponents in generation 18 of 20\n",
            "Model Number: 1824 with model GLS in generation 18 of 20\n",
            "Template Eval Error: Exception(\"Transformer DatepartRegression failed on fit from params time {'0': {}, '1': {'lag_1': 96, 'method': 20}, '2': {'regression_model': {'model': 'ExtraTrees', 'model_params': {'n_estimators': 100, 'min_samples_leaf': 1, 'min_samples_split': 2, 'max_depth': 20, 'criterion': 'poisson', 'max_features': 1}}, 'datepart_method': 'simple_binarized', 'polynomial_degree': None, 'transform_dict': {'fillna': None, 'transformations': {'0': 'ClipOutliers'}, 'transformation_params': {'0': {'method': 'clip', 'std_threshold': 4}}}, 'holiday_countries_used': False}, '3': {'lag_1': 96, 'method': 'LastValue'}}\") in model 1824 in generation 18: GLS\n",
            "Model Number: 1825 with model ConstantNaive in generation 18 of 20\n",
            "Model Number: 1826 with model LastValueNaive in generation 18 of 20\n",
            "Model Number: 1827 with model MetricMotif in generation 18 of 20\n",
            "Model Number: 1828 with model MetricMotif in generation 18 of 20\n",
            "Model Number: 1829 with model FBProphet in generation 18 of 20\n"
          ]
        },
        {
          "output_type": "stream",
          "name": "stderr",
          "text": [
            "/usr/local/lib/python3.10/dist-packages/sklearn/linear_model/_ridge.py:216: LinAlgWarning:\n",
            "\n",
            "Ill-conditioned matrix (rcond=1.44546e-25): result may not be accurate.\n",
            "\n",
            "/usr/local/lib/python3.10/dist-packages/autots/tools/percentile.py:47: RuntimeWarning:\n",
            "\n",
            "All-NaN slice encountered\n",
            "\n"
          ]
        },
        {
          "output_type": "stream",
          "name": "stdout",
          "text": [
            "Model Number: 1830 with model Theta in generation 18 of 20\n",
            "Model Number: 1831 with model LastValueNaive in generation 18 of 20\n",
            "Model Number: 1832 with model SeasonalityMotif in generation 18 of 20\n"
          ]
        },
        {
          "output_type": "stream",
          "name": "stderr",
          "text": [
            "/usr/local/lib/python3.10/dist-packages/sklearn/neighbors/_classification.py:215: DataConversionWarning:\n",
            "\n",
            "A column-vector y was passed when a 1d array was expected. Please change the shape of y to (n_samples,), for example using ravel().\n",
            "\n"
          ]
        },
        {
          "output_type": "stream",
          "name": "stdout",
          "text": [
            "Model Number: 1833 with model MetricMotif in generation 18 of 20\n",
            "Model Number: 1834 with model FBProphet in generation 18 of 20\n",
            "No anomalies detected.\n"
          ]
        },
        {
          "output_type": "stream",
          "name": "stderr",
          "text": [
            "/usr/local/lib/python3.10/dist-packages/sklearn/linear_model/_ridge.py:216: LinAlgWarning:\n",
            "\n",
            "Ill-conditioned matrix (rcond=1.44546e-25): result may not be accurate.\n",
            "\n"
          ]
        },
        {
          "output_type": "stream",
          "name": "stdout",
          "text": [
            "Model Number: 1835 with model SectionalMotif in generation 18 of 20\n",
            "Model Number: 1836 with model SeasonalNaive in generation 18 of 20\n",
            "Model Number: 1837 with model Theta in generation 18 of 20\n",
            "Model Number: 1838 with model FBProphet in generation 18 of 20\n",
            "Model Number: 1839 with model SeasonalityMotif in generation 18 of 20\n",
            "Model Number: 1840 with model SeasonalityMotif in generation 18 of 20\n",
            "Model Number: 1841 with model ETS in generation 18 of 20\n",
            "Model Number: 1842 with model NVAR in generation 18 of 20\n",
            "Model Number: 1843 with model ConstantNaive in generation 18 of 20\n",
            "Model Number: 1844 with model MetricMotif in generation 18 of 20\n",
            "Model Number: 1845 with model SectionalMotif in generation 18 of 20\n",
            "Template Eval Error: ValueError(\"regression_type=='User' but no future_regressor supplied\") in model 1845 in generation 18: SectionalMotif\n",
            "Model Number: 1846 with model SeasonalityMotif in generation 18 of 20\n",
            "Model Number: 1847 with model ARDL in generation 18 of 20\n",
            "Model Number: 1848 with model SeasonalityMotif in generation 18 of 20\n"
          ]
        },
        {
          "output_type": "stream",
          "name": "stderr",
          "text": [
            "/usr/local/lib/python3.10/dist-packages/sklearn/linear_model/_ridge.py:216: LinAlgWarning:\n",
            "\n",
            "Ill-conditioned matrix (rcond=1.44546e-25): result may not be accurate.\n",
            "\n"
          ]
        },
        {
          "output_type": "stream",
          "name": "stdout",
          "text": [
            "Model Number: 1849 with model GLS in generation 18 of 20\n",
            "Model Number: 1850 with model MultivariateRegression in generation 18 of 20\n",
            "Model Number: 1851 with model AverageValueNaive in generation 18 of 20\n",
            "Model Number: 1852 with model LastValueNaive in generation 18 of 20\n",
            "Model Number: 1853 with model MultivariateRegression in generation 18 of 20\n",
            "Model Number: 1854 with model Theta in generation 18 of 20\n",
            "Model Number: 1855 with model LastValueNaive in generation 18 of 20\n",
            "Model Number: 1856 with model SeasonalNaive in generation 18 of 20\n",
            "New Generation: 19 of 20\n",
            "Model Number: 1857 with model GLS in generation 19 of 20\n",
            "Model Number: 1858 with model SectionalMotif in generation 19 of 20\n",
            "Template Eval Error: Exception(\"Transformer Cointegration failed on fit from params pchip {'0': {}, '1': {}, '2': {'rows': 1, 'displacement_rows': 1, 'quantile': 1.0, 'decay_span': 365}, '3': {'det_order': 1, 'k_ar_diff': 0}}\") in model 1858 in generation 19: SectionalMotif\n",
            "Model Number: 1859 with model Theta in generation 19 of 20\n",
            "Model Number: 1860 with model SeasonalityMotif in generation 19 of 20\n",
            "Model Number: 1861 with model SectionalMotif in generation 19 of 20\n",
            "Template Eval Error: Exception(\"Transformer Cointegration failed on fit from params rolling_mean_24 {'0': {}, '1': {}, '2': {'fixed': False, 'window': 420}, '3': {'det_order': 1, 'k_ar_diff': 0}, '4': {'method': None, 'method_params': None, 'transform_dict': None, 'reverse_alignment': True, 'isolated_only': False, 'fillna': 1.0}}\") in model 1861 in generation 19: SectionalMotif\n",
            "Model Number: 1862 with model AverageValueNaive in generation 19 of 20\n",
            "Model Number: 1863 with model ARDL in generation 19 of 20\n"
          ]
        },
        {
          "output_type": "stream",
          "name": "stderr",
          "text": [
            "/usr/local/lib/python3.10/dist-packages/sklearn/neighbors/_classification.py:215: DataConversionWarning:\n",
            "\n",
            "A column-vector y was passed when a 1d array was expected. Please change the shape of y to (n_samples,), for example using ravel().\n",
            "\n"
          ]
        },
        {
          "output_type": "stream",
          "name": "stdout",
          "text": [
            "Model Number: 1864 with model ETS in generation 19 of 20\n",
            "Model Number: 1865 with model Theta in generation 19 of 20\n",
            "Model Number: 1866 with model SeasonalNaive in generation 19 of 20\n",
            "Model Number: 1867 with model LastValueNaive in generation 19 of 20\n",
            "Model Number: 1868 with model ConstantNaive in generation 19 of 20\n",
            "Model Number: 1869 with model SectionalMotif in generation 19 of 20\n",
            "Model Number: 1870 with model UnobservedComponents in generation 19 of 20\n",
            "Model Number: 1871 with model GLS in generation 19 of 20\n"
          ]
        },
        {
          "output_type": "stream",
          "name": "stderr",
          "text": [
            "/usr/local/lib/python3.10/dist-packages/sklearn/neighbors/_classification.py:215: DataConversionWarning:\n",
            "\n",
            "A column-vector y was passed when a 1d array was expected. Please change the shape of y to (n_samples,), for example using ravel().\n",
            "\n"
          ]
        },
        {
          "output_type": "stream",
          "name": "stdout",
          "text": [
            "Model Number: 1872 with model FBProphet in generation 19 of 20\n",
            "Model Number: 1873 with model SectionalMotif in generation 19 of 20\n",
            "Model Number: 1874 with model SectionalMotif in generation 19 of 20\n",
            "Template Eval Error: Exception(\"Transformer AlignLastValue failed on inverse from params ffill_mean_biased {'0': {'rows': 1, 'lag': 2, 'method': 'additive', 'strength': 1.0, 'first_value_only': True}, '1': {'rows': 7, 'displacement_rows': 7, 'quantile': 1.0, 'decay_span': 2}, '2': {'rows': 1, 'lag': 1, 'method': 'multiplicative', 'strength': 1.0, 'first_value_only': True}, '3': {'part': 'trend', 'lamb': 104976000000}}\") in model 1874 in generation 19: SectionalMotif\n",
            "Model Number: 1875 with model MetricMotif in generation 19 of 20\n",
            "Model Number: 1876 with model SectionalMotif in generation 19 of 20\n",
            "Model Number: 1877 with model SeasonalityMotif in generation 19 of 20\n",
            "Model Number: 1878 with model ARDL in generation 19 of 20\n",
            "Template Eval Error: ValueError(\"ARDL series Close failed with error ValueError('The number of regressors (829) including deterministics, lags of the endog, lags of the exogenous, and fixed regressors is larger than the sample available for estimation (97).') exog train              dp0  dp1        dp2  dp3  dp4  dp5  dp6  dp7  dp8  dp9  ...  \\\\\\nDate                                                                 ...   \\n2023-10-20  20.0  0.0  2460237.5  0.0  0.0  0.0  0.0  0.0  0.0  0.0  ...   \\n2023-10-21  21.0  1.0  2460238.5  0.0  0.0  0.0  0.0  0.0  0.0  0.0  ...   \\n2023-10-22  22.0  1.0  2460239.5  0.0  0.0  0.0  0.0  0.0  0.0  0.0  ...   \\n2023-10-23  23.0  0.0  2460240.5  0.0  0.0  0.0  0.0  0.0  0.0  0.0  ...   \\n2023-10-24  24.0  0.0  2460241.5  0.0  0.0  0.0  0.0  0.0  0.0  0.0  ...   \\n...          ...  ...        ...  ...  ...  ...  ...  ...  ...  ...  ...   \\n2024-01-23  23.0  0.0  2460332.5  1.0  0.0  0.0  0.0  0.0  0.0  0.0  ...   \\n2024-01-24  24.0  0.0  2460333.5  1.0  0.0  0.0  0.0  0.0  0.0  0.0  ...   \\n2024-01-25  25.0  0.0  2460334.5  1.0  0.0  0.0  0.0  0.0  0.0  0.0  ...   \\n2024-01-26  26.0  0.0  2460335.5  1.0  0.0  0.0  0.0  0.0  0.0  0.0  ...   \\n2024-01-27  27.0  1.0  2460336.5  1.0  0.0  0.0  0.0  0.0  0.0  0.0  ...   \\n\\n            dp265  dp266  dp267  dp268  dp269  dp270  dp271  dp272  dp273  \\\\\\nDate                                                                        \\n2023-10-20    0.0    0.0    0.0    0.0    1.0    0.0    0.0    0.0    0.0   \\n2023-10-21    0.0    0.0    0.0    0.0    0.0    0.0    0.0    1.0    0.0   \\n2023-10-22    0.0    0.0    0.0    0.0    0.0    0.0    0.0    0.0    0.0   \\n2023-10-23    0.0    0.0    0.0    0.0    0.0    0.0    0.0    0.0    0.0   \\n2023-10-24    0.0    0.0    0.0    0.0    0.0    0.0    0.0    0.0    0.0   \\n...           ...    ...    ...    ...    ...    ...    ...    ...    ...   \\n2024-01-23    0.0    0.0    0.0    0.0    0.0    0.0    0.0    0.0    0.0   \\n2024-01-24    0.0    0.0    0.0    0.0    0.0    0.0    0.0    0.0    0.0   \\n2024-01-25    1.0    0.0    0.0    0.0    0.0    0.0    0.0    0.0    0.0   \\n2024-01-26    0.0    0.0    0.0    0.0    1.0    0.0    0.0    0.0    0.0   \\n2024-01-27    0.0    0.0    0.0    0.0    0.0    0.0    0.0    1.0    0.0   \\n\\n            dp274  \\nDate               \\n2023-10-20    0.0  \\n2023-10-21    0.0  \\n2023-10-22    1.0  \\n2023-10-23    0.0  \\n2023-10-24    0.0  \\n...           ...  \\n2024-01-23    0.0  \\n2024-01-24    0.0  \\n2024-01-25    0.0  \\n2024-01-26    0.0  \\n2024-01-27    0.0  \\n\\n[100 rows x 275 columns] and predict              dp0  dp1        dp2  dp3  dp4  dp5  dp6  dp7  dp8  dp9  ...  \\\\\\n2024-01-28  28.0  1.0  2460337.5  1.0  0.0  0.0  0.0  0.0  0.0  0.0  ...   \\n2024-01-29  29.0  0.0  2460338.5  1.0  0.0  0.0  0.0  0.0  0.0  0.0  ...   \\n2024-01-30  30.0  0.0  2460339.5  1.0  0.0  0.0  0.0  0.0  0.0  0.0  ...   \\n2024-01-31  31.0  0.0  2460340.5  1.0  0.0  0.0  0.0  0.0  0.0  0.0  ...   \\n2024-02-01   1.0  0.0  2460341.5  0.0  1.0  0.0  0.0  0.0  0.0  0.0  ...   \\n2024-02-02   2.0  0.0  2460342.5  0.0  1.0  0.0  0.0  0.0  0.0  0.0  ...   \\n2024-02-03   3.0  1.0  2460343.5  0.0  1.0  0.0  0.0  0.0  0.0  0.0  ...   \\n2024-02-04   4.0  1.0  2460344.5  0.0  1.0  0.0  0.0  0.0  0.0  0.0  ...   \\n2024-02-05   5.0  0.0  2460345.5  0.0  1.0  0.0  0.0  0.0  0.0  0.0  ...   \\n2024-02-06   6.0  0.0  2460346.5  0.0  1.0  0.0  0.0  0.0  0.0  0.0  ...   \\n2024-02-07   7.0  0.0  2460347.5  0.0  1.0  0.0  0.0  0.0  0.0  0.0  ...   \\n2024-02-08   8.0  0.0  2460348.5  0.0  1.0  0.0  0.0  0.0  0.0  0.0  ...   \\n2024-02-09   9.0  0.0  2460349.5  0.0  1.0  0.0  0.0  0.0  0.0  0.0  ...   \\n2024-02-10  10.0  1.0  2460350.5  0.0  1.0  0.0  0.0  0.0  0.0  0.0  ...   \\n2024-02-11  11.0  1.0  2460351.5  0.0  1.0  0.0  0.0  0.0  0.0  0.0  ...   \\n2024-02-12  12.0  0.0  2460352.5  0.0  1.0  0.0  0.0  0.0  0.0  0.0  ...   \\n2024-02-13  13.0  0.0  2460353.5  0.0  1.0  0.0  0.0  0.0  0.0  0.0  ...   \\n2024-02-14  14.0  0.0  2460354.5  0.0  1.0  0.0  0.0  0.0  0.0  0.0  ...   \\n2024-02-15  15.0  0.0  2460355.5  0.0  1.0  0.0  0.0  0.0  0.0  0.0  ...   \\n2024-02-16  16.0  0.0  2460356.5  0.0  1.0  0.0  0.0  0.0  0.0  0.0  ...   \\n2024-02-17  17.0  1.0  2460357.5  0.0  1.0  0.0  0.0  0.0  0.0  0.0  ...   \\n2024-02-18  18.0  1.0  2460358.5  0.0  1.0  0.0  0.0  0.0  0.0  0.0  ...   \\n2024-02-19  19.0  0.0  2460359.5  0.0  1.0  0.0  0.0  0.0  0.0  0.0  ...   \\n2024-02-20  20.0  0.0  2460360.5  0.0  1.0  0.0  0.0  0.0  0.0  0.0  ...   \\n2024-02-21  21.0  0.0  2460361.5  0.0  1.0  0.0  0.0  0.0  0.0  0.0  ...   \\n2024-02-22  22.0  0.0  2460362.5  0.0  1.0  0.0  0.0  0.0  0.0  0.0  ...   \\n2024-02-23  23.0  0.0  2460363.5  0.0  1.0  0.0  0.0  0.0  0.0  0.0  ...   \\n2024-02-24  24.0  1.0  2460364.5  0.0  1.0  0.0  0.0  0.0  0.0  0.0  ...   \\n2024-02-25  25.0  1.0  2460365.5  0.0  1.0  0.0  0.0  0.0  0.0  0.0  ...   \\n2024-02-26  26.0  0.0  2460366.5  0.0  1.0  0.0  0.0  0.0  0.0  0.0  ...   \\n\\n            dp265  dp266  dp267  dp268  dp269  dp270  dp271  dp272  dp273  \\\\\\n2024-01-28    0.0    0.0    0.0    0.0    0.0    0.0    0.0    0.0    0.0   \\n2024-01-29    0.0    0.0    0.0    0.0    0.0    0.0    0.0    0.0    0.0   \\n2024-01-30    0.0    0.0    0.0    0.0    0.0    0.0    0.0    0.0    0.0   \\n2024-01-31    0.0    0.0    0.0    0.0    0.0    0.0    0.0    0.0    0.0   \\n2024-02-01    1.0    0.0    0.0    0.0    0.0    0.0    0.0    0.0    0.0   \\n2024-02-02    0.0    0.0    0.0    0.0    1.0    0.0    0.0    0.0    0.0   \\n2024-02-03    0.0    0.0    0.0    0.0    0.0    0.0    0.0    1.0    0.0   \\n2024-02-04    0.0    0.0    0.0    0.0    0.0    0.0    0.0    0.0    0.0   \\n2024-02-05    0.0    0.0    0.0    0.0    0.0    0.0    0.0    0.0    0.0   \\n2024-02-06    0.0    0.0    0.0    0.0    0.0    0.0    0.0    0.0    0.0   \\n2024-02-07    0.0    0.0    0.0    0.0    0.0    0.0    0.0    0.0    0.0   \\n2024-02-08    1.0    0.0    0.0    0.0    0.0    0.0    0.0    0.0    0.0   \\n2024-02-09    0.0    0.0    0.0    0.0    1.0    0.0    0.0    0.0    0.0   \\n2024-02-10    0.0    0.0    0.0    0.0    0.0    0.0    0.0    1.0    0.0   \\n2024-02-11    0.0    0.0    0.0    0.0    0.0    0.0    0.0    0.0    0.0   \\n2024-02-12    0.0    0.0    0.0    0.0    0.0    0.0    0.0    0.0    0.0   \\n2024-02-13    0.0    0.0    0.0    0.0    0.0    0.0    0.0    0.0    0.0   \\n2024-02-14    0.0    0.0    0.0    0.0    0.0    0.0    0.0    0.0    0.0   \\n2024-02-15    1.0    0.0    0.0    0.0    0.0    0.0    0.0    0.0    0.0   \\n2024-02-16    0.0    0.0    0.0    0.0    1.0    0.0    0.0    0.0    0.0   \\n2024-02-17    0.0    0.0    0.0    0.0    0.0    0.0    0.0    1.0    0.0   \\n2024-02-18    0.0    0.0    0.0    0.0    0.0    0.0    0.0    0.0    0.0   \\n2024-02-19    0.0    0.0    0.0    0.0    0.0    0.0    0.0    0.0    0.0   \\n2024-02-20    0.0    0.0    0.0    0.0    0.0    0.0    0.0    0.0    0.0   \\n2024-02-21    0.0    0.0    0.0    0.0    0.0    0.0    0.0    0.0    0.0   \\n2024-02-22    1.0    0.0    0.0    0.0    0.0    0.0    0.0    0.0    0.0   \\n2024-02-23    0.0    0.0    0.0    0.0    1.0    0.0    0.0    0.0    0.0   \\n2024-02-24    0.0    0.0    0.0    0.0    0.0    0.0    0.0    1.0    0.0   \\n2024-02-25    0.0    0.0    0.0    0.0    0.0    0.0    0.0    0.0    0.0   \\n2024-02-26    0.0    0.0    0.0    0.0    0.0    0.0    0.0    0.0    0.0   \\n\\n            dp274  \\n2024-01-28    1.0  \\n2024-01-29    0.0  \\n2024-01-30    0.0  \\n2024-01-31    0.0  \\n2024-02-01    0.0  \\n2024-02-02    0.0  \\n2024-02-03    0.0  \\n2024-02-04    1.0  \\n2024-02-05    0.0  \\n2024-02-06    0.0  \\n2024-02-07    0.0  \\n2024-02-08    0.0  \\n2024-02-09    0.0  \\n2024-02-10    0.0  \\n2024-02-11    1.0  \\n2024-02-12    0.0  \\n2024-02-13    0.0  \\n2024-02-14    0.0  \\n2024-02-15    0.0  \\n2024-02-16    0.0  \\n2024-02-17    0.0  \\n2024-02-18    1.0  \\n2024-02-19    0.0  \\n2024-02-20    0.0  \\n2024-02-21    0.0  \\n2024-02-22    0.0  \\n2024-02-23    0.0  \\n2024-02-24    0.0  \\n2024-02-25    1.0  \\n2024-02-26    0.0  \\n\\n[30 rows x 275 columns]\") in model 1878 in generation 19: ARDL\n",
            "Model Number: 1879 with model ARDL in generation 19 of 20\n",
            "Model Number: 1880 with model FBProphet in generation 19 of 20\n",
            "Template Eval Error: ValueError(\"regression_type='User' but no future_regressor passed\") in model 1880 in generation 19: FBProphet\n",
            "Model Number: 1881 with model SeasonalNaive in generation 19 of 20\n",
            "Model Number: 1882 with model MetricMotif in generation 19 of 20\n",
            "Model Number: 1883 with model GLS in generation 19 of 20\n",
            "Model Number: 1884 with model NVAR in generation 19 of 20\n",
            "Model Number: 1885 with model UnobservedComponents in generation 19 of 20\n",
            "Model Number: 1886 with model MetricMotif in generation 19 of 20\n",
            "Model Number: 1887 with model FBProphet in generation 19 of 20\n",
            "Model Number: 1888 with model GLS in generation 19 of 20\n",
            "Model Number: 1889 with model UnobservedComponents in generation 19 of 20\n",
            "Model Number: 1890 with model SectionalMotif in generation 19 of 20\n",
            "Model Number: 1891 with model SeasonalityMotif in generation 19 of 20\n",
            "Model Number: 1892 with model SectionalMotif in generation 19 of 20\n",
            "Model Number: 1893 with model MetricMotif in generation 19 of 20\n",
            "Model Number: 1894 with model SectionalMotif in generation 19 of 20\n",
            "Model Number: 1895 with model ARDL in generation 19 of 20\n"
          ]
        },
        {
          "output_type": "stream",
          "name": "stderr",
          "text": [
            "/usr/local/lib/python3.10/dist-packages/sklearn/decomposition/_fastica.py:708: FutureWarning:\n",
            "\n",
            "Starting in v1.3, whiten=True should be specified as whiten='arbitrary-variance' (its current behaviour). This behavior is deprecated in 1.1 and will raise ValueError in 1.3.\n",
            "\n",
            "/usr/local/lib/python3.10/dist-packages/sklearn/linear_model/_ridge.py:216: LinAlgWarning:\n",
            "\n",
            "Ill-conditioned matrix (rcond=1.44546e-25): result may not be accurate.\n",
            "\n"
          ]
        },
        {
          "output_type": "stream",
          "name": "stdout",
          "text": [
            "Model Number: 1896 with model ARDL in generation 19 of 20\n",
            "Model Number: 1897 with model FBProphet in generation 19 of 20\n",
            "Model Number: 1898 with model SeasonalityMotif in generation 19 of 20\n",
            "Model Number: 1899 with model SeasonalityMotif in generation 19 of 20\n",
            "Template Eval Error: Exception(\"Transformer RegressionFilter failed on fit from params rolling_mean {'0': {'method': 'remove', 'std_threshold': 3.5, 'fillna': 'rolling_mean_24'}, '1': {'threshold': 0.9, 'splash_threshold': None, 'use_dayofmonth_holidays': True, 'use_wkdom_holidays': True, 'use_wkdeom_holidays': False, 'use_lunar_holidays': True, 'use_lunar_weekday': False, 'use_islamic_holidays': False, 'use_hebrew_holidays': False, 'anomaly_detector_params': {'method': 'IQR', 'method_params': {'iqr_threshold': 2.0, 'iqr_quantiles': [0.25, 0.75]}, 'fillna': 'ffill', 'transform_dict': None, 'isolated_only': False}, 'remove_excess_anomalies': True, 'impact': None, 'regression_params': {}}, '2': {'sigma': 2, 'rolling_window': 90, 'run_order': 'season_first', 'regression_params': {'regression_model': {'model': 'ElasticNet', 'model_params': {}}, 'datepart_method': 'simple', 'polynomial_degree': None, 'transform_dict': {'fillna': None, 'transformations': {'0': 'AnomalyRemoval'}, 'transformation_params': {'0': {'method': 'zscore', 'transform_dict': {'transformations': {'0': 'DatepartRegression'}, 'transformation_params': {'0': {'datepart_method': 'simple_3', 'regression_model': {'model': 'ElasticNet', 'model_params': {}}}}}, 'method_params': {'distribution': 'uniform', 'alpha': 0.05}}}}, 'holiday_countries_used': False}, 'holiday_params': None}, '3': {}}\") in model 1899 in generation 19: SeasonalityMotif\n",
            "Model Number: 1900 with model UnobservedComponents in generation 19 of 20\n",
            "Template Eval Error: Exception(\"Transformer AlignLastValue failed on inverse from params zero {'0': {}, '1': {'rows': 1, 'lag': 1, 'method': 'additive', 'strength': 1.0, 'first_value_only': True}, '2': {'lag_1': 2, 'method': 'LastValue'}}\") in model 1900 in generation 19: UnobservedComponents\n",
            "Model Number: 1901 with model SectionalMotif in generation 19 of 20\n",
            "Model Number: 1902 with model GLS in generation 19 of 20\n",
            "Model Number: 1903 with model FBProphet in generation 19 of 20\n",
            "No anomalies detected.\n"
          ]
        },
        {
          "output_type": "stream",
          "name": "stderr",
          "text": [
            "/usr/local/lib/python3.10/dist-packages/sklearn/linear_model/_ridge.py:216: LinAlgWarning:\n",
            "\n",
            "Ill-conditioned matrix (rcond=1.44546e-25): result may not be accurate.\n",
            "\n"
          ]
        },
        {
          "output_type": "stream",
          "name": "stdout",
          "text": [
            "Model Number: 1904 with model SectionalMotif in generation 19 of 20\n",
            "Model Number: 1905 with model MultivariateRegression in generation 19 of 20\n",
            "Model Number: 1906 with model FBProphet in generation 19 of 20\n",
            "Model Number: 1907 with model UnivariateMotif in generation 19 of 20\n",
            "Model Number: 1908 with model ConstantNaive in generation 19 of 20\n",
            "Model Number: 1909 with model SeasonalityMotif in generation 19 of 20\n",
            "Model Number: 1910 with model UnobservedComponents in generation 19 of 20\n",
            "Model Number: 1911 with model MultivariateRegression in generation 19 of 20\n",
            "Template Eval Error: LightGBMError('[tweedie]: at least one target label is negative') in model 1911 in generation 19: MultivariateRegression\n",
            "Model Number: 1912 with model MetricMotif in generation 19 of 20\n",
            "Model Number: 1913 with model ConstantNaive in generation 19 of 20\n",
            "Model Number: 1914 with model ConstantNaive in generation 19 of 20\n"
          ]
        },
        {
          "output_type": "stream",
          "name": "stderr",
          "text": [
            "/usr/local/lib/python3.10/dist-packages/sklearn/linear_model/_ridge.py:216: LinAlgWarning:\n",
            "\n",
            "Ill-conditioned matrix (rcond=1.44546e-25): result may not be accurate.\n",
            "\n"
          ]
        },
        {
          "output_type": "stream",
          "name": "stdout",
          "text": [
            "Model Number: 1915 with model ConstantNaive in generation 19 of 20\n",
            "Model Number: 1916 with model LastValueNaive in generation 19 of 20\n",
            "Model Number: 1917 with model Theta in generation 19 of 20\n",
            "Model Number: 1918 with model SectionalMotif in generation 19 of 20\n",
            "Model Number: 1919 with model GLS in generation 19 of 20\n",
            "Model Number: 1920 with model AverageValueNaive in generation 19 of 20\n",
            "Model Number: 1921 with model ARDL in generation 19 of 20\n",
            "Model Number: 1922 with model FBProphet in generation 19 of 20\n",
            "Model Number: 1923 with model ETS in generation 19 of 20\n",
            "Model Number: 1924 with model FBProphet in generation 19 of 20\n",
            "Model Number: 1925 with model UnobservedComponents in generation 19 of 20\n",
            "Template Eval Error: LinAlgError('Singular matrix') in model 1925 in generation 19: UnobservedComponents\n",
            "Model Number: 1926 with model Theta in generation 19 of 20\n",
            "Model Number: 1927 with model UnobservedComponents in generation 19 of 20\n",
            "Model Number: 1928 with model MultivariateRegression in generation 19 of 20\n",
            "Model Number: 1929 with model SeasonalNaive in generation 19 of 20\n",
            "Model Number: 1930 with model SeasonalityMotif in generation 19 of 20\n",
            "Model Number: 1931 with model SeasonalityMotif in generation 19 of 20\n",
            "New Generation: 20 of 20\n",
            "Model Number: 1932 with model AverageValueNaive in generation 20 of 20\n",
            "Model Number: 1933 with model MetricMotif in generation 20 of 20\n",
            "Model Number: 1934 with model AverageValueNaive in generation 20 of 20\n",
            "Model Number: 1935 with model SeasonalityMotif in generation 20 of 20\n",
            "Model Number: 1936 with model GLS in generation 20 of 20\n",
            "Template Eval Error: Exception(\"Transformer DatepartRegression failed on fit from params rolling_mean {'0': {'rolling_window': 0.1, 'n_tails': 0.1, 'n_future': 360, 'method': 'median', 'macro_micro': False}, '1': {'fixed': False, 'window': 26}, '2': {}, '3': {}, '4': {'regression_model': {'model': 'ExtraTrees', 'model_params': {'n_estimators': 100, 'min_samples_leaf': 1, 'min_samples_split': 2, 'max_depth': None, 'criterion': 'poisson', 'max_features': 0.3}}, 'datepart_method': 'common_fourier', 'polynomial_degree': None, 'transform_dict': None, 'holiday_countries_used': False}}\") in model 1936 in generation 20: GLS\n",
            "Model Number: 1937 with model SeasonalNaive in generation 20 of 20\n"
          ]
        },
        {
          "output_type": "stream",
          "name": "stderr",
          "text": [
            "/usr/local/lib/python3.10/dist-packages/sklearn/decomposition/_fastica.py:708: FutureWarning:\n",
            "\n",
            "Starting in v1.3, whiten=True should be specified as whiten='arbitrary-variance' (its current behaviour). This behavior is deprecated in 1.1 and will raise ValueError in 1.3.\n",
            "\n"
          ]
        },
        {
          "output_type": "stream",
          "name": "stdout",
          "text": [
            "Model Number: 1938 with model SeasonalityMotif in generation 20 of 20\n",
            "Model Number: 1939 with model FBProphet in generation 20 of 20\n"
          ]
        },
        {
          "output_type": "stream",
          "name": "stderr",
          "text": [
            "/usr/local/lib/python3.10/dist-packages/sklearn/linear_model/_ridge.py:216: LinAlgWarning:\n",
            "\n",
            "Ill-conditioned matrix (rcond=1.44546e-25): result may not be accurate.\n",
            "\n"
          ]
        },
        {
          "output_type": "stream",
          "name": "stdout",
          "text": [
            "Model Number: 1940 with model MetricMotif in generation 20 of 20\n",
            "Model Number: 1941 with model FBProphet in generation 20 of 20\n",
            "Model Number: 1942 with model Theta in generation 20 of 20\n",
            "Model Number: 1943 with model UnobservedComponents in generation 20 of 20\n",
            "Template Eval Error: ValueError(\"regression_type='User' but no future_regressor supplied\") in model 1943 in generation 20: UnobservedComponents\n",
            "Model Number: 1944 with model SectionalMotif in generation 20 of 20\n",
            "Model Number: 1945 with model SeasonalityMotif in generation 20 of 20\n",
            "Model Number: 1946 with model UnobservedComponents in generation 20 of 20\n"
          ]
        },
        {
          "output_type": "stream",
          "name": "stderr",
          "text": [
            "/usr/local/lib/python3.10/dist-packages/sklearn/linear_model/_ridge.py:216: LinAlgWarning:\n",
            "\n",
            "Ill-conditioned matrix (rcond=1.44546e-25): result may not be accurate.\n",
            "\n"
          ]
        },
        {
          "output_type": "stream",
          "name": "stdout",
          "text": [
            "Model Number: 1947 with model SectionalMotif in generation 20 of 20\n",
            "Model Number: 1948 with model MetricMotif in generation 20 of 20\n",
            "Model Number: 1949 with model UnobservedComponents in generation 20 of 20\n",
            "Model Number: 1950 with model UnobservedComponents in generation 20 of 20\n",
            "Model Number: 1951 with model SeasonalityMotif in generation 20 of 20\n",
            "Model Number: 1952 with model GLS in generation 20 of 20\n",
            "Model Number: 1953 with model GLS in generation 20 of 20\n",
            "Model Number: 1954 with model GLS in generation 20 of 20\n",
            "Model Number: 1955 with model SeasonalNaive in generation 20 of 20\n",
            "Model Number: 1956 with model GLS in generation 20 of 20\n",
            "Model Number: 1957 with model SectionalMotif in generation 20 of 20\n",
            "Template Eval Error: Exception(\"Transformer AlignLastValue failed on inverse from params fake_date {'0': {'whiten': False}, '1': {'lag_1': 28, 'method': 'LastValue'}, '2': {'rows': 1, 'lag': 1, 'method': 'additive', 'strength': 1.0, 'first_value_only': True}, '3': {}}\") in model 1957 in generation 20: SectionalMotif\n",
            "Model Number: 1958 with model SeasonalityMotif in generation 20 of 20\n",
            "Model Number: 1959 with model GLS in generation 20 of 20\n",
            "Model Number: 1960 with model SeasonalNaive in generation 20 of 20\n",
            "Model Number: 1961 with model SectionalMotif in generation 20 of 20\n",
            "Model Number: 1962 with model MetricMotif in generation 20 of 20\n",
            "Model Number: 1963 with model FBProphet in generation 20 of 20\n",
            "Model Number: 1964 with model GLS in generation 20 of 20\n",
            "Model Number: 1965 with model MetricMotif in generation 20 of 20\n",
            "Model Number: 1966 with model MetricMotif in generation 20 of 20\n"
          ]
        },
        {
          "output_type": "stream",
          "name": "stderr",
          "text": [
            "/usr/local/lib/python3.10/dist-packages/sklearn/linear_model/_ridge.py:216: LinAlgWarning:\n",
            "\n",
            "Ill-conditioned matrix (rcond=1.44546e-25): result may not be accurate.\n",
            "\n"
          ]
        },
        {
          "output_type": "stream",
          "name": "stdout",
          "text": [
            "Model Number: 1967 with model UnobservedComponents in generation 20 of 20\n",
            "Model Number: 1968 with model SeasonalNaive in generation 20 of 20\n",
            "Model Number: 1969 with model UnobservedComponents in generation 20 of 20\n",
            "Template Eval Error: Exception(\"Transformer ReplaceConstant failed on fit from params zero {'0': {'constant': 0, 'reintroduction_model': {'model': 'xgboost', 'model_params': {'booster': 'gbtree', 'max_depth': 2, 'eta': 0.3, 'min_child_weight': 1, 'subsample': 1, 'colsample_bylevel': 1, 'reg_alpha': 0, 'reg_lambda': 1, 'grow_policy': 'lossguide'}, 'datepart_method': 'common_fourier_rw'}, 'fillna': None}, '1': {'rows': 1, 'lag': 1, 'method': 'additive', 'strength': 1.0, 'first_value_only': False}, '2': {'method': 'hilbert', 'method_args': None}, '3': {'window': None}, '4': {'method': 'rolling_zscore', 'method_params': {'distribution': 'chi2', 'alpha': 0.03, 'rolling_periods': 300, 'center': True}, 'fillna': 'rolling_mean_24', 'transform_dict': None, 'isolated_only': False}}\") in model 1969 in generation 20: UnobservedComponents\n",
            "Model Number: 1970 with model SeasonalityMotif in generation 20 of 20\n",
            "Model Number: 1971 with model UnobservedComponents in generation 20 of 20\n",
            "Model Number: 1972 with model FBProphet in generation 20 of 20\n"
          ]
        },
        {
          "output_type": "stream",
          "name": "stderr",
          "text": [
            "15:16:05 - cmdstanpy - ERROR - Chain [1] error: error during processing Operation not permitted\n",
            "ERROR:cmdstanpy:Chain [1] error: error during processing Operation not permitted\n",
            "WARNING:prophet.models:Optimization terminated abnormally. Falling back to Newton.\n"
          ]
        },
        {
          "output_type": "stream",
          "name": "stdout",
          "text": [
            "Model Number: 1973 with model AverageValueNaive in generation 20 of 20\n",
            "Model Number: 1974 with model FBProphet in generation 20 of 20\n",
            "Template Eval Error: ValueError(\"regression_type='User' but no future_regressor passed\") in model 1974 in generation 20: FBProphet\n",
            "Model Number: 1975 with model SectionalMotif in generation 20 of 20\n",
            "Model Number: 1976 with model GLS in generation 20 of 20\n",
            "Model Number: 1977 with model SeasonalityMotif in generation 20 of 20\n",
            "Model Number: 1978 with model SeasonalNaive in generation 20 of 20\n",
            "Model Number: 1979 with model MetricMotif in generation 20 of 20\n",
            "Model Number: 1980 with model SeasonalNaive in generation 20 of 20\n"
          ]
        },
        {
          "output_type": "stream",
          "name": "stderr",
          "text": [
            "/usr/local/lib/python3.10/dist-packages/sklearn/linear_model/_ridge.py:216: LinAlgWarning:\n",
            "\n",
            "Ill-conditioned matrix (rcond=1.44546e-25): result may not be accurate.\n",
            "\n"
          ]
        },
        {
          "output_type": "stream",
          "name": "stdout",
          "text": [
            "Model Number: 1981 with model UnobservedComponents in generation 20 of 20\n",
            "Model Number: 1982 with model Ensemble in generation 21 of Ensembles\n"
          ]
        },
        {
          "output_type": "stream",
          "name": "stderr",
          "text": [
            "/usr/local/lib/python3.10/dist-packages/sklearn/linear_model/_ridge.py:216: LinAlgWarning:\n",
            "\n",
            "Ill-conditioned matrix (rcond=1.44546e-25): result may not be accurate.\n",
            "\n"
          ]
        },
        {
          "output_type": "stream",
          "name": "stdout",
          "text": [
            "No anomalies detected.\n",
            "Model Number: 1983 with model Ensemble in generation 21 of Ensembles\n"
          ]
        },
        {
          "output_type": "stream",
          "name": "stderr",
          "text": [
            "/usr/local/lib/python3.10/dist-packages/sklearn/linear_model/_ridge.py:216: LinAlgWarning:\n",
            "\n",
            "Ill-conditioned matrix (rcond=1.44546e-25): result may not be accurate.\n",
            "\n"
          ]
        },
        {
          "output_type": "stream",
          "name": "stdout",
          "text": [
            "No anomalies detected.\n"
          ]
        },
        {
          "output_type": "stream",
          "name": "stderr",
          "text": [
            "/usr/local/lib/python3.10/dist-packages/sklearn/linear_model/_ridge.py:216: LinAlgWarning:\n",
            "\n",
            "Ill-conditioned matrix (rcond=1.44546e-25): result may not be accurate.\n",
            "\n",
            "/usr/local/lib/python3.10/dist-packages/sklearn/linear_model/_ridge.py:216: LinAlgWarning:\n",
            "\n",
            "Ill-conditioned matrix (rcond=1.44546e-25): result may not be accurate.\n",
            "\n"
          ]
        },
        {
          "output_type": "stream",
          "name": "stdout",
          "text": [
            "No anomalies detected.\n",
            "Model Number: 1984 with model Ensemble in generation 21 of Ensembles\n"
          ]
        },
        {
          "output_type": "stream",
          "name": "stderr",
          "text": [
            "/usr/local/lib/python3.10/dist-packages/sklearn/linear_model/_ridge.py:216: LinAlgWarning:\n",
            "\n",
            "Ill-conditioned matrix (rcond=1.44546e-25): result may not be accurate.\n",
            "\n"
          ]
        },
        {
          "output_type": "stream",
          "name": "stdout",
          "text": [
            "No anomalies detected.\n",
            "Model Number: 1985 with model Ensemble in generation 21 of Ensembles\n"
          ]
        },
        {
          "output_type": "stream",
          "name": "stderr",
          "text": [
            "/usr/local/lib/python3.10/dist-packages/sklearn/linear_model/_ridge.py:216: LinAlgWarning:\n",
            "\n",
            "Ill-conditioned matrix (rcond=1.44546e-25): result may not be accurate.\n",
            "\n"
          ]
        },
        {
          "output_type": "stream",
          "name": "stdout",
          "text": [
            "No anomalies detected.\n"
          ]
        },
        {
          "output_type": "stream",
          "name": "stderr",
          "text": [
            "/usr/local/lib/python3.10/dist-packages/sklearn/linear_model/_ridge.py:216: LinAlgWarning:\n",
            "\n",
            "Ill-conditioned matrix (rcond=1.44546e-25): result may not be accurate.\n",
            "\n"
          ]
        },
        {
          "output_type": "stream",
          "name": "stdout",
          "text": [
            "No anomalies detected.\n",
            "Model Number: 1986 with model Ensemble in generation 21 of Ensembles\n"
          ]
        },
        {
          "output_type": "stream",
          "name": "stderr",
          "text": [
            "/usr/local/lib/python3.10/dist-packages/sklearn/linear_model/_ridge.py:216: LinAlgWarning:\n",
            "\n",
            "Ill-conditioned matrix (rcond=1.44546e-25): result may not be accurate.\n",
            "\n"
          ]
        },
        {
          "output_type": "stream",
          "name": "stdout",
          "text": [
            "Model Number: 1987 with model Ensemble in generation 21 of Ensembles\n"
          ]
        },
        {
          "output_type": "stream",
          "name": "stderr",
          "text": [
            "/usr/local/lib/python3.10/dist-packages/sklearn/linear_model/_ridge.py:216: LinAlgWarning:\n",
            "\n",
            "Ill-conditioned matrix (rcond=1.44546e-25): result may not be accurate.\n",
            "\n"
          ]
        },
        {
          "output_type": "stream",
          "name": "stdout",
          "text": [
            "Model Number: 1988 with model Ensemble in generation 21 of Ensembles\n"
          ]
        },
        {
          "output_type": "stream",
          "name": "stderr",
          "text": [
            "/usr/local/lib/python3.10/dist-packages/sklearn/linear_model/_ridge.py:216: LinAlgWarning:\n",
            "\n",
            "Ill-conditioned matrix (rcond=1.44546e-25): result may not be accurate.\n",
            "\n"
          ]
        },
        {
          "output_type": "stream",
          "name": "stdout",
          "text": [
            "Model Number: 1989 with model Ensemble in generation 21 of Ensembles\n"
          ]
        },
        {
          "output_type": "stream",
          "name": "stderr",
          "text": [
            "/usr/local/lib/python3.10/dist-packages/sklearn/linear_model/_ridge.py:216: LinAlgWarning:\n",
            "\n",
            "Ill-conditioned matrix (rcond=1.44546e-25): result may not be accurate.\n",
            "\n"
          ]
        },
        {
          "output_type": "stream",
          "name": "stdout",
          "text": [
            "Validation Round: 1\n",
            "Model Number: 1 of 292 with model Ensemble for Validation 1\n"
          ]
        },
        {
          "output_type": "stream",
          "name": "stderr",
          "text": [
            "/usr/local/lib/python3.10/dist-packages/sklearn/linear_model/_ridge.py:216: LinAlgWarning:\n",
            "\n",
            "Ill-conditioned matrix (rcond=1.50678e-25): result may not be accurate.\n",
            "\n"
          ]
        },
        {
          "output_type": "stream",
          "name": "stdout",
          "text": [
            "📈 1 - Ensemble with avg smape 26.65: \n",
            "Model Number: 2 of 292 with model Ensemble for Validation 1\n"
          ]
        },
        {
          "output_type": "stream",
          "name": "stderr",
          "text": [
            "/usr/local/lib/python3.10/dist-packages/sklearn/linear_model/_ridge.py:216: LinAlgWarning:\n",
            "\n",
            "Ill-conditioned matrix (rcond=1.50678e-25): result may not be accurate.\n",
            "\n"
          ]
        },
        {
          "output_type": "stream",
          "name": "stdout",
          "text": [
            "2 - Ensemble with avg smape 27.11: \n",
            "Model Number: 3 of 292 with model Ensemble for Validation 1\n"
          ]
        },
        {
          "output_type": "stream",
          "name": "stderr",
          "text": [
            "/usr/local/lib/python3.10/dist-packages/sklearn/linear_model/_ridge.py:216: LinAlgWarning:\n",
            "\n",
            "Ill-conditioned matrix (rcond=1.50678e-25): result may not be accurate.\n",
            "\n"
          ]
        },
        {
          "output_type": "stream",
          "name": "stdout",
          "text": [
            "3 - Ensemble with avg smape 27.11: \n",
            "Model Number: 4 of 292 with model Ensemble for Validation 1\n"
          ]
        },
        {
          "output_type": "stream",
          "name": "stderr",
          "text": [
            "/usr/local/lib/python3.10/dist-packages/sklearn/linear_model/_ridge.py:216: LinAlgWarning:\n",
            "\n",
            "Ill-conditioned matrix (rcond=1.50678e-25): result may not be accurate.\n",
            "\n"
          ]
        },
        {
          "output_type": "stream",
          "name": "stdout",
          "text": [
            "4 - Ensemble with avg smape 33.41: \n",
            "Model Number: 5 of 292 with model Ensemble for Validation 1\n"
          ]
        },
        {
          "output_type": "stream",
          "name": "stderr",
          "text": [
            "/usr/local/lib/python3.10/dist-packages/sklearn/linear_model/_ridge.py:216: LinAlgWarning:\n",
            "\n",
            "Ill-conditioned matrix (rcond=1.50678e-25): result may not be accurate.\n",
            "\n",
            "/usr/local/lib/python3.10/dist-packages/sklearn/linear_model/_ridge.py:216: LinAlgWarning:\n",
            "\n",
            "Ill-conditioned matrix (rcond=1.50678e-25): result may not be accurate.\n",
            "\n",
            "/usr/local/lib/python3.10/dist-packages/sklearn/linear_model/_ridge.py:216: LinAlgWarning:\n",
            "\n",
            "Ill-conditioned matrix (rcond=1.50678e-25): result may not be accurate.\n",
            "\n"
          ]
        },
        {
          "output_type": "stream",
          "name": "stdout",
          "text": [
            "📈 5 - Ensemble with avg smape 6.32: \n",
            "Model Number: 6 of 292 with model FBProphet for Validation 1\n",
            "6 - FBProphet with avg smape 6.35: \n",
            "Model Number: 7 of 292 with model Ensemble for Validation 1\n"
          ]
        },
        {
          "output_type": "stream",
          "name": "stderr",
          "text": [
            "/usr/local/lib/python3.10/dist-packages/sklearn/linear_model/_ridge.py:216: LinAlgWarning:\n",
            "\n",
            "Ill-conditioned matrix (rcond=1.50678e-25): result may not be accurate.\n",
            "\n"
          ]
        },
        {
          "output_type": "stream",
          "name": "stdout",
          "text": [
            "📈 7 - Ensemble with avg smape 6.15: \n",
            "Model Number: 8 of 292 with model FBProphet for Validation 1\n",
            "📈 8 - FBProphet with avg smape 6.07: \n",
            "Model Number: 9 of 292 with model FBProphet for Validation 1\n"
          ]
        },
        {
          "output_type": "stream",
          "name": "stderr",
          "text": [
            "/usr/local/lib/python3.10/dist-packages/sklearn/linear_model/_ridge.py:216: LinAlgWarning:\n",
            "\n",
            "Ill-conditioned matrix (rcond=1.50678e-25): result may not be accurate.\n",
            "\n"
          ]
        },
        {
          "output_type": "stream",
          "name": "stdout",
          "text": [
            "9 - FBProphet with avg smape 6.07: \n",
            "Model Number: 10 of 292 with model MetricMotif for Validation 1\n",
            "10 - MetricMotif with avg smape 53.72: \n",
            "Model Number: 11 of 292 with model FBProphet for Validation 1\n"
          ]
        },
        {
          "output_type": "stream",
          "name": "stderr",
          "text": [
            "/usr/local/lib/python3.10/dist-packages/sklearn/linear_model/_ridge.py:216: LinAlgWarning:\n",
            "\n",
            "Ill-conditioned matrix (rcond=1.50678e-25): result may not be accurate.\n",
            "\n",
            "/usr/local/lib/python3.10/dist-packages/sklearn/linear_model/_ridge.py:216: LinAlgWarning:\n",
            "\n",
            "Ill-conditioned matrix (rcond=1.50678e-25): result may not be accurate.\n",
            "\n"
          ]
        },
        {
          "output_type": "stream",
          "name": "stdout",
          "text": [
            "11 - FBProphet with avg smape 10.29: \n",
            "Model Number: 12 of 292 with model FBProphet for Validation 1\n",
            "12 - FBProphet with avg smape 7.71: \n",
            "Model Number: 13 of 292 with model FBProphet for Validation 1\n"
          ]
        },
        {
          "output_type": "stream",
          "name": "stderr",
          "text": [
            "/usr/local/lib/python3.10/dist-packages/sklearn/linear_model/_ridge.py:216: LinAlgWarning:\n",
            "\n",
            "Ill-conditioned matrix (rcond=1.50678e-25): result may not be accurate.\n",
            "\n"
          ]
        },
        {
          "output_type": "stream",
          "name": "stdout",
          "text": [
            "📈 13 - FBProphet with avg smape 4.58: \n",
            "Model Number: 14 of 292 with model FBProphet for Validation 1\n"
          ]
        },
        {
          "output_type": "stream",
          "name": "stderr",
          "text": [
            "/usr/local/lib/python3.10/dist-packages/sklearn/linear_model/_ridge.py:216: LinAlgWarning:\n",
            "\n",
            "Ill-conditioned matrix (rcond=1.50678e-25): result may not be accurate.\n",
            "\n"
          ]
        },
        {
          "output_type": "stream",
          "name": "stdout",
          "text": [
            "14 - FBProphet with avg smape 6.39: \n",
            "Model Number: 15 of 292 with model FBProphet for Validation 1\n",
            "No anomalies detected.\n"
          ]
        },
        {
          "output_type": "stream",
          "name": "stderr",
          "text": [
            "/usr/local/lib/python3.10/dist-packages/sklearn/linear_model/_ridge.py:216: LinAlgWarning:\n",
            "\n",
            "Ill-conditioned matrix (rcond=1.50678e-25): result may not be accurate.\n",
            "\n"
          ]
        },
        {
          "output_type": "stream",
          "name": "stdout",
          "text": [
            "15 - FBProphet with avg smape 10.25: \n",
            "Model Number: 16 of 292 with model FBProphet for Validation 1\n"
          ]
        },
        {
          "output_type": "stream",
          "name": "stderr",
          "text": [
            "/usr/local/lib/python3.10/dist-packages/sklearn/linear_model/_ridge.py:216: LinAlgWarning:\n",
            "\n",
            "Ill-conditioned matrix (rcond=1.50678e-25): result may not be accurate.\n",
            "\n"
          ]
        },
        {
          "output_type": "stream",
          "name": "stdout",
          "text": [
            "16 - FBProphet with avg smape 6.23: \n",
            "Model Number: 17 of 292 with model FBProphet for Validation 1\n"
          ]
        },
        {
          "output_type": "stream",
          "name": "stderr",
          "text": [
            "/usr/local/lib/python3.10/dist-packages/sklearn/linear_model/_ridge.py:216: LinAlgWarning:\n",
            "\n",
            "Ill-conditioned matrix (rcond=1.50678e-25): result may not be accurate.\n",
            "\n"
          ]
        },
        {
          "output_type": "stream",
          "name": "stdout",
          "text": [
            "17 - FBProphet with avg smape 6.96: \n",
            "Model Number: 18 of 292 with model FBProphet for Validation 1\n",
            "18 - FBProphet with avg smape 9.56: \n",
            "Model Number: 19 of 292 with model SeasonalityMotif for Validation 1\n",
            "19 - SeasonalityMotif with avg smape 30.48: \n",
            "Model Number: 20 of 292 with model GLS for Validation 1\n",
            "20 - GLS with avg smape 32.07: \n",
            "Model Number: 21 of 292 with model FBProphet for Validation 1\n",
            "No anomalies detected.\n"
          ]
        },
        {
          "output_type": "stream",
          "name": "stderr",
          "text": [
            "/usr/local/lib/python3.10/dist-packages/sklearn/linear_model/_ridge.py:216: LinAlgWarning:\n",
            "\n",
            "Ill-conditioned matrix (rcond=1.50678e-25): result may not be accurate.\n",
            "\n"
          ]
        },
        {
          "output_type": "stream",
          "name": "stdout",
          "text": [
            "21 - FBProphet with avg smape 9.14: \n",
            "Model Number: 22 of 292 with model FBProphet for Validation 1\n"
          ]
        },
        {
          "output_type": "stream",
          "name": "stderr",
          "text": [
            "/usr/local/lib/python3.10/dist-packages/sklearn/linear_model/_ridge.py:216: LinAlgWarning:\n",
            "\n",
            "Ill-conditioned matrix (rcond=1.50678e-25): result may not be accurate.\n",
            "\n"
          ]
        },
        {
          "output_type": "stream",
          "name": "stdout",
          "text": [
            "22 - FBProphet with avg smape 10.59: \n",
            "Model Number: 23 of 292 with model Ensemble for Validation 1\n"
          ]
        },
        {
          "output_type": "stream",
          "name": "stderr",
          "text": [
            "/usr/local/lib/python3.10/dist-packages/sklearn/linear_model/_ridge.py:216: LinAlgWarning:\n",
            "\n",
            "Ill-conditioned matrix (rcond=1.50678e-25): result may not be accurate.\n",
            "\n",
            "/usr/local/lib/python3.10/dist-packages/sklearn/linear_model/_ridge.py:216: LinAlgWarning:\n",
            "\n",
            "Ill-conditioned matrix (rcond=1.50678e-25): result may not be accurate.\n",
            "\n"
          ]
        },
        {
          "output_type": "stream",
          "name": "stdout",
          "text": [
            "23 - Ensemble with avg smape 5.8: \n",
            "Model Number: 24 of 292 with model MetricMotif for Validation 1\n",
            "24 - MetricMotif with avg smape 38.85: \n",
            "Model Number: 25 of 292 with model GLS for Validation 1\n"
          ]
        },
        {
          "output_type": "stream",
          "name": "stderr",
          "text": [
            "/usr/local/lib/python3.10/dist-packages/sklearn/linear_model/_ridge.py:216: LinAlgWarning:\n",
            "\n",
            "Ill-conditioned matrix (rcond=1.50678e-25): result may not be accurate.\n",
            "\n"
          ]
        },
        {
          "output_type": "stream",
          "name": "stdout",
          "text": [
            "25 - GLS with avg smape 33.91: \n",
            "Model Number: 26 of 292 with model GLS for Validation 1\n",
            "26 - GLS with avg smape 33.91: \n",
            "Model Number: 27 of 292 with model GLS for Validation 1\n",
            "27 - GLS with avg smape 31.53: \n",
            "Model Number: 28 of 292 with model MetricMotif for Validation 1\n",
            "28 - MetricMotif with avg smape 35.14: \n",
            "Model Number: 29 of 292 with model MetricMotif for Validation 1\n",
            "29 - MetricMotif with avg smape 43.89: \n",
            "Model Number: 30 of 292 with model GLS for Validation 1\n",
            "30 - GLS with avg smape 37.61: \n",
            "Model Number: 31 of 292 with model UnobservedComponents for Validation 1\n",
            "31 - UnobservedComponents with avg smape 36.91: \n",
            "Model Number: 32 of 292 with model GLS for Validation 1\n",
            "32 - GLS with avg smape 61.98: \n",
            "Model Number: 33 of 292 with model SeasonalityMotif for Validation 1\n",
            "33 - SeasonalityMotif with avg smape 29.47: \n",
            "Model Number: 34 of 292 with model MetricMotif for Validation 1\n",
            "34 - MetricMotif with avg smape 45.39: \n",
            "Model Number: 35 of 292 with model UnobservedComponents for Validation 1\n"
          ]
        },
        {
          "output_type": "stream",
          "name": "stderr",
          "text": [
            "/usr/local/lib/python3.10/dist-packages/sklearn/linear_model/_ridge.py:216: LinAlgWarning:\n",
            "\n",
            "Ill-conditioned matrix (rcond=1.50678e-25): result may not be accurate.\n",
            "\n"
          ]
        },
        {
          "output_type": "stream",
          "name": "stdout",
          "text": [
            "35 - UnobservedComponents with avg smape 88.61: \n",
            "Model Number: 36 of 292 with model SectionalMotif for Validation 1\n",
            "36 - SectionalMotif with avg smape 37.97: \n",
            "Model Number: 37 of 292 with model SeasonalityMotif for Validation 1\n",
            "37 - SeasonalityMotif with avg smape 27.71: \n",
            "Model Number: 38 of 292 with model SectionalMotif for Validation 1\n",
            "38 - SectionalMotif with avg smape 15.99: \n",
            "Model Number: 39 of 292 with model UnobservedComponents for Validation 1\n",
            "39 - UnobservedComponents with avg smape 99.95: \n",
            "Model Number: 40 of 292 with model UnobservedComponents for Validation 1\n",
            "40 - UnobservedComponents with avg smape 99.95: \n",
            "Model Number: 41 of 292 with model MetricMotif for Validation 1\n",
            "41 - MetricMotif with avg smape 42.55: \n",
            "Model Number: 42 of 292 with model GLS for Validation 1\n"
          ]
        },
        {
          "output_type": "stream",
          "name": "stderr",
          "text": [
            "/usr/local/lib/python3.10/dist-packages/sklearn/linear_model/_ridge.py:216: LinAlgWarning:\n",
            "\n",
            "Ill-conditioned matrix (rcond=1.50678e-25): result may not be accurate.\n",
            "\n"
          ]
        },
        {
          "output_type": "stream",
          "name": "stdout",
          "text": [
            "42 - GLS with avg smape 7.95: \n",
            "Model Number: 43 of 292 with model GLS for Validation 1\n",
            "43 - GLS with avg smape 37.38: \n",
            "Model Number: 44 of 292 with model SeasonalityMotif for Validation 1\n",
            "44 - SeasonalityMotif with avg smape 8.14: \n",
            "Model Number: 45 of 292 with model GLS for Validation 1\n",
            "45 - GLS with avg smape 6.99: \n",
            "Model Number: 46 of 292 with model SectionalMotif for Validation 1\n",
            "46 - SectionalMotif with avg smape 37.39: \n",
            "Model Number: 47 of 292 with model UnobservedComponents for Validation 1\n"
          ]
        },
        {
          "output_type": "stream",
          "name": "stderr",
          "text": [
            "/usr/local/lib/python3.10/dist-packages/sklearn/linear_model/_ridge.py:216: LinAlgWarning:\n",
            "\n",
            "Ill-conditioned matrix (rcond=1.50678e-25): result may not be accurate.\n",
            "\n"
          ]
        },
        {
          "output_type": "stream",
          "name": "stdout",
          "text": [
            "47 - UnobservedComponents with avg smape 34.39: \n",
            "Model Number: 48 of 292 with model SeasonalityMotif for Validation 1\n",
            "48 - SeasonalityMotif with avg smape 8.42: \n",
            "Model Number: 49 of 292 with model SectionalMotif for Validation 1\n",
            "49 - SectionalMotif with avg smape 37.52: \n",
            "Model Number: 50 of 292 with model GLS for Validation 1\n",
            "50 - GLS with avg smape 48.53: \n",
            "Model Number: 51 of 292 with model SectionalMotif for Validation 1\n",
            "51 - SectionalMotif with avg smape 37.52: \n",
            "Model Number: 52 of 292 with model SectionalMotif for Validation 1\n",
            "52 - SectionalMotif with avg smape 37.52: \n",
            "Model Number: 53 of 292 with model SectionalMotif for Validation 1\n",
            "53 - SectionalMotif with avg smape 37.52: \n",
            "Model Number: 54 of 292 with model SectionalMotif for Validation 1\n",
            "54 - SectionalMotif with avg smape 37.52: \n",
            "Model Number: 55 of 292 with model SectionalMotif for Validation 1\n",
            "55 - SectionalMotif with avg smape 37.52: \n",
            "Model Number: 56 of 292 with model SectionalMotif for Validation 1\n",
            "56 - SectionalMotif with avg smape 37.52: \n",
            "Model Number: 57 of 292 with model SectionalMotif for Validation 1\n",
            "57 - SectionalMotif with avg smape 37.52: \n",
            "Model Number: 58 of 292 with model SeasonalityMotif for Validation 1\n",
            "58 - SeasonalityMotif with avg smape 8.42: \n",
            "Model Number: 59 of 292 with model ConstantNaive for Validation 1\n",
            "59 - ConstantNaive with avg smape 37.61: \n",
            "Model Number: 60 of 292 with model ConstantNaive for Validation 1\n",
            "60 - ConstantNaive with avg smape 37.61: \n",
            "Model Number: 61 of 292 with model ConstantNaive for Validation 1\n",
            "61 - ConstantNaive with avg smape 37.61: \n",
            "Model Number: 62 of 292 with model UnobservedComponents for Validation 1\n",
            "62 - UnobservedComponents with avg smape 6.25: \n",
            "Model Number: 63 of 292 with model SeasonalityMotif for Validation 1\n",
            "63 - SeasonalityMotif with avg smape 8.42: \n",
            "Model Number: 64 of 292 with model SectionalMotif for Validation 1\n",
            "64 - SectionalMotif with avg smape 28.25: \n",
            "Model Number: 65 of 292 with model SectionalMotif for Validation 1\n",
            "65 - SectionalMotif with avg smape 33.78: \n",
            "Model Number: 66 of 292 with model SeasonalityMotif for Validation 1\n",
            "66 - SeasonalityMotif with avg smape 23.25: \n",
            "Model Number: 67 of 292 with model MetricMotif for Validation 1\n",
            "67 - MetricMotif with avg smape 34.79: \n",
            "Model Number: 68 of 292 with model UnobservedComponents for Validation 1\n",
            "68 - UnobservedComponents with avg smape 34.56: \n",
            "Model Number: 69 of 292 with model UnobservedComponents for Validation 1\n"
          ]
        },
        {
          "output_type": "stream",
          "name": "stderr",
          "text": [
            "/usr/local/lib/python3.10/dist-packages/sklearn/decomposition/_fastica.py:708: FutureWarning:\n",
            "\n",
            "Starting in v1.3, whiten=True should be specified as whiten='arbitrary-variance' (its current behaviour). This behavior is deprecated in 1.1 and will raise ValueError in 1.3.\n",
            "\n"
          ]
        },
        {
          "output_type": "stream",
          "name": "stdout",
          "text": [
            "69 - UnobservedComponents with avg smape 35.22: \n",
            "Model Number: 70 of 292 with model UnobservedComponents for Validation 1\n",
            "70 - UnobservedComponents with avg smape 35.61: \n",
            "Model Number: 71 of 292 with model UnobservedComponents for Validation 1\n",
            "71 - UnobservedComponents with avg smape 35.61: \n",
            "Model Number: 72 of 292 with model UnobservedComponents for Validation 1\n",
            "72 - UnobservedComponents with avg smape 36.77: \n",
            "Model Number: 73 of 292 with model UnobservedComponents for Validation 1\n",
            "73 - UnobservedComponents with avg smape 37.61: \n",
            "Model Number: 74 of 292 with model UnobservedComponents for Validation 1\n",
            "74 - UnobservedComponents with avg smape 37.61: \n",
            "Model Number: 75 of 292 with model MetricMotif for Validation 1\n",
            "75 - MetricMotif with avg smape 46.81: \n",
            "Model Number: 76 of 292 with model GLS for Validation 1\n",
            "76 - GLS with avg smape 6.77: \n",
            "Model Number: 77 of 292 with model SeasonalNaive for Validation 1\n",
            "77 - SeasonalNaive with avg smape 5.78: \n",
            "Model Number: 78 of 292 with model SeasonalityMotif for Validation 1\n",
            "78 - SeasonalityMotif with avg smape 9.0: \n",
            "Model Number: 79 of 292 with model GLS for Validation 1\n",
            "79 - GLS with avg smape 6.82: \n",
            "Model Number: 80 of 292 with model SeasonalNaive for Validation 1\n",
            "80 - SeasonalNaive with avg smape 6.27: \n",
            "Model Number: 81 of 292 with model SeasonalNaive for Validation 1\n",
            "81 - SeasonalNaive with avg smape 8.97: \n",
            "Model Number: 82 of 292 with model SeasonalNaive for Validation 1\n",
            "82 - SeasonalNaive with avg smape 8.96: \n",
            "Model Number: 83 of 292 with model AverageValueNaive for Validation 1\n",
            "83 - AverageValueNaive with avg smape 6.11: \n",
            "Model Number: 84 of 292 with model AverageValueNaive for Validation 1\n",
            "84 - AverageValueNaive with avg smape 6.11: \n",
            "Model Number: 85 of 292 with model SeasonalNaive for Validation 1\n",
            "85 - SeasonalNaive with avg smape 10.0: \n",
            "Model Number: 86 of 292 with model AverageValueNaive for Validation 1\n",
            "86 - AverageValueNaive with avg smape 6.09: \n",
            "Model Number: 87 of 292 with model AverageValueNaive for Validation 1\n",
            "87 - AverageValueNaive with avg smape 6.09: \n",
            "Model Number: 88 of 292 with model SeasonalNaive for Validation 1\n",
            "88 - SeasonalNaive with avg smape 6.93: \n",
            "Model Number: 89 of 292 with model SeasonalityMotif for Validation 1\n",
            "89 - SeasonalityMotif with avg smape 26.69: \n",
            "Model Number: 90 of 292 with model AverageValueNaive for Validation 1\n",
            "90 - AverageValueNaive with avg smape 5.87: \n",
            "Model Number: 91 of 292 with model SeasonalityMotif for Validation 1\n",
            "91 - SeasonalityMotif with avg smape 8.97: \n",
            "Model Number: 92 of 292 with model AverageValueNaive for Validation 1\n",
            "92 - AverageValueNaive with avg smape 5.85: \n",
            "Model Number: 93 of 292 with model AverageValueNaive for Validation 1\n",
            "93 - AverageValueNaive with avg smape 5.76: \n",
            "Model Number: 94 of 292 with model AverageValueNaive for Validation 1\n",
            "94 - AverageValueNaive with avg smape 5.76: \n",
            "Model Number: 95 of 292 with model AverageValueNaive for Validation 1\n",
            "95 - AverageValueNaive with avg smape 5.76: \n",
            "Model Number: 96 of 292 with model AverageValueNaive for Validation 1\n",
            "96 - AverageValueNaive with avg smape 5.76: \n",
            "Model Number: 97 of 292 with model Theta for Validation 1\n",
            "97 - Theta with avg smape 5.65: \n",
            "Model Number: 98 of 292 with model Theta for Validation 1\n",
            "98 - Theta with avg smape 5.68: \n",
            "Model Number: 99 of 292 with model Theta for Validation 1\n",
            "99 - Theta with avg smape 5.68: \n",
            "Model Number: 100 of 292 with model Theta for Validation 1\n",
            "100 - Theta with avg smape 5.65: \n",
            "Model Number: 101 of 292 with model Theta for Validation 1\n",
            "101 - Theta with avg smape 5.72: \n",
            "Model Number: 102 of 292 with model SeasonalNaive for Validation 1\n",
            "102 - SeasonalNaive with avg smape 6.5: \n",
            "Model Number: 103 of 292 with model SeasonalNaive for Validation 1\n",
            "103 - SeasonalNaive with avg smape 6.5: \n",
            "Model Number: 104 of 292 with model Theta for Validation 1\n",
            "104 - Theta with avg smape 5.64: \n",
            "Model Number: 105 of 292 with model Theta for Validation 1\n",
            "105 - Theta with avg smape 5.67: \n",
            "Model Number: 106 of 292 with model Theta for Validation 1\n",
            "106 - Theta with avg smape 5.64: \n",
            "Model Number: 107 of 292 with model Theta for Validation 1\n",
            "107 - Theta with avg smape 5.64: \n",
            "Model Number: 108 of 292 with model Theta for Validation 1\n",
            "108 - Theta with avg smape 5.64: \n",
            "Model Number: 109 of 292 with model Theta for Validation 1\n",
            "109 - Theta with avg smape 5.64: \n",
            "Model Number: 110 of 292 with model AverageValueNaive for Validation 1\n",
            "110 - AverageValueNaive with avg smape 10.95: \n",
            "Model Number: 111 of 292 with model GLS for Validation 1\n",
            "111 - GLS with avg smape 8.56: \n",
            "Model Number: 112 of 292 with model Theta for Validation 1\n",
            "112 - Theta with avg smape 5.67: \n",
            "Model Number: 113 of 292 with model Theta for Validation 1\n",
            "113 - Theta with avg smape 5.67: \n",
            "Model Number: 114 of 292 with model SeasonalNaive for Validation 1\n",
            "114 - SeasonalNaive with avg smape 10.36: \n",
            "Model Number: 115 of 292 with model SeasonalNaive for Validation 1\n",
            "115 - SeasonalNaive with avg smape 5.73: \n",
            "Model Number: 116 of 292 with model AverageValueNaive for Validation 1\n",
            "116 - AverageValueNaive with avg smape 7.63: \n",
            "Model Number: 117 of 292 with model SeasonalNaive for Validation 1\n",
            "📈 117 - SeasonalNaive with avg smape 3.74: \n",
            "Model Number: 118 of 292 with model SeasonalNaive for Validation 1\n",
            "118 - SeasonalNaive with avg smape 6.88: \n",
            "Model Number: 119 of 292 with model SeasonalNaive for Validation 1\n",
            "119 - SeasonalNaive with avg smape 6.08: \n",
            "Model Number: 120 of 292 with model MetricMotif for Validation 1\n",
            "120 - MetricMotif with avg smape 35.28: \n",
            "Model Number: 121 of 292 with model AverageValueNaive for Validation 1\n",
            "121 - AverageValueNaive with avg smape 8.0: \n",
            "Model Number: 122 of 292 with model LastValueNaive for Validation 1\n",
            "122 - LastValueNaive with avg smape 37.61: \n",
            "Model Number: 123 of 292 with model LastValueNaive for Validation 1\n",
            "123 - LastValueNaive with avg smape 37.61: \n"
          ]
        },
        {
          "output_type": "stream",
          "name": "stderr",
          "text": [
            "/usr/local/lib/python3.10/dist-packages/sklearn/decomposition/_fastica.py:708: FutureWarning:\n",
            "\n",
            "Starting in v1.3, whiten=True should be specified as whiten='arbitrary-variance' (its current behaviour). This behavior is deprecated in 1.1 and will raise ValueError in 1.3.\n",
            "\n"
          ]
        },
        {
          "output_type": "stream",
          "name": "stdout",
          "text": [
            "Model Number: 124 of 292 with model LastValueNaive for Validation 1\n",
            "124 - LastValueNaive with avg smape 37.61: \n",
            "Model Number: 125 of 292 with model LastValueNaive for Validation 1\n",
            "125 - LastValueNaive with avg smape 37.61: \n",
            "Model Number: 126 of 292 with model SeasonalityMotif for Validation 1\n",
            "126 - SeasonalityMotif with avg smape 11.11: \n",
            "Model Number: 127 of 292 with model ARDL for Validation 1\n",
            "127 - ARDL with avg smape 6.36: \n",
            "Model Number: 128 of 292 with model SeasonalityMotif for Validation 1\n",
            "128 - SeasonalityMotif with avg smape 10.49: \n",
            "Model Number: 129 of 292 with model LastValueNaive for Validation 1\n",
            "129 - LastValueNaive with avg smape 35.01: \n",
            "Model Number: 130 of 292 with model LastValueNaive for Validation 1\n",
            "130 - LastValueNaive with avg smape 35.01: \n",
            "Model Number: 131 of 292 with model LastValueNaive for Validation 1\n",
            "131 - LastValueNaive with avg smape 7.28: \n",
            "Model Number: 132 of 292 with model LastValueNaive for Validation 1\n",
            "132 - LastValueNaive with avg smape 28.73: \n",
            "Model Number: 133 of 292 with model LastValueNaive for Validation 1\n",
            "133 - LastValueNaive with avg smape 28.73: \n",
            "Model Number: 134 of 292 with model LastValueNaive for Validation 1\n",
            "134 - LastValueNaive with avg smape 28.73: \n",
            "Model Number: 135 of 292 with model LastValueNaive for Validation 1\n",
            "135 - LastValueNaive with avg smape 7.15: \n",
            "Model Number: 136 of 292 with model ARDL for Validation 1\n",
            "136 - ARDL with avg smape 5.96: \n",
            "Model Number: 137 of 292 with model ARDL for Validation 1\n",
            "137 - ARDL with avg smape 5.96: \n",
            "Model Number: 138 of 292 with model ARDL for Validation 1\n",
            "138 - ARDL with avg smape 5.96: \n",
            "Model Number: 139 of 292 with model LastValueNaive for Validation 1\n",
            "139 - LastValueNaive with avg smape 29.47: \n",
            "Model Number: 140 of 292 with model LastValueNaive for Validation 1\n",
            "140 - LastValueNaive with avg smape 29.47: \n",
            "Model Number: 141 of 292 with model MultivariateRegression for Validation 1\n",
            "141 - MultivariateRegression with avg smape 7.09: \n",
            "Model Number: 142 of 292 with model ARDL for Validation 1\n",
            "142 - ARDL with avg smape 6.34: \n",
            "Model Number: 143 of 292 with model ARDL for Validation 1\n",
            "143 - ARDL with avg smape 5.63: \n",
            "Model Number: 144 of 292 with model MetricMotif for Validation 1\n",
            "📈 144 - MetricMotif with avg smape 3.19: \n",
            "Model Number: 145 of 292 with model ETS for Validation 1\n"
          ]
        },
        {
          "output_type": "stream",
          "name": "stderr",
          "text": [
            "/usr/local/lib/python3.10/dist-packages/sklearn/linear_model/_ridge.py:216: LinAlgWarning:\n",
            "\n",
            "Ill-conditioned matrix (rcond=1.50678e-25): result may not be accurate.\n",
            "\n"
          ]
        },
        {
          "output_type": "stream",
          "name": "stdout",
          "text": [
            "145 - ETS with avg smape 46.61: \n",
            "Model Number: 146 of 292 with model ARDL for Validation 1\n",
            "146 - ARDL with avg smape 11.31: \n",
            "Model Number: 147 of 292 with model MetricMotif for Validation 1\n",
            "147 - MetricMotif with avg smape 3.96: \n"
          ]
        },
        {
          "output_type": "stream",
          "name": "stderr",
          "text": [
            "/usr/local/lib/python3.10/dist-packages/sklearn/linear_model/_ridge.py:216: LinAlgWarning:\n",
            "\n",
            "Ill-conditioned matrix (rcond=1.50678e-25): result may not be accurate.\n",
            "\n",
            "/usr/local/lib/python3.10/dist-packages/sklearn/linear_model/_ridge.py:216: LinAlgWarning:\n",
            "\n",
            "Ill-conditioned matrix (rcond=1.50678e-25): result may not be accurate.\n",
            "\n"
          ]
        },
        {
          "output_type": "stream",
          "name": "stdout",
          "text": [
            "Model Number: 148 of 292 with model MetricMotif for Validation 1\n",
            "148 - MetricMotif with avg smape 5.67: \n",
            "Model Number: 149 of 292 with model ARDL for Validation 1\n",
            "149 - ARDL with avg smape 5.73: \n",
            "Model Number: 150 of 292 with model ARDL for Validation 1\n",
            "150 - ARDL with avg smape 7.83: \n",
            "Model Number: 151 of 292 with model ARDL for Validation 1\n",
            "151 - ARDL with avg smape 7.83: \n",
            "Model Number: 152 of 292 with model ARDL for Validation 1\n",
            "152 - ARDL with avg smape 5.5: \n",
            "Model Number: 153 of 292 with model ETS for Validation 1\n",
            "153 - ETS with avg smape 37.39: \n",
            "Model Number: 154 of 292 with model ETS for Validation 1\n",
            "154 - ETS with avg smape 6.15: \n",
            "Model Number: 155 of 292 with model ARDL for Validation 1\n",
            "155 - ARDL with avg smape 8.04: \n",
            "Model Number: 156 of 292 with model ARDL for Validation 1\n",
            "156 - ARDL with avg smape 8.04: \n",
            "Model Number: 157 of 292 with model MetricMotif for Validation 1\n",
            "157 - MetricMotif with avg smape 36.94: \n",
            "Model Number: 158 of 292 with model ETS for Validation 1\n",
            "158 - ETS with avg smape 6.11: \n",
            "Model Number: 159 of 292 with model ETS for Validation 1\n",
            "159 - ETS with avg smape 6.11: \n",
            "Model Number: 160 of 292 with model ETS for Validation 1\n",
            "160 - ETS with avg smape 6.11: \n",
            "Model Number: 161 of 292 with model ETS for Validation 1\n",
            "161 - ETS with avg smape 6.11: \n",
            "Model Number: 162 of 292 with model ETS for Validation 1\n",
            "162 - ETS with avg smape 6.21: \n",
            "Model Number: 163 of 292 with model ETS for Validation 1\n",
            "163 - ETS with avg smape 6.2: \n",
            "Model Number: 164 of 292 with model UnivariateMotif for Validation 1\n",
            "164 - UnivariateMotif with avg smape 39.29: \n",
            "Model Number: 165 of 292 with model UnivariateMotif for Validation 1\n",
            "165 - UnivariateMotif with avg smape 45.08: \n",
            "Model Number: 166 of 292 with model ConstantNaive for Validation 1\n",
            "166 - ConstantNaive with avg smape 7.17: \n",
            "Model Number: 167 of 292 with model MultivariateRegression for Validation 1\n",
            "167 - MultivariateRegression with avg smape 7.86: \n",
            "Model Number: 168 of 292 with model ETS for Validation 1\n",
            "168 - ETS with avg smape 6.81: \n",
            "Model Number: 169 of 292 with model ETS for Validation 1\n",
            "169 - ETS with avg smape 15.99: \n",
            "Model Number: 170 of 292 with model ETS for Validation 1\n",
            "170 - ETS with avg smape 3.48: \n",
            "Model Number: 171 of 292 with model ETS for Validation 1\n",
            "171 - ETS with avg smape 6.07: \n",
            "Model Number: 172 of 292 with model MultivariateRegression for Validation 1\n",
            "172 - MultivariateRegression with avg smape 4.5: \n",
            "Model Number: 173 of 292 with model MultivariateRegression for Validation 1\n",
            "173 - MultivariateRegression with avg smape 4.88: \n",
            "Model Number: 174 of 292 with model MultivariateRegression for Validation 1\n",
            "174 - MultivariateRegression with avg smape 7.74: \n",
            "Model Number: 175 of 292 with model MultivariateRegression for Validation 1\n",
            "175 - MultivariateRegression with avg smape 6.39: \n",
            "Model Number: 176 of 292 with model ConstantNaive for Validation 1\n",
            "176 - ConstantNaive with avg smape 6.18: \n",
            "Model Number: 177 of 292 with model ConstantNaive for Validation 1\n",
            "177 - ConstantNaive with avg smape 6.18: \n",
            "Model Number: 178 of 292 with model ConstantNaive for Validation 1\n",
            "178 - ConstantNaive with avg smape 6.18: \n",
            "Model Number: 179 of 292 with model ARIMA for Validation 1\n",
            "179 - ARIMA with avg smape 3.66: \n",
            "Model Number: 180 of 292 with model ConstantNaive for Validation 1\n",
            "180 - ConstantNaive with avg smape 6.16: \n",
            "Model Number: 181 of 292 with model ConstantNaive for Validation 1\n",
            "181 - ConstantNaive with avg smape 6.16: \n",
            "Model Number: 182 of 292 with model ConstantNaive for Validation 1\n",
            "182 - ConstantNaive with avg smape 6.16: \n",
            "Model Number: 183 of 292 with model ConstantNaive for Validation 1\n",
            "183 - ConstantNaive with avg smape 6.16: \n",
            "Model Number: 184 of 292 with model ConstantNaive for Validation 1\n",
            "184 - ConstantNaive with avg smape 6.27: \n",
            "Model Number: 185 of 292 with model MultivariateRegression for Validation 1\n",
            "185 - MultivariateRegression with avg smape 5.95: \n",
            "Model Number: 186 of 292 with model MultivariateRegression for Validation 1\n",
            "186 - MultivariateRegression with avg smape 5.28: \n",
            "Model Number: 187 of 292 with model ConstantNaive for Validation 1\n",
            "187 - ConstantNaive with avg smape 19.84: \n",
            "Model Number: 188 of 292 with model MultivariateRegression for Validation 1\n",
            "188 - MultivariateRegression with avg smape 3.63: \n",
            "Model Number: 189 of 292 with model NVAR for Validation 1\n",
            "189 - NVAR with avg smape 3.21: \n",
            "Model Number: 190 of 292 with model UnivariateMotif for Validation 1\n",
            "190 - UnivariateMotif with avg smape 5.81: \n",
            "Model Number: 191 of 292 with model UnivariateMotif for Validation 1\n",
            "191 - UnivariateMotif with avg smape 7.09: \n",
            "Model Number: 192 of 292 with model NVAR for Validation 1\n",
            "192 - NVAR with avg smape 4.36: \n",
            "Model Number: 193 of 292 with model NVAR for Validation 1\n",
            "193 - NVAR with avg smape 6.31: \n",
            "Model Number: 194 of 292 with model NVAR for Validation 1\n",
            "194 - NVAR with avg smape 6.26: \n",
            "Model Number: 195 of 292 with model DatepartRegression for Validation 1\n",
            "195 - DatepartRegression with avg smape 14.79: \n",
            "Model Number: 196 of 292 with model UnivariateMotif for Validation 1\n",
            "196 - UnivariateMotif with avg smape 4.44: \n",
            "Model Number: 197 of 292 with model UnivariateMotif for Validation 1\n",
            "📈 197 - UnivariateMotif with avg smape 3.18: \n",
            "Model Number: 198 of 292 with model UnivariateRegression for Validation 1\n",
            "198 - UnivariateRegression with avg smape 11.65: \n",
            "Model Number: 199 of 292 with model UnivariateRegression for Validation 1\n",
            "199 - UnivariateRegression with avg smape 4.64: \n",
            "Model Number: 200 of 292 with model MultivariateRegression for Validation 1\n",
            "200 - MultivariateRegression with avg smape 8.57: \n",
            "Model Number: 201 of 292 with model MultivariateRegression for Validation 1\n",
            "201 - MultivariateRegression with avg smape 7.01: \n",
            "Model Number: 202 of 292 with model UnivariateRegression for Validation 1\n",
            "202 - UnivariateRegression with avg smape 11.83: \n",
            "Model Number: 203 of 292 with model UnivariateRegression for Validation 1\n",
            "203 - UnivariateRegression with avg smape 12.13: \n",
            "Model Number: 204 of 292 with model NVAR for Validation 1\n",
            "204 - NVAR with avg smape 5.0: \n",
            "Model Number: 205 of 292 with model NVAR for Validation 1\n",
            "205 - NVAR with avg smape 3.35: \n",
            "Model Number: 206 of 292 with model NVAR for Validation 1\n",
            "206 - NVAR with avg smape 5.0: \n",
            "Model Number: 207 of 292 with model NVAR for Validation 1\n",
            "207 - NVAR with avg smape 86.28: \n",
            "Model Number: 208 of 292 with model UnivariateMotif for Validation 1\n",
            "208 - UnivariateMotif with avg smape 5.75: \n",
            "Model Number: 209 of 292 with model ARIMA for Validation 1\n",
            "209 - ARIMA with avg smape 4.74: \n",
            "Model Number: 210 of 292 with model MultivariateMotif for Validation 1\n",
            "210 - MultivariateMotif with avg smape 6.16: \n",
            "Model Number: 211 of 292 with model MultivariateRegression for Validation 1\n",
            "211 - MultivariateRegression with avg smape 3.77: \n",
            "Model Number: 212 of 292 with model ARIMA for Validation 1\n",
            "212 - ARIMA with avg smape 3.56: \n",
            "Model Number: 213 of 292 with model MultivariateRegression for Validation 1\n",
            "213 - MultivariateRegression with avg smape 22.03: \n",
            "Model Number: 214 of 292 with model WindowRegression for Validation 1\n",
            "214 - WindowRegression with avg smape 3.54: \n",
            "Model Number: 215 of 292 with model UnivariateMotif for Validation 1\n",
            "215 - UnivariateMotif with avg smape 3.76: \n",
            "Model Number: 216 of 292 with model UnivariateMotif for Validation 1\n",
            "216 - UnivariateMotif with avg smape 4.39: \n",
            "Model Number: 217 of 292 with model UnivariateMotif for Validation 1\n",
            "217 - UnivariateMotif with avg smape 4.39: \n",
            "Model Number: 218 of 292 with model ARIMA for Validation 1\n",
            "218 - ARIMA with avg smape 6.29: \n",
            "Model Number: 219 of 292 with model NVAR for Validation 1\n",
            "Template Eval Error: Exception(\"Transformer HolidayTransformer failed on fit from params ffill {'0': {'method': 0.5}, '1': {'threshold': 0.9, 'splash_threshold': None, 'use_dayofmonth_holidays': True, 'use_wkdom_holidays': True, 'use_wkdeom_holidays': False, 'use_lunar_holidays': False, 'use_lunar_weekday': False, 'use_islamic_holidays': False, 'use_hebrew_holidays': False, 'anomaly_detector_params': {'method': 'minmax', 'method_params': {'alpha': 0.05}, 'fillna': 'rolling_mean_24', 'transform_dict': {'transformations': {'0': 'DatepartRegression'}, 'transformation_params': {'0': {'datepart_method': 'simple_3', 'regression_model': {'model': 'ElasticNet', 'model_params': {}}}}}, 'isolated_only': False}, 'remove_excess_anomalies': False, 'impact': 'median_value', 'regression_params': {}}, '2': {'output_distribution': 'normal', 'n_quantiles': 100}, '3': {}}\") in model 219 in generation 0: NVAR\n",
            "Model Number: 220 of 292 with model WindowRegression for Validation 1\n",
            "220 - WindowRegression with avg smape 4.18: \n",
            "Model Number: 221 of 292 with model DatepartRegression for Validation 1\n",
            "221 - DatepartRegression with avg smape 15.23: \n",
            "Model Number: 222 of 292 with model ARIMA for Validation 1\n",
            "222 - ARIMA with avg smape 3.7: \n",
            "Model Number: 223 of 292 with model WindowRegression for Validation 1\n",
            "223 - WindowRegression with avg smape 4.58: \n",
            "Model Number: 224 of 292 with model WindowRegression for Validation 1\n",
            "Template Eval Error: ValueError(\"Some value(s) of y are out of the valid range of the loss 'HalfPoissonLoss'.\") in model 224 in generation 0: WindowRegression\n",
            "Model Number: 225 of 292 with model NVAR for Validation 1\n",
            "225 - NVAR with avg smape 3.81: \n",
            "Model Number: 226 of 292 with model ARIMA for Validation 1\n",
            "226 - ARIMA with avg smape 3.48: \n",
            "Model Number: 227 of 292 with model DatepartRegression for Validation 1\n",
            "227 - DatepartRegression with avg smape 15.85: \n",
            "Model Number: 228 of 292 with model NVAR for Validation 1\n"
          ]
        },
        {
          "output_type": "stream",
          "name": "stderr",
          "text": [
            "/usr/local/lib/python3.10/dist-packages/sklearn/neural_network/_multilayer_perceptron.py:541: ConvergenceWarning:\n",
            "\n",
            "lbfgs failed to converge (status=1):\n",
            "STOP: TOTAL NO. of ITERATIONS REACHED LIMIT.\n",
            "\n",
            "Increase the number of iterations (max_iter) or scale the data as shown in:\n",
            "    https://scikit-learn.org/stable/modules/preprocessing.html\n",
            "\n"
          ]
        },
        {
          "output_type": "stream",
          "name": "stdout",
          "text": [
            "228 - NVAR with avg smape 4.12: \n",
            "Model Number: 229 of 292 with model ARIMA for Validation 1\n",
            "229 - ARIMA with avg smape 3.54: \n",
            "Model Number: 230 of 292 with model WindowRegression for Validation 1\n",
            "230 - WindowRegression with avg smape 3.57: \n",
            "Model Number: 231 of 292 with model ARIMA for Validation 1\n"
          ]
        },
        {
          "output_type": "stream",
          "name": "stderr",
          "text": [
            "/usr/local/lib/python3.10/dist-packages/sklearn/neighbors/_classification.py:215: DataConversionWarning:\n",
            "\n",
            "A column-vector y was passed when a 1d array was expected. Please change the shape of y to (n_samples,), for example using ravel().\n",
            "\n"
          ]
        },
        {
          "output_type": "stream",
          "name": "stdout",
          "text": [
            "231 - ARIMA with avg smape 31.52: \n",
            "Model Number: 232 of 292 with model UnivariateMotif for Validation 1\n",
            "232 - UnivariateMotif with avg smape 4.22: \n",
            "Model Number: 233 of 292 with model UnivariateRegression for Validation 1\n",
            "233 - UnivariateRegression with avg smape 3.56: \n",
            "Model Number: 234 of 292 with model UnivariateRegression for Validation 1\n",
            "234 - UnivariateRegression with avg smape 3.56: \n",
            "Model Number: 235 of 292 with model WindowRegression for Validation 1\n",
            "235 - WindowRegression with avg smape 3.95: \n",
            "Model Number: 236 of 292 with model ARIMA for Validation 1\n",
            "236 - ARIMA with avg smape 3.6: \n",
            "Model Number: 237 of 292 with model ARIMA for Validation 1\n",
            "237 - ARIMA with avg smape 3.57: \n",
            "Model Number: 238 of 292 with model GLM for Validation 1\n",
            "238 - GLM with avg smape 45.23: \n",
            "Model Number: 239 of 292 with model ARIMA for Validation 1\n",
            "239 - ARIMA with avg smape 3.54: \n",
            "Model Number: 240 of 292 with model ARIMA for Validation 1\n",
            "240 - ARIMA with avg smape 4.89: \n",
            "Model Number: 241 of 292 with model NVAR for Validation 1\n"
          ]
        },
        {
          "output_type": "stream",
          "name": "stderr",
          "text": [
            "/usr/local/lib/python3.10/dist-packages/sklearn/neighbors/_classification.py:215: DataConversionWarning:\n",
            "\n",
            "A column-vector y was passed when a 1d array was expected. Please change the shape of y to (n_samples,), for example using ravel().\n",
            "\n"
          ]
        },
        {
          "output_type": "stream",
          "name": "stdout",
          "text": [
            "241 - NVAR with avg smape 3.75: \n",
            "Model Number: 242 of 292 with model DatepartRegression for Validation 1\n",
            "242 - DatepartRegression with avg smape 5.89: \n",
            "Model Number: 243 of 292 with model UnivariateRegression for Validation 1\n",
            "243 - UnivariateRegression with avg smape 3.53: \n",
            "Model Number: 244 of 292 with model DatepartRegression for Validation 1\n",
            "244 - DatepartRegression with avg smape 8.76: \n",
            "Model Number: 245 of 292 with model WindowRegression for Validation 1\n"
          ]
        },
        {
          "output_type": "stream",
          "name": "stderr",
          "text": [
            "/usr/local/lib/python3.10/dist-packages/sklearn/neighbors/_classification.py:215: DataConversionWarning:\n",
            "\n",
            "A column-vector y was passed when a 1d array was expected. Please change the shape of y to (n_samples,), for example using ravel().\n",
            "\n"
          ]
        },
        {
          "output_type": "stream",
          "name": "stdout",
          "text": [
            "245 - WindowRegression with avg smape 5.8: \n",
            "Model Number: 246 of 292 with model WindowRegression for Validation 1\n",
            "246 - WindowRegression with avg smape 7.05: \n",
            "Model Number: 247 of 292 with model Ensemble for Validation 1\n"
          ]
        },
        {
          "output_type": "stream",
          "name": "stderr",
          "text": [
            "/usr/local/lib/python3.10/dist-packages/sklearn/linear_model/_ridge.py:216: LinAlgWarning:\n",
            "\n",
            "Ill-conditioned matrix (rcond=1.50678e-25): result may not be accurate.\n",
            "\n"
          ]
        },
        {
          "output_type": "stream",
          "name": "stdout",
          "text": [
            "247 - Ensemble with avg smape 19.49: \n",
            "Model Number: 248 of 292 with model MultivariateMotif for Validation 1\n",
            "248 - MultivariateMotif with avg smape 13.11: \n",
            "Model Number: 249 of 292 with model GLM for Validation 1\n"
          ]
        },
        {
          "output_type": "stream",
          "name": "stderr",
          "text": [
            "/usr/local/lib/python3.10/dist-packages/statsmodels/genmod/families/links.py:198: RuntimeWarning:\n",
            "\n",
            "overflow encountered in exp\n",
            "\n",
            "/usr/local/lib/python3.10/dist-packages/statsmodels/genmod/generalized_linear_model.py:1342: PerfectSeparationWarning:\n",
            "\n",
            "Perfect separation or prediction detected, parameter may not be identified\n",
            "\n"
          ]
        },
        {
          "output_type": "stream",
          "name": "stdout",
          "text": [
            "249 - GLM with avg smape 3.86: \n",
            "Model Number: 250 of 292 with model WindowRegression for Validation 1\n",
            "250 - WindowRegression with avg smape 5.72: \n",
            "Model Number: 251 of 292 with model WindowRegression for Validation 1\n",
            "251 - WindowRegression with avg smape 4.55: \n",
            "Model Number: 252 of 292 with model WindowRegression for Validation 1\n"
          ]
        },
        {
          "output_type": "stream",
          "name": "stderr",
          "text": [
            "/usr/local/lib/python3.10/dist-packages/sklearn/neural_network/_multilayer_perceptron.py:541: ConvergenceWarning:\n",
            "\n",
            "lbfgs failed to converge (status=1):\n",
            "STOP: TOTAL NO. of ITERATIONS REACHED LIMIT.\n",
            "\n",
            "Increase the number of iterations (max_iter) or scale the data as shown in:\n",
            "    https://scikit-learn.org/stable/modules/preprocessing.html\n",
            "\n"
          ]
        },
        {
          "output_type": "stream",
          "name": "stdout",
          "text": [
            "252 - WindowRegression with avg smape 8.59: \n",
            "Model Number: 253 of 292 with model DatepartRegression for Validation 1\n",
            "253 - DatepartRegression with avg smape 3.6: \n",
            "Model Number: 254 of 292 with model DatepartRegression for Validation 1\n",
            "254 - DatepartRegression with avg smape 3.6: \n",
            "Model Number: 255 of 292 with model UnivariateRegression for Validation 1\n",
            "255 - UnivariateRegression with avg smape 4.08: \n",
            "Model Number: 256 of 292 with model ARIMA for Validation 1\n",
            "256 - ARIMA with avg smape 3.67: \n",
            "Model Number: 257 of 292 with model MultivariateMotif for Validation 1\n",
            "📈 257 - MultivariateMotif with avg smape 2.61: \n",
            "Model Number: 258 of 292 with model NVAR for Validation 1\n",
            "258 - NVAR with avg smape 4.53: \n",
            "Model Number: 259 of 292 with model UnivariateMotif for Validation 1\n",
            "259 - UnivariateMotif with avg smape 4.06: \n",
            "Model Number: 260 of 292 with model GLM for Validation 1\n",
            "260 - GLM with avg smape 4.17: \n",
            "Model Number: 261 of 292 with model WindowRegression for Validation 1\n"
          ]
        },
        {
          "output_type": "stream",
          "name": "stderr",
          "text": [
            "/usr/local/lib/python3.10/dist-packages/statsmodels/genmod/families/links.py:198: RuntimeWarning:\n",
            "\n",
            "overflow encountered in exp\n",
            "\n"
          ]
        },
        {
          "output_type": "stream",
          "name": "stdout",
          "text": [
            "261 - WindowRegression with avg smape 4.85: \n",
            "Model Number: 262 of 292 with model DatepartRegression for Validation 1\n",
            "262 - DatepartRegression with avg smape 8.8: \n",
            "Model Number: 263 of 292 with model DatepartRegression for Validation 1\n",
            "263 - DatepartRegression with avg smape 7.83: \n",
            "Model Number: 264 of 292 with model DatepartRegression for Validation 1\n",
            "264 - DatepartRegression with avg smape 4.69: \n",
            "Model Number: 265 of 292 with model UnivariateRegression for Validation 1\n",
            "265 - UnivariateRegression with avg smape 3.29: \n",
            "Model Number: 266 of 292 with model UnivariateMotif for Validation 1\n",
            "266 - UnivariateMotif with avg smape 5.6: \n",
            "Model Number: 267 of 292 with model WindowRegression for Validation 1\n",
            "267 - WindowRegression with avg smape 6.13: \n",
            "Model Number: 268 of 292 with model MultivariateMotif for Validation 1\n",
            "268 - MultivariateMotif with avg smape 17.71: \n",
            "Model Number: 269 of 292 with model MultivariateMotif for Validation 1\n",
            "269 - MultivariateMotif with avg smape 7.23: \n",
            "Model Number: 270 of 292 with model UnivariateRegression for Validation 1\n"
          ]
        },
        {
          "output_type": "stream",
          "name": "stderr",
          "text": [
            "/usr/local/lib/python3.10/dist-packages/sklearn/linear_model/_coordinate_descent.py:2418: ConvergenceWarning:\n",
            "\n",
            "Objective did not converge. You might want to increase the number of iterations. Duality gap: 599.8387288011478, tolerance: 0.16225613804334746\n",
            "\n"
          ]
        },
        {
          "output_type": "stream",
          "name": "stdout",
          "text": [
            "270 - UnivariateRegression with avg smape 83.57: \n",
            "Model Number: 271 of 292 with model MultivariateMotif for Validation 1\n",
            "271 - MultivariateMotif with avg smape 34.48: \n",
            "Model Number: 272 of 292 with model GLM for Validation 1\n"
          ]
        },
        {
          "output_type": "stream",
          "name": "stderr",
          "text": [
            "/usr/local/lib/python3.10/dist-packages/statsmodels/genmod/families/links.py:198: RuntimeWarning:\n",
            "\n",
            "overflow encountered in exp\n",
            "\n"
          ]
        },
        {
          "output_type": "stream",
          "name": "stdout",
          "text": [
            "272 - GLM with avg smape 6.74: \n",
            "Model Number: 273 of 292 with model UnivariateRegression for Validation 1\n",
            "273 - UnivariateRegression with avg smape 4.2: \n",
            "Model Number: 274 of 292 with model GLM for Validation 1\n"
          ]
        },
        {
          "output_type": "stream",
          "name": "stderr",
          "text": [
            "/usr/local/lib/python3.10/dist-packages/sklearn/neighbors/_classification.py:215: DataConversionWarning:\n",
            "\n",
            "A column-vector y was passed when a 1d array was expected. Please change the shape of y to (n_samples,), for example using ravel().\n",
            "\n"
          ]
        },
        {
          "output_type": "stream",
          "name": "stdout",
          "text": [
            "274 - GLM with avg smape 10.99: \n",
            "Model Number: 275 of 292 with model GLM for Validation 1\n",
            "275 - GLM with avg smape 45.94: \n",
            "Model Number: 276 of 292 with model MultivariateMotif for Validation 1\n",
            "276 - MultivariateMotif with avg smape 10.1: \n",
            "Model Number: 277 of 292 with model MultivariateMotif for Validation 1\n",
            "277 - MultivariateMotif with avg smape 10.11: \n",
            "Model Number: 278 of 292 with model UnivariateRegression for Validation 1\n",
            "278 - UnivariateRegression with avg smape 5.07: \n",
            "Model Number: 279 of 292 with model MultivariateMotif for Validation 1\n",
            "279 - MultivariateMotif with avg smape 26.3: \n",
            "Model Number: 280 of 292 with model MultivariateMotif for Validation 1\n",
            "280 - MultivariateMotif with avg smape 7.47: \n",
            "Model Number: 281 of 292 with model GLM for Validation 1\n",
            "281 - GLM with avg smape 43.98: \n",
            "Model Number: 282 of 292 with model DatepartRegression for Validation 1\n",
            "282 - DatepartRegression with avg smape 19.72: \n",
            "Model Number: 283 of 292 with model DatepartRegression for Validation 1\n",
            "283 - DatepartRegression with avg smape 17.0: \n",
            "Model Number: 284 of 292 with model DatepartRegression for Validation 1\n",
            "284 - DatepartRegression with avg smape 35.89: \n",
            "Model Number: 285 of 292 with model MultivariateMotif for Validation 1\n",
            "285 - MultivariateMotif with avg smape 7.77: \n",
            "Model Number: 286 of 292 with model MultivariateMotif for Validation 1\n",
            "286 - MultivariateMotif with avg smape 4.82: \n",
            "Model Number: 287 of 292 with model MultivariateMotif for Validation 1\n",
            "287 - MultivariateMotif with avg smape 6.45: \n",
            "Model Number: 288 of 292 with model GLM for Validation 1\n",
            "288 - GLM with avg smape 39.83: \n",
            "Model Number: 289 of 292 with model GLM for Validation 1\n"
          ]
        },
        {
          "output_type": "stream",
          "name": "stderr",
          "text": [
            "/usr/local/lib/python3.10/dist-packages/statsmodels/genmod/families/links.py:198: RuntimeWarning:\n",
            "\n",
            "overflow encountered in exp\n",
            "\n"
          ]
        },
        {
          "output_type": "stream",
          "name": "stdout",
          "text": [
            "289 - GLM with avg smape 46.06: \n",
            "Model Number: 290 of 292 with model GLM for Validation 1\n",
            "290 - GLM with avg smape 44.94: \n",
            "Model Number: 291 of 292 with model UnivariateRegression for Validation 1\n",
            "291 - UnivariateRegression with avg smape 44.88: \n",
            "Model Number: 292 of 292 with model GLM for Validation 1\n",
            "292 - GLM with avg smape 46.29: \n",
            "Validation Round: 2\n",
            "Model Number: 1 of 292 with model Ensemble for Validation 2\n"
          ]
        },
        {
          "output_type": "stream",
          "name": "stderr",
          "text": [
            "/usr/local/lib/python3.10/dist-packages/sklearn/linear_model/_ridge.py:216: LinAlgWarning:\n",
            "\n",
            "Ill-conditioned matrix (rcond=1.57349e-25): result may not be accurate.\n",
            "\n"
          ]
        },
        {
          "output_type": "stream",
          "name": "stdout",
          "text": [
            "📈 1 - Ensemble with avg smape 6.86: \n",
            "Model Number: 2 of 292 with model Ensemble for Validation 2\n"
          ]
        },
        {
          "output_type": "stream",
          "name": "stderr",
          "text": [
            "/usr/local/lib/python3.10/dist-packages/sklearn/linear_model/_ridge.py:216: LinAlgWarning:\n",
            "\n",
            "Ill-conditioned matrix (rcond=1.57349e-25): result may not be accurate.\n",
            "\n"
          ]
        },
        {
          "output_type": "stream",
          "name": "stdout",
          "text": [
            "2 - Ensemble with avg smape 7.1: \n",
            "Model Number: 3 of 292 with model Ensemble for Validation 2\n"
          ]
        },
        {
          "output_type": "stream",
          "name": "stderr",
          "text": [
            "/usr/local/lib/python3.10/dist-packages/sklearn/linear_model/_ridge.py:216: LinAlgWarning:\n",
            "\n",
            "Ill-conditioned matrix (rcond=1.57349e-25): result may not be accurate.\n",
            "\n"
          ]
        },
        {
          "output_type": "stream",
          "name": "stdout",
          "text": [
            "3 - Ensemble with avg smape 7.1: \n",
            "Model Number: 4 of 292 with model Ensemble for Validation 2\n"
          ]
        },
        {
          "output_type": "stream",
          "name": "stderr",
          "text": [
            "/usr/local/lib/python3.10/dist-packages/sklearn/linear_model/_ridge.py:216: LinAlgWarning:\n",
            "\n",
            "Ill-conditioned matrix (rcond=1.57349e-25): result may not be accurate.\n",
            "\n"
          ]
        },
        {
          "output_type": "stream",
          "name": "stdout",
          "text": [
            "4 - Ensemble with avg smape 11.44: \n",
            "Model Number: 5 of 292 with model Ensemble for Validation 2\n"
          ]
        },
        {
          "output_type": "stream",
          "name": "stderr",
          "text": [
            "/usr/local/lib/python3.10/dist-packages/sklearn/linear_model/_ridge.py:216: LinAlgWarning:\n",
            "\n",
            "Ill-conditioned matrix (rcond=1.57349e-25): result may not be accurate.\n",
            "\n",
            "/usr/local/lib/python3.10/dist-packages/sklearn/linear_model/_ridge.py:216: LinAlgWarning:\n",
            "\n",
            "Ill-conditioned matrix (rcond=1.57349e-25): result may not be accurate.\n",
            "\n",
            "/usr/local/lib/python3.10/dist-packages/sklearn/linear_model/_ridge.py:216: LinAlgWarning:\n",
            "\n",
            "Ill-conditioned matrix (rcond=1.57349e-25): result may not be accurate.\n",
            "\n"
          ]
        },
        {
          "output_type": "stream",
          "name": "stdout",
          "text": [
            "5 - Ensemble with avg smape 22.34: \n",
            "Model Number: 6 of 292 with model FBProphet for Validation 2\n",
            "6 - FBProphet with avg smape 22.01: \n",
            "Model Number: 7 of 292 with model Ensemble for Validation 2\n"
          ]
        },
        {
          "output_type": "stream",
          "name": "stderr",
          "text": [
            "/usr/local/lib/python3.10/dist-packages/sklearn/linear_model/_ridge.py:216: LinAlgWarning:\n",
            "\n",
            "Ill-conditioned matrix (rcond=1.57349e-25): result may not be accurate.\n",
            "\n"
          ]
        },
        {
          "output_type": "stream",
          "name": "stdout",
          "text": [
            "7 - Ensemble with avg smape 22.23: \n",
            "Model Number: 8 of 292 with model FBProphet for Validation 2\n",
            "8 - FBProphet with avg smape 22.35: \n",
            "Model Number: 9 of 292 with model FBProphet for Validation 2\n"
          ]
        },
        {
          "output_type": "stream",
          "name": "stderr",
          "text": [
            "/usr/local/lib/python3.10/dist-packages/sklearn/linear_model/_ridge.py:216: LinAlgWarning:\n",
            "\n",
            "Ill-conditioned matrix (rcond=1.57349e-25): result may not be accurate.\n",
            "\n"
          ]
        },
        {
          "output_type": "stream",
          "name": "stdout",
          "text": [
            "9 - FBProphet with avg smape 22.35: \n",
            "Model Number: 10 of 292 with model MetricMotif for Validation 2\n",
            "10 - MetricMotif with avg smape 13.45: \n",
            "Model Number: 11 of 292 with model FBProphet for Validation 2\n"
          ]
        },
        {
          "output_type": "stream",
          "name": "stderr",
          "text": [
            "/usr/local/lib/python3.10/dist-packages/sklearn/linear_model/_ridge.py:216: LinAlgWarning:\n",
            "\n",
            "Ill-conditioned matrix (rcond=1.57349e-25): result may not be accurate.\n",
            "\n",
            "/usr/local/lib/python3.10/dist-packages/sklearn/linear_model/_ridge.py:216: LinAlgWarning:\n",
            "\n",
            "Ill-conditioned matrix (rcond=1.57349e-25): result may not be accurate.\n",
            "\n"
          ]
        },
        {
          "output_type": "stream",
          "name": "stdout",
          "text": [
            "11 - FBProphet with avg smape 22.51: \n",
            "Model Number: 12 of 292 with model FBProphet for Validation 2\n",
            "12 - FBProphet with avg smape 19.07: \n",
            "Model Number: 13 of 292 with model FBProphet for Validation 2\n"
          ]
        },
        {
          "output_type": "stream",
          "name": "stderr",
          "text": [
            "/usr/local/lib/python3.10/dist-packages/sklearn/linear_model/_ridge.py:216: LinAlgWarning:\n",
            "\n",
            "Ill-conditioned matrix (rcond=1.57349e-25): result may not be accurate.\n",
            "\n"
          ]
        },
        {
          "output_type": "stream",
          "name": "stdout",
          "text": [
            "13 - FBProphet with avg smape 10.17: \n",
            "Model Number: 14 of 292 with model FBProphet for Validation 2\n"
          ]
        },
        {
          "output_type": "stream",
          "name": "stderr",
          "text": [
            "/usr/local/lib/python3.10/dist-packages/sklearn/linear_model/_ridge.py:216: LinAlgWarning:\n",
            "\n",
            "Ill-conditioned matrix (rcond=1.57349e-25): result may not be accurate.\n",
            "\n"
          ]
        },
        {
          "output_type": "stream",
          "name": "stdout",
          "text": [
            "14 - FBProphet with avg smape 22.24: \n",
            "Model Number: 15 of 292 with model FBProphet for Validation 2\n",
            "No anomalies detected.\n"
          ]
        },
        {
          "output_type": "stream",
          "name": "stderr",
          "text": [
            "/usr/local/lib/python3.10/dist-packages/sklearn/linear_model/_ridge.py:216: LinAlgWarning:\n",
            "\n",
            "Ill-conditioned matrix (rcond=1.57349e-25): result may not be accurate.\n",
            "\n"
          ]
        },
        {
          "output_type": "stream",
          "name": "stdout",
          "text": [
            "15 - FBProphet with avg smape 22.19: \n",
            "Model Number: 16 of 292 with model FBProphet for Validation 2\n"
          ]
        },
        {
          "output_type": "stream",
          "name": "stderr",
          "text": [
            "/usr/local/lib/python3.10/dist-packages/sklearn/linear_model/_ridge.py:216: LinAlgWarning:\n",
            "\n",
            "Ill-conditioned matrix (rcond=1.57349e-25): result may not be accurate.\n",
            "\n"
          ]
        },
        {
          "output_type": "stream",
          "name": "stdout",
          "text": [
            "16 - FBProphet with avg smape 22.17: \n",
            "Model Number: 17 of 292 with model FBProphet for Validation 2\n"
          ]
        },
        {
          "output_type": "stream",
          "name": "stderr",
          "text": [
            "/usr/local/lib/python3.10/dist-packages/sklearn/linear_model/_ridge.py:216: LinAlgWarning:\n",
            "\n",
            "Ill-conditioned matrix (rcond=1.57349e-25): result may not be accurate.\n",
            "\n"
          ]
        },
        {
          "output_type": "stream",
          "name": "stdout",
          "text": [
            "17 - FBProphet with avg smape 22.18: \n",
            "Model Number: 18 of 292 with model FBProphet for Validation 2\n",
            "18 - FBProphet with avg smape 21.61: \n",
            "Model Number: 19 of 292 with model SeasonalityMotif for Validation 2\n",
            "19 - SeasonalityMotif with avg smape 12.77: \n",
            "Model Number: 20 of 292 with model GLS for Validation 2\n",
            "20 - GLS with avg smape 11.68: \n",
            "Model Number: 21 of 292 with model FBProphet for Validation 2\n",
            "No anomalies detected.\n"
          ]
        },
        {
          "output_type": "stream",
          "name": "stderr",
          "text": [
            "/usr/local/lib/python3.10/dist-packages/sklearn/linear_model/_ridge.py:216: LinAlgWarning:\n",
            "\n",
            "Ill-conditioned matrix (rcond=1.57349e-25): result may not be accurate.\n",
            "\n"
          ]
        },
        {
          "output_type": "stream",
          "name": "stdout",
          "text": [
            "21 - FBProphet with avg smape 22.58: \n",
            "Model Number: 22 of 292 with model FBProphet for Validation 2\n"
          ]
        },
        {
          "output_type": "stream",
          "name": "stderr",
          "text": [
            "/usr/local/lib/python3.10/dist-packages/sklearn/linear_model/_ridge.py:216: LinAlgWarning:\n",
            "\n",
            "Ill-conditioned matrix (rcond=1.57349e-25): result may not be accurate.\n",
            "\n"
          ]
        },
        {
          "output_type": "stream",
          "name": "stdout",
          "text": [
            "22 - FBProphet with avg smape 22.23: \n",
            "Model Number: 23 of 292 with model Ensemble for Validation 2\n"
          ]
        },
        {
          "output_type": "stream",
          "name": "stderr",
          "text": [
            "/usr/local/lib/python3.10/dist-packages/sklearn/linear_model/_ridge.py:216: LinAlgWarning:\n",
            "\n",
            "Ill-conditioned matrix (rcond=1.57349e-25): result may not be accurate.\n",
            "\n",
            "/usr/local/lib/python3.10/dist-packages/sklearn/linear_model/_ridge.py:216: LinAlgWarning:\n",
            "\n",
            "Ill-conditioned matrix (rcond=1.57349e-25): result may not be accurate.\n",
            "\n"
          ]
        },
        {
          "output_type": "stream",
          "name": "stdout",
          "text": [
            "23 - Ensemble with avg smape 7.04: \n",
            "Model Number: 24 of 292 with model MetricMotif for Validation 2\n",
            "24 - MetricMotif with avg smape 13.52: \n",
            "Model Number: 25 of 292 with model GLS for Validation 2\n"
          ]
        },
        {
          "output_type": "stream",
          "name": "stderr",
          "text": [
            "/usr/local/lib/python3.10/dist-packages/sklearn/linear_model/_ridge.py:216: LinAlgWarning:\n",
            "\n",
            "Ill-conditioned matrix (rcond=1.57349e-25): result may not be accurate.\n",
            "\n"
          ]
        },
        {
          "output_type": "stream",
          "name": "stdout",
          "text": [
            "25 - GLS with avg smape 10.97: \n",
            "Model Number: 26 of 292 with model GLS for Validation 2\n",
            "26 - GLS with avg smape 10.97: \n",
            "Model Number: 27 of 292 with model GLS for Validation 2\n",
            "27 - GLS with avg smape 10.73: \n",
            "Model Number: 28 of 292 with model MetricMotif for Validation 2\n",
            "28 - MetricMotif with avg smape 13.97: \n",
            "Model Number: 29 of 292 with model MetricMotif for Validation 2\n",
            "29 - MetricMotif with avg smape 13.04: \n",
            "Model Number: 30 of 292 with model GLS for Validation 2\n",
            "30 - GLS with avg smape 10.41: \n",
            "Model Number: 31 of 292 with model UnobservedComponents for Validation 2\n",
            "31 - UnobservedComponents with avg smape 10.21: \n",
            "Model Number: 32 of 292 with model GLS for Validation 2\n",
            "32 - GLS with avg smape 11.17: \n",
            "Model Number: 33 of 292 with model SeasonalityMotif for Validation 2\n",
            "33 - SeasonalityMotif with avg smape 13.3: \n",
            "Model Number: 34 of 292 with model MetricMotif for Validation 2\n",
            "34 - MetricMotif with avg smape 8.82: \n",
            "Model Number: 35 of 292 with model UnobservedComponents for Validation 2\n"
          ]
        },
        {
          "output_type": "stream",
          "name": "stderr",
          "text": [
            "/usr/local/lib/python3.10/dist-packages/sklearn/linear_model/_ridge.py:216: LinAlgWarning:\n",
            "\n",
            "Ill-conditioned matrix (rcond=1.57349e-25): result may not be accurate.\n",
            "\n"
          ]
        },
        {
          "output_type": "stream",
          "name": "stdout",
          "text": [
            "35 - UnobservedComponents with avg smape 57.94: \n",
            "Model Number: 36 of 292 with model SectionalMotif for Validation 2\n",
            "📈 36 - SectionalMotif with avg smape 6.14: \n",
            "Model Number: 37 of 292 with model SeasonalityMotif for Validation 2\n",
            "37 - SeasonalityMotif with avg smape 14.51: \n",
            "Model Number: 38 of 292 with model SectionalMotif for Validation 2\n",
            "38 - SectionalMotif with avg smape 10.5: \n",
            "Model Number: 39 of 292 with model UnobservedComponents for Validation 2\n",
            "39 - UnobservedComponents with avg smape 125.58: \n",
            "Model Number: 40 of 292 with model UnobservedComponents for Validation 2\n",
            "40 - UnobservedComponents with avg smape 125.58: \n",
            "Model Number: 41 of 292 with model MetricMotif for Validation 2\n",
            "41 - MetricMotif with avg smape 9.23: \n",
            "Model Number: 42 of 292 with model GLS for Validation 2\n"
          ]
        },
        {
          "output_type": "stream",
          "name": "stderr",
          "text": [
            "/usr/local/lib/python3.10/dist-packages/sklearn/linear_model/_ridge.py:216: LinAlgWarning:\n",
            "\n",
            "Ill-conditioned matrix (rcond=1.57349e-25): result may not be accurate.\n",
            "\n"
          ]
        },
        {
          "output_type": "stream",
          "name": "stdout",
          "text": [
            "42 - GLS with avg smape 14.99: \n",
            "Model Number: 43 of 292 with model GLS for Validation 2\n",
            "43 - GLS with avg smape 10.51: \n",
            "Model Number: 44 of 292 with model SeasonalityMotif for Validation 2\n",
            "44 - SeasonalityMotif with avg smape 6.77: \n",
            "Model Number: 45 of 292 with model GLS for Validation 2\n",
            "45 - GLS with avg smape 17.06: \n",
            "Model Number: 46 of 292 with model SectionalMotif for Validation 2\n",
            "46 - SectionalMotif with avg smape 10.5: \n",
            "Model Number: 47 of 292 with model UnobservedComponents for Validation 2\n"
          ]
        },
        {
          "output_type": "stream",
          "name": "stderr",
          "text": [
            "/usr/local/lib/python3.10/dist-packages/sklearn/linear_model/_ridge.py:216: LinAlgWarning:\n",
            "\n",
            "Ill-conditioned matrix (rcond=1.57349e-25): result may not be accurate.\n",
            "\n"
          ]
        },
        {
          "output_type": "stream",
          "name": "stdout",
          "text": [
            "47 - UnobservedComponents with avg smape 9.87: \n",
            "Model Number: 48 of 292 with model SeasonalityMotif for Validation 2\n",
            "📈 48 - SeasonalityMotif with avg smape 6.03: \n",
            "Model Number: 49 of 292 with model SectionalMotif for Validation 2\n",
            "49 - SectionalMotif with avg smape 10.44: \n",
            "Model Number: 50 of 292 with model GLS for Validation 2\n",
            "50 - GLS with avg smape 8.81: \n",
            "Model Number: 51 of 292 with model SectionalMotif for Validation 2\n",
            "51 - SectionalMotif with avg smape 10.44: \n",
            "Model Number: 52 of 292 with model SectionalMotif for Validation 2\n",
            "52 - SectionalMotif with avg smape 10.44: \n",
            "Model Number: 53 of 292 with model SectionalMotif for Validation 2\n",
            "53 - SectionalMotif with avg smape 10.44: \n",
            "Model Number: 54 of 292 with model SectionalMotif for Validation 2\n",
            "54 - SectionalMotif with avg smape 10.44: \n",
            "Model Number: 55 of 292 with model SectionalMotif for Validation 2\n",
            "55 - SectionalMotif with avg smape 10.44: \n",
            "Model Number: 56 of 292 with model SectionalMotif for Validation 2\n",
            "56 - SectionalMotif with avg smape 10.44: \n",
            "Model Number: 57 of 292 with model SectionalMotif for Validation 2\n",
            "57 - SectionalMotif with avg smape 10.44: \n",
            "Model Number: 58 of 292 with model SeasonalityMotif for Validation 2\n",
            "58 - SeasonalityMotif with avg smape 6.03: \n",
            "Model Number: 59 of 292 with model ConstantNaive for Validation 2\n",
            "59 - ConstantNaive with avg smape 10.41: \n",
            "Model Number: 60 of 292 with model ConstantNaive for Validation 2\n",
            "60 - ConstantNaive with avg smape 10.41: \n",
            "Model Number: 61 of 292 with model ConstantNaive for Validation 2\n",
            "61 - ConstantNaive with avg smape 10.41: \n",
            "Model Number: 62 of 292 with model UnobservedComponents for Validation 2\n",
            "📈 62 - UnobservedComponents with avg smape 4.32: \n",
            "Model Number: 63 of 292 with model SeasonalityMotif for Validation 2\n",
            "63 - SeasonalityMotif with avg smape 6.03: \n",
            "Model Number: 64 of 292 with model SectionalMotif for Validation 2\n",
            "64 - SectionalMotif with avg smape 13.17: \n",
            "Model Number: 65 of 292 with model SectionalMotif for Validation 2\n",
            "📈 65 - SectionalMotif with avg smape 3.5: \n",
            "Model Number: 66 of 292 with model SeasonalityMotif for Validation 2\n",
            "66 - SeasonalityMotif with avg smape 10.66: \n",
            "Model Number: 67 of 292 with model MetricMotif for Validation 2\n",
            "67 - MetricMotif with avg smape 9.73: \n",
            "Model Number: 68 of 292 with model UnobservedComponents for Validation 2\n",
            "68 - UnobservedComponents with avg smape 12.45: \n",
            "Model Number: 69 of 292 with model UnobservedComponents for Validation 2\n"
          ]
        },
        {
          "output_type": "stream",
          "name": "stderr",
          "text": [
            "/usr/local/lib/python3.10/dist-packages/sklearn/decomposition/_fastica.py:708: FutureWarning:\n",
            "\n",
            "Starting in v1.3, whiten=True should be specified as whiten='arbitrary-variance' (its current behaviour). This behavior is deprecated in 1.1 and will raise ValueError in 1.3.\n",
            "\n"
          ]
        },
        {
          "output_type": "stream",
          "name": "stdout",
          "text": [
            "69 - UnobservedComponents with avg smape 12.13: \n",
            "Model Number: 70 of 292 with model UnobservedComponents for Validation 2\n",
            "70 - UnobservedComponents with avg smape 11.94: \n",
            "Model Number: 71 of 292 with model UnobservedComponents for Validation 2\n",
            "71 - UnobservedComponents with avg smape 11.94: \n",
            "Model Number: 72 of 292 with model UnobservedComponents for Validation 2\n",
            "72 - UnobservedComponents with avg smape 11.4: \n",
            "Model Number: 73 of 292 with model UnobservedComponents for Validation 2\n",
            "73 - UnobservedComponents with avg smape 10.4: \n",
            "Model Number: 74 of 292 with model UnobservedComponents for Validation 2\n",
            "74 - UnobservedComponents with avg smape 10.4: \n",
            "Model Number: 75 of 292 with model MetricMotif for Validation 2\n",
            "75 - MetricMotif with avg smape 9.18: \n",
            "Model Number: 76 of 292 with model GLS for Validation 2\n",
            "76 - GLS with avg smape 18.68: \n",
            "Model Number: 77 of 292 with model SeasonalNaive for Validation 2\n",
            "77 - SeasonalNaive with avg smape 5.77: \n",
            "Model Number: 78 of 292 with model SeasonalityMotif for Validation 2\n",
            "78 - SeasonalityMotif with avg smape 6.21: \n",
            "Model Number: 79 of 292 with model GLS for Validation 2\n",
            "79 - GLS with avg smape 13.06: \n",
            "Model Number: 80 of 292 with model SeasonalNaive for Validation 2\n",
            "80 - SeasonalNaive with avg smape 4.7: \n",
            "Model Number: 81 of 292 with model SeasonalNaive for Validation 2\n",
            "81 - SeasonalNaive with avg smape 15.47: \n",
            "Model Number: 82 of 292 with model SeasonalNaive for Validation 2\n",
            "82 - SeasonalNaive with avg smape 15.45: \n",
            "Model Number: 83 of 292 with model AverageValueNaive for Validation 2\n",
            "83 - AverageValueNaive with avg smape 5.26: \n",
            "Model Number: 84 of 292 with model AverageValueNaive for Validation 2\n",
            "84 - AverageValueNaive with avg smape 5.26: \n",
            "Model Number: 85 of 292 with model SeasonalNaive for Validation 2\n",
            "85 - SeasonalNaive with avg smape 17.1: \n",
            "Model Number: 86 of 292 with model AverageValueNaive for Validation 2\n",
            "86 - AverageValueNaive with avg smape 5.26: \n",
            "Model Number: 87 of 292 with model AverageValueNaive for Validation 2\n",
            "87 - AverageValueNaive with avg smape 5.26: \n",
            "Model Number: 88 of 292 with model SeasonalNaive for Validation 2\n",
            "88 - SeasonalNaive with avg smape 9.8: \n",
            "Model Number: 89 of 292 with model SeasonalityMotif for Validation 2\n",
            "89 - SeasonalityMotif with avg smape 19.13: \n",
            "Model Number: 90 of 292 with model AverageValueNaive for Validation 2\n",
            "90 - AverageValueNaive with avg smape 6.13: \n",
            "Model Number: 91 of 292 with model SeasonalityMotif for Validation 2\n",
            "91 - SeasonalityMotif with avg smape 6.2: \n",
            "Model Number: 92 of 292 with model AverageValueNaive for Validation 2\n",
            "92 - AverageValueNaive with avg smape 6.12: \n",
            "Model Number: 93 of 292 with model AverageValueNaive for Validation 2\n",
            "93 - AverageValueNaive with avg smape 6.48: \n",
            "Model Number: 94 of 292 with model AverageValueNaive for Validation 2\n",
            "94 - AverageValueNaive with avg smape 6.48: \n",
            "Model Number: 95 of 292 with model AverageValueNaive for Validation 2\n",
            "95 - AverageValueNaive with avg smape 6.43: \n",
            "Model Number: 96 of 292 with model AverageValueNaive for Validation 2\n",
            "96 - AverageValueNaive with avg smape 6.43: \n",
            "Model Number: 97 of 292 with model Theta for Validation 2\n",
            "97 - Theta with avg smape 5.37: \n",
            "Model Number: 98 of 292 with model Theta for Validation 2\n",
            "98 - Theta with avg smape 5.36: \n",
            "Model Number: 99 of 292 with model Theta for Validation 2\n",
            "99 - Theta with avg smape 5.36: \n",
            "Model Number: 100 of 292 with model Theta for Validation 2\n",
            "100 - Theta with avg smape 5.37: \n",
            "Model Number: 101 of 292 with model Theta for Validation 2\n",
            "101 - Theta with avg smape 5.33: \n",
            "Model Number: 102 of 292 with model SeasonalNaive for Validation 2\n",
            "102 - SeasonalNaive with avg smape 11.02: \n",
            "Model Number: 103 of 292 with model SeasonalNaive for Validation 2\n",
            "103 - SeasonalNaive with avg smape 11.02: \n",
            "Model Number: 104 of 292 with model Theta for Validation 2\n",
            "104 - Theta with avg smape 5.37: \n",
            "Model Number: 105 of 292 with model Theta for Validation 2\n",
            "105 - Theta with avg smape 5.53: \n",
            "Model Number: 106 of 292 with model Theta for Validation 2\n",
            "106 - Theta with avg smape 5.37: \n",
            "Model Number: 107 of 292 with model Theta for Validation 2\n",
            "107 - Theta with avg smape 5.37: \n",
            "Model Number: 108 of 292 with model Theta for Validation 2\n",
            "108 - Theta with avg smape 5.37: \n",
            "Model Number: 109 of 292 with model Theta for Validation 2\n",
            "109 - Theta with avg smape 5.37: \n",
            "Model Number: 110 of 292 with model AverageValueNaive for Validation 2\n",
            "110 - AverageValueNaive with avg smape 26.35: \n",
            "Model Number: 111 of 292 with model GLS for Validation 2\n",
            "111 - GLS with avg smape 14.46: \n",
            "Model Number: 112 of 292 with model Theta for Validation 2\n",
            "112 - Theta with avg smape 5.32: \n",
            "Model Number: 113 of 292 with model Theta for Validation 2\n",
            "113 - Theta with avg smape 5.32: \n",
            "Model Number: 114 of 292 with model SeasonalNaive for Validation 2\n",
            "114 - SeasonalNaive with avg smape 17.06: \n",
            "Model Number: 115 of 292 with model SeasonalNaive for Validation 2\n",
            "115 - SeasonalNaive with avg smape 6.36: \n",
            "Model Number: 116 of 292 with model AverageValueNaive for Validation 2\n",
            "116 - AverageValueNaive with avg smape 6.47: \n",
            "Model Number: 117 of 292 with model SeasonalNaive for Validation 2\n",
            "117 - SeasonalNaive with avg smape 9.59: \n",
            "Model Number: 118 of 292 with model SeasonalNaive for Validation 2\n",
            "118 - SeasonalNaive with avg smape 10.45: \n",
            "Model Number: 119 of 292 with model SeasonalNaive for Validation 2\n",
            "119 - SeasonalNaive with avg smape 5.27: \n",
            "Model Number: 120 of 292 with model MetricMotif for Validation 2\n",
            "120 - MetricMotif with avg smape 14.1: \n",
            "Model Number: 121 of 292 with model AverageValueNaive for Validation 2\n",
            "121 - AverageValueNaive with avg smape 6.38: \n",
            "Model Number: 122 of 292 with model LastValueNaive for Validation 2\n",
            "122 - LastValueNaive with avg smape 10.41: \n",
            "Model Number: 123 of 292 with model LastValueNaive for Validation 2\n"
          ]
        },
        {
          "output_type": "stream",
          "name": "stderr",
          "text": [
            "/usr/local/lib/python3.10/dist-packages/sklearn/decomposition/_fastica.py:708: FutureWarning:\n",
            "\n",
            "Starting in v1.3, whiten=True should be specified as whiten='arbitrary-variance' (its current behaviour). This behavior is deprecated in 1.1 and will raise ValueError in 1.3.\n",
            "\n"
          ]
        },
        {
          "output_type": "stream",
          "name": "stdout",
          "text": [
            "123 - LastValueNaive with avg smape 10.41: \n",
            "Model Number: 124 of 292 with model LastValueNaive for Validation 2\n",
            "124 - LastValueNaive with avg smape 10.41: \n",
            "Model Number: 125 of 292 with model LastValueNaive for Validation 2\n",
            "125 - LastValueNaive with avg smape 10.41: \n",
            "Model Number: 126 of 292 with model SeasonalityMotif for Validation 2\n",
            "126 - SeasonalityMotif with avg smape 14.91: \n",
            "Model Number: 127 of 292 with model ARDL for Validation 2\n",
            "127 - ARDL with avg smape 13.36: \n",
            "Model Number: 128 of 292 with model SeasonalityMotif for Validation 2\n",
            "128 - SeasonalityMotif with avg smape 15.09: \n",
            "Model Number: 129 of 292 with model LastValueNaive for Validation 2\n",
            "129 - LastValueNaive with avg smape 9.63: \n",
            "Model Number: 130 of 292 with model LastValueNaive for Validation 2\n",
            "130 - LastValueNaive with avg smape 9.63: \n",
            "Model Number: 131 of 292 with model LastValueNaive for Validation 2\n",
            "131 - LastValueNaive with avg smape 9.06: \n",
            "Model Number: 132 of 292 with model LastValueNaive for Validation 2\n",
            "132 - LastValueNaive with avg smape 12.66: \n",
            "Model Number: 133 of 292 with model LastValueNaive for Validation 2\n",
            "133 - LastValueNaive with avg smape 12.66: \n",
            "Model Number: 134 of 292 with model LastValueNaive for Validation 2\n",
            "134 - LastValueNaive with avg smape 12.66: \n",
            "Model Number: 135 of 292 with model LastValueNaive for Validation 2\n",
            "135 - LastValueNaive with avg smape 8.93: \n",
            "Model Number: 136 of 292 with model ARDL for Validation 2\n",
            "136 - ARDL with avg smape 14.44: \n",
            "Model Number: 137 of 292 with model ARDL for Validation 2\n",
            "137 - ARDL with avg smape 14.44: \n",
            "Model Number: 138 of 292 with model ARDL for Validation 2\n",
            "138 - ARDL with avg smape 14.44: \n",
            "Model Number: 139 of 292 with model LastValueNaive for Validation 2\n",
            "139 - LastValueNaive with avg smape 13.3: \n",
            "Model Number: 140 of 292 with model LastValueNaive for Validation 2\n",
            "140 - LastValueNaive with avg smape 13.3: \n",
            "Model Number: 141 of 292 with model MultivariateRegression for Validation 2\n",
            "141 - MultivariateRegression with avg smape 10.02: \n",
            "Model Number: 142 of 292 with model ARDL for Validation 2\n",
            "142 - ARDL with avg smape 14.04: \n",
            "Model Number: 143 of 292 with model ARDL for Validation 2\n",
            "143 - ARDL with avg smape 14.48: \n",
            "Model Number: 144 of 292 with model MetricMotif for Validation 2\n",
            "144 - MetricMotif with avg smape 9.58: \n",
            "Model Number: 145 of 292 with model ETS for Validation 2\n"
          ]
        },
        {
          "output_type": "stream",
          "name": "stderr",
          "text": [
            "/usr/local/lib/python3.10/dist-packages/sklearn/linear_model/_ridge.py:216: LinAlgWarning:\n",
            "\n",
            "Ill-conditioned matrix (rcond=1.57349e-25): result may not be accurate.\n",
            "\n"
          ]
        },
        {
          "output_type": "stream",
          "name": "stdout",
          "text": [
            "145 - ETS with avg smape 6.95: \n",
            "Model Number: 146 of 292 with model ARDL for Validation 2\n",
            "146 - ARDL with avg smape 4.53: \n",
            "Model Number: 147 of 292 with model MetricMotif for Validation 2\n",
            "147 - MetricMotif with avg smape 9.59: \n",
            "Model Number: 148 of 292 with model MetricMotif for Validation 2\n"
          ]
        },
        {
          "output_type": "stream",
          "name": "stderr",
          "text": [
            "/usr/local/lib/python3.10/dist-packages/sklearn/linear_model/_ridge.py:216: LinAlgWarning:\n",
            "\n",
            "Ill-conditioned matrix (rcond=1.57349e-25): result may not be accurate.\n",
            "\n",
            "/usr/local/lib/python3.10/dist-packages/sklearn/linear_model/_ridge.py:216: LinAlgWarning:\n",
            "\n",
            "Ill-conditioned matrix (rcond=1.57349e-25): result may not be accurate.\n",
            "\n"
          ]
        },
        {
          "output_type": "stream",
          "name": "stdout",
          "text": [
            "148 - MetricMotif with avg smape 11.44: \n",
            "Model Number: 149 of 292 with model ARDL for Validation 2\n",
            "149 - ARDL with avg smape 15.14: \n",
            "Model Number: 150 of 292 with model ARDL for Validation 2\n",
            "150 - ARDL with avg smape 12.83: \n",
            "Model Number: 151 of 292 with model ARDL for Validation 2\n",
            "151 - ARDL with avg smape 12.83: \n",
            "Model Number: 152 of 292 with model ARDL for Validation 2\n",
            "152 - ARDL with avg smape 15.15: \n",
            "Model Number: 153 of 292 with model ETS for Validation 2\n",
            "153 - ETS with avg smape 10.5: \n",
            "Model Number: 154 of 292 with model ETS for Validation 2\n",
            "154 - ETS with avg smape 6.57: \n",
            "Model Number: 155 of 292 with model ARDL for Validation 2\n",
            "155 - ARDL with avg smape 20.03: \n",
            "Model Number: 156 of 292 with model ARDL for Validation 2\n",
            "156 - ARDL with avg smape 20.03: \n",
            "Model Number: 157 of 292 with model MetricMotif for Validation 2\n",
            "157 - MetricMotif with avg smape 6.81: \n",
            "Model Number: 158 of 292 with model ETS for Validation 2\n",
            "158 - ETS with avg smape 6.48: \n",
            "Model Number: 159 of 292 with model ETS for Validation 2\n",
            "159 - ETS with avg smape 6.48: \n",
            "Model Number: 160 of 292 with model ETS for Validation 2\n",
            "160 - ETS with avg smape 6.48: \n",
            "Model Number: 161 of 292 with model ETS for Validation 2\n",
            "161 - ETS with avg smape 6.48: \n",
            "Model Number: 162 of 292 with model ETS for Validation 2\n",
            "162 - ETS with avg smape 6.35: \n",
            "Model Number: 163 of 292 with model ETS for Validation 2\n",
            "163 - ETS with avg smape 6.36: \n",
            "Model Number: 164 of 292 with model UnivariateMotif for Validation 2\n",
            "164 - UnivariateMotif with avg smape 10.95: \n",
            "Model Number: 165 of 292 with model UnivariateMotif for Validation 2\n",
            "165 - UnivariateMotif with avg smape 7.42: \n",
            "Model Number: 166 of 292 with model ConstantNaive for Validation 2\n",
            "166 - ConstantNaive with avg smape 5.26: \n",
            "Model Number: 167 of 292 with model MultivariateRegression for Validation 2\n",
            "167 - MultivariateRegression with avg smape 4.54: \n",
            "Model Number: 168 of 292 with model ETS for Validation 2\n",
            "168 - ETS with avg smape 6.64: \n",
            "Model Number: 169 of 292 with model ETS for Validation 2\n",
            "169 - ETS with avg smape 6.74: \n",
            "Model Number: 170 of 292 with model ETS for Validation 2\n",
            "170 - ETS with avg smape 6.51: \n",
            "Model Number: 171 of 292 with model ETS for Validation 2\n",
            "171 - ETS with avg smape 6.69: \n",
            "Model Number: 172 of 292 with model MultivariateRegression for Validation 2\n",
            "172 - MultivariateRegression with avg smape 14.26: \n",
            "Model Number: 173 of 292 with model MultivariateRegression for Validation 2\n",
            "173 - MultivariateRegression with avg smape 10.51: \n",
            "Model Number: 174 of 292 with model MultivariateRegression for Validation 2\n",
            "174 - MultivariateRegression with avg smape 17.49: \n",
            "Model Number: 175 of 292 with model MultivariateRegression for Validation 2\n",
            "175 - MultivariateRegression with avg smape 10.04: \n",
            "Model Number: 176 of 292 with model ConstantNaive for Validation 2\n",
            "176 - ConstantNaive with avg smape 6.4: \n",
            "Model Number: 177 of 292 with model ConstantNaive for Validation 2\n",
            "177 - ConstantNaive with avg smape 6.4: \n",
            "Model Number: 178 of 292 with model ConstantNaive for Validation 2\n",
            "178 - ConstantNaive with avg smape 6.4: \n",
            "Model Number: 179 of 292 with model ARIMA for Validation 2\n",
            "179 - ARIMA with avg smape 10.22: \n",
            "Model Number: 180 of 292 with model ConstantNaive for Validation 2\n",
            "180 - ConstantNaive with avg smape 6.43: \n",
            "Model Number: 181 of 292 with model ConstantNaive for Validation 2\n",
            "181 - ConstantNaive with avg smape 6.44: \n",
            "Model Number: 182 of 292 with model ConstantNaive for Validation 2\n",
            "182 - ConstantNaive with avg smape 6.44: \n",
            "Model Number: 183 of 292 with model ConstantNaive for Validation 2\n",
            "183 - ConstantNaive with avg smape 6.44: \n",
            "Model Number: 184 of 292 with model ConstantNaive for Validation 2\n",
            "184 - ConstantNaive with avg smape 6.62: \n",
            "Model Number: 185 of 292 with model MultivariateRegression for Validation 2\n",
            "185 - MultivariateRegression with avg smape 6.85: \n",
            "Model Number: 186 of 292 with model MultivariateRegression for Validation 2\n",
            "186 - MultivariateRegression with avg smape 7.9: \n",
            "Model Number: 187 of 292 with model ConstantNaive for Validation 2\n",
            "187 - ConstantNaive with avg smape 11.66: \n",
            "Model Number: 188 of 292 with model MultivariateRegression for Validation 2\n",
            "188 - MultivariateRegression with avg smape 11.81: \n",
            "Model Number: 189 of 292 with model NVAR for Validation 2\n",
            "189 - NVAR with avg smape 9.06: \n",
            "Model Number: 190 of 292 with model UnivariateMotif for Validation 2\n",
            "190 - UnivariateMotif with avg smape 13.37: \n",
            "Model Number: 191 of 292 with model UnivariateMotif for Validation 2\n",
            "191 - UnivariateMotif with avg smape 11.62: \n",
            "Model Number: 192 of 292 with model NVAR for Validation 2\n",
            "192 - NVAR with avg smape 6.91: \n",
            "Model Number: 193 of 292 with model NVAR for Validation 2\n",
            "193 - NVAR with avg smape 6.91: \n",
            "Model Number: 194 of 292 with model NVAR for Validation 2\n",
            "194 - NVAR with avg smape 6.84: \n",
            "Model Number: 195 of 292 with model DatepartRegression for Validation 2\n",
            "195 - DatepartRegression with avg smape 5.8: \n",
            "Model Number: 196 of 292 with model UnivariateMotif for Validation 2\n",
            "196 - UnivariateMotif with avg smape 11.76: \n",
            "Model Number: 197 of 292 with model UnivariateMotif for Validation 2\n",
            "197 - UnivariateMotif with avg smape 7.46: \n",
            "Model Number: 198 of 292 with model UnivariateRegression for Validation 2\n",
            "198 - UnivariateRegression with avg smape 5.83: \n",
            "Model Number: 199 of 292 with model UnivariateRegression for Validation 2\n",
            "199 - UnivariateRegression with avg smape 4.41: \n",
            "Model Number: 200 of 292 with model MultivariateRegression for Validation 2\n",
            "200 - MultivariateRegression with avg smape 15.07: \n",
            "Model Number: 201 of 292 with model MultivariateRegression for Validation 2\n",
            "201 - MultivariateRegression with avg smape 5.17: \n",
            "Model Number: 202 of 292 with model UnivariateRegression for Validation 2\n",
            "202 - UnivariateRegression with avg smape 4.51: \n",
            "Model Number: 203 of 292 with model UnivariateRegression for Validation 2\n",
            "203 - UnivariateRegression with avg smape 4.4: \n",
            "Model Number: 204 of 292 with model NVAR for Validation 2\n",
            "204 - NVAR with avg smape 9.0: \n",
            "Model Number: 205 of 292 with model NVAR for Validation 2\n",
            "205 - NVAR with avg smape 9.0: \n",
            "Model Number: 206 of 292 with model NVAR for Validation 2\n",
            "206 - NVAR with avg smape 9.0: \n",
            "Model Number: 207 of 292 with model NVAR for Validation 2\n",
            "207 - NVAR with avg smape 21.07: \n",
            "Model Number: 208 of 292 with model UnivariateMotif for Validation 2\n",
            "208 - UnivariateMotif with avg smape 14.76: \n",
            "Model Number: 209 of 292 with model ARIMA for Validation 2\n",
            "209 - ARIMA with avg smape 10.04: \n",
            "Model Number: 210 of 292 with model MultivariateMotif for Validation 2\n",
            "210 - MultivariateMotif with avg smape 25.87: \n",
            "Model Number: 211 of 292 with model MultivariateRegression for Validation 2\n",
            "211 - MultivariateRegression with avg smape 14.43: \n",
            "Model Number: 212 of 292 with model ARIMA for Validation 2\n",
            "212 - ARIMA with avg smape 11.02: \n",
            "Model Number: 213 of 292 with model MultivariateRegression for Validation 2\n",
            "213 - MultivariateRegression with avg smape 13.39: \n",
            "Model Number: 214 of 292 with model WindowRegression for Validation 2\n",
            "214 - WindowRegression with avg smape 11.0: \n",
            "Model Number: 215 of 292 with model UnivariateMotif for Validation 2\n",
            "215 - UnivariateMotif with avg smape 13.26: \n",
            "Model Number: 216 of 292 with model UnivariateMotif for Validation 2\n",
            "216 - UnivariateMotif with avg smape 11.43: \n",
            "Model Number: 217 of 292 with model UnivariateMotif for Validation 2\n",
            "217 - UnivariateMotif with avg smape 11.43: \n",
            "Model Number: 218 of 292 with model ARIMA for Validation 2\n",
            "218 - ARIMA with avg smape 15.08: \n",
            "Model Number: 219 of 292 with model NVAR for Validation 2\n",
            "219 - NVAR with avg smape 12.4: \n",
            "Model Number: 220 of 292 with model WindowRegression for Validation 2\n",
            "220 - WindowRegression with avg smape 11.51: \n",
            "Model Number: 221 of 292 with model DatepartRegression for Validation 2\n",
            "221 - DatepartRegression with avg smape 18.6: \n",
            "Model Number: 222 of 292 with model ARIMA for Validation 2\n",
            "222 - ARIMA with avg smape 12.55: \n",
            "Model Number: 223 of 292 with model WindowRegression for Validation 2\n",
            "📈 223 - WindowRegression with avg smape 2.79: \n",
            "Model Number: 224 of 292 with model WindowRegression for Validation 2\n",
            "224 - WindowRegression with avg smape 12.46: \n",
            "Model Number: 225 of 292 with model NVAR for Validation 2\n",
            "225 - NVAR with avg smape 9.37: \n",
            "Model Number: 226 of 292 with model ARIMA for Validation 2\n",
            "226 - ARIMA with avg smape 10.88: \n",
            "Model Number: 227 of 292 with model DatepartRegression for Validation 2\n",
            "227 - DatepartRegression with avg smape 11.68: \n",
            "Model Number: 228 of 292 with model NVAR for Validation 2\n"
          ]
        },
        {
          "output_type": "stream",
          "name": "stderr",
          "text": [
            "/usr/local/lib/python3.10/dist-packages/sklearn/neural_network/_multilayer_perceptron.py:541: ConvergenceWarning:\n",
            "\n",
            "lbfgs failed to converge (status=1):\n",
            "STOP: TOTAL NO. of ITERATIONS REACHED LIMIT.\n",
            "\n",
            "Increase the number of iterations (max_iter) or scale the data as shown in:\n",
            "    https://scikit-learn.org/stable/modules/preprocessing.html\n",
            "\n"
          ]
        },
        {
          "output_type": "stream",
          "name": "stdout",
          "text": [
            "228 - NVAR with avg smape 9.49: \n",
            "Model Number: 229 of 292 with model ARIMA for Validation 2\n",
            "229 - ARIMA with avg smape 11.0: \n",
            "Model Number: 230 of 292 with model WindowRegression for Validation 2\n",
            "230 - WindowRegression with avg smape 11.39: \n",
            "Model Number: 231 of 292 with model ARIMA for Validation 2\n"
          ]
        },
        {
          "output_type": "stream",
          "name": "stderr",
          "text": [
            "/usr/local/lib/python3.10/dist-packages/sklearn/neighbors/_classification.py:215: DataConversionWarning:\n",
            "\n",
            "A column-vector y was passed when a 1d array was expected. Please change the shape of y to (n_samples,), for example using ravel().\n",
            "\n"
          ]
        },
        {
          "output_type": "stream",
          "name": "stdout",
          "text": [
            "231 - ARIMA with avg smape 14.05: \n",
            "Model Number: 232 of 292 with model UnivariateMotif for Validation 2\n",
            "232 - UnivariateMotif with avg smape 9.85: \n",
            "Model Number: 233 of 292 with model UnivariateRegression for Validation 2\n",
            "233 - UnivariateRegression with avg smape 11.18: \n",
            "Model Number: 234 of 292 with model UnivariateRegression for Validation 2\n",
            "234 - UnivariateRegression with avg smape 11.18: \n",
            "Model Number: 235 of 292 with model WindowRegression for Validation 2\n",
            "235 - WindowRegression with avg smape 12.04: \n",
            "Model Number: 236 of 292 with model ARIMA for Validation 2\n",
            "236 - ARIMA with avg smape 13.01: \n",
            "Model Number: 237 of 292 with model ARIMA for Validation 2\n",
            "237 - ARIMA with avg smape 12.95: \n",
            "Model Number: 238 of 292 with model GLM for Validation 2\n",
            "238 - GLM with avg smape 82.73: \n",
            "Model Number: 239 of 292 with model ARIMA for Validation 2\n",
            "239 - ARIMA with avg smape 11.0: \n",
            "Model Number: 240 of 292 with model ARIMA for Validation 2\n",
            "240 - ARIMA with avg smape 10.69: \n",
            "Model Number: 241 of 292 with model NVAR for Validation 2\n"
          ]
        },
        {
          "output_type": "stream",
          "name": "stderr",
          "text": [
            "/usr/local/lib/python3.10/dist-packages/sklearn/neighbors/_classification.py:215: DataConversionWarning:\n",
            "\n",
            "A column-vector y was passed when a 1d array was expected. Please change the shape of y to (n_samples,), for example using ravel().\n",
            "\n"
          ]
        },
        {
          "output_type": "stream",
          "name": "stdout",
          "text": [
            "241 - NVAR with avg smape 14.38: \n",
            "Model Number: 242 of 292 with model DatepartRegression for Validation 2\n",
            "242 - DatepartRegression with avg smape 10.84: \n",
            "Model Number: 243 of 292 with model UnivariateRegression for Validation 2\n",
            "243 - UnivariateRegression with avg smape 11.27: \n",
            "Model Number: 244 of 292 with model DatepartRegression for Validation 2\n",
            "244 - DatepartRegression with avg smape 12.2: \n",
            "Model Number: 245 of 292 with model WindowRegression for Validation 2\n"
          ]
        },
        {
          "output_type": "stream",
          "name": "stderr",
          "text": [
            "/usr/local/lib/python3.10/dist-packages/sklearn/neighbors/_classification.py:215: DataConversionWarning:\n",
            "\n",
            "A column-vector y was passed when a 1d array was expected. Please change the shape of y to (n_samples,), for example using ravel().\n",
            "\n"
          ]
        },
        {
          "output_type": "stream",
          "name": "stdout",
          "text": [
            "245 - WindowRegression with avg smape 27.74: \n",
            "Model Number: 246 of 292 with model WindowRegression for Validation 2\n",
            "246 - WindowRegression with avg smape 9.07: \n",
            "Model Number: 247 of 292 with model Ensemble for Validation 2\n"
          ]
        },
        {
          "output_type": "stream",
          "name": "stderr",
          "text": [
            "/usr/local/lib/python3.10/dist-packages/sklearn/linear_model/_ridge.py:216: LinAlgWarning:\n",
            "\n",
            "Ill-conditioned matrix (rcond=1.57349e-25): result may not be accurate.\n",
            "\n"
          ]
        },
        {
          "output_type": "stream",
          "name": "stdout",
          "text": [
            "247 - Ensemble with avg smape 6.34: \n",
            "Model Number: 248 of 292 with model MultivariateMotif for Validation 2\n",
            "248 - MultivariateMotif with avg smape 17.23: \n",
            "Model Number: 249 of 292 with model GLM for Validation 2\n",
            "Template Eval Error: Exception(\"Transformer PowerTransformer failed on fit from params pchip {'0': {'window_size': 90, 'alpha': 2.5, 'grouping_forward_limit': 2, 'max_level_shifts': 30, 'alignment': 'rolling_diff_3nn'}, '1': {'method': 'nonparametric', 'method_params': {'p': None, 'z_init': 1.5, 'z_limit': 12, 'z_step': 0.5, 'inverse': False, 'max_contamination': 0.25, 'mean_weight': 25, 'sd_weight': 25, 'anomaly_count_weight': 1.0}, 'fillna': 'ffill', 'transform_dict': None, 'isolated_only': True}, '2': {'fillna': 'ffill', 'center': 'zero'}, '3': {}, '4': {'lag_1': 12, 'method': 'LastValue'}}\") in model 249 in generation 0: GLM\n",
            "Model Number: 250 of 292 with model WindowRegression for Validation 2\n",
            "250 - WindowRegression with avg smape 15.48: \n",
            "Model Number: 251 of 292 with model WindowRegression for Validation 2\n",
            "251 - WindowRegression with avg smape 18.61: \n",
            "Model Number: 252 of 292 with model WindowRegression for Validation 2\n"
          ]
        },
        {
          "output_type": "stream",
          "name": "stderr",
          "text": [
            "/usr/local/lib/python3.10/dist-packages/sklearn/neural_network/_multilayer_perceptron.py:541: ConvergenceWarning:\n",
            "\n",
            "lbfgs failed to converge (status=1):\n",
            "STOP: TOTAL NO. of ITERATIONS REACHED LIMIT.\n",
            "\n",
            "Increase the number of iterations (max_iter) or scale the data as shown in:\n",
            "    https://scikit-learn.org/stable/modules/preprocessing.html\n",
            "\n"
          ]
        },
        {
          "output_type": "stream",
          "name": "stdout",
          "text": [
            "252 - WindowRegression with avg smape 11.13: \n",
            "Model Number: 253 of 292 with model DatepartRegression for Validation 2\n",
            "253 - DatepartRegression with avg smape 12.35: \n",
            "Model Number: 254 of 292 with model DatepartRegression for Validation 2\n",
            "254 - DatepartRegression with avg smape 12.35: \n",
            "Model Number: 255 of 292 with model UnivariateRegression for Validation 2\n",
            "255 - UnivariateRegression with avg smape 15.77: \n",
            "Model Number: 256 of 292 with model ARIMA for Validation 2\n",
            "256 - ARIMA with avg smape 11.75: \n",
            "Model Number: 257 of 292 with model MultivariateMotif for Validation 2\n",
            "257 - MultivariateMotif with avg smape 9.22: \n",
            "Model Number: 258 of 292 with model NVAR for Validation 2\n",
            "258 - NVAR with avg smape 10.13: \n",
            "Model Number: 259 of 292 with model UnivariateMotif for Validation 2\n",
            "259 - UnivariateMotif with avg smape 8.24: \n",
            "Model Number: 260 of 292 with model GLM for Validation 2\n",
            "260 - GLM with avg smape 12.13: \n",
            "Model Number: 261 of 292 with model WindowRegression for Validation 2\n"
          ]
        },
        {
          "output_type": "stream",
          "name": "stderr",
          "text": [
            "/usr/local/lib/python3.10/dist-packages/statsmodels/genmod/families/links.py:198: RuntimeWarning:\n",
            "\n",
            "overflow encountered in exp\n",
            "\n"
          ]
        },
        {
          "output_type": "stream",
          "name": "stdout",
          "text": [
            "261 - WindowRegression with avg smape 8.0: \n",
            "Model Number: 262 of 292 with model DatepartRegression for Validation 2\n",
            "262 - DatepartRegression with avg smape 11.16: \n",
            "Model Number: 263 of 292 with model DatepartRegression for Validation 2\n",
            "263 - DatepartRegression with avg smape 3.78: \n",
            "Model Number: 264 of 292 with model DatepartRegression for Validation 2\n",
            "264 - DatepartRegression with avg smape 7.59: \n",
            "Model Number: 265 of 292 with model UnivariateRegression for Validation 2\n",
            "265 - UnivariateRegression with avg smape 15.98: \n",
            "Model Number: 266 of 292 with model UnivariateMotif for Validation 2\n",
            "266 - UnivariateMotif with avg smape 17.48: \n",
            "Model Number: 267 of 292 with model WindowRegression for Validation 2\n",
            "267 - WindowRegression with avg smape 24.69: \n",
            "Model Number: 268 of 292 with model MultivariateMotif for Validation 2\n",
            "268 - MultivariateMotif with avg smape 36.31: \n",
            "Model Number: 269 of 292 with model MultivariateMotif for Validation 2\n",
            "269 - MultivariateMotif with avg smape 44.74: \n",
            "Model Number: 270 of 292 with model UnivariateRegression for Validation 2\n",
            "270 - UnivariateRegression with avg smape 90.79: \n",
            "Model Number: 271 of 292 with model MultivariateMotif for Validation 2\n"
          ]
        },
        {
          "output_type": "stream",
          "name": "stderr",
          "text": [
            "/usr/local/lib/python3.10/dist-packages/sklearn/linear_model/_coordinate_descent.py:2418: ConvergenceWarning:\n",
            "\n",
            "Objective did not converge. You might want to increase the number of iterations. Duality gap: 422.4250393954444, tolerance: 0.15746565241961175\n",
            "\n"
          ]
        },
        {
          "output_type": "stream",
          "name": "stdout",
          "text": [
            "271 - MultivariateMotif with avg smape 33.97: \n",
            "Model Number: 272 of 292 with model GLM for Validation 2\n"
          ]
        },
        {
          "output_type": "stream",
          "name": "stderr",
          "text": [
            "/usr/local/lib/python3.10/dist-packages/statsmodels/genmod/families/links.py:198: RuntimeWarning:\n",
            "\n",
            "overflow encountered in exp\n",
            "\n"
          ]
        },
        {
          "output_type": "stream",
          "name": "stdout",
          "text": [
            "272 - GLM with avg smape 7.7: \n",
            "Model Number: 273 of 292 with model UnivariateRegression for Validation 2\n",
            "273 - UnivariateRegression with avg smape 11.77: \n",
            "Model Number: 274 of 292 with model GLM for Validation 2\n"
          ]
        },
        {
          "output_type": "stream",
          "name": "stderr",
          "text": [
            "/usr/local/lib/python3.10/dist-packages/sklearn/neighbors/_classification.py:215: DataConversionWarning:\n",
            "\n",
            "A column-vector y was passed when a 1d array was expected. Please change the shape of y to (n_samples,), for example using ravel().\n",
            "\n"
          ]
        },
        {
          "output_type": "stream",
          "name": "stdout",
          "text": [
            "274 - GLM with avg smape 21.44: \n",
            "Model Number: 275 of 292 with model GLM for Validation 2\n",
            "275 - GLM with avg smape 94.16: \n",
            "Model Number: 276 of 292 with model MultivariateMotif for Validation 2\n",
            "276 - MultivariateMotif with avg smape 24.07: \n",
            "Model Number: 277 of 292 with model MultivariateMotif for Validation 2\n",
            "277 - MultivariateMotif with avg smape 24.13: \n",
            "Model Number: 278 of 292 with model UnivariateRegression for Validation 2\n",
            "278 - UnivariateRegression with avg smape 32.25: \n",
            "Model Number: 279 of 292 with model MultivariateMotif for Validation 2\n",
            "279 - MultivariateMotif with avg smape 38.26: \n",
            "Model Number: 280 of 292 with model MultivariateMotif for Validation 2\n",
            "280 - MultivariateMotif with avg smape 19.04: \n",
            "Model Number: 281 of 292 with model GLM for Validation 2\n",
            "281 - GLM with avg smape 82.29: \n",
            "Model Number: 282 of 292 with model DatepartRegression for Validation 2\n",
            "282 - DatepartRegression with avg smape 39.89: \n",
            "Model Number: 283 of 292 with model DatepartRegression for Validation 2\n",
            "283 - DatepartRegression with avg smape 19.35: \n",
            "Model Number: 284 of 292 with model DatepartRegression for Validation 2\n",
            "284 - DatepartRegression with avg smape 73.1: \n",
            "Model Number: 285 of 292 with model MultivariateMotif for Validation 2\n",
            "285 - MultivariateMotif with avg smape 8.01: \n",
            "Model Number: 286 of 292 with model MultivariateMotif for Validation 2\n",
            "286 - MultivariateMotif with avg smape 31.1: \n",
            "Model Number: 287 of 292 with model MultivariateMotif for Validation 2\n",
            "287 - MultivariateMotif with avg smape 5.75: \n",
            "Model Number: 288 of 292 with model GLM for Validation 2\n",
            "288 - GLM with avg smape 40.75: \n",
            "Model Number: 289 of 292 with model GLM for Validation 2\n"
          ]
        },
        {
          "output_type": "stream",
          "name": "stderr",
          "text": [
            "/usr/local/lib/python3.10/dist-packages/statsmodels/genmod/families/links.py:198: RuntimeWarning:\n",
            "\n",
            "overflow encountered in exp\n",
            "\n"
          ]
        },
        {
          "output_type": "stream",
          "name": "stdout",
          "text": [
            "289 - GLM with avg smape 46.74: \n",
            "Model Number: 290 of 292 with model GLM for Validation 2\n",
            "290 - GLM with avg smape 44.51: \n",
            "Model Number: 291 of 292 with model UnivariateRegression for Validation 2\n",
            "291 - UnivariateRegression with avg smape 44.5: \n",
            "Model Number: 292 of 292 with model GLM for Validation 2\n",
            "292 - GLM with avg smape 45.0: \n",
            "Validation Round: 3\n",
            "Model Number: 1 of 292 with model Ensemble for Validation 3\n"
          ]
        },
        {
          "output_type": "stream",
          "name": "stderr",
          "text": [
            "/usr/local/lib/python3.10/dist-packages/sklearn/linear_model/_ridge.py:216: LinAlgWarning:\n",
            "\n",
            "Ill-conditioned matrix (rcond=1.64637e-25): result may not be accurate.\n",
            "\n"
          ]
        },
        {
          "output_type": "stream",
          "name": "stdout",
          "text": [
            "📈 1 - Ensemble with avg smape 7.34: \n",
            "Model Number: 2 of 292 with model Ensemble for Validation 3\n"
          ]
        },
        {
          "output_type": "stream",
          "name": "stderr",
          "text": [
            "/usr/local/lib/python3.10/dist-packages/sklearn/linear_model/_ridge.py:216: LinAlgWarning:\n",
            "\n",
            "Ill-conditioned matrix (rcond=1.64637e-25): result may not be accurate.\n",
            "\n"
          ]
        },
        {
          "output_type": "stream",
          "name": "stdout",
          "text": [
            "2 - Ensemble with avg smape 7.77: \n",
            "Model Number: 3 of 292 with model Ensemble for Validation 3\n"
          ]
        },
        {
          "output_type": "stream",
          "name": "stderr",
          "text": [
            "/usr/local/lib/python3.10/dist-packages/sklearn/linear_model/_ridge.py:216: LinAlgWarning:\n",
            "\n",
            "Ill-conditioned matrix (rcond=1.64637e-25): result may not be accurate.\n",
            "\n"
          ]
        },
        {
          "output_type": "stream",
          "name": "stdout",
          "text": [
            "3 - Ensemble with avg smape 7.77: \n",
            "Model Number: 4 of 292 with model Ensemble for Validation 3\n"
          ]
        },
        {
          "output_type": "stream",
          "name": "stderr",
          "text": [
            "/usr/local/lib/python3.10/dist-packages/sklearn/linear_model/_ridge.py:216: LinAlgWarning:\n",
            "\n",
            "Ill-conditioned matrix (rcond=1.64637e-25): result may not be accurate.\n",
            "\n"
          ]
        },
        {
          "output_type": "stream",
          "name": "stdout",
          "text": [
            "4 - Ensemble with avg smape 14.18: \n",
            "Model Number: 5 of 292 with model Ensemble for Validation 3\n"
          ]
        },
        {
          "output_type": "stream",
          "name": "stderr",
          "text": [
            "/usr/local/lib/python3.10/dist-packages/sklearn/linear_model/_ridge.py:216: LinAlgWarning:\n",
            "\n",
            "Ill-conditioned matrix (rcond=1.64637e-25): result may not be accurate.\n",
            "\n",
            "/usr/local/lib/python3.10/dist-packages/sklearn/linear_model/_ridge.py:216: LinAlgWarning:\n",
            "\n",
            "Ill-conditioned matrix (rcond=1.64637e-25): result may not be accurate.\n",
            "\n",
            "/usr/local/lib/python3.10/dist-packages/sklearn/linear_model/_ridge.py:216: LinAlgWarning:\n",
            "\n",
            "Ill-conditioned matrix (rcond=1.64637e-25): result may not be accurate.\n",
            "\n"
          ]
        },
        {
          "output_type": "stream",
          "name": "stdout",
          "text": [
            "5 - Ensemble with avg smape 20.99: \n",
            "Model Number: 6 of 292 with model FBProphet for Validation 3\n",
            "6 - FBProphet with avg smape 20.77: \n",
            "Model Number: 7 of 292 with model Ensemble for Validation 3\n"
          ]
        },
        {
          "output_type": "stream",
          "name": "stderr",
          "text": [
            "/usr/local/lib/python3.10/dist-packages/sklearn/linear_model/_ridge.py:216: LinAlgWarning:\n",
            "\n",
            "Ill-conditioned matrix (rcond=1.64637e-25): result may not be accurate.\n",
            "\n"
          ]
        },
        {
          "output_type": "stream",
          "name": "stdout",
          "text": [
            "7 - Ensemble with avg smape 20.96: \n",
            "Model Number: 8 of 292 with model FBProphet for Validation 3\n",
            "8 - FBProphet with avg smape 21.05: \n",
            "Model Number: 9 of 292 with model FBProphet for Validation 3\n"
          ]
        },
        {
          "output_type": "stream",
          "name": "stderr",
          "text": [
            "/usr/local/lib/python3.10/dist-packages/sklearn/linear_model/_ridge.py:216: LinAlgWarning:\n",
            "\n",
            "Ill-conditioned matrix (rcond=1.64637e-25): result may not be accurate.\n",
            "\n"
          ]
        },
        {
          "output_type": "stream",
          "name": "stdout",
          "text": [
            "9 - FBProphet with avg smape 21.05: \n",
            "Model Number: 10 of 292 with model MetricMotif for Validation 3\n",
            "10 - MetricMotif with avg smape 20.14: \n",
            "Model Number: 11 of 292 with model FBProphet for Validation 3\n"
          ]
        },
        {
          "output_type": "stream",
          "name": "stderr",
          "text": [
            "/usr/local/lib/python3.10/dist-packages/sklearn/linear_model/_ridge.py:216: LinAlgWarning:\n",
            "\n",
            "Ill-conditioned matrix (rcond=1.64637e-25): result may not be accurate.\n",
            "\n",
            "/usr/local/lib/python3.10/dist-packages/sklearn/linear_model/_ridge.py:216: LinAlgWarning:\n",
            "\n",
            "Ill-conditioned matrix (rcond=1.64637e-25): result may not be accurate.\n",
            "\n"
          ]
        },
        {
          "output_type": "stream",
          "name": "stdout",
          "text": [
            "11 - FBProphet with avg smape 21.05: \n",
            "Model Number: 12 of 292 with model FBProphet for Validation 3\n",
            "12 - FBProphet with avg smape 26.18: \n",
            "Model Number: 13 of 292 with model FBProphet for Validation 3\n"
          ]
        },
        {
          "output_type": "stream",
          "name": "stderr",
          "text": [
            "/usr/local/lib/python3.10/dist-packages/sklearn/linear_model/_ridge.py:216: LinAlgWarning:\n",
            "\n",
            "Ill-conditioned matrix (rcond=1.64637e-25): result may not be accurate.\n",
            "\n"
          ]
        },
        {
          "output_type": "stream",
          "name": "stdout",
          "text": [
            "📈 13 - FBProphet with avg smape 4.66: \n",
            "Model Number: 14 of 292 with model FBProphet for Validation 3\n"
          ]
        },
        {
          "output_type": "stream",
          "name": "stderr",
          "text": [
            "/usr/local/lib/python3.10/dist-packages/sklearn/linear_model/_ridge.py:216: LinAlgWarning:\n",
            "\n",
            "Ill-conditioned matrix (rcond=1.64637e-25): result may not be accurate.\n",
            "\n"
          ]
        },
        {
          "output_type": "stream",
          "name": "stdout",
          "text": [
            "14 - FBProphet with avg smape 20.73: \n",
            "Model Number: 15 of 292 with model FBProphet for Validation 3\n",
            "No anomalies detected.\n"
          ]
        },
        {
          "output_type": "stream",
          "name": "stderr",
          "text": [
            "/usr/local/lib/python3.10/dist-packages/sklearn/linear_model/_ridge.py:216: LinAlgWarning:\n",
            "\n",
            "Ill-conditioned matrix (rcond=1.64637e-25): result may not be accurate.\n",
            "\n"
          ]
        },
        {
          "output_type": "stream",
          "name": "stdout",
          "text": [
            "15 - FBProphet with avg smape 20.89: \n",
            "Model Number: 16 of 292 with model FBProphet for Validation 3\n"
          ]
        },
        {
          "output_type": "stream",
          "name": "stderr",
          "text": [
            "/usr/local/lib/python3.10/dist-packages/sklearn/linear_model/_ridge.py:216: LinAlgWarning:\n",
            "\n",
            "Ill-conditioned matrix (rcond=1.64637e-25): result may not be accurate.\n",
            "\n"
          ]
        },
        {
          "output_type": "stream",
          "name": "stdout",
          "text": [
            "16 - FBProphet with avg smape 21.1: \n",
            "Model Number: 17 of 292 with model FBProphet for Validation 3\n"
          ]
        },
        {
          "output_type": "stream",
          "name": "stderr",
          "text": [
            "/usr/local/lib/python3.10/dist-packages/sklearn/linear_model/_ridge.py:216: LinAlgWarning:\n",
            "\n",
            "Ill-conditioned matrix (rcond=1.64637e-25): result may not be accurate.\n",
            "\n"
          ]
        },
        {
          "output_type": "stream",
          "name": "stdout",
          "text": [
            "17 - FBProphet with avg smape 20.48: \n",
            "Model Number: 18 of 292 with model FBProphet for Validation 3\n",
            "18 - FBProphet with avg smape 20.56: \n",
            "Model Number: 19 of 292 with model SeasonalityMotif for Validation 3\n",
            "19 - SeasonalityMotif with avg smape 16.03: \n",
            "Model Number: 20 of 292 with model GLS for Validation 3\n",
            "20 - GLS with avg smape 14.24: \n",
            "Model Number: 21 of 292 with model FBProphet for Validation 3\n",
            "No anomalies detected.\n"
          ]
        },
        {
          "output_type": "stream",
          "name": "stderr",
          "text": [
            "/usr/local/lib/python3.10/dist-packages/sklearn/linear_model/_ridge.py:216: LinAlgWarning:\n",
            "\n",
            "Ill-conditioned matrix (rcond=1.64637e-25): result may not be accurate.\n",
            "\n"
          ]
        },
        {
          "output_type": "stream",
          "name": "stdout",
          "text": [
            "21 - FBProphet with avg smape 20.12: \n",
            "Model Number: 22 of 292 with model FBProphet for Validation 3\n"
          ]
        },
        {
          "output_type": "stream",
          "name": "stderr",
          "text": [
            "/usr/local/lib/python3.10/dist-packages/sklearn/linear_model/_ridge.py:216: LinAlgWarning:\n",
            "\n",
            "Ill-conditioned matrix (rcond=1.64637e-25): result may not be accurate.\n",
            "\n"
          ]
        },
        {
          "output_type": "stream",
          "name": "stdout",
          "text": [
            "22 - FBProphet with avg smape 20.92: \n",
            "Model Number: 23 of 292 with model Ensemble for Validation 3\n"
          ]
        },
        {
          "output_type": "stream",
          "name": "stderr",
          "text": [
            "/usr/local/lib/python3.10/dist-packages/sklearn/linear_model/_ridge.py:216: LinAlgWarning:\n",
            "\n",
            "Ill-conditioned matrix (rcond=1.64637e-25): result may not be accurate.\n",
            "\n",
            "/usr/local/lib/python3.10/dist-packages/sklearn/linear_model/_ridge.py:216: LinAlgWarning:\n",
            "\n",
            "Ill-conditioned matrix (rcond=1.64637e-25): result may not be accurate.\n",
            "\n"
          ]
        },
        {
          "output_type": "stream",
          "name": "stdout",
          "text": [
            "23 - Ensemble with avg smape 11.06: \n",
            "Model Number: 24 of 292 with model MetricMotif for Validation 3\n",
            "24 - MetricMotif with avg smape 20.79: \n",
            "Model Number: 25 of 292 with model GLS for Validation 3\n"
          ]
        },
        {
          "output_type": "stream",
          "name": "stderr",
          "text": [
            "/usr/local/lib/python3.10/dist-packages/sklearn/linear_model/_ridge.py:216: LinAlgWarning:\n",
            "\n",
            "Ill-conditioned matrix (rcond=1.64637e-25): result may not be accurate.\n",
            "\n"
          ]
        },
        {
          "output_type": "stream",
          "name": "stdout",
          "text": [
            "25 - GLS with avg smape 13.35: \n",
            "Model Number: 26 of 292 with model GLS for Validation 3\n",
            "26 - GLS with avg smape 13.35: \n",
            "Model Number: 27 of 292 with model GLS for Validation 3\n",
            "27 - GLS with avg smape 7.83: \n",
            "Model Number: 28 of 292 with model MetricMotif for Validation 3\n",
            "28 - MetricMotif with avg smape 24.2: \n",
            "Model Number: 29 of 292 with model MetricMotif for Validation 3\n",
            "29 - MetricMotif with avg smape 5.84: \n",
            "Model Number: 30 of 292 with model GLS for Validation 3\n",
            "30 - GLS with avg smape 12.72: \n",
            "Model Number: 31 of 292 with model UnobservedComponents for Validation 3\n",
            "31 - UnobservedComponents with avg smape 12.52: \n",
            "Model Number: 32 of 292 with model GLS for Validation 3\n",
            "32 - GLS with avg smape 9.88: \n",
            "Model Number: 33 of 292 with model SeasonalityMotif for Validation 3\n",
            "33 - SeasonalityMotif with avg smape 15.06: \n",
            "Model Number: 34 of 292 with model MetricMotif for Validation 3\n",
            "34 - MetricMotif with avg smape 13.56: \n",
            "Model Number: 35 of 292 with model UnobservedComponents for Validation 3\n"
          ]
        },
        {
          "output_type": "stream",
          "name": "stderr",
          "text": [
            "/usr/local/lib/python3.10/dist-packages/sklearn/linear_model/_ridge.py:216: LinAlgWarning:\n",
            "\n",
            "Ill-conditioned matrix (rcond=1.64637e-25): result may not be accurate.\n",
            "\n"
          ]
        },
        {
          "output_type": "stream",
          "name": "stdout",
          "text": [
            "35 - UnobservedComponents with avg smape 33.37: \n",
            "Model Number: 36 of 292 with model SectionalMotif for Validation 3\n",
            "36 - SectionalMotif with avg smape 31.2: \n",
            "Model Number: 37 of 292 with model SeasonalityMotif for Validation 3\n",
            "37 - SeasonalityMotif with avg smape 17.06: \n",
            "Model Number: 38 of 292 with model SectionalMotif for Validation 3\n",
            "38 - SectionalMotif with avg smape 12.84: \n",
            "Model Number: 39 of 292 with model UnobservedComponents for Validation 3\n",
            "39 - UnobservedComponents with avg smape 157.0: \n",
            "Model Number: 40 of 292 with model UnobservedComponents for Validation 3\n",
            "40 - UnobservedComponents with avg smape 157.0: \n",
            "Model Number: 41 of 292 with model MetricMotif for Validation 3\n",
            "41 - MetricMotif with avg smape 12.1: \n",
            "Model Number: 42 of 292 with model GLS for Validation 3\n"
          ]
        },
        {
          "output_type": "stream",
          "name": "stderr",
          "text": [
            "/usr/local/lib/python3.10/dist-packages/sklearn/linear_model/_ridge.py:216: LinAlgWarning:\n",
            "\n",
            "Ill-conditioned matrix (rcond=1.64637e-25): result may not be accurate.\n",
            "\n"
          ]
        },
        {
          "output_type": "stream",
          "name": "stdout",
          "text": [
            "42 - GLS with avg smape 23.33: \n",
            "Model Number: 43 of 292 with model GLS for Validation 3\n",
            "43 - GLS with avg smape 12.7: \n",
            "Model Number: 44 of 292 with model SeasonalityMotif for Validation 3\n",
            "📈 44 - SeasonalityMotif with avg smape 1.97: \n",
            "Model Number: 45 of 292 with model GLS for Validation 3\n",
            "45 - GLS with avg smape 23.35: \n",
            "Model Number: 46 of 292 with model SectionalMotif for Validation 3\n",
            "46 - SectionalMotif with avg smape 12.84: \n",
            "Model Number: 47 of 292 with model UnobservedComponents for Validation 3\n"
          ]
        },
        {
          "output_type": "stream",
          "name": "stderr",
          "text": [
            "/usr/local/lib/python3.10/dist-packages/sklearn/linear_model/_ridge.py:216: LinAlgWarning:\n",
            "\n",
            "Ill-conditioned matrix (rcond=1.64637e-25): result may not be accurate.\n",
            "\n"
          ]
        },
        {
          "output_type": "stream",
          "name": "stdout",
          "text": [
            "47 - UnobservedComponents with avg smape 18.59: \n",
            "Model Number: 48 of 292 with model SeasonalityMotif for Validation 3\n",
            "📈 48 - SeasonalityMotif with avg smape 1.7: \n",
            "Model Number: 49 of 292 with model SectionalMotif for Validation 3\n",
            "49 - SectionalMotif with avg smape 12.79: \n",
            "Model Number: 50 of 292 with model GLS for Validation 3\n",
            "50 - GLS with avg smape 9.55: \n",
            "Model Number: 51 of 292 with model SectionalMotif for Validation 3\n",
            "51 - SectionalMotif with avg smape 12.79: \n",
            "Model Number: 52 of 292 with model SectionalMotif for Validation 3\n",
            "52 - SectionalMotif with avg smape 12.79: \n",
            "Model Number: 53 of 292 with model SectionalMotif for Validation 3\n",
            "53 - SectionalMotif with avg smape 12.79: \n",
            "Model Number: 54 of 292 with model SectionalMotif for Validation 3\n",
            "54 - SectionalMotif with avg smape 12.79: \n",
            "Model Number: 55 of 292 with model SectionalMotif for Validation 3\n",
            "55 - SectionalMotif with avg smape 12.79: \n",
            "Model Number: 56 of 292 with model SectionalMotif for Validation 3\n",
            "56 - SectionalMotif with avg smape 12.79: \n",
            "Model Number: 57 of 292 with model SectionalMotif for Validation 3\n",
            "57 - SectionalMotif with avg smape 12.79: \n",
            "Model Number: 58 of 292 with model SeasonalityMotif for Validation 3\n",
            "58 - SeasonalityMotif with avg smape 1.7: \n",
            "Model Number: 59 of 292 with model ConstantNaive for Validation 3\n",
            "59 - ConstantNaive with avg smape 12.72: \n",
            "Model Number: 60 of 292 with model ConstantNaive for Validation 3\n",
            "60 - ConstantNaive with avg smape 12.72: \n",
            "Model Number: 61 of 292 with model ConstantNaive for Validation 3\n",
            "61 - ConstantNaive with avg smape 12.72: \n",
            "Model Number: 62 of 292 with model UnobservedComponents for Validation 3\n",
            "📈 62 - UnobservedComponents with avg smape 1.6: \n",
            "Model Number: 63 of 292 with model SeasonalityMotif for Validation 3\n",
            "63 - SeasonalityMotif with avg smape 1.7: \n",
            "Model Number: 64 of 292 with model SectionalMotif for Validation 3\n",
            "64 - SectionalMotif with avg smape 3.31: \n",
            "Model Number: 65 of 292 with model SectionalMotif for Validation 3\n",
            "65 - SectionalMotif with avg smape 19.39: \n",
            "Model Number: 66 of 292 with model SeasonalityMotif for Validation 3\n",
            "66 - SeasonalityMotif with avg smape 10.91: \n",
            "Model Number: 67 of 292 with model MetricMotif for Validation 3\n",
            "67 - MetricMotif with avg smape 11.75: \n",
            "Model Number: 68 of 292 with model UnobservedComponents for Validation 3\n",
            "68 - UnobservedComponents with avg smape 15.31: \n",
            "Model Number: 69 of 292 with model UnobservedComponents for Validation 3\n"
          ]
        },
        {
          "output_type": "stream",
          "name": "stderr",
          "text": [
            "/usr/local/lib/python3.10/dist-packages/sklearn/decomposition/_fastica.py:708: FutureWarning:\n",
            "\n",
            "Starting in v1.3, whiten=True should be specified as whiten='arbitrary-variance' (its current behaviour). This behavior is deprecated in 1.1 and will raise ValueError in 1.3.\n",
            "\n"
          ]
        },
        {
          "output_type": "stream",
          "name": "stdout",
          "text": [
            "69 - UnobservedComponents with avg smape 14.9: \n",
            "Model Number: 70 of 292 with model UnobservedComponents for Validation 3\n",
            "70 - UnobservedComponents with avg smape 14.67: \n",
            "Model Number: 71 of 292 with model UnobservedComponents for Validation 3\n",
            "71 - UnobservedComponents with avg smape 14.67: \n",
            "Model Number: 72 of 292 with model UnobservedComponents for Validation 3\n",
            "72 - UnobservedComponents with avg smape 13.95: \n",
            "Model Number: 73 of 292 with model UnobservedComponents for Validation 3\n",
            "73 - UnobservedComponents with avg smape 12.72: \n",
            "Model Number: 74 of 292 with model UnobservedComponents for Validation 3\n",
            "74 - UnobservedComponents with avg smape 12.72: \n",
            "Model Number: 75 of 292 with model MetricMotif for Validation 3\n",
            "75 - MetricMotif with avg smape 17.68: \n",
            "Model Number: 76 of 292 with model GLS for Validation 3\n",
            "76 - GLS with avg smape 11.89: \n",
            "Model Number: 77 of 292 with model SeasonalNaive for Validation 3\n",
            "77 - SeasonalNaive with avg smape 37.55: \n",
            "Model Number: 78 of 292 with model SeasonalityMotif for Validation 3\n",
            "78 - SeasonalityMotif with avg smape 3.47: \n",
            "Model Number: 79 of 292 with model GLS for Validation 3\n",
            "79 - GLS with avg smape 13.52: \n",
            "Model Number: 80 of 292 with model SeasonalNaive for Validation 3\n",
            "80 - SeasonalNaive with avg smape 38.61: \n",
            "Model Number: 81 of 292 with model SeasonalNaive for Validation 3\n",
            "81 - SeasonalNaive with avg smape 45.77: \n",
            "Model Number: 82 of 292 with model SeasonalNaive for Validation 3\n",
            "82 - SeasonalNaive with avg smape 45.77: \n",
            "Model Number: 83 of 292 with model AverageValueNaive for Validation 3\n",
            "83 - AverageValueNaive with avg smape 43.88: \n",
            "Model Number: 84 of 292 with model AverageValueNaive for Validation 3\n",
            "84 - AverageValueNaive with avg smape 43.88: \n",
            "Model Number: 85 of 292 with model SeasonalNaive for Validation 3\n",
            "85 - SeasonalNaive with avg smape 59.32: \n",
            "Model Number: 86 of 292 with model AverageValueNaive for Validation 3\n",
            "86 - AverageValueNaive with avg smape 43.88: \n",
            "Model Number: 87 of 292 with model AverageValueNaive for Validation 3\n",
            "87 - AverageValueNaive with avg smape 43.88: \n",
            "Model Number: 88 of 292 with model SeasonalNaive for Validation 3\n",
            "88 - SeasonalNaive with avg smape 36.15: \n",
            "Model Number: 89 of 292 with model SeasonalityMotif for Validation 3\n",
            "89 - SeasonalityMotif with avg smape 21.19: \n",
            "Model Number: 90 of 292 with model AverageValueNaive for Validation 3\n",
            "90 - AverageValueNaive with avg smape 38.7: \n",
            "Model Number: 91 of 292 with model SeasonalityMotif for Validation 3\n",
            "📈 91 - SeasonalityMotif with avg smape 1.34: \n",
            "Model Number: 92 of 292 with model AverageValueNaive for Validation 3\n",
            "92 - AverageValueNaive with avg smape 38.71: \n",
            "Model Number: 93 of 292 with model AverageValueNaive for Validation 3\n",
            "93 - AverageValueNaive with avg smape 38.69: \n",
            "Model Number: 94 of 292 with model AverageValueNaive for Validation 3\n",
            "94 - AverageValueNaive with avg smape 38.69: \n",
            "Model Number: 95 of 292 with model AverageValueNaive for Validation 3\n",
            "95 - AverageValueNaive with avg smape 38.78: \n",
            "Model Number: 96 of 292 with model AverageValueNaive for Validation 3\n",
            "96 - AverageValueNaive with avg smape 38.78: \n",
            "Model Number: 97 of 292 with model Theta for Validation 3\n",
            "97 - Theta with avg smape 46.34: \n",
            "Model Number: 98 of 292 with model Theta for Validation 3\n",
            "98 - Theta with avg smape 44.93: \n",
            "Model Number: 99 of 292 with model Theta for Validation 3\n",
            "99 - Theta with avg smape 44.93: \n",
            "Model Number: 100 of 292 with model Theta for Validation 3\n",
            "100 - Theta with avg smape 46.96: \n",
            "Model Number: 101 of 292 with model Theta for Validation 3\n",
            "101 - Theta with avg smape 44.94: \n",
            "Model Number: 102 of 292 with model SeasonalNaive for Validation 3\n",
            "102 - SeasonalNaive with avg smape 35.12: \n",
            "Model Number: 103 of 292 with model SeasonalNaive for Validation 3\n",
            "103 - SeasonalNaive with avg smape 35.12: \n",
            "Model Number: 104 of 292 with model Theta for Validation 3\n",
            "104 - Theta with avg smape 45.38: \n",
            "Model Number: 105 of 292 with model Theta for Validation 3\n",
            "105 - Theta with avg smape 44.69: \n",
            "Model Number: 106 of 292 with model Theta for Validation 3\n",
            "106 - Theta with avg smape 45.07: \n",
            "Model Number: 107 of 292 with model Theta for Validation 3\n",
            "107 - Theta with avg smape 45.26: \n",
            "Model Number: 108 of 292 with model Theta for Validation 3\n",
            "108 - Theta with avg smape 45.26: \n",
            "Model Number: 109 of 292 with model Theta for Validation 3\n",
            "109 - Theta with avg smape 45.61: \n",
            "Model Number: 110 of 292 with model AverageValueNaive for Validation 3\n",
            "110 - AverageValueNaive with avg smape 42.65: \n",
            "Model Number: 111 of 292 with model GLS for Validation 3\n",
            "111 - GLS with avg smape 26.2: \n",
            "Model Number: 112 of 292 with model Theta for Validation 3\n",
            "112 - Theta with avg smape 44.93: \n",
            "Model Number: 113 of 292 with model Theta for Validation 3\n",
            "113 - Theta with avg smape 44.93: \n",
            "Model Number: 114 of 292 with model SeasonalNaive for Validation 3\n",
            "114 - SeasonalNaive with avg smape 59.06: \n",
            "Model Number: 115 of 292 with model SeasonalNaive for Validation 3\n",
            "115 - SeasonalNaive with avg smape 36.5: \n",
            "Model Number: 116 of 292 with model AverageValueNaive for Validation 3\n",
            "116 - AverageValueNaive with avg smape 38.1: \n",
            "Model Number: 117 of 292 with model SeasonalNaive for Validation 3\n",
            "117 - SeasonalNaive with avg smape 6.62: \n",
            "Model Number: 118 of 292 with model SeasonalNaive for Validation 3\n",
            "118 - SeasonalNaive with avg smape 36.74: \n",
            "Model Number: 119 of 292 with model SeasonalNaive for Validation 3\n",
            "119 - SeasonalNaive with avg smape 37.45: \n",
            "Model Number: 120 of 292 with model MetricMotif for Validation 3\n",
            "120 - MetricMotif with avg smape 11.65: \n",
            "Model Number: 121 of 292 with model AverageValueNaive for Validation 3\n",
            "121 - AverageValueNaive with avg smape 35.34: \n",
            "Model Number: 122 of 292 with model LastValueNaive for Validation 3\n",
            "122 - LastValueNaive with avg smape 12.72: \n",
            "Model Number: 123 of 292 with model LastValueNaive for Validation 3\n"
          ]
        },
        {
          "output_type": "stream",
          "name": "stderr",
          "text": [
            "/usr/local/lib/python3.10/dist-packages/sklearn/decomposition/_fastica.py:708: FutureWarning:\n",
            "\n",
            "Starting in v1.3, whiten=True should be specified as whiten='arbitrary-variance' (its current behaviour). This behavior is deprecated in 1.1 and will raise ValueError in 1.3.\n",
            "\n"
          ]
        },
        {
          "output_type": "stream",
          "name": "stdout",
          "text": [
            "123 - LastValueNaive with avg smape 12.72: \n",
            "Model Number: 124 of 292 with model LastValueNaive for Validation 3\n",
            "124 - LastValueNaive with avg smape 12.72: \n",
            "Model Number: 125 of 292 with model LastValueNaive for Validation 3\n",
            "125 - LastValueNaive with avg smape 12.72: \n",
            "Model Number: 126 of 292 with model SeasonalityMotif for Validation 3\n",
            "126 - SeasonalityMotif with avg smape 8.73: \n",
            "Model Number: 127 of 292 with model ARDL for Validation 3\n",
            "127 - ARDL with avg smape 14.04: \n",
            "Model Number: 128 of 292 with model SeasonalityMotif for Validation 3\n",
            "128 - SeasonalityMotif with avg smape 7.42: \n",
            "Model Number: 129 of 292 with model LastValueNaive for Validation 3\n",
            "129 - LastValueNaive with avg smape 11.63: \n",
            "Model Number: 130 of 292 with model LastValueNaive for Validation 3\n",
            "130 - LastValueNaive with avg smape 11.63: \n",
            "Model Number: 131 of 292 with model LastValueNaive for Validation 3\n",
            "📈 131 - LastValueNaive with avg smape 1.3: \n",
            "Model Number: 132 of 292 with model LastValueNaive for Validation 3\n",
            "132 - LastValueNaive with avg smape 10.11: \n",
            "Model Number: 133 of 292 with model LastValueNaive for Validation 3\n",
            "133 - LastValueNaive with avg smape 10.11: \n",
            "Model Number: 134 of 292 with model LastValueNaive for Validation 3\n",
            "134 - LastValueNaive with avg smape 10.11: \n",
            "Model Number: 135 of 292 with model LastValueNaive for Validation 3\n",
            "135 - LastValueNaive with avg smape 1.36: \n",
            "Model Number: 136 of 292 with model ARDL for Validation 3\n",
            "136 - ARDL with avg smape 14.56: \n",
            "Model Number: 137 of 292 with model ARDL for Validation 3\n",
            "137 - ARDL with avg smape 14.56: \n",
            "Model Number: 138 of 292 with model ARDL for Validation 3\n",
            "138 - ARDL with avg smape 14.56: \n",
            "Model Number: 139 of 292 with model LastValueNaive for Validation 3\n",
            "139 - LastValueNaive with avg smape 15.06: \n",
            "Model Number: 140 of 292 with model LastValueNaive for Validation 3\n",
            "140 - LastValueNaive with avg smape 15.06: \n",
            "Model Number: 141 of 292 with model MultivariateRegression for Validation 3\n",
            "141 - MultivariateRegression with avg smape 31.68: \n",
            "Model Number: 142 of 292 with model ARDL for Validation 3\n",
            "142 - ARDL with avg smape 13.78: \n",
            "Model Number: 143 of 292 with model ARDL for Validation 3\n",
            "143 - ARDL with avg smape 15.86: \n",
            "Model Number: 144 of 292 with model MetricMotif for Validation 3\n",
            "144 - MetricMotif with avg smape 7.01: \n",
            "Model Number: 145 of 292 with model ETS for Validation 3\n"
          ]
        },
        {
          "output_type": "stream",
          "name": "stderr",
          "text": [
            "/usr/local/lib/python3.10/dist-packages/sklearn/linear_model/_ridge.py:216: LinAlgWarning:\n",
            "\n",
            "Ill-conditioned matrix (rcond=1.64637e-25): result may not be accurate.\n",
            "\n"
          ]
        },
        {
          "output_type": "stream",
          "name": "stdout",
          "text": [
            "145 - ETS with avg smape 7.66: \n",
            "Model Number: 146 of 292 with model ARDL for Validation 3\n",
            "146 - ARDL with avg smape 1.81: \n",
            "Model Number: 147 of 292 with model MetricMotif for Validation 3\n",
            "147 - MetricMotif with avg smape 9.58: \n",
            "Model Number: 148 of 292 with model MetricMotif for Validation 3\n"
          ]
        },
        {
          "output_type": "stream",
          "name": "stderr",
          "text": [
            "/usr/local/lib/python3.10/dist-packages/sklearn/linear_model/_ridge.py:216: LinAlgWarning:\n",
            "\n",
            "Ill-conditioned matrix (rcond=1.64637e-25): result may not be accurate.\n",
            "\n",
            "/usr/local/lib/python3.10/dist-packages/sklearn/linear_model/_ridge.py:216: LinAlgWarning:\n",
            "\n",
            "Ill-conditioned matrix (rcond=1.64637e-25): result may not be accurate.\n",
            "\n"
          ]
        },
        {
          "output_type": "stream",
          "name": "stdout",
          "text": [
            "148 - MetricMotif with avg smape 37.11: \n",
            "Model Number: 149 of 292 with model ARDL for Validation 3\n",
            "149 - ARDL with avg smape 14.71: \n",
            "Model Number: 150 of 292 with model ARDL for Validation 3\n",
            "150 - ARDL with avg smape 14.14: \n",
            "Model Number: 151 of 292 with model ARDL for Validation 3\n",
            "151 - ARDL with avg smape 14.14: \n",
            "Model Number: 152 of 292 with model ARDL for Validation 3\n",
            "152 - ARDL with avg smape 15.91: \n",
            "Model Number: 153 of 292 with model ETS for Validation 3\n",
            "153 - ETS with avg smape 12.84: \n",
            "Model Number: 154 of 292 with model ETS for Validation 3\n",
            "154 - ETS with avg smape 10.18: \n",
            "Model Number: 155 of 292 with model ARDL for Validation 3\n",
            "155 - ARDL with avg smape 38.72: \n",
            "Model Number: 156 of 292 with model ARDL for Validation 3\n",
            "156 - ARDL with avg smape 38.72: \n",
            "Model Number: 157 of 292 with model MetricMotif for Validation 3\n",
            "157 - MetricMotif with avg smape 14.48: \n",
            "Model Number: 158 of 292 with model ETS for Validation 3\n",
            "158 - ETS with avg smape 10.21: \n",
            "Model Number: 159 of 292 with model ETS for Validation 3\n",
            "159 - ETS with avg smape 10.21: \n",
            "Model Number: 160 of 292 with model ETS for Validation 3\n",
            "160 - ETS with avg smape 10.21: \n",
            "Model Number: 161 of 292 with model ETS for Validation 3\n",
            "161 - ETS with avg smape 10.21: \n",
            "Model Number: 162 of 292 with model ETS for Validation 3\n",
            "162 - ETS with avg smape 10.23: \n",
            "Model Number: 163 of 292 with model ETS for Validation 3\n",
            "163 - ETS with avg smape 10.22: \n",
            "Model Number: 164 of 292 with model UnivariateMotif for Validation 3\n",
            "164 - UnivariateMotif with avg smape 17.57: \n",
            "Model Number: 165 of 292 with model UnivariateMotif for Validation 3\n",
            "165 - UnivariateMotif with avg smape 8.37: \n",
            "Model Number: 166 of 292 with model ConstantNaive for Validation 3\n",
            "166 - ConstantNaive with avg smape 1.59: \n",
            "Model Number: 167 of 292 with model MultivariateRegression for Validation 3\n",
            "167 - MultivariateRegression with avg smape 5.1: \n",
            "Model Number: 168 of 292 with model ETS for Validation 3\n",
            "168 - ETS with avg smape 12.05: \n",
            "Model Number: 169 of 292 with model ETS for Validation 3\n",
            "169 - ETS with avg smape 14.46: \n",
            "Model Number: 170 of 292 with model ETS for Validation 3\n",
            "170 - ETS with avg smape 9.96: \n",
            "Model Number: 171 of 292 with model ETS for Validation 3\n",
            "171 - ETS with avg smape 1.35: \n",
            "Model Number: 172 of 292 with model MultivariateRegression for Validation 3\n",
            "172 - MultivariateRegression with avg smape 9.72: \n",
            "Model Number: 173 of 292 with model MultivariateRegression for Validation 3\n",
            "173 - MultivariateRegression with avg smape 19.42: \n",
            "Model Number: 174 of 292 with model MultivariateRegression for Validation 3\n",
            "174 - MultivariateRegression with avg smape 2.07: \n",
            "Model Number: 175 of 292 with model MultivariateRegression for Validation 3\n",
            "175 - MultivariateRegression with avg smape 4.52: \n",
            "Model Number: 176 of 292 with model ConstantNaive for Validation 3\n",
            "📈 176 - ConstantNaive with avg smape 1.26: \n",
            "Model Number: 177 of 292 with model ConstantNaive for Validation 3\n",
            "177 - ConstantNaive with avg smape 1.26: \n",
            "Model Number: 178 of 292 with model ConstantNaive for Validation 3\n",
            "178 - ConstantNaive with avg smape 1.26: \n",
            "Model Number: 179 of 292 with model ARIMA for Validation 3\n",
            "179 - ARIMA with avg smape 3.86: \n",
            "Model Number: 180 of 292 with model ConstantNaive for Validation 3\n",
            "180 - ConstantNaive with avg smape 1.27: \n",
            "Model Number: 181 of 292 with model ConstantNaive for Validation 3\n",
            "181 - ConstantNaive with avg smape 1.27: \n",
            "Model Number: 182 of 292 with model ConstantNaive for Validation 3\n",
            "182 - ConstantNaive with avg smape 1.27: \n",
            "Model Number: 183 of 292 with model ConstantNaive for Validation 3\n",
            "183 - ConstantNaive with avg smape 1.27: \n",
            "Model Number: 184 of 292 with model ConstantNaive for Validation 3\n",
            "184 - ConstantNaive with avg smape 1.27: \n",
            "Model Number: 185 of 292 with model MultivariateRegression for Validation 3\n",
            "185 - MultivariateRegression with avg smape 1.45: \n",
            "Model Number: 186 of 292 with model MultivariateRegression for Validation 3\n",
            "186 - MultivariateRegression with avg smape 2.09: \n",
            "Model Number: 187 of 292 with model ConstantNaive for Validation 3\n",
            "187 - ConstantNaive with avg smape 17.93: \n",
            "Model Number: 188 of 292 with model MultivariateRegression for Validation 3\n",
            "188 - MultivariateRegression with avg smape 7.6: \n",
            "Model Number: 189 of 292 with model NVAR for Validation 3\n",
            "189 - NVAR with avg smape 2.44: \n",
            "Model Number: 190 of 292 with model UnivariateMotif for Validation 3\n",
            "190 - UnivariateMotif with avg smape 4.26: \n",
            "Model Number: 191 of 292 with model UnivariateMotif for Validation 3\n",
            "191 - UnivariateMotif with avg smape 6.98: \n",
            "Model Number: 192 of 292 with model NVAR for Validation 3\n",
            "192 - NVAR with avg smape 1.7: \n",
            "Model Number: 193 of 292 with model NVAR for Validation 3\n",
            "193 - NVAR with avg smape 1.77: \n",
            "Model Number: 194 of 292 with model NVAR for Validation 3\n",
            "194 - NVAR with avg smape 1.7: \n",
            "Model Number: 195 of 292 with model DatepartRegression for Validation 3\n",
            "195 - DatepartRegression with avg smape 8.37: \n",
            "Model Number: 196 of 292 with model UnivariateMotif for Validation 3\n",
            "196 - UnivariateMotif with avg smape 3.58: \n",
            "Model Number: 197 of 292 with model UnivariateMotif for Validation 3\n",
            "197 - UnivariateMotif with avg smape 8.47: \n",
            "Model Number: 198 of 292 with model UnivariateRegression for Validation 3\n",
            "198 - UnivariateRegression with avg smape 18.32: \n",
            "Model Number: 199 of 292 with model UnivariateRegression for Validation 3\n",
            "199 - UnivariateRegression with avg smape 21.02: \n",
            "Model Number: 200 of 292 with model MultivariateRegression for Validation 3\n",
            "200 - MultivariateRegression with avg smape 13.89: \n",
            "Model Number: 201 of 292 with model MultivariateRegression for Validation 3\n",
            "201 - MultivariateRegression with avg smape 3.53: \n",
            "Model Number: 202 of 292 with model UnivariateRegression for Validation 3\n",
            "202 - UnivariateRegression with avg smape 17.37: \n",
            "Model Number: 203 of 292 with model UnivariateRegression for Validation 3\n",
            "203 - UnivariateRegression with avg smape 17.87: \n",
            "Model Number: 204 of 292 with model NVAR for Validation 3\n",
            "204 - NVAR with avg smape 3.56: \n",
            "Model Number: 205 of 292 with model NVAR for Validation 3\n",
            "205 - NVAR with avg smape 3.59: \n",
            "Model Number: 206 of 292 with model NVAR for Validation 3\n",
            "206 - NVAR with avg smape 3.56: \n",
            "Model Number: 207 of 292 with model NVAR for Validation 3\n",
            "207 - NVAR with avg smape 1.72: \n",
            "Model Number: 208 of 292 with model UnivariateMotif for Validation 3\n",
            "208 - UnivariateMotif with avg smape 4.95: \n",
            "Model Number: 209 of 292 with model ARIMA for Validation 3\n",
            "209 - ARIMA with avg smape 4.01: \n",
            "Model Number: 210 of 292 with model MultivariateMotif for Validation 3\n",
            "210 - MultivariateMotif with avg smape 10.39: \n",
            "Model Number: 211 of 292 with model MultivariateRegression for Validation 3\n",
            "211 - MultivariateRegression with avg smape 5.39: \n",
            "Model Number: 212 of 292 with model ARIMA for Validation 3\n",
            "212 - ARIMA with avg smape 5.56: \n",
            "Model Number: 213 of 292 with model MultivariateRegression for Validation 3\n",
            "213 - MultivariateRegression with avg smape 10.84: \n",
            "Model Number: 214 of 292 with model WindowRegression for Validation 3\n",
            "214 - WindowRegression with avg smape 5.16: \n",
            "Model Number: 215 of 292 with model UnivariateMotif for Validation 3\n",
            "215 - UnivariateMotif with avg smape 6.29: \n",
            "Model Number: 216 of 292 with model UnivariateMotif for Validation 3\n",
            "216 - UnivariateMotif with avg smape 4.82: \n",
            "Model Number: 217 of 292 with model UnivariateMotif for Validation 3\n",
            "217 - UnivariateMotif with avg smape 4.82: \n",
            "Model Number: 218 of 292 with model ARIMA for Validation 3\n",
            "218 - ARIMA with avg smape 11.09: \n",
            "Model Number: 219 of 292 with model NVAR for Validation 3\n",
            "219 - NVAR with avg smape 6.38: \n",
            "Model Number: 220 of 292 with model WindowRegression for Validation 3\n",
            "220 - WindowRegression with avg smape 5.37: \n",
            "Model Number: 221 of 292 with model DatepartRegression for Validation 3\n",
            "221 - DatepartRegression with avg smape 14.6: \n",
            "Model Number: 222 of 292 with model ARIMA for Validation 3\n",
            "222 - ARIMA with avg smape 7.87: \n",
            "Model Number: 223 of 292 with model WindowRegression for Validation 3\n",
            "223 - WindowRegression with avg smape 1.73: \n",
            "Model Number: 224 of 292 with model WindowRegression for Validation 3\n",
            "224 - WindowRegression with avg smape 6.42: \n",
            "Model Number: 225 of 292 with model NVAR for Validation 3\n",
            "225 - NVAR with avg smape 3.63: \n",
            "Model Number: 226 of 292 with model ARIMA for Validation 3\n",
            "226 - ARIMA with avg smape 5.11: \n",
            "Model Number: 227 of 292 with model DatepartRegression for Validation 3\n"
          ]
        },
        {
          "output_type": "stream",
          "name": "stderr",
          "text": [
            "/usr/local/lib/python3.10/dist-packages/sklearn/neural_network/_multilayer_perceptron.py:541: ConvergenceWarning:\n",
            "\n",
            "lbfgs failed to converge (status=1):\n",
            "STOP: TOTAL NO. of ITERATIONS REACHED LIMIT.\n",
            "\n",
            "Increase the number of iterations (max_iter) or scale the data as shown in:\n",
            "    https://scikit-learn.org/stable/modules/preprocessing.html\n",
            "\n"
          ]
        },
        {
          "output_type": "stream",
          "name": "stdout",
          "text": [
            "227 - DatepartRegression with avg smape 9.35: \n",
            "Model Number: 228 of 292 with model NVAR for Validation 3\n",
            "228 - NVAR with avg smape 3.21: \n",
            "Model Number: 229 of 292 with model ARIMA for Validation 3\n",
            "229 - ARIMA with avg smape 5.16: \n",
            "Model Number: 230 of 292 with model WindowRegression for Validation 3\n",
            "230 - WindowRegression with avg smape 16.91: \n",
            "Model Number: 231 of 292 with model ARIMA for Validation 3\n"
          ]
        },
        {
          "output_type": "stream",
          "name": "stderr",
          "text": [
            "/usr/local/lib/python3.10/dist-packages/sklearn/neighbors/_classification.py:215: DataConversionWarning:\n",
            "\n",
            "A column-vector y was passed when a 1d array was expected. Please change the shape of y to (n_samples,), for example using ravel().\n",
            "\n"
          ]
        },
        {
          "output_type": "stream",
          "name": "stdout",
          "text": [
            "231 - ARIMA with avg smape 12.06: \n",
            "Model Number: 232 of 292 with model UnivariateMotif for Validation 3\n",
            "232 - UnivariateMotif with avg smape 4.19: \n",
            "Model Number: 233 of 292 with model UnivariateRegression for Validation 3\n",
            "233 - UnivariateRegression with avg smape 5.94: \n",
            "Model Number: 234 of 292 with model UnivariateRegression for Validation 3\n",
            "234 - UnivariateRegression with avg smape 5.94: \n",
            "Model Number: 235 of 292 with model WindowRegression for Validation 3\n",
            "235 - WindowRegression with avg smape 7.78: \n",
            "Model Number: 236 of 292 with model ARIMA for Validation 3\n",
            "236 - ARIMA with avg smape 6.85: \n",
            "Model Number: 237 of 292 with model ARIMA for Validation 3\n",
            "237 - ARIMA with avg smape 6.96: \n",
            "Model Number: 238 of 292 with model GLM for Validation 3\n",
            "238 - GLM with avg smape 69.8: \n",
            "Model Number: 239 of 292 with model ARIMA for Validation 3\n",
            "239 - ARIMA with avg smape 5.16: \n",
            "Model Number: 240 of 292 with model ARIMA for Validation 3\n",
            "240 - ARIMA with avg smape 4.51: \n",
            "Model Number: 241 of 292 with model NVAR for Validation 3\n"
          ]
        },
        {
          "output_type": "stream",
          "name": "stderr",
          "text": [
            "/usr/local/lib/python3.10/dist-packages/sklearn/neighbors/_classification.py:215: DataConversionWarning:\n",
            "\n",
            "A column-vector y was passed when a 1d array was expected. Please change the shape of y to (n_samples,), for example using ravel().\n",
            "\n"
          ]
        },
        {
          "output_type": "stream",
          "name": "stdout",
          "text": [
            "241 - NVAR with avg smape 16.78: \n",
            "Model Number: 242 of 292 with model DatepartRegression for Validation 3\n",
            "242 - DatepartRegression with avg smape 14.66: \n",
            "Model Number: 243 of 292 with model UnivariateRegression for Validation 3\n",
            "243 - UnivariateRegression with avg smape 5.68: \n",
            "Model Number: 244 of 292 with model DatepartRegression for Validation 3\n",
            "244 - DatepartRegression with avg smape 14.97: \n",
            "Model Number: 245 of 292 with model WindowRegression for Validation 3\n"
          ]
        },
        {
          "output_type": "stream",
          "name": "stderr",
          "text": [
            "/usr/local/lib/python3.10/dist-packages/sklearn/neighbors/_classification.py:215: DataConversionWarning:\n",
            "\n",
            "A column-vector y was passed when a 1d array was expected. Please change the shape of y to (n_samples,), for example using ravel().\n",
            "\n"
          ]
        },
        {
          "output_type": "stream",
          "name": "stdout",
          "text": [
            "245 - WindowRegression with avg smape 22.86: \n",
            "Model Number: 246 of 292 with model WindowRegression for Validation 3\n",
            "246 - WindowRegression with avg smape 44.48: \n",
            "Model Number: 247 of 292 with model Ensemble for Validation 3\n"
          ]
        },
        {
          "output_type": "stream",
          "name": "stderr",
          "text": [
            "/usr/local/lib/python3.10/dist-packages/sklearn/linear_model/_ridge.py:216: LinAlgWarning:\n",
            "\n",
            "Ill-conditioned matrix (rcond=1.64637e-25): result may not be accurate.\n",
            "\n"
          ]
        },
        {
          "output_type": "stream",
          "name": "stdout",
          "text": [
            "247 - Ensemble with avg smape 4.98: \n",
            "Model Number: 248 of 292 with model MultivariateMotif for Validation 3\n",
            "248 - MultivariateMotif with avg smape 11.26: \n",
            "Model Number: 249 of 292 with model GLM for Validation 3\n"
          ]
        },
        {
          "output_type": "stream",
          "name": "stderr",
          "text": [
            "/usr/local/lib/python3.10/dist-packages/statsmodels/genmod/families/links.py:198: RuntimeWarning:\n",
            "\n",
            "overflow encountered in exp\n",
            "\n",
            "/usr/local/lib/python3.10/dist-packages/statsmodels/genmod/generalized_linear_model.py:1342: PerfectSeparationWarning:\n",
            "\n",
            "Perfect separation or prediction detected, parameter may not be identified\n",
            "\n"
          ]
        },
        {
          "output_type": "stream",
          "name": "stdout",
          "text": [
            "249 - GLM with avg smape 14.14: \n",
            "Model Number: 250 of 292 with model WindowRegression for Validation 3\n",
            "250 - WindowRegression with avg smape 13.81: \n",
            "Model Number: 251 of 292 with model WindowRegression for Validation 3\n",
            "251 - WindowRegression with avg smape 19.63: \n",
            "Model Number: 252 of 292 with model WindowRegression for Validation 3\n"
          ]
        },
        {
          "output_type": "stream",
          "name": "stderr",
          "text": [
            "/usr/local/lib/python3.10/dist-packages/sklearn/neural_network/_multilayer_perceptron.py:541: ConvergenceWarning:\n",
            "\n",
            "lbfgs failed to converge (status=1):\n",
            "STOP: TOTAL NO. of ITERATIONS REACHED LIMIT.\n",
            "\n",
            "Increase the number of iterations (max_iter) or scale the data as shown in:\n",
            "    https://scikit-learn.org/stable/modules/preprocessing.html\n",
            "\n"
          ]
        },
        {
          "output_type": "stream",
          "name": "stdout",
          "text": [
            "252 - WindowRegression with avg smape 6.65: \n",
            "Model Number: 253 of 292 with model DatepartRegression for Validation 3\n",
            "253 - DatepartRegression with avg smape 8.74: \n",
            "Model Number: 254 of 292 with model DatepartRegression for Validation 3\n",
            "254 - DatepartRegression with avg smape 8.74: \n",
            "Model Number: 255 of 292 with model UnivariateRegression for Validation 3\n",
            "255 - UnivariateRegression with avg smape 11.34: \n",
            "Model Number: 256 of 292 with model ARIMA for Validation 3\n",
            "256 - ARIMA with avg smape 6.71: \n",
            "Model Number: 257 of 292 with model MultivariateMotif for Validation 3\n",
            "257 - MultivariateMotif with avg smape 7.97: \n",
            "Model Number: 258 of 292 with model NVAR for Validation 3\n",
            "258 - NVAR with avg smape 7.28: \n",
            "Model Number: 259 of 292 with model UnivariateMotif for Validation 3\n",
            "259 - UnivariateMotif with avg smape 5.45: \n",
            "Model Number: 260 of 292 with model GLM for Validation 3\n"
          ]
        },
        {
          "output_type": "stream",
          "name": "stderr",
          "text": [
            "/usr/local/lib/python3.10/dist-packages/statsmodels/genmod/families/links.py:198: RuntimeWarning:\n",
            "\n",
            "overflow encountered in exp\n",
            "\n"
          ]
        },
        {
          "output_type": "stream",
          "name": "stdout",
          "text": [
            "260 - GLM with avg smape 7.17: \n",
            "Model Number: 261 of 292 with model WindowRegression for Validation 3\n",
            "261 - WindowRegression with avg smape 7.21: \n",
            "Model Number: 262 of 292 with model DatepartRegression for Validation 3\n",
            "262 - DatepartRegression with avg smape 11.07: \n",
            "Model Number: 263 of 292 with model DatepartRegression for Validation 3\n",
            "263 - DatepartRegression with avg smape 22.53: \n",
            "Model Number: 264 of 292 with model DatepartRegression for Validation 3\n",
            "264 - DatepartRegression with avg smape 12.79: \n",
            "Model Number: 265 of 292 with model UnivariateRegression for Validation 3\n",
            "265 - UnivariateRegression with avg smape 10.62: \n",
            "Model Number: 266 of 292 with model UnivariateMotif for Validation 3\n",
            "266 - UnivariateMotif with avg smape 7.13: \n",
            "Model Number: 267 of 292 with model WindowRegression for Validation 3\n",
            "267 - WindowRegression with avg smape 17.91: \n",
            "Model Number: 268 of 292 with model MultivariateMotif for Validation 3\n",
            "268 - MultivariateMotif with avg smape 15.34: \n",
            "Model Number: 269 of 292 with model MultivariateMotif for Validation 3\n",
            "269 - MultivariateMotif with avg smape 25.32: \n",
            "Model Number: 270 of 292 with model UnivariateRegression for Validation 3\n",
            "270 - UnivariateRegression with avg smape 72.42: \n",
            "Model Number: 271 of 292 with model MultivariateMotif for Validation 3\n"
          ]
        },
        {
          "output_type": "stream",
          "name": "stderr",
          "text": [
            "/usr/local/lib/python3.10/dist-packages/sklearn/linear_model/_coordinate_descent.py:2418: ConvergenceWarning:\n",
            "\n",
            "Objective did not converge. You might want to increase the number of iterations. Duality gap: 299.51664302803454, tolerance: 0.15247244946543625\n",
            "\n"
          ]
        },
        {
          "output_type": "stream",
          "name": "stdout",
          "text": [
            "271 - MultivariateMotif with avg smape 28.15: \n",
            "Model Number: 272 of 292 with model GLM for Validation 3\n"
          ]
        },
        {
          "output_type": "stream",
          "name": "stderr",
          "text": [
            "/usr/local/lib/python3.10/dist-packages/statsmodels/genmod/families/links.py:198: RuntimeWarning:\n",
            "\n",
            "overflow encountered in exp\n",
            "\n"
          ]
        },
        {
          "output_type": "stream",
          "name": "stdout",
          "text": [
            "272 - GLM with avg smape 6.93: \n",
            "Model Number: 273 of 292 with model UnivariateRegression for Validation 3\n",
            "273 - UnivariateRegression with avg smape 6.76: \n",
            "Model Number: 274 of 292 with model GLM for Validation 3\n"
          ]
        },
        {
          "output_type": "stream",
          "name": "stderr",
          "text": [
            "/usr/local/lib/python3.10/dist-packages/sklearn/neighbors/_classification.py:215: DataConversionWarning:\n",
            "\n",
            "A column-vector y was passed when a 1d array was expected. Please change the shape of y to (n_samples,), for example using ravel().\n",
            "\n"
          ]
        },
        {
          "output_type": "stream",
          "name": "stdout",
          "text": [
            "274 - GLM with avg smape 15.66: \n",
            "Model Number: 275 of 292 with model GLM for Validation 3\n",
            "275 - GLM with avg smape 89.45: \n",
            "Model Number: 276 of 292 with model MultivariateMotif for Validation 3\n",
            "276 - MultivariateMotif with avg smape 5.82: \n",
            "Model Number: 277 of 292 with model MultivariateMotif for Validation 3\n",
            "277 - MultivariateMotif with avg smape 5.77: \n",
            "Model Number: 278 of 292 with model UnivariateRegression for Validation 3\n",
            "278 - UnivariateRegression with avg smape 63.16: \n",
            "Model Number: 279 of 292 with model MultivariateMotif for Validation 3\n",
            "279 - MultivariateMotif with avg smape 23.91: \n",
            "Model Number: 280 of 292 with model MultivariateMotif for Validation 3\n",
            "280 - MultivariateMotif with avg smape 11.57: \n",
            "Model Number: 281 of 292 with model GLM for Validation 3\n",
            "281 - GLM with avg smape 69.86: \n",
            "Model Number: 282 of 292 with model DatepartRegression for Validation 3\n",
            "282 - DatepartRegression with avg smape 43.87: \n",
            "Model Number: 283 of 292 with model DatepartRegression for Validation 3\n",
            "283 - DatepartRegression with avg smape 11.87: \n",
            "Model Number: 284 of 292 with model DatepartRegression for Validation 3\n",
            "284 - DatepartRegression with avg smape 76.79: \n",
            "Model Number: 285 of 292 with model MultivariateMotif for Validation 3\n",
            "285 - MultivariateMotif with avg smape 8.88: \n",
            "Model Number: 286 of 292 with model MultivariateMotif for Validation 3\n"
          ]
        },
        {
          "output_type": "stream",
          "name": "stderr",
          "text": [
            "/usr/local/lib/python3.10/dist-packages/sklearn/neural_network/_multilayer_perceptron.py:541: ConvergenceWarning:\n",
            "\n",
            "lbfgs failed to converge (status=1):\n",
            "STOP: TOTAL NO. of ITERATIONS REACHED LIMIT.\n",
            "\n",
            "Increase the number of iterations (max_iter) or scale the data as shown in:\n",
            "    https://scikit-learn.org/stable/modules/preprocessing.html\n",
            "\n"
          ]
        },
        {
          "output_type": "stream",
          "name": "stdout",
          "text": [
            "286 - MultivariateMotif with avg smape 13.43: \n",
            "Model Number: 287 of 292 with model MultivariateMotif for Validation 3\n",
            "287 - MultivariateMotif with avg smape 20.4: \n",
            "Model Number: 288 of 292 with model GLM for Validation 3\n",
            "288 - GLM with avg smape 27.85: \n",
            "Model Number: 289 of 292 with model GLM for Validation 3\n"
          ]
        },
        {
          "output_type": "stream",
          "name": "stderr",
          "text": [
            "/usr/local/lib/python3.10/dist-packages/statsmodels/genmod/families/links.py:198: RuntimeWarning:\n",
            "\n",
            "overflow encountered in exp\n",
            "\n"
          ]
        },
        {
          "output_type": "stream",
          "name": "stdout",
          "text": [
            "289 - GLM with avg smape 34.36: \n",
            "Model Number: 290 of 292 with model GLM for Validation 3\n",
            "290 - GLM with avg smape 31.17: \n",
            "Model Number: 291 of 292 with model UnivariateRegression for Validation 3\n",
            "291 - UnivariateRegression with avg smape 31.13: \n",
            "Model Number: 292 of 292 with model GLM for Validation 3\n",
            "292 - GLM with avg smape 31.14: \n",
            "Model Number: 2866 with model Ensemble in generation 22 of Ensembles\n"
          ]
        },
        {
          "output_type": "stream",
          "name": "stderr",
          "text": [
            "/usr/local/lib/python3.10/dist-packages/sklearn/linear_model/_ridge.py:216: LinAlgWarning:\n",
            "\n",
            "Ill-conditioned matrix (rcond=1.44546e-25): result may not be accurate.\n",
            "\n"
          ]
        },
        {
          "output_type": "stream",
          "name": "stdout",
          "text": [
            "No anomalies detected.\n",
            "Model Number: 2867 with model Ensemble in generation 22 of Ensembles\n"
          ]
        },
        {
          "output_type": "stream",
          "name": "stderr",
          "text": [
            "/usr/local/lib/python3.10/dist-packages/sklearn/linear_model/_ridge.py:216: LinAlgWarning:\n",
            "\n",
            "Ill-conditioned matrix (rcond=1.44546e-25): result may not be accurate.\n",
            "\n"
          ]
        },
        {
          "output_type": "stream",
          "name": "stdout",
          "text": [
            "No anomalies detected.\n",
            "Model Number: 2868 with model Ensemble in generation 22 of Ensembles\n"
          ]
        },
        {
          "output_type": "stream",
          "name": "stderr",
          "text": [
            "/usr/local/lib/python3.10/dist-packages/sklearn/linear_model/_ridge.py:216: LinAlgWarning:\n",
            "\n",
            "Ill-conditioned matrix (rcond=1.44546e-25): result may not be accurate.\n",
            "\n"
          ]
        },
        {
          "output_type": "stream",
          "name": "stdout",
          "text": [
            "No anomalies detected.\n",
            "Model Number: 2869 with model Ensemble in generation 22 of Ensembles\n"
          ]
        },
        {
          "output_type": "stream",
          "name": "stderr",
          "text": [
            "/usr/local/lib/python3.10/dist-packages/sklearn/linear_model/_ridge.py:216: LinAlgWarning:\n",
            "\n",
            "Ill-conditioned matrix (rcond=1.44546e-25): result may not be accurate.\n",
            "\n"
          ]
        },
        {
          "output_type": "stream",
          "name": "stdout",
          "text": [
            "No anomalies detected.\n",
            "Model Number: 2870 with model Ensemble in generation 22 of Ensembles\n"
          ]
        },
        {
          "output_type": "stream",
          "name": "stderr",
          "text": [
            "/usr/local/lib/python3.10/dist-packages/sklearn/linear_model/_ridge.py:216: LinAlgWarning:\n",
            "\n",
            "Ill-conditioned matrix (rcond=1.44546e-25): result may not be accurate.\n",
            "\n"
          ]
        },
        {
          "output_type": "stream",
          "name": "stdout",
          "text": [
            "No anomalies detected.\n",
            "Model Number: 2871 with model Ensemble in generation 22 of Ensembles\n"
          ]
        },
        {
          "output_type": "stream",
          "name": "stderr",
          "text": [
            "/usr/local/lib/python3.10/dist-packages/sklearn/linear_model/_ridge.py:216: LinAlgWarning:\n",
            "\n",
            "Ill-conditioned matrix (rcond=1.44546e-25): result may not be accurate.\n",
            "\n"
          ]
        },
        {
          "output_type": "stream",
          "name": "stdout",
          "text": [
            "No anomalies detected.\n",
            "Model Number: 2872 with model Ensemble in generation 22 of Ensembles\n",
            "No anomalies detected.\n"
          ]
        },
        {
          "output_type": "stream",
          "name": "stderr",
          "text": [
            "/usr/local/lib/python3.10/dist-packages/sklearn/linear_model/_ridge.py:216: LinAlgWarning:\n",
            "\n",
            "Ill-conditioned matrix (rcond=1.44546e-25): result may not be accurate.\n",
            "\n"
          ]
        },
        {
          "output_type": "stream",
          "name": "stdout",
          "text": [
            "Model Number: 2873 with model Ensemble in generation 22 of Ensembles\n",
            "No anomalies detected.\n"
          ]
        },
        {
          "output_type": "stream",
          "name": "stderr",
          "text": [
            "/usr/local/lib/python3.10/dist-packages/sklearn/linear_model/_ridge.py:216: LinAlgWarning:\n",
            "\n",
            "Ill-conditioned matrix (rcond=1.44546e-25): result may not be accurate.\n",
            "\n"
          ]
        },
        {
          "output_type": "stream",
          "name": "stdout",
          "text": [
            "Validation Round: 1\n",
            "Model Number: 1 of 8 with model Ensemble for Validation 1\n"
          ]
        },
        {
          "output_type": "stream",
          "name": "stderr",
          "text": [
            "/usr/local/lib/python3.10/dist-packages/sklearn/linear_model/_ridge.py:216: LinAlgWarning:\n",
            "\n",
            "Ill-conditioned matrix (rcond=1.50678e-25): result may not be accurate.\n",
            "\n"
          ]
        },
        {
          "output_type": "stream",
          "name": "stdout",
          "text": [
            "📈 1 - Ensemble with avg smape 4.34: \n",
            "Model Number: 2 of 8 with model Ensemble for Validation 1\n"
          ]
        },
        {
          "output_type": "stream",
          "name": "stderr",
          "text": [
            "/usr/local/lib/python3.10/dist-packages/sklearn/linear_model/_ridge.py:216: LinAlgWarning:\n",
            "\n",
            "Ill-conditioned matrix (rcond=1.50678e-25): result may not be accurate.\n",
            "\n"
          ]
        },
        {
          "output_type": "stream",
          "name": "stdout",
          "text": [
            "2 - Ensemble with avg smape 8.42: \n",
            "Model Number: 3 of 8 with model Ensemble for Validation 1\n"
          ]
        },
        {
          "output_type": "stream",
          "name": "stderr",
          "text": [
            "/usr/local/lib/python3.10/dist-packages/sklearn/linear_model/_ridge.py:216: LinAlgWarning:\n",
            "\n",
            "Ill-conditioned matrix (rcond=1.50678e-25): result may not be accurate.\n",
            "\n"
          ]
        },
        {
          "output_type": "stream",
          "name": "stdout",
          "text": [
            "3 - Ensemble with avg smape 5.09: \n",
            "Model Number: 4 of 8 with model Ensemble for Validation 1\n"
          ]
        },
        {
          "output_type": "stream",
          "name": "stderr",
          "text": [
            "/usr/local/lib/python3.10/dist-packages/sklearn/linear_model/_ridge.py:216: LinAlgWarning:\n",
            "\n",
            "Ill-conditioned matrix (rcond=1.50678e-25): result may not be accurate.\n",
            "\n"
          ]
        },
        {
          "output_type": "stream",
          "name": "stdout",
          "text": [
            "4 - Ensemble with avg smape 5.31: \n",
            "Model Number: 5 of 8 with model Ensemble for Validation 1\n"
          ]
        },
        {
          "output_type": "stream",
          "name": "stderr",
          "text": [
            "/usr/local/lib/python3.10/dist-packages/sklearn/linear_model/_ridge.py:216: LinAlgWarning:\n",
            "\n",
            "Ill-conditioned matrix (rcond=1.50678e-25): result may not be accurate.\n",
            "\n"
          ]
        },
        {
          "output_type": "stream",
          "name": "stdout",
          "text": [
            "5 - Ensemble with avg smape 4.34: \n",
            "Model Number: 6 of 8 with model Ensemble for Validation 1\n"
          ]
        },
        {
          "output_type": "stream",
          "name": "stderr",
          "text": [
            "/usr/local/lib/python3.10/dist-packages/sklearn/linear_model/_ridge.py:216: LinAlgWarning:\n",
            "\n",
            "Ill-conditioned matrix (rcond=1.50678e-25): result may not be accurate.\n",
            "\n"
          ]
        },
        {
          "output_type": "stream",
          "name": "stdout",
          "text": [
            "📈 6 - Ensemble with avg smape 3.41: \n",
            "Model Number: 7 of 8 with model Ensemble for Validation 1\n"
          ]
        },
        {
          "output_type": "stream",
          "name": "stderr",
          "text": [
            "/usr/local/lib/python3.10/dist-packages/sklearn/linear_model/_ridge.py:216: LinAlgWarning:\n",
            "\n",
            "Ill-conditioned matrix (rcond=1.50678e-25): result may not be accurate.\n",
            "\n"
          ]
        },
        {
          "output_type": "stream",
          "name": "stdout",
          "text": [
            "7 - Ensemble with avg smape 4.12: \n",
            "Model Number: 8 of 8 with model Ensemble for Validation 1\n"
          ]
        },
        {
          "output_type": "stream",
          "name": "stderr",
          "text": [
            "/usr/local/lib/python3.10/dist-packages/sklearn/linear_model/_ridge.py:216: LinAlgWarning:\n",
            "\n",
            "Ill-conditioned matrix (rcond=1.50678e-25): result may not be accurate.\n",
            "\n"
          ]
        },
        {
          "output_type": "stream",
          "name": "stdout",
          "text": [
            "8 - Ensemble with avg smape 4.19: \n",
            "Validation Round: 2\n",
            "Model Number: 1 of 8 with model Ensemble for Validation 2\n"
          ]
        },
        {
          "output_type": "stream",
          "name": "stderr",
          "text": [
            "/usr/local/lib/python3.10/dist-packages/sklearn/linear_model/_ridge.py:216: LinAlgWarning:\n",
            "\n",
            "Ill-conditioned matrix (rcond=1.57349e-25): result may not be accurate.\n",
            "\n"
          ]
        },
        {
          "output_type": "stream",
          "name": "stdout",
          "text": [
            "📈 1 - Ensemble with avg smape 6.74: \n",
            "Model Number: 2 of 8 with model Ensemble for Validation 2\n"
          ]
        },
        {
          "output_type": "stream",
          "name": "stderr",
          "text": [
            "/usr/local/lib/python3.10/dist-packages/sklearn/linear_model/_ridge.py:216: LinAlgWarning:\n",
            "\n",
            "Ill-conditioned matrix (rcond=1.57349e-25): result may not be accurate.\n",
            "\n"
          ]
        },
        {
          "output_type": "stream",
          "name": "stdout",
          "text": [
            "📈 2 - Ensemble with avg smape 6.03: \n",
            "Model Number: 3 of 8 with model Ensemble for Validation 2\n"
          ]
        },
        {
          "output_type": "stream",
          "name": "stderr",
          "text": [
            "/usr/local/lib/python3.10/dist-packages/sklearn/linear_model/_ridge.py:216: LinAlgWarning:\n",
            "\n",
            "Ill-conditioned matrix (rcond=1.57349e-25): result may not be accurate.\n",
            "\n"
          ]
        },
        {
          "output_type": "stream",
          "name": "stdout",
          "text": [
            "3 - Ensemble with avg smape 9.68: \n",
            "Model Number: 4 of 8 with model Ensemble for Validation 2\n"
          ]
        },
        {
          "output_type": "stream",
          "name": "stderr",
          "text": [
            "/usr/local/lib/python3.10/dist-packages/sklearn/linear_model/_ridge.py:216: LinAlgWarning:\n",
            "\n",
            "Ill-conditioned matrix (rcond=1.57349e-25): result may not be accurate.\n",
            "\n"
          ]
        },
        {
          "output_type": "stream",
          "name": "stdout",
          "text": [
            "4 - Ensemble with avg smape 7.9: \n",
            "Model Number: 5 of 8 with model Ensemble for Validation 2\n"
          ]
        },
        {
          "output_type": "stream",
          "name": "stderr",
          "text": [
            "/usr/local/lib/python3.10/dist-packages/sklearn/linear_model/_ridge.py:216: LinAlgWarning:\n",
            "\n",
            "Ill-conditioned matrix (rcond=1.57349e-25): result may not be accurate.\n",
            "\n"
          ]
        },
        {
          "output_type": "stream",
          "name": "stdout",
          "text": [
            "5 - Ensemble with avg smape 6.74: \n",
            "Model Number: 6 of 8 with model Ensemble for Validation 2\n"
          ]
        },
        {
          "output_type": "stream",
          "name": "stderr",
          "text": [
            "/usr/local/lib/python3.10/dist-packages/sklearn/linear_model/_ridge.py:216: LinAlgWarning:\n",
            "\n",
            "Ill-conditioned matrix (rcond=1.57349e-25): result may not be accurate.\n",
            "\n"
          ]
        },
        {
          "output_type": "stream",
          "name": "stdout",
          "text": [
            "6 - Ensemble with avg smape 7.46: \n",
            "Model Number: 7 of 8 with model Ensemble for Validation 2\n"
          ]
        },
        {
          "output_type": "stream",
          "name": "stderr",
          "text": [
            "/usr/local/lib/python3.10/dist-packages/sklearn/linear_model/_ridge.py:216: LinAlgWarning:\n",
            "\n",
            "Ill-conditioned matrix (rcond=1.57349e-25): result may not be accurate.\n",
            "\n"
          ]
        },
        {
          "output_type": "stream",
          "name": "stdout",
          "text": [
            "7 - Ensemble with avg smape 8.42: \n",
            "Model Number: 8 of 8 with model Ensemble for Validation 2\n"
          ]
        },
        {
          "output_type": "stream",
          "name": "stderr",
          "text": [
            "/usr/local/lib/python3.10/dist-packages/sklearn/linear_model/_ridge.py:216: LinAlgWarning:\n",
            "\n",
            "Ill-conditioned matrix (rcond=1.57349e-25): result may not be accurate.\n",
            "\n"
          ]
        },
        {
          "output_type": "stream",
          "name": "stdout",
          "text": [
            "8 - Ensemble with avg smape 8.35: \n",
            "Validation Round: 3\n",
            "Model Number: 1 of 8 with model Ensemble for Validation 3\n"
          ]
        },
        {
          "output_type": "stream",
          "name": "stderr",
          "text": [
            "/usr/local/lib/python3.10/dist-packages/sklearn/linear_model/_ridge.py:216: LinAlgWarning:\n",
            "\n",
            "Ill-conditioned matrix (rcond=1.64637e-25): result may not be accurate.\n",
            "\n"
          ]
        },
        {
          "output_type": "stream",
          "name": "stdout",
          "text": [
            "📈 1 - Ensemble with avg smape 1.44: \n",
            "Model Number: 2 of 8 with model Ensemble for Validation 3\n"
          ]
        },
        {
          "output_type": "stream",
          "name": "stderr",
          "text": [
            "/usr/local/lib/python3.10/dist-packages/sklearn/linear_model/_ridge.py:216: LinAlgWarning:\n",
            "\n",
            "Ill-conditioned matrix (rcond=1.64637e-25): result may not be accurate.\n",
            "\n"
          ]
        },
        {
          "output_type": "stream",
          "name": "stdout",
          "text": [
            "2 - Ensemble with avg smape 1.7: \n",
            "Model Number: 3 of 8 with model Ensemble for Validation 3\n"
          ]
        },
        {
          "output_type": "stream",
          "name": "stderr",
          "text": [
            "/usr/local/lib/python3.10/dist-packages/sklearn/linear_model/_ridge.py:216: LinAlgWarning:\n",
            "\n",
            "Ill-conditioned matrix (rcond=1.64637e-25): result may not be accurate.\n",
            "\n"
          ]
        },
        {
          "output_type": "stream",
          "name": "stdout",
          "text": [
            "3 - Ensemble with avg smape 3.72: \n",
            "Model Number: 4 of 8 with model Ensemble for Validation 3\n"
          ]
        },
        {
          "output_type": "stream",
          "name": "stderr",
          "text": [
            "/usr/local/lib/python3.10/dist-packages/sklearn/linear_model/_ridge.py:216: LinAlgWarning:\n",
            "\n",
            "Ill-conditioned matrix (rcond=1.64637e-25): result may not be accurate.\n",
            "\n"
          ]
        },
        {
          "output_type": "stream",
          "name": "stdout",
          "text": [
            "4 - Ensemble with avg smape 2.12: \n",
            "Model Number: 5 of 8 with model Ensemble for Validation 3\n"
          ]
        },
        {
          "output_type": "stream",
          "name": "stderr",
          "text": [
            "/usr/local/lib/python3.10/dist-packages/sklearn/linear_model/_ridge.py:216: LinAlgWarning:\n",
            "\n",
            "Ill-conditioned matrix (rcond=1.64637e-25): result may not be accurate.\n",
            "\n"
          ]
        },
        {
          "output_type": "stream",
          "name": "stdout",
          "text": [
            "5 - Ensemble with avg smape 1.44: \n",
            "Model Number: 6 of 8 with model Ensemble for Validation 3\n"
          ]
        },
        {
          "output_type": "stream",
          "name": "stderr",
          "text": [
            "/usr/local/lib/python3.10/dist-packages/sklearn/linear_model/_ridge.py:216: LinAlgWarning:\n",
            "\n",
            "Ill-conditioned matrix (rcond=1.64637e-25): result may not be accurate.\n",
            "\n"
          ]
        },
        {
          "output_type": "stream",
          "name": "stdout",
          "text": [
            "📈 6 - Ensemble with avg smape 1.26: \n",
            "Model Number: 7 of 8 with model Ensemble for Validation 3\n"
          ]
        },
        {
          "output_type": "stream",
          "name": "stderr",
          "text": [
            "/usr/local/lib/python3.10/dist-packages/sklearn/linear_model/_ridge.py:216: LinAlgWarning:\n",
            "\n",
            "Ill-conditioned matrix (rcond=1.64637e-25): result may not be accurate.\n",
            "\n"
          ]
        },
        {
          "output_type": "stream",
          "name": "stdout",
          "text": [
            "7 - Ensemble with avg smape 1.61: \n",
            "Model Number: 8 of 8 with model Ensemble for Validation 3\n"
          ]
        },
        {
          "output_type": "stream",
          "name": "stderr",
          "text": [
            "/usr/local/lib/python3.10/dist-packages/sklearn/linear_model/_ridge.py:216: LinAlgWarning:\n",
            "\n",
            "Ill-conditioned matrix (rcond=1.64637e-25): result may not be accurate.\n",
            "\n"
          ]
        },
        {
          "output_type": "stream",
          "name": "stdout",
          "text": [
            "8 - Ensemble with avg smape 1.54: \n"
          ]
        },
        {
          "output_type": "stream",
          "name": "stderr",
          "text": [
            "/usr/local/lib/python3.10/dist-packages/sklearn/linear_model/_ridge.py:216: LinAlgWarning:\n",
            "\n",
            "Ill-conditioned matrix (rcond=1.38897e-25): result may not be accurate.\n",
            "\n"
          ]
        },
        {
          "output_type": "stream",
          "name": "stdout",
          "text": [
            "No anomalies detected.\n",
            "                   Close\n",
            "2024-02-27  54610.913736\n",
            "2024-02-28  54811.692353\n",
            "2024-02-29  55303.775630\n",
            "2024-03-01  55796.240308\n",
            "2024-03-02  56289.086386\n",
            "2024-03-03  56782.313865\n",
            "2024-03-04  57275.922744\n",
            "2024-03-05  57769.913023\n",
            "2024-03-06  58331.108974\n",
            "2024-03-07  58854.781642\n",
            "2024-03-08  59374.475524\n",
            "2024-03-09  59891.265015\n",
            "2024-03-10  60384.794296\n",
            "2024-03-11  60909.519525\n",
            "2024-03-12  61463.496916\n",
            "2024-03-13  61953.969675\n",
            "2024-03-14  62418.258156\n",
            "2024-03-15  62914.047915\n",
            "2024-03-16  63522.333848\n",
            "2024-03-17  63939.994574\n",
            "2024-03-18  64510.416548\n",
            "2024-03-19  64981.605549\n",
            "2024-03-20  65572.733396\n",
            "2024-03-21  65984.063065\n",
            "2024-03-22  66586.993094\n",
            "2024-03-23  67114.950401\n",
            "2024-03-24  67610.957088\n",
            "2024-03-25  68558.103729\n",
            "2024-03-26  68977.144592\n",
            "2024-03-27  69508.829351\n"
          ]
        }
      ]
    },
    {
      "cell_type": "code",
      "source": [],
      "metadata": {
        "id": "jsoOqdSAEiSM"
      },
      "execution_count": null,
      "outputs": []
    }
  ]
}